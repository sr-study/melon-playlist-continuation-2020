{
 "cells": [
  {
   "cell_type": "markdown",
   "metadata": {},
   "source": [
    "# Grape Launcher"
   ]
  },
  {
   "cell_type": "code",
   "execution_count": null,
   "metadata": {},
   "outputs": [],
   "source": [
    "!pip install -r requirements.txt"
   ]
  },
  {
   "cell_type": "code",
   "execution_count": 1,
   "metadata": {},
   "outputs": [],
   "source": [
    "%load_ext autoreload\n",
    "%autoreload 2"
   ]
  },
  {
   "cell_type": "code",
   "execution_count": 2,
   "metadata": {},
   "outputs": [],
   "source": [
    "from utils.jupyter_utils import log_cell\n",
    "from utils.jupyter_utils import clear_logs"
   ]
  },
  {
   "cell_type": "code",
   "execution_count": 3,
   "metadata": {},
   "outputs": [],
   "source": [
    "clear_logs()"
   ]
  },
  {
   "cell_type": "code",
   "execution_count": 4,
   "metadata": {},
   "outputs": [],
   "source": [
    "from grape_recommender import GrapeRecommender\n",
    "from evaluate import ArenaEvaluator\n",
    "from lib.grape import MelonGraph"
   ]
  },
  {
   "cell_type": "code",
   "execution_count": 5,
   "metadata": {},
   "outputs": [],
   "source": [
    "song_meta_fname = './res/song_meta.json'\n",
    "genre_fname = './res/genre_gn_all.json'\n",
    "train_fname = './arena_data/orig/train.json'\n",
    "question_fname = './arena_data/questions/val.json'\n",
    "answer_fname = './arena_data/answers/val.json'\n",
    "result_fname = './arena_data/results/results.json'\n",
    "jobs = 12"
   ]
  },
  {
   "cell_type": "code",
   "execution_count": 6,
   "metadata": {},
   "outputs": [],
   "source": [
    "recommender = GrapeRecommender()\n",
    "evaluator = ArenaEvaluator()"
   ]
  },
  {
   "cell_type": "code",
   "execution_count": 7,
   "metadata": {},
   "outputs": [
    {
     "name": "stdout",
     "output_type": "stream",
     "text": [
      "Loading song meta...\n",
      "Loading genre...\n",
      "Loading train file...\n"
     ]
    },
    {
     "name": "stderr",
     "output_type": "stream",
     "text": [
      "Parsing data:   1%|          | 5349/822738 [00:00<00:15, 53488.14it/s]"
     ]
    },
    {
     "name": "stdout",
     "output_type": "stream",
     "text": [
      "Fitting train data...\n"
     ]
    },
    {
     "name": "stderr",
     "output_type": "stream",
     "text": [
      "Parsing data: 100%|##########| 822738/822738 [00:39<00:00, 21027.37it/s]\n",
      "Creating graph: 100%|##########| 47119216/47119216 [02:06<00:00, 371919.06it/s] \n",
      "Caching graph: 100%|##########| 34405782/34405782 [00:47<00:00, 724508.60it/s] \n"
     ]
    },
    {
     "name": "stdout",
     "output_type": "stream",
     "text": [
      "CPU times: user 3min 41s, sys: 6.23 s, total: 3min 47s\n",
      "Wall time: 3min 46s\n"
     ]
    }
   ],
   "source": [
    "%%log_cell\n",
    "%%time\n",
    "recommender.read_and_fit(\n",
    "    song_meta_fname,\n",
    "    genre_fname,\n",
    "    train_fname,\n",
    ")"
   ]
  },
  {
   "cell_type": "code",
   "execution_count": 8,
   "metadata": {},
   "outputs": [],
   "source": [
    "recommender.set_params(**{\n",
    "            'max_songs': 100,\n",
    "            'max_tags': 10,\n",
    "            'max_depth': 8,\n",
    "            'relation_weight': {\n",
    "                MelonGraph.Relation.ALBUM_TO_SONG: 0.01,\n",
    "                MelonGraph.Relation.ALBUM_TO_WORD: 0,\n",
    "                MelonGraph.Relation.ARTIST_TO_SONG: 0.01,\n",
    "                MelonGraph.Relation.ARTIST_TO_WORD: 0,\n",
    "                MelonGraph.Relation.ARTIST_GENRE_TO_SONG: 0.01,\n",
    "                MelonGraph.Relation.GENRE_TO_SONG: 0.01,\n",
    "                MelonGraph.Relation.MONTH_TO_SONG: 0,\n",
    "                MelonGraph.Relation.PLAYLIST_TO_SONG: 0.01,\n",
    "                MelonGraph.Relation.PLAYLIST_TO_TAG: 0.025,\n",
    "                MelonGraph.Relation.PLAYLIST_TO_WORD: 0.025,\n",
    "                MelonGraph.Relation.SONG_TO_ALBUM: 0.015,\n",
    "                MelonGraph.Relation.SONG_TO_ARTIST: 0.015,\n",
    "                MelonGraph.Relation.SONG_TO_ARTIST_DETAILED_GENRE: 0.0005,\n",
    "                MelonGraph.Relation.SONG_TO_ARTIST_GENRE: 0,\n",
    "                MelonGraph.Relation.SONG_TO_DETAILED_GENRE: 0,\n",
    "                MelonGraph.Relation.SONG_TO_GENRE: 0,\n",
    "                MelonGraph.Relation.SONG_TO_MONTH: 0,\n",
    "                MelonGraph.Relation.SONG_TO_PLAYLIST: 0.0075,\n",
    "                MelonGraph.Relation.SONG_TO_YEAR: 0,\n",
    "                MelonGraph.Relation.TAG_TO_PLAYLIST: 0.01,\n",
    "                MelonGraph.Relation.TAG_TO_WORD: 0.01,\n",
    "                MelonGraph.Relation.WORD_TO_ALBUM: 0,\n",
    "                MelonGraph.Relation.WORD_TO_ARTIST: 0,\n",
    "                MelonGraph.Relation.WORD_TO_PLAYLIST: 0.01,\n",
    "                MelonGraph.Relation.WORD_TO_TAG: 0.001,\n",
    "                MelonGraph.Relation.YEAR_TO_SONG: 0,\n",
    "            },\n",
    "            'song_relation_weight': None,\n",
    "            'tag_relation_weight': None,\n",
    "        })"
   ]
  },
  {
   "cell_type": "code",
   "execution_count": 9,
   "metadata": {},
   "outputs": [
    {
     "name": "stdout",
     "output_type": "stream",
     "text": [
      "Loading question file...\n",
      "Predicting...\n"
     ]
    },
    {
     "name": "stderr",
     "output_type": "stream",
     "text": [
      "100%|##########| 48/48 [00:27<00:00,  1.71it/s]\n",
      "100%|##########| 48/48 [00:28<00:00,  1.69it/s]\n",
      "100%|##########| 48/48 [00:28<00:00,  1.68it/s]\n",
      "100%|##########| 48/48 [00:37<00:00,  1.26it/s]\n",
      "100%|##########| 48/48 [00:37<00:00,  1.26it/s]\n",
      "100%|##########| 48/48 [00:38<00:00,  1.26it/s]\n",
      "100%|##########| 48/48 [00:38<00:00,  1.25it/s]\n",
      "100%|##########| 48/48 [00:38<00:00,  1.24it/s]\n",
      "100%|##########| 48/48 [00:38<00:00,  1.23it/s]\n",
      "100%|##########| 48/48 [00:39<00:00,  1.23it/s]\n",
      "100%|##########| 48/48 [00:39<00:00,  1.20it/s]\n",
      "100%|##########| 48/48 [00:39<00:00,  1.20it/s]\n"
     ]
    },
    {
     "name": "stdout",
     "output_type": "stream",
     "text": [
      "Writing results...\n",
      "=== Total score ===\n",
      "Music nDCG: 0.283733\n",
      "Tag nDCG: 0.488398\n",
      "Score: 0.314433\n",
      "=== SONG_TAG score ===\n",
      "Music nDCG: 0.329807\n",
      "Tag nDCG: 0.472016\n",
      "Score: 0.351138\n",
      "=== TAG_TITLE score ===\n",
      "Music nDCG: 0.10212\n",
      "Tag nDCG: 0.538602\n",
      "Score: 0.167593\n",
      "=== SONG_ONLY score ===\n",
      "Music nDCG: 0.331227\n",
      "Tag nDCG: 0.516787\n",
      "Score: 0.359061\n",
      "=== TITLE_ONLY score ===\n",
      "Music nDCG: 0.091708\n",
      "Tag nDCG: 0.33445\n",
      "Score: 0.128119\n",
      "CPU times: user 652 ms, sys: 954 ms, total: 1.61 s\n",
      "Wall time: 41.5 s\n"
     ]
    }
   ],
   "source": [
    "%%log_cell\n",
    "%%time\n",
    "recommender.read_and_predict(\n",
    "    question_fname,\n",
    "    result_fname,\n",
    "    jobs,\n",
    ")\n",
    "evaluator.evaluate(answer_fname, result_fname, question_fname)"
   ]
  },
  {
   "cell_type": "markdown",
   "metadata": {},
   "source": [
    "## Debug"
   ]
  },
  {
   "cell_type": "code",
   "execution_count": null,
   "metadata": {},
   "outputs": [],
   "source": [
    "from utils import read_json\n",
    "from utils import write_json\n",
    "from evaluate import print_scores"
   ]
  },
  {
   "cell_type": "code",
   "execution_count": null,
   "metadata": {},
   "outputs": [],
   "source": [
    "questions = read_json(question_fname)\n",
    "questions = questions[:10]\n",
    "answers = read_json(answer_fname)"
   ]
  },
  {
   "cell_type": "code",
   "execution_count": null,
   "metadata": {},
   "outputs": [],
   "source": [
    "%%log_cell\n",
    "%%time\n",
    "results = recommender.predict(questions, jobs)\n",
    "\n",
    "(total_music_ndcgs, total_tag_ndcgs, total_scores,\n",
    "                case_music_ndcgs, case_tag_ndcgs, case_scores) = evaluator._eval(results, questions, answers)\n",
    "print_scores(\n",
    "    total_music_ndcgs, total_tag_ndcgs, total_scores,\n",
    "    case_music_ndcgs, case_tag_ndcgs, case_scores,\n",
    ")"
   ]
  },
  {
   "cell_type": "code",
   "execution_count": null,
   "metadata": {},
   "outputs": [],
   "source": []
  }
 ],
 "metadata": {
  "kernelspec": {
   "display_name": "Python [conda env:playground]",
   "language": "python",
   "name": "conda-env-playground-py"
  },
  "language_info": {
   "codemirror_mode": {
    "name": "ipython",
    "version": 3
   },
   "file_extension": ".py",
   "mimetype": "text/x-python",
   "name": "python",
   "nbconvert_exporter": "python",
   "pygments_lexer": "ipython3",
   "version": "3.7.6"
  }
 },
 "nbformat": 4,
 "nbformat_minor": 4
}
