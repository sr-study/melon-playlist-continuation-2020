{
 "cells": [
  {
   "cell_type": "markdown",
   "metadata": {},
   "source": [
    "# EDA - Data Distribution"
   ]
  },
  {
   "cell_type": "markdown",
   "metadata": {},
   "source": [
    "## System Settings"
   ]
  },
  {
   "cell_type": "code",
   "execution_count": 1,
   "metadata": {
    "scrolled": true
   },
   "outputs": [
    {
     "name": "stdout",
     "output_type": "stream",
     "text": [
      "Requirement already satisfied: fire in c:\\users\\heoh\\anaconda3\\lib\\site-packages (from -r requirements.txt (line 1)) (0.3.1)\n",
      "Requirement already satisfied: tqdm in c:\\users\\heoh\\anaconda3\\lib\\site-packages (from -r requirements.txt (line 2)) (4.42.1)\n",
      "Requirement already satisfied: numpy in c:\\users\\heoh\\anaconda3\\lib\\site-packages (from -r requirements.txt (line 3)) (1.18.1)\n",
      "Requirement already satisfied: six in c:\\users\\heoh\\anaconda3\\lib\\site-packages (from fire->-r requirements.txt (line 1)) (1.14.0)\n",
      "Requirement already satisfied: termcolor in c:\\users\\heoh\\anaconda3\\lib\\site-packages (from fire->-r requirements.txt (line 1)) (1.1.0)\n"
     ]
    }
   ],
   "source": [
    "!pip install -r requirements.txt"
   ]
  },
  {
   "cell_type": "code",
   "execution_count": 2,
   "metadata": {
    "scrolled": false
   },
   "outputs": [
    {
     "name": "stdout",
     "output_type": "stream",
     "text": [
      "Reading data...\n",
      "\n",
      "Total playlists: 115071\n",
      "Splitting data...\n",
      "Original train...\n",
      "Original val...\n",
      "Masked val...\n",
      "Total: 23015, Song only: 6904, Song & Tags: 11508, Tags only: 3452, Title only: 1151\n"
     ]
    }
   ],
   "source": [
    "!python split_data.py run res/train.json"
   ]
  },
  {
   "cell_type": "markdown",
   "metadata": {},
   "source": [
    "## Define functions"
   ]
  },
  {
   "cell_type": "code",
   "execution_count": 3,
   "metadata": {},
   "outputs": [],
   "source": [
    "from utils import read_json"
   ]
  },
  {
   "cell_type": "code",
   "execution_count": 4,
   "metadata": {},
   "outputs": [],
   "source": [
    "import enum\n",
    "\n",
    "\n",
    "class QuestionType(enum.Enum):\n",
    "    ALL = enum.auto()\n",
    "    SONG_TAG = enum.auto()\n",
    "    SONG_TITLE = enum.auto()\n",
    "    TAG_TITLE = enum.auto()\n",
    "    SONG_ONLY = enum.auto()\n",
    "    TAG_ONLY = enum.auto()\n",
    "    TITLE_ONLY = enum.auto()\n",
    "    NOTHING = enum.auto()\n",
    "\n",
    "\n",
    "def count_questions_by_type(questions):\n",
    "    type_map = {\n",
    "        # (songs, tags, title): question_type\n",
    "        (True, True, True): QuestionType.ALL,\n",
    "        (True, True, False): QuestionType.SONG_TAG,\n",
    "        (True, False, True): QuestionType.SONG_TITLE,\n",
    "        (False, True, True): QuestionType.TAG_TITLE,\n",
    "        (True, False, False): QuestionType.SONG_ONLY,\n",
    "        (False, True, False): QuestionType.TAG_ONLY,\n",
    "        (False, False, True): QuestionType.TITLE_ONLY,\n",
    "        (False, False, False): QuestionType.NOTHING,\n",
    "    }\n",
    "\n",
    "    counts = {t: 0 for t in QuestionType}\n",
    "\n",
    "    for question in questions:\n",
    "        songs = question['songs']\n",
    "        tags = question['tags']\n",
    "        title = question['plylst_title']\n",
    "\n",
    "        has_songs = len(songs) > 0\n",
    "        has_tags = len(tags) > 0\n",
    "        has_title = title != \"\"\n",
    "\n",
    "        question_type = type_map[has_songs, has_tags, has_title]\n",
    "        counts[question_type] += 1\n",
    "\n",
    "    return counts\n",
    "\n",
    "\n",
    "def print_question_type_counts(counts):\n",
    "    for t, n in counts.items():\n",
    "        print(f\"{t.name}: {n}\")"
   ]
  },
  {
   "cell_type": "code",
   "execution_count": 5,
   "metadata": {},
   "outputs": [],
   "source": [
    "def print_question_types(filename):\n",
    "    questions = read_json(filename)\n",
    "    counts = count_questions_by_type(questions)\n",
    "    print_question_type_counts(counts)"
   ]
  },
  {
   "cell_type": "markdown",
   "metadata": {},
   "source": [
    "## Check"
   ]
  },
  {
   "cell_type": "code",
   "execution_count": 6,
   "metadata": {},
   "outputs": [
    {
     "name": "stdout",
     "output_type": "stream",
     "text": [
      "ALL: 115071\n",
      "SONG_TAG: 0\n",
      "SONG_TITLE: 0\n",
      "TAG_TITLE: 0\n",
      "SONG_ONLY: 0\n",
      "TAG_ONLY: 0\n",
      "TITLE_ONLY: 0\n",
      "NOTHING: 0\n"
     ]
    }
   ],
   "source": [
    "print_question_types('res/train.json')"
   ]
  },
  {
   "cell_type": "code",
   "execution_count": 7,
   "metadata": {},
   "outputs": [
    {
     "name": "stdout",
     "output_type": "stream",
     "text": [
      "ALL: 0\n",
      "SONG_TAG: 8975\n",
      "SONG_TITLE: 0\n",
      "TAG_TITLE: 2628\n",
      "SONG_ONLY: 9661\n",
      "TAG_ONLY: 2\n",
      "TITLE_ONLY: 1745\n",
      "NOTHING: 4\n"
     ]
    }
   ],
   "source": [
    "print_question_types('res/val.json')"
   ]
  },
  {
   "cell_type": "code",
   "execution_count": 8,
   "metadata": {},
   "outputs": [
    {
     "name": "stdout",
     "output_type": "stream",
     "text": [
      "ALL: 0\n",
      "SONG_TAG: 4190\n",
      "SONG_TITLE: 0\n",
      "TAG_TITLE: 1232\n",
      "SONG_ONLY: 4507\n",
      "TAG_ONLY: 0\n",
      "TITLE_ONLY: 809\n",
      "NOTHING: 2\n"
     ]
    }
   ],
   "source": [
    "print_question_types('res/test.json')"
   ]
  },
  {
   "cell_type": "code",
   "execution_count": 9,
   "metadata": {},
   "outputs": [
    {
     "name": "stdout",
     "output_type": "stream",
     "text": [
      "ALL: 8859\n",
      "SONG_TAG: 0\n",
      "SONG_TITLE: 9550\n",
      "TAG_TITLE: 2618\n",
      "SONG_ONLY: 0\n",
      "TAG_ONLY: 0\n",
      "TITLE_ONLY: 1988\n",
      "NOTHING: 0\n"
     ]
    }
   ],
   "source": [
    "print_question_types('arena_data/questions/val.json')"
   ]
  },
  {
   "cell_type": "code",
   "execution_count": null,
   "metadata": {},
   "outputs": [],
   "source": []
  }
 ],
 "metadata": {
  "kernelspec": {
   "display_name": "Python 3",
   "language": "python",
   "name": "python3"
  },
  "language_info": {
   "codemirror_mode": {
    "name": "ipython",
    "version": 3
   },
   "file_extension": ".py",
   "mimetype": "text/x-python",
   "name": "python",
   "nbconvert_exporter": "python",
   "pygments_lexer": "ipython3",
   "version": "3.7.6"
  }
 },
 "nbformat": 4,
 "nbformat_minor": 4
}
