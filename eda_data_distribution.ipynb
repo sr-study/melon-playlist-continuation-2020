{
 "cells": [
  {
   "cell_type": "markdown",
   "metadata": {},
   "source": [
    "# EDA - Data Distribution"
   ]
  },
  {
   "cell_type": "markdown",
   "metadata": {},
   "source": [
    "## System Settings"
   ]
  },
  {
   "cell_type": "code",
   "execution_count": null,
   "metadata": {
    "scrolled": true
   },
   "outputs": [],
   "source": [
    "!pip install -r requirements.txt"
   ]
  },
  {
   "cell_type": "code",
   "execution_count": 1,
   "metadata": {},
   "outputs": [
    {
     "name": "stdout",
     "output_type": "stream",
     "text": [
      "Reading data...\n",
      "\n",
      "Total playlists: 115071\n",
      "Splitting data...\n",
      "Generating questions...\n",
      "ALL: 0, SONG_TAG: 8687, SONG_TITLE: 0, TAG_TITLE: 2762, SONG_ONLY: 9954, TAG_ONLY: 0, TITLE_ONLY: 1611, NOTHING: 0\n"
     ]
    }
   ],
   "source": [
    "!python split_data.py run res/train.json"
   ]
  },
  {
   "cell_type": "markdown",
   "metadata": {},
   "source": [
    "### old split_data.py\n",
    "\n",
    "code:\n",
    "```py\n",
    "# old split_data.py\n",
    "!python split_data.py run res/train.json\n",
    "```\n",
    "\n",
    "output:\n",
    "```\n",
    "Reading data...\n",
    "\n",
    "Total playlists: 115071\n",
    "Splitting data...\n",
    "Original train...\n",
    "Original val...\n",
    "Masked val...\n",
    "Total: 23015, Song only: 6904, Song & Tags: 11508, Tags only: 3452, Title only: 1151\n",
    "```"
   ]
  },
  {
   "cell_type": "markdown",
   "metadata": {},
   "source": [
    "## Define functions"
   ]
  },
  {
   "cell_type": "code",
   "execution_count": 2,
   "metadata": {},
   "outputs": [],
   "source": [
    "from utils import read_json\n",
    "from utils import count_questions_by_type"
   ]
  },
  {
   "cell_type": "code",
   "execution_count": 3,
   "metadata": {},
   "outputs": [],
   "source": [
    "def print_question_type_counts(counts):\n",
    "    for t, n in counts.items():\n",
    "        print(f\"{t.name}: {n}\")\n",
    "\n",
    "\n",
    "def print_question_types(filename):\n",
    "    questions = read_json(filename)\n",
    "    counts = count_questions_by_type(questions)\n",
    "    print_question_type_counts(counts)"
   ]
  },
  {
   "cell_type": "markdown",
   "metadata": {},
   "source": [
    "## Check"
   ]
  },
  {
   "cell_type": "code",
   "execution_count": 4,
   "metadata": {},
   "outputs": [
    {
     "name": "stdout",
     "output_type": "stream",
     "text": [
      "ALL: 115071\n",
      "SONG_TAG: 0\n",
      "SONG_TITLE: 0\n",
      "TAG_TITLE: 0\n",
      "SONG_ONLY: 0\n",
      "TAG_ONLY: 0\n",
      "TITLE_ONLY: 0\n",
      "NOTHING: 0\n"
     ]
    }
   ],
   "source": [
    "print_question_types('res/train.json')"
   ]
  },
  {
   "cell_type": "code",
   "execution_count": 5,
   "metadata": {},
   "outputs": [
    {
     "name": "stdout",
     "output_type": "stream",
     "text": [
      "ALL: 0\n",
      "SONG_TAG: 8975\n",
      "SONG_TITLE: 0\n",
      "TAG_TITLE: 2628\n",
      "SONG_ONLY: 9661\n",
      "TAG_ONLY: 2\n",
      "TITLE_ONLY: 1745\n",
      "NOTHING: 4\n"
     ]
    }
   ],
   "source": [
    "print_question_types('res/val.json')"
   ]
  },
  {
   "cell_type": "code",
   "execution_count": 6,
   "metadata": {},
   "outputs": [
    {
     "name": "stdout",
     "output_type": "stream",
     "text": [
      "ALL: 0\n",
      "SONG_TAG: 4190\n",
      "SONG_TITLE: 0\n",
      "TAG_TITLE: 1232\n",
      "SONG_ONLY: 4507\n",
      "TAG_ONLY: 0\n",
      "TITLE_ONLY: 809\n",
      "NOTHING: 2\n"
     ]
    }
   ],
   "source": [
    "print_question_types('res/test.json')"
   ]
  },
  {
   "cell_type": "code",
   "execution_count": 7,
   "metadata": {
    "scrolled": false
   },
   "outputs": [
    {
     "name": "stdout",
     "output_type": "stream",
     "text": [
      "ALL: 0\n",
      "SONG_TAG: 8687\n",
      "SONG_TITLE: 0\n",
      "TAG_TITLE: 2762\n",
      "SONG_ONLY: 9954\n",
      "TAG_ONLY: 0\n",
      "TITLE_ONLY: 1611\n",
      "NOTHING: 0\n"
     ]
    }
   ],
   "source": [
    "print_question_types('arena_data/questions/val.json')"
   ]
  },
  {
   "cell_type": "markdown",
   "metadata": {},
   "source": [
    "### old split_data.py\n",
    "\n",
    "code:\n",
    "```py\n",
    "print_question_types('arena_data/questions/val.json')\n",
    "```\n",
    "\n",
    "output:\n",
    "```\n",
    "ALL: 8859\n",
    "SONG_TAG: 0\n",
    "SONG_TITLE: 9550\n",
    "TAG_TITLE: 2618\n",
    "SONG_ONLY: 0\n",
    "TAG_ONLY: 0\n",
    "TITLE_ONLY: 1988\n",
    "NOTHING: 0\n",
    "```"
   ]
  },
  {
   "cell_type": "code",
   "execution_count": null,
   "metadata": {},
   "outputs": [],
   "source": []
  }
 ],
 "metadata": {
  "kernelspec": {
   "display_name": "Python 3",
   "language": "python",
   "name": "python3"
  },
  "language_info": {
   "codemirror_mode": {
    "name": "ipython",
    "version": 3
   },
   "file_extension": ".py",
   "mimetype": "text/x-python",
   "name": "python",
   "nbconvert_exporter": "python",
   "pygments_lexer": "ipython3",
   "version": "3.7.6"
  }
 },
 "nbformat": 4,
 "nbformat_minor": 4
}
