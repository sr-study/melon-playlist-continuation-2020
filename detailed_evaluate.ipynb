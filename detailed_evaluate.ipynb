{
 "cells": [
  {
   "cell_type": "code",
   "execution_count": 1,
   "metadata": {},
   "outputs": [],
   "source": [
    "%matplotlib inline"
   ]
  },
  {
   "cell_type": "code",
   "execution_count": 2,
   "metadata": {},
   "outputs": [],
   "source": [
    "import numpy as np\n",
    "\n",
    "def _idcg(l):\n",
    "    return sum((1.0 / np.log(i + 2) for i in range(l)))\n",
    "\n",
    "_idcgs = [_idcg(i) for i in range(101)]\n",
    "\n",
    "def ndcg(gt, rec):\n",
    "    dcg = 0.0\n",
    "    for i, r in enumerate(rec):\n",
    "        if r in gt:\n",
    "            dcg += 1.0 / np.log(i + 2)\n",
    "\n",
    "    return dcg / _idcgs[len(gt)]"
   ]
  },
  {
   "cell_type": "code",
   "execution_count": 3,
   "metadata": {},
   "outputs": [],
   "source": [
    "import enum\n",
    "\n",
    "class QuestionType(enum.Enum):\n",
    "    ALL = enum.auto()\n",
    "    SONG_TAG = enum.auto()\n",
    "    SONG_TITLE = enum.auto()\n",
    "    TAG_TITLE = enum.auto()\n",
    "    SONG_ONLY = enum.auto()\n",
    "    TAG_ONLY = enum.auto()\n",
    "    TITLE_ONLY = enum.auto()\n",
    "    NOTHING = enum.auto()\n",
    "\n",
    "QUESTION_TYPE_MAP = {\n",
    "    # (songs, tags, title): question_type\n",
    "    (True, True, True): QuestionType.ALL,\n",
    "    (True, True, False): QuestionType.SONG_TAG,\n",
    "    (True, False, True): QuestionType.SONG_TITLE,\n",
    "    (False, True, True): QuestionType.TAG_TITLE,\n",
    "    (True, False, False): QuestionType.SONG_ONLY,\n",
    "    (False, True, False): QuestionType.TAG_ONLY,\n",
    "    (False, False, True): QuestionType.TITLE_ONLY,\n",
    "    (False, False, False): QuestionType.NOTHING,\n",
    "}\n",
    "\n",
    "def get_question_type(question):\n",
    "    songs = question['songs']\n",
    "    tags = question['tags']\n",
    "    title = question['plylst_title']\n",
    "\n",
    "    has_songs = len(songs) > 0\n",
    "    has_tags = len(tags) > 0\n",
    "    has_title = title != \"\"\n",
    "\n",
    "    return QUESTION_TYPE_MAP[has_songs, has_tags, has_title]"
   ]
  },
  {
   "cell_type": "code",
   "execution_count": 4,
   "metadata": {},
   "outputs": [],
   "source": [
    "import matplotlib.pyplot as plt\n",
    "import numpy as np\n",
    "from collections import defaultdict\n",
    "from statistics import mean\n",
    "\n",
    "\n",
    "def print_score(music_ndcgs, tag_ndcgs, scores):\n",
    "    music_ndcg = mean(music_ndcgs)\n",
    "    tag_ndcg = mean(tag_ndcgs)\n",
    "    score = mean(scores)\n",
    "\n",
    "    print(f\"Music nDCG: {music_ndcg:.6}\")\n",
    "    print(f\"Tag nDCG: {tag_ndcg:.6}\")\n",
    "    print(f\"Score: {score:.6}\")\n",
    "\n",
    "\n",
    "def evaluate(results, questions, answers):\n",
    "    if len(results) < len(answers):\n",
    "        print(\"[Warning] 제출한 정답이 부족합니다.\")\n",
    "\n",
    "    questions_dict = {p['id']: p for p in questions}\n",
    "    answers_dict = {p['id']: p for p in answers}\n",
    "\n",
    "    total_music_ndcgs = list()\n",
    "    total_tag_ndcgs = list()\n",
    "    total_scores = list()\n",
    "\n",
    "    case_music_ndcgs = defaultdict(list)\n",
    "    case_tag_ndcgs = defaultdict(list)\n",
    "    case_scores = defaultdict(list)\n",
    "\n",
    "    for p in results:\n",
    "        pid = p['id']\n",
    "        songs = p['songs']\n",
    "        tags = p['tags']\n",
    "\n",
    "        if pid not in questions_dict:\n",
    "            raise Exception(f\"questions에 없습니다: {pid}\")\n",
    "        if pid not in answers_dict:\n",
    "            raise Exception(f\"answers 없습니다: {pid}\")\n",
    "\n",
    "        question = questions_dict[pid]\n",
    "        answer = answers_dict[pid]\n",
    "        question_type = get_question_type(question)\n",
    "\n",
    "        # Validate playlist\n",
    "        if len(songs) != 100:\n",
    "            raise Exception(f\"추천 곡 결과의 개수가 맞지 않습니다: {pid}\")\n",
    "        if len(tags) != 10:\n",
    "            raise Exception(f\"추천 태그 결과의 개수가 맞지 않습니다: {pid}\")\n",
    "        if len(set(songs)) != 100:\n",
    "            raise Exception(f\"한 플레이리스트에 중복된 곡 추천은 허용되지 않습니다: {pid}\")\n",
    "        if len(set(tags)) != 10:\n",
    "            raise Exception(f\"한 플레이리스트에 중복된 태그 추천은 허용되지 않습니다: {pid}\")\n",
    "\n",
    "        cur_music_ndcg = ndcg(answer['songs'], songs)\n",
    "        cur_tag_ndcg = ndcg(answer['tags'], tags)\n",
    "        cur_score = cur_music_ndcg * 0.85 + cur_tag_ndcg * 0.15\n",
    "\n",
    "        # Update total score\n",
    "        total_music_ndcgs.append(cur_music_ndcg)\n",
    "        total_tag_ndcgs.append(cur_tag_ndcg)\n",
    "        total_scores.append(cur_score)\n",
    "\n",
    "        # Update case score\n",
    "        case_music_ndcgs[question_type].append(cur_music_ndcg)\n",
    "        case_tag_ndcgs[question_type].append(cur_tag_ndcg)\n",
    "        case_scores[question_type].append(cur_score)\n",
    "\n",
    "    return (\n",
    "        total_music_ndcgs, total_tag_ndcgs, total_scores,\n",
    "        case_music_ndcgs, case_tag_ndcgs, case_scores,\n",
    "    )\n",
    "\n",
    "\n",
    "def print_scores(\n",
    "        total_music_ndcgs, total_tag_ndcgs, total_scores,\n",
    "        case_music_ndcgs, case_tag_ndcgs, case_scores,\n",
    "    ):\n",
    "    print(\"=== Total score ===\")\n",
    "    print_score(total_music_ndcgs, total_tag_ndcgs, total_scores)\n",
    "\n",
    "    for question_type in QuestionType:\n",
    "        if question_type not in case_music_ndcgs:\n",
    "            continue\n",
    "\n",
    "        print(f\"=== {question_type.name} score ===\")\n",
    "        print_score(case_music_ndcgs[question_type], case_tag_ndcgs[question_type], case_scores[question_type])\n",
    "\n",
    "\n",
    "def create_histogram(music_ndcgs, tag_ndcgs, scores, ax):\n",
    "    bins=np.linspace(0, 1, 10)\n",
    "\n",
    "    # ax.hist([music_ndcgs, tag_ndcgs, scores], bins, label=[\"music_ndcgs\", \"tag_ndcgs\", \"score\"])\n",
    "    ax.hist([music_ndcgs, tag_ndcgs], bins, alpha=1, label=[\"music_ndcgs\", \"tag_ndcgs\"])\n",
    "    ax.hist(scores, bins, alpha=0.33, label=\"score\")\n",
    "#     ax.set_xlim(0, 1)\n",
    "#     ax.set_ylim(0, 400)\n",
    "    ax.legend(loc='upper right')"
   ]
  },
  {
   "cell_type": "code",
   "execution_count": 5,
   "metadata": {},
   "outputs": [],
   "source": [
    "from utils import read_json"
   ]
  },
  {
   "cell_type": "code",
   "execution_count": 6,
   "metadata": {},
   "outputs": [],
   "source": [
    "questions = read_json('./arena_data/questions/val.json')\n",
    "answers = read_json('./arena_data/answers/val.json')\n",
    "results = read_json('./arena_data/results/results.json')"
   ]
  },
  {
   "cell_type": "code",
   "execution_count": 7,
   "metadata": {},
   "outputs": [],
   "source": [
    "(total_music_ndcgs, total_tag_ndcgs, total_scores,\n",
    "    case_music_ndcgs, case_tag_ndcgs, case_scores) = evaluate(results, questions, answers)"
   ]
  },
  {
   "cell_type": "code",
   "execution_count": 8,
   "metadata": {},
   "outputs": [
    {
     "name": "stdout",
     "output_type": "stream",
     "text": [
      "=== Total score ===\n",
      "Music nDCG: 0.241966\n",
      "Tag nDCG: 0.43132\n",
      "Score: 0.270369\n",
      "=== SONG_TAG score ===\n",
      "Music nDCG: 0.424623\n",
      "Tag nDCG: 0.437883\n",
      "Score: 0.426612\n",
      "=== TAG_TITLE score ===\n",
      "Music nDCG: 0.112955\n",
      "Tag nDCG: 0.461938\n",
      "Score: 0.165303\n",
      "=== SONG_ONLY score ===\n",
      "Music nDCG: 0.348451\n",
      "Tag nDCG: 0.514001\n",
      "Score: 0.373283\n",
      "=== TITLE_ONLY score ===\n",
      "Music nDCG: 0.0818336\n",
      "Tag nDCG: 0.311459\n",
      "Score: 0.116277\n"
     ]
    }
   ],
   "source": [
    "print_scores(\n",
    "    total_music_ndcgs, total_tag_ndcgs, total_scores,\n",
    "    case_music_ndcgs, case_tag_ndcgs, case_scores,\n",
    ")"
   ]
  },
  {
   "cell_type": "code",
   "execution_count": 9,
   "metadata": {},
   "outputs": [
    {
     "data": {
      "image/png": "[encoded data removed]",
      "text/plain": [
       "<Figure size 432x288 with 1 Axes>"
      ]
     },
     "metadata": {
      "needs_background": "light"
     },
     "output_type": "display_data"
    }
   ],
   "source": [
    "ax = plt.subplot()\n",
    "plt.title(\"Total\")\n",
    "create_histogram(total_music_ndcgs, total_tag_ndcgs, total_scores, ax)\n",
    "plt.show()"
   ]
  },
  {
   "cell_type": "code",
   "execution_count": 10,
   "metadata": {},
   "outputs": [
    {
     "data": {
      "image/png": "[encoded data removed]",
      "text/plain": [
       "<Figure size 1440x720 with 4 Axes>"
      ]
     },
     "metadata": {
      "needs_background": "light"
     },
     "output_type": "display_data"
    }
   ],
   "source": [
    "plt.figure(figsize=(20, 10))\n",
    "i = 1\n",
    "ax = None\n",
    "for question_type in QuestionType:\n",
    "    if question_type not in case_music_ndcgs:\n",
    "        continue\n",
    "\n",
    "    ax = plt.subplot(2, 4, i, sharex=ax, sharey=ax)\n",
    "    ax.set_title(question_type.name)\n",
    "    create_histogram(case_music_ndcgs[question_type], case_tag_ndcgs[question_type], case_scores[question_type], ax)\n",
    "    i += 1\n",
    "\n",
    "plt.show()\n",
    "\n",
    "ax = None"
   ]
  },
  {
   "cell_type": "code",
   "execution_count": null,
   "metadata": {},
   "outputs": [],
   "source": []
  }
 ],
 "metadata": {
  "kernelspec": {
   "display_name": "Python [conda env:playground]",
   "language": "python",
   "name": "conda-env-playground-py"
  },
  "language_info": {
   "codemirror_mode": {
    "name": "ipython",
    "version": 3
   },
   "file_extension": ".py",
   "mimetype": "text/x-python",
   "name": "python",
   "nbconvert_exporter": "python",
   "pygments_lexer": "ipython3",
   "version": "3.7.6"
  }
 },
 "nbformat": 4,
 "nbformat_minor": 4
}
