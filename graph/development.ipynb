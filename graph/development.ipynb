{
 "cells": [
  {
   "cell_type": "markdown",
   "metadata": {},
   "source": [
    "# Development Environment"
   ]
  },
  {
   "cell_type": "code",
   "execution_count": null,
   "metadata": {},
   "outputs": [],
   "source": [
    "!pip install -r requirements.txt"
   ]
  },
  {
   "cell_type": "code",
   "execution_count": 1,
   "metadata": {},
   "outputs": [],
   "source": [
    "from utils.jupyter_utils import log_cell\n",
    "from utils.jupyter_utils import clear_logs"
   ]
  },
  {
   "cell_type": "code",
   "execution_count": 2,
   "metadata": {},
   "outputs": [],
   "source": [
    "clear_logs()"
   ]
  },
  {
   "cell_type": "markdown",
   "metadata": {},
   "source": [
    "## Execution"
   ]
  },
  {
   "cell_type": "code",
   "execution_count": null,
   "metadata": {
    "tags": []
   },
   "outputs": [],
   "source": [
    "!python split_data.py run res/train.json --ratio=0.2 --suffix=\"02\""
   ]
  },
  {
   "cell_type": "code",
   "execution_count": null,
   "metadata": {
    "tags": []
   },
   "outputs": [],
   "source": [
    "!python split_data.py run res/train.json --ratio=0.002 --suffix=\"0002\""
   ]
  },
  {
   "cell_type": "code",
   "execution_count": null,
   "metadata": {
    "tags": []
   },
   "outputs": [],
   "source": [
    "!python split_data.py run res/train.json --ratio=0.001 --suffix=\"0001\""
   ]
  },
  {
   "cell_type": "code",
   "execution_count": null,
   "metadata": {},
   "outputs": [],
   "source": [
    "%%log_cell\n",
    "\n",
    "# 자가 테스트용\n",
    "!python grape_recommender.py run \\\n",
    "    --song_meta_fname=res/song_meta.json \\\n",
    "    --genre_fname=res/genre_gn_all.json \\\n",
    "    --train_fname=arena_data/orig/train.json \\\n",
    "    --question_fname=arena_data/questions/val.json"
   ]
  },
  {
   "cell_type": "code",
   "execution_count": null,
   "metadata": {},
   "outputs": [],
   "source": [
    "%%log_cell\n",
    "\n",
    "# 자가 테스트용 채점\n",
    "!python evaluate.py evaluate \\\n",
    "    --gt_fname=arena_data/answers/val.json \\\n",
    "    --rec_fname=arena_data/results/results.json"
   ]
  },
  {
   "cell_type": "code",
   "execution_count": null,
   "metadata": {},
   "outputs": [],
   "source": [
    "%%log_cell\n",
    "\n",
    "# 리더보드 제출용\n",
    "!python grape_recommender.py run \\\n",
    "    --song_meta_fname=res/song_meta.json \\\n",
    "    --genre_fname=res/genre_gn_all.json \\\n",
    "    --train_fname=res/train.json \\\n",
    "    --question_fname=res/val.json"
   ]
  },
  {
   "cell_type": "code",
   "execution_count": null,
   "metadata": {},
   "outputs": [],
   "source": [
    "%%log_cell\n",
    "\n",
    "# 최종 제출용\n",
    "!python grape_recommender.py run \\\n",
    "    --song_meta_fname=res/song_meta.json \\\n",
    "    --genre_fname=res/genre_gn_all.json \\\n",
    "    --train_fname=res/train.json \\\n",
    "    --question_fname=res/test.json"
   ]
  },
  {
   "cell_type": "markdown",
   "metadata": {},
   "source": [
    "## Development"
   ]
  },
  {
   "cell_type": "code",
   "execution_count": 3,
   "metadata": {},
   "outputs": [],
   "source": [
    "%load_ext autoreload\n",
    "%autoreload 2\n",
    "# %autoreload 1"
   ]
  },
  {
   "cell_type": "code",
   "execution_count": 4,
   "metadata": {},
   "outputs": [],
   "source": [
    "def prepare_data(suffix=''):\n",
    "    if not suffix:\n",
    "        return\n",
    "    import shutil\n",
    "    shutil.copyfile(f\"./arena_data/orig/train{suffix}.json\", \"./arena_data/orig/train.json\")\n",
    "    shutil.copyfile(f\"./arena_data/orig/val{suffix}.json\", \"./arena_data/orig/val.json\")\n",
    "    shutil.copyfile(f\"./arena_data/questions/val{suffix}.json\", \"./arena_data/questions/val.json\")\n",
    "    shutil.copyfile(f\"./arena_data/answers/val{suffix}.json\", \"./arena_data/answers/val.json\")"
   ]
  },
  {
   "cell_type": "code",
   "execution_count": 5,
   "metadata": {},
   "outputs": [],
   "source": [
    "# prepare_data(\"02\")\n",
    "prepare_data(\"0002\")\n",
    "# prepare_data(\"0001\")"
   ]
  },
  {
   "cell_type": "code",
   "execution_count": 6,
   "metadata": {},
   "outputs": [],
   "source": [
    "from utils import read_json\n",
    "from utils import write_json"
   ]
  },
  {
   "cell_type": "code",
   "execution_count": 7,
   "metadata": {},
   "outputs": [],
   "source": [
    "train = read_json('./arena_data/orig/train.json')\n",
    "genre_gn_all = read_json('./res/genre_gn_all.json')\n",
    "song_meta = read_json('./res/song_meta.json')"
   ]
  },
  {
   "cell_type": "code",
   "execution_count": null,
   "metadata": {},
   "outputs": [],
   "source": [
    "# 제출용\n",
    "train = read_json('./res/train.json')\n",
    "genre_gn_all = read_json('./res/genre_gn_all.json')\n",
    "song_meta = read_json('./res/song_meta.json')"
   ]
  },
  {
   "cell_type": "code",
   "execution_count": 8,
   "metadata": {
    "tags": []
   },
   "outputs": [
    {
     "name": "stderr",
     "output_type": "stream",
     "text": [
      "Building nodes: 100%|#########9| 822830/823084 [00:16<00:00, 49685.90it/s]\n",
      "Building edges: 100%|##########| 823084/823084 [01:19<00:00, 10388.65it/s]\n"
     ]
    },
    {
     "name": "stdout",
     "output_type": "stream",
     "text": [
      "CPU times: user 1min 38s, sys: 2.22 s, total: 1min 41s\n",
      "Wall time: 1min 40s\n"
     ]
    }
   ],
   "source": [
    "%%log_cell\n",
    "%%time\n",
    "import lib.graph\n",
    "%aimport -lib.graph\n",
    "\n",
    "graph = lib.graph.GraphBuilder().build(song_meta, genre_gn_all, train)"
   ]
  },
  {
   "cell_type": "code",
   "execution_count": 10,
   "metadata": {},
   "outputs": [],
   "source": [
    "import pickle\n",
    "\n",
    "with open('model.pkl', 'wb') as f:\n",
    "    pickle.dump(graph, f, protocol=4)"
   ]
  },
  {
   "cell_type": "code",
   "execution_count": null,
   "metadata": {},
   "outputs": [],
   "source": []
  },
  {
   "cell_type": "code",
   "execution_count": 9,
   "metadata": {
    "tags": []
   },
   "outputs": [
    {
     "name": "stderr",
     "output_type": "stream",
     "text": [
      "Caching nodes: 100%|##########| 1505662/1505662 [00:33<00:00, 44976.97it/s]\n",
      "Caching edges: 100%|##########| 25282028/25282028 [02:24<00:00, 175213.04it/s]\n",
      "Caching union nodes: 4073657it [01:30, 45125.27it/s]                             "
     ]
    },
    {
     "name": "stdout",
     "output_type": "stream",
     "text": [
      "CPU times: user 4min 24s, sys: 6.17 s, total: 4min 31s\n",
      "Wall time: 4min 28s\n"
     ]
    },
    {
     "name": "stderr",
     "output_type": "stream",
     "text": [
      "\n"
     ]
    }
   ],
   "source": [
    "%%log_cell\n",
    "%%time\n",
    "import lib.grape\n",
    "%aimport lib.grape.models.graph_spread\n",
    "from constants import NUM_OF_RECOMMENDED_SONGS\n",
    "from constants import NUM_OF_RECOMMENDED_TAGS\n",
    "\n",
    "grape = lib.grape.Grape(\n",
    "    graph,\n",
    "    NUM_OF_RECOMMENDED_SONGS,\n",
    "    NUM_OF_RECOMMENDED_TAGS,\n",
    ")"
   ]
  },
  {
   "cell_type": "code",
   "execution_count": 10,
   "metadata": {
    "tags": []
   },
   "outputs": [
    {
     "name": "stderr",
     "output_type": "stream",
     "text": [
      "Fitting MostPopular model: 100%|##########| 114841/114841 [00:15<00:00, 7240.53it/s]\n"
     ]
    },
    {
     "name": "stdout",
     "output_type": "stream",
     "text": [
      "CPU times: user 17.2 s, sys: 121 ms, total: 17.4 s\n",
      "Wall time: 17.2 s\n"
     ]
    },
    {
     "data": {
      "text/plain": [
       "<lib.grape.grape.Grape at 0x7fdecaeff4d0>"
      ]
     },
     "execution_count": 10,
     "metadata": {},
     "output_type": "execute_result"
    }
   ],
   "source": [
    "%%log_cell\n",
    "%%time\n",
    "grape.fit(train)"
   ]
  },
  {
   "cell_type": "code",
   "execution_count": 11,
   "metadata": {},
   "outputs": [],
   "source": [
    "questions = read_json('./arena_data/questions/val.json')\n",
    "answers = read_json('./arena_data/answers/val.json')"
   ]
  },
  {
   "cell_type": "code",
   "execution_count": null,
   "metadata": {},
   "outputs": [],
   "source": [
    "# 제출용\n",
    "questions = read_json('./res/val.json')"
   ]
  },
  {
   "cell_type": "code",
   "execution_count": 13,
   "metadata": {},
   "outputs": [],
   "source": [
    "%%log_cell\n",
    "\n",
    "def predict_multi(grape, questions, jobs=1):\n",
    "    import multiprocessing as mp\n",
    "    import numpy as np\n",
    "    import itertools\n",
    "\n",
    "    if jobs is None:\n",
    "        jobs = mp.cpu_count()\n",
    "    \n",
    "    if jobs > 1:\n",
    "        chunks = list(np.array_split(questions, jobs))\n",
    "\n",
    "        with mp.Pool() as pool:\n",
    "            results = pool.map(predict_job, chunks)\n",
    "            return list(itertools.chain(*results))\n",
    "    else:\n",
    "        return predict_job(grape, questions)\n",
    "\n",
    "def predict_job(q):\n",
    "    return grape.predict_all(q)"
   ]
  },
  {
   "cell_type": "code",
   "execution_count": 28,
   "metadata": {},
   "outputs": [
    {
     "name": "stderr",
     "output_type": "stream",
     "text": [
      "100%|##########| 10/10 [00:05<00:00,  1.78it/s]\n",
      "100%|##########| 10/10 [00:08<00:00,  1.24it/s]\n",
      "100%|##########| 10/10 [00:08<00:00,  1.16it/s]\n"
     ]
    },
    {
     "name": "stdout",
     "output_type": "stream",
     "text": [
      "[Warning] 제출한 정답이 부족합니다.\n",
      "=== Total score ===\n",
      "Music nDCG: 0.252894\n",
      "Tag nDCG: 0.466986\n",
      "Score: 0.285007\n",
      "=== SONG_TAG score ===\n",
      "Music nDCG: 0.332553\n",
      "Tag nDCG: 0.591763\n",
      "Score: 0.371435\n",
      "=== TAG_TITLE score ===\n",
      "Music nDCG: 0.014876\n",
      "Tag nDCG: 0.6\n",
      "Score: 0.102645\n",
      "=== SONG_ONLY score ===\n",
      "Music nDCG: 0.248628\n",
      "Tag nDCG: 0.363654\n",
      "Score: 0.265882\n",
      "=== TITLE_ONLY score ===\n",
      "Music nDCG: 0.373144\n",
      "Tag nDCG: 0.166667\n",
      "Score: 0.342172\n",
      "CPU times: user 55.1 ms, sys: 1.1 s, total: 1.15 s\n",
      "Wall time: 10.6 s\n"
     ]
    }
   ],
   "source": [
    "%%log_cell\n",
    "%%time\n",
    "from utils import validate_answers\n",
    "\n",
    "n_questions = 2000000000\n",
    "# n_questions = 200\n",
    "# n_questions = 100\n",
    "# answers = grape.predict_all(questions[:n_questions])\n",
    "results = predict_multi(grape, questions[:n_questions], jobs=12)\n",
    "validate_answers(results, questions[:n_questions])\n",
    "write_json(results, './arena_data/results/results.json')\n",
    "\n",
    "!python evaluate.py evaluate \\\n",
    "    --gt_fname=arena_data/answers/val.json \\\n",
    "    --rec_fname=arena_data/results/results.json \\\n",
    "    --question_fname=arena_data/questions/val.json"
   ]
  },
  {
   "cell_type": "code",
   "execution_count": null,
   "metadata": {
    "tags": []
   },
   "outputs": [],
   "source": [
    "%%log_cell\n",
    "from utils import validate_answers\n",
    "\n",
    "n_questions = 2000\n",
    "# n_questions = 200\n",
    "# n_questions = 100\n",
    "results = grape.predict_all(questions[:n_questions])\n",
    "validate_answers(results, questions[:n_questions])\n",
    "write_json(results, './arena_data/results/results.json')\n",
    "\n",
    "!python evaluate.py evaluate \\\n",
    "    --gt_fname=arena_data/answers/val.json \\\n",
    "    --rec_fname=arena_data/results/results.json \\\n",
    "    --question_fname=arena_data/questions/val.json"
   ]
  },
  {
   "cell_type": "code",
   "execution_count": null,
   "metadata": {
    "tags": []
   },
   "outputs": [],
   "source": [
    "%%log_cell\n",
    "from utils import validate_answers\n",
    "\n",
    "n_questions = 2000\n",
    "# n_questions = 200\n",
    "# n_questions = 100\n",
    "results = grape.predict_all(questions[:n_questions])\n",
    "validate_answers(results, questions[:n_questions])\n",
    "write_json(results, './arena_data/results/results.json')\n",
    "\n",
    "!python evaluate.py evaluate \\\n",
    "    --gt_fname=arena_data/answers/val.json \\\n",
    "    --rec_fname=arena_data/results/results.json \\\n",
    "    --question_fname=arena_data/questions/val.json"
   ]
  },
  {
   "cell_type": "code",
   "execution_count": 21,
   "metadata": {},
   "outputs": [
    {
     "name": "stderr",
     "output_type": "stream",
     "text": [
      "  0%|          | 0/1 [00:00<?, ?it/s]"
     ]
    },
    {
     "name": "stdout",
     "output_type": "stream",
     "text": [
      "=== questions ===\n",
      "[{'tags': ['뉴에이지', '재즈'], 'id': 20353, 'plylst_title': '', 'songs': [129962, 239826, 18663, 409769, 184162, 122035, 47735, 10851, 303903, 368771, 45923, 279741, 489174, 87876], 'like_cnt': 10, 'updt_date': '2016-05-24 10:10:32.000'}]\n",
      "\n",
      "=== answers ===\n",
      "[{'tags': ['카페', '피아노', '봄'], 'id': 20353, 'plylst_title': '따뜻한 봄날의 달달한 피아노 뮤직', 'songs': [376537, 238465, 32116, 241758, 394738, 138251, 573337, 288942, 553099, 434503, 175027, 1238, 491855, 670743, 86289], 'like_cnt': 10, 'updt_date': '2016-05-24 10:10:32.000'}]\n",
      "\n",
      "=== moved weights (6743) ===\n",
      "AlbumNode(2672081): 0.045\n",
      "ArtistNode(906972): 0.045\n",
      "ArtistNode(180128): 0.045\n",
      "MonthNode(3): 0.04\n",
      "YearNode(2015): 0.04\n",
      "YearNode(2016): 0.03\n",
      "ArtistNode(712152): 0.03\n",
      "PlaylistNode(90992): 0.03\n",
      "ArtistNode(774540): 0.03\n",
      "ArtistNode(498353): 0.03\n",
      "PlaylistNode(83972): 0.027500000000000004\n",
      "PlaylistNode(62814): 0.027500000000000004\n",
      "PlaylistNode(117121): 0.027500000000000004\n",
      "PlaylistNode(22937): 0.027500000000000004\n",
      "PlaylistNode(76295): 0.027500000000000004\n",
      "PlaylistNode(77049): 0.027500000000000004\n",
      "PlaylistNode(28901): 0.027500000000000004\n",
      "PlaylistNode(99664): 0.027500000000000004\n",
      "PlaylistNode(130832): 0.027500000000000004\n",
      "PlaylistNode(82165): 0.027500000000000004\n",
      "PlaylistNode(48958): 0.027500000000000004\n",
      "PlaylistNode(27777): 0.027500000000000004\n",
      "PlaylistNode(5666): 0.027500000000000004\n",
      "PlaylistNode(6991): 0.027500000000000004\n",
      "PlaylistNode(49188): 0.027500000000000004\n",
      "PlaylistNode(107842): 0.027500000000000004\n",
      "PlaylistNode(85622): 0.025\n",
      "PlaylistNode(113317): 0.025\n",
      "PlaylistNode(62950): 0.025\n",
      "PlaylistNode(20): 0.025\n",
      "...\n",
      "\n",
      "=== moved weights histogram (6743) ===\n",
      "max: 0.045\n",
      "min: 0.0075\n",
      "total: 6743\n",
      "songs: 0 (0%)\n",
      "tags: 0 (0%)\n"
     ]
    },
    {
     "data": {
      "image/png": "[encoded data removed]",
      "text/plain": [
       "<Figure size 432x288 with 1 Axes>"
      ]
     },
     "metadata": {
      "needs_background": "light"
     },
     "output_type": "display_data"
    },
    {
     "name": "stdout",
     "output_type": "stream",
     "text": [
      "=== moved weights (174478) ===\n",
      "TagNode(뉴에이지): 0.006875000000000003\n",
      "TagNode(재즈): 0.006875000000000003\n",
      "TagNode(피아노): 0.003437500000000001\n",
      "WordNode(피아노): 0.0028125000000000003\n",
      "TagNode(잔잔한): 0.0027500000000000007\n",
      "TagNode(기분전환): 0.0020625000000000005\n",
      "TagNode(오후): 0.0013750000000000004\n",
      "WordNode(멜로디): 0.0013750000000000004\n",
      "TagNode(팝): 0.0013750000000000004\n",
      "TagNode(클래식): 0.0013750000000000004\n",
      "WordNode(잔잔한): 0.0013750000000000004\n",
      "TagNode(봄): 0.0013750000000000004\n",
      "WordNode(감성): 0.0013750000000000004\n",
      "TagNode(겨울): 0.0013750000000000004\n",
      "TagNode(힐링): 0.0013750000000000004\n",
      "SongNode(303903): 0.0012000000000000001\n",
      "SongNode(184162): 0.00115\n",
      "SongNode(10851): 0.0011250000000000001\n",
      "SongNode(122035): 0.0011250000000000001\n",
      "SongNode(18663): 0.001075\n",
      "SongNode(30280): 0.001075\n",
      "SongNode(32116): 0.001075\n",
      "SongNode(65864): 0.001075\n",
      "SongNode(110888): 0.001075\n",
      "SongNode(129962): 0.001075\n",
      "SongNode(155805): 0.001075\n",
      "SongNode(159856): 0.001075\n",
      "SongNode(172461): 0.001075\n",
      "SongNode(236627): 0.001075\n",
      "SongNode(238465): 0.001075\n",
      "...\n",
      "\n",
      "=== moved weights histogram (174478) ===\n",
      "TagNode(뉴에이지): 0.006875000000000003 (0, 상위 0.000%, 위치 0.000% )\n",
      "TagNode(재즈): 0.006875000000000003 (1, 상위 0.001%, 위치 0.000% )\n",
      "TagNode(피아노): 0.003437500000000001 (2, 상위 0.001%, 위치 50.551% )\n",
      "SongNode(184162): 0.00115 (16, 상위 0.009%, 위치 84.191% )\n",
      "SongNode(18663): 0.001075 (19, 상위 0.011%, 위치 85.294% )\n",
      "SongNode(129962): 0.001075 (24, 상위 0.014%, 위치 85.294% )\n",
      "SongNode(238465): 0.001075 (29, 상위 0.017%, 위치 85.294% )\n",
      "SongNode(86289): 0.00045 (223, 상위 0.128%, 위치 94.485% )\n",
      "SongNode(279741): 0.00045 (238, 상위 0.136%, 위치 94.485% )\n",
      "SongNode(1238): 0.00039999999999999996 (285, 상위 0.163%, 위치 95.221% )\n",
      "SongNode(409769): 0.0003 (437, 상위 0.250%, 위치 96.691% )\n",
      "SongNode(573337): 0.0003 (453, 상위 0.260%, 위치 96.691% )\n",
      "SongNode(288942): 0.0003 (454, 상위 0.260%, 위치 96.691% )\n",
      "SongNode(670743): 0.0003 (458, 상위 0.262%, 위치 96.691% )\n",
      "SongNode(87876): 0.0001 (18131, 상위 10.392%, 위치 99.632% )\n",
      "SongNode(175027): 0.0001 (77111, 상위 44.195%, 위치 99.632% )\n",
      "max: 0.006875000000000003\n",
      "min: 7.5e-05\n",
      "total: 174478\n",
      "songs: 13 (0.007454812368107165%)\n",
      "tags: 3 (7.142857142857142%)\n"
     ]
    },
    {
     "data": {
      "image/png": "[encoded data removed]",
      "text/plain": [
       "<Figure size 432x288 with 1 Axes>"
      ]
     },
     "metadata": {
      "needs_background": "light"
     },
     "output_type": "display_data"
    },
    {
     "name": "stdout",
     "output_type": "stream",
     "text": [
      "=== moved weights (16911) ===\n",
      "PlaylistNode(107548): 0.00022750000000000008\n",
      "PlaylistNode(125485): 0.00022750000000000008\n",
      "PlaylistNode(84463): 0.00020000000000000006\n",
      "PlaylistNode(83972): 0.00020000000000000006\n",
      "PlaylistNode(2828): 0.00020000000000000006\n",
      "PlaylistNode(148131): 0.00020000000000000006\n",
      "PlaylistNode(102991): 0.00020000000000000006\n",
      "PlaylistNode(97525): 0.00020000000000000006\n",
      "PlaylistNode(84325): 0.00020000000000000006\n",
      "PlaylistNode(95928): 0.00020000000000000006\n",
      "PlaylistNode(96461): 0.00020000000000000006\n",
      "PlaylistNode(140864): 0.00020000000000000006\n",
      "PlaylistNode(149900): 0.0001993750000000001\n",
      "PlaylistNode(117121): 0.0001993750000000001\n",
      "PlaylistNode(88795): 0.0001993750000000001\n",
      "PlaylistNode(110913): 0.0001993750000000001\n",
      "PlaylistNode(35507): 0.0001993750000000001\n",
      "PlaylistNode(99664): 0.0001993750000000001\n",
      "PlaylistNode(82165): 0.0001993750000000001\n",
      "PlaylistNode(47772): 0.0001993750000000001\n",
      "PlaylistNode(117967): 0.0001993750000000001\n",
      "PlaylistNode(89290): 0.0001993750000000001\n",
      "PlaylistNode(14894): 0.0001993750000000001\n",
      "PlaylistNode(62814): 0.00019312500000000007\n",
      "PlaylistNode(17956): 0.00017187500000000007\n",
      "PlaylistNode(14471): 0.00017187500000000007\n",
      "PlaylistNode(33816): 0.00017187500000000007\n",
      "PlaylistNode(120643): 0.00017187500000000007\n",
      "PlaylistNode(125240): 0.00017187500000000007\n",
      "PlaylistNode(21099): 0.00017187500000000007\n",
      "...\n",
      "\n",
      "=== moved weights histogram (16911) ===\n",
      "TagNode(피아노): 2.8125e-06 (16910, 상위 99.994%, 위치 100.000% )\n",
      "max: 0.00022750000000000008\n",
      "min: 2.8125e-06\n",
      "total: 16911\n",
      "songs: 0 (0%)\n",
      "tags: 1 (100.0%)\n"
     ]
    },
    {
     "data": {
      "image/png": "[encoded data removed]",
      "text/plain": [
       "<Figure size 432x288 with 1 Axes>"
      ]
     },
     "metadata": {
      "needs_background": "light"
     },
     "output_type": "display_data"
    },
    {
     "name": "stdout",
     "output_type": "stream",
     "text": [
      "=== moved weights (1103) ===\n",
      "TagNode(재즈): 0.00018978125000000023\n",
      "TagNode(뉴에이지): 0.00018978125000000023\n",
      "TagNode(피아노): 0.0001849531250000002\n",
      "TagNode(힐링): 7.357812500000004e-05\n",
      "TagNode(잔잔한): 7.103125000000005e-05\n",
      "TagNode(연주곡): 6.642187500000003e-05\n",
      "WordNode(피아노): 6.620312500000002e-05\n",
      "TagNode(클래식): 5.285937500000002e-05\n",
      "WordNode(연주곡): 4.715625000000002e-05\n",
      "WordNode(좋은): 3.770312500000002e-05\n",
      "TagNode(기분전환): 3.2843750000000016e-05\n",
      "TagNode(겨울): 2.785937500000001e-05\n",
      "TagNode(카페): 2.2875000000000007e-05\n",
      "TagNode(휴식): 2.285937500000001e-05\n",
      "WordNode(선율): 1.998437500000001e-05\n",
      "WordNode(함께): 1.9968750000000008e-05\n",
      "TagNode(커피): 1.9281250000000008e-05\n",
      "TagNode(가을): 1.9281250000000008e-05\n",
      "TagNode(연주): 1.8593750000000008e-05\n",
      "WordNode(듣기): 1.8421875000000006e-05\n",
      "WordNode(한): 1.5656250000000008e-05\n",
      "WordNode(감성): 1.4968750000000008e-05\n",
      "TagNode(봄): 1.4968750000000006e-05\n",
      "TagNode(새벽): 1.4953125000000008e-05\n",
      "WordNode(잔잔한): 1.4953125000000008e-05\n",
      "TagNode(감성): 1.4281250000000005e-05\n",
      "WordNode(듣는): 1.3593750000000005e-05\n",
      "TagNode(매장음악): 1.2890625000000007e-05\n",
      "WordNode(뉴에이지): 1.2890625000000007e-05\n",
      "TagNode(사랑): 1.0671875000000005e-05\n",
      "...\n",
      "\n",
      "=== moved weights histogram (1103) ===\n",
      "TagNode(재즈): 0.00018978125000000023 (0, 상위 0.000%, 위치 0.000% )\n",
      "TagNode(뉴에이지): 0.00018978125000000023 (1, 상위 0.091%, 위치 0.000% )\n",
      "TagNode(피아노): 0.0001849531250000002 (2, 상위 0.181%, 위치 2.567% )\n",
      "SongNode(184162): 3.9312500000000015e-06 (267, 상위 24.207%, 위치 98.824% )\n",
      "SongNode(238465): 2.0000000000000008e-06 (460, 상위 41.704%, 위치 99.850% )\n",
      "max: 0.00018978125000000023\n",
      "min: 1.7187500000000007e-06\n",
      "total: 1103\n",
      "songs: 2 (0.22805017103762829%)\n",
      "tags: 3 (4.054054054054054%)\n"
     ]
    },
    {
     "data": {
      "image/png": "[encoded data removed]",
      "text/plain": [
       "<Figure size 432x288 with 1 Axes>"
      ]
     },
     "metadata": {
      "needs_background": "light"
     },
     "output_type": "display_data"
    },
    {
     "name": "stdout",
     "output_type": "stream",
     "text": [
      "=== moved weights (23445) ===\n",
      "PlaylistNode(110913): 7.091250000000008e-06\n",
      "PlaylistNode(35507): 7.091250000000008e-06\n",
      "PlaylistNode(82165): 7.091250000000008e-06\n",
      "PlaylistNode(47772): 7.091250000000008e-06\n",
      "PlaylistNode(89290): 7.091250000000008e-06\n",
      "PlaylistNode(14894): 7.091250000000008e-06\n",
      "PlaylistNode(17956): 6.380937500000007e-06\n",
      "PlaylistNode(14471): 6.380937500000007e-06\n",
      "PlaylistNode(33816): 6.380937500000007e-06\n",
      "PlaylistNode(12846): 6.380937500000007e-06\n",
      "PlaylistNode(113519): 6.380937500000007e-06\n",
      "PlaylistNode(76581): 6.380937500000007e-06\n",
      "PlaylistNode(74439): 6.380937500000007e-06\n",
      "PlaylistNode(45236): 6.380937500000007e-06\n",
      "PlaylistNode(148965): 6.380937500000007e-06\n",
      "PlaylistNode(102991): 6.380937500000007e-06\n",
      "PlaylistNode(130832): 6.380937500000007e-06\n",
      "PlaylistNode(92841): 6.380937500000007e-06\n",
      "PlaylistNode(21190): 6.380937500000007e-06\n",
      "PlaylistNode(1215): 6.380937500000007e-06\n",
      "PlaylistNode(47850): 6.380937500000007e-06\n",
      "PlaylistNode(143120): 6.380937500000007e-06\n",
      "PlaylistNode(48958): 6.380937500000007e-06\n",
      "PlaylistNode(11818): 6.380937500000007e-06\n",
      "PlaylistNode(107548): 6.3554687500000075e-06\n",
      "PlaylistNode(149900): 6.3554687500000075e-06\n",
      "PlaylistNode(117121): 6.3554687500000075e-06\n",
      "PlaylistNode(88795): 6.3554687500000075e-06\n",
      "PlaylistNode(99664): 6.3554687500000075e-06\n",
      "PlaylistNode(117967): 6.3554687500000075e-06\n",
      "...\n",
      "\n",
      "=== moved weights histogram (23445) ===\n",
      "max: 7.091250000000008e-06\n",
      "min: 7.103125000000006e-07\n",
      "total: 23445\n",
      "songs: 0 (0%)\n",
      "tags: 0 (0%)\n"
     ]
    },
    {
     "data": {
      "image/png": "[encoded data removed]",
      "text/plain": [
       "<Figure size 432x288 with 1 Axes>"
      ]
     },
     "metadata": {
      "needs_background": "light"
     },
     "output_type": "display_data"
    },
    {
     "name": "stdout",
     "output_type": "stream",
     "text": [
      "=== moved weights (1581) ===\n",
      "TagNode(재즈): 9.129968750000012e-06\n",
      "TagNode(뉴에이지): 9.129968750000012e-06\n",
      "TagNode(피아노): 8.998925781250012e-06\n",
      "TagNode(힐링): 4.066152343750006e-06\n",
      "TagNode(연주곡): 3.3046289062500053e-06\n",
      "TagNode(잔잔한): 2.3069375000000025e-06\n",
      "TagNode(기분전환): 2.0351054687500025e-06\n",
      "TagNode(클래식): 1.980558593750002e-06\n",
      "WordNode(피아노): 1.7474570312500019e-06\n",
      "TagNode(겨울): 1.6983007812500016e-06\n",
      "WordNode(연주곡): 1.6431171875000016e-06\n",
      "TagNode(카페): 1.6152734375000018e-06\n",
      "WordNode(좋은): 1.5026250000000016e-06\n",
      "TagNode(휴식): 1.4160429687500014e-06\n",
      "TagNode(커피): 1.1835781250000012e-06\n",
      "TagNode(봄): 9.37472656250001e-07\n",
      "WordNode(뉴에이지): 9.01957031250001e-07\n",
      "WordNode(듣는): 9.01957031250001e-07\n",
      "WordNode(함께): 9.006835937500011e-07\n",
      "TagNode(새벽): 8.141015625000009e-07\n",
      "TagNode(가을): 7.601914062500008e-07\n",
      "TagNode(연주): 7.42433593750001e-07\n",
      "TagNode(감성): 7.317109375000009e-07\n",
      "WordNode(감성): 6.368203125000008e-07\n",
      "WordNode(때): 6.368203125000008e-07\n",
      "WordNode(듣기): 6.196992187500008e-07\n",
      "TagNode(매장음악): 6.013046875000007e-07\n",
      "TagNode(편안한): 6.006679687500007e-07\n",
      "WordNode(선율): 5.822734375000008e-07\n",
      "WordNode(재즈): 5.728242187500007e-07\n",
      "...\n",
      "\n",
      "=== moved weights histogram (1581) ===\n",
      "TagNode(재즈): 9.129968750000012e-06 (0, 상위 0.000%, 위치 0.000% )\n",
      "TagNode(뉴에이지): 9.129968750000012e-06 (1, 상위 0.063%, 위치 0.000% )\n",
      "TagNode(피아노): 8.998925781250012e-06 (2, 상위 0.127%, 위치 1.444% )\n",
      "SongNode(184162): 5.645156250000007e-08 (1100, 상위 69.576%, 위치 99.956% )\n",
      "SongNode(238465): 5.645156250000007e-08 (1436, 상위 90.829%, 위치 99.956% )\n",
      "max: 9.129968750000012e-06\n",
      "min: 5.241718750000006e-08\n",
      "total: 1581\n",
      "songs: 2 (0.1607717041800643%)\n",
      "tags: 3 (2.608695652173913%)\n"
     ]
    },
    {
     "data": {
      "image/png": "[encoded data removed]",
      "text/plain": [
       "<Figure size 432x288 with 1 Axes>"
      ]
     },
     "metadata": {
      "needs_background": "light"
     },
     "output_type": "display_data"
    },
    {
     "name": "stdout",
     "output_type": "stream",
     "text": [
      "=== moved weights (16250) ===\n",
      "PlaylistNode(33816): 3.4629644531250046e-07\n",
      "PlaylistNode(76581): 3.4629644531250046e-07\n",
      "PlaylistNode(110913): 3.4629644531250046e-07\n",
      "PlaylistNode(102991): 3.4629644531250046e-07\n",
      "PlaylistNode(92841): 3.4629644531250046e-07\n",
      "PlaylistNode(143120): 3.4629644531250046e-07\n",
      "PlaylistNode(48958): 3.4629644531250046e-07\n",
      "PlaylistNode(17956): 3.132501562500004e-07\n",
      "PlaylistNode(14471): 3.132501562500004e-07\n",
      "PlaylistNode(12846): 3.132501562500004e-07\n",
      "PlaylistNode(113519): 3.132501562500004e-07\n",
      "PlaylistNode(74439): 3.132501562500004e-07\n",
      "PlaylistNode(45236): 3.132501562500004e-07\n",
      "PlaylistNode(148965): 3.132501562500004e-07\n",
      "PlaylistNode(35507): 3.132501562500004e-07\n",
      "PlaylistNode(130832): 3.132501562500004e-07\n",
      "PlaylistNode(82165): 3.132501562500004e-07\n",
      "PlaylistNode(21190): 3.132501562500004e-07\n",
      "PlaylistNode(47772): 3.132501562500004e-07\n",
      "PlaylistNode(1215): 3.132501562500004e-07\n",
      "PlaylistNode(47850): 3.132501562500004e-07\n",
      "PlaylistNode(89290): 3.132501562500004e-07\n",
      "PlaylistNode(14894): 3.132501562500004e-07\n",
      "PlaylistNode(11818): 3.132501562500004e-07\n",
      "PlaylistNode(107548): 3.056349218750004e-07\n",
      "PlaylistNode(125240): 3.056349218750004e-07\n",
      "PlaylistNode(21099): 3.056349218750004e-07\n",
      "PlaylistNode(14757): 3.056349218750004e-07\n",
      "PlaylistNode(61988): 3.056349218750004e-07\n",
      "PlaylistNode(88795): 3.056349218750004e-07\n",
      "...\n",
      "\n",
      "=== moved weights histogram (16250) ===\n",
      "max: 3.4629644531250046e-07\n",
      "min: 3.304628906250005e-08\n",
      "total: 16250\n",
      "songs: 0 (0%)\n",
      "tags: 0 (0%)\n"
     ]
    },
    {
     "data": {
      "image/png": "[encoded data removed]",
      "text/plain": [
       "<Figure size 432x288 with 1 Axes>"
      ]
     },
     "metadata": {
      "needs_background": "light"
     },
     "output_type": "display_data"
    },
    {
     "name": "stdout",
     "output_type": "stream",
     "text": [
      "=== moved weights (2297) ===\n",
      "TagNode(피아노): 5.721389853515627e-07\n",
      "TagNode(뉴에이지): 5.402971513671877e-07\n",
      "TagNode(재즈): 4.892977998046876e-07\n",
      "TagNode(힐링): 3.276392529296878e-07\n",
      "TagNode(연주곡): 3.09121032226563e-07\n",
      "TagNode(잔잔한): 1.5536943359375022e-07\n",
      "WordNode(연주곡): 1.356528583984377e-07\n",
      "TagNode(휴식): 1.3365933203125017e-07\n",
      "TagNode(카페): 1.327018291015627e-07\n",
      "TagNode(기분전환): 1.2635407226562516e-07\n",
      "TagNode(클래식): 1.1074500097656266e-07\n",
      "WordNode(피아노): 1.0604867089843765e-07\n",
      "TagNode(겨울): 9.794172656250014e-08\n",
      "WordNode(좋은): 9.074624902343763e-08\n",
      "TagNode(감성): 7.455214843750011e-08\n",
      "WordNode(듣는): 7.02637421875001e-08\n",
      "TagNode(매장음악): 7.00199248046876e-08\n",
      "TagNode(커피): 6.457803613281259e-08\n",
      "TagNode(새벽): 5.790026464843758e-08\n",
      "TagNode(봄): 5.279129980468758e-08\n",
      "WordNode(뉴에이지): 5.279129980468757e-08\n",
      "WordNode(함께): 4.913866992187507e-08\n",
      "TagNode(연주): 4.330773144531256e-08\n",
      "TagNode(가을): 4.330773144531256e-08\n",
      "WordNode(잔잔한): 4.242813769531256e-08\n",
      "TagNode(집중): 4.097180273437506e-08\n",
      "WordNode(듣기): 3.9161868164062554e-08\n",
      "WordNode(때): 3.7319172851562555e-08\n",
      "TagNode(편안한): 3.630263476562505e-08\n",
      "WordNode(한): 3.589559863281255e-08\n",
      "...\n",
      "\n",
      "=== moved weights histogram (2297) ===\n",
      "TagNode(피아노): 5.721389853515627e-07 (0, 상위 0.000%, 위치 0.000% )\n",
      "TagNode(뉴에이지): 5.402971513671877e-07 (1, 상위 0.044%, 위치 5.590% )\n",
      "TagNode(재즈): 4.892977998046876e-07 (2, 상위 0.087%, 위치 14.544% )\n",
      "SongNode(238465): 3.0563492187500043e-09 (1260, 상위 54.854%, 위치 99.911% )\n",
      "SongNode(184162): 2.7258863281250036e-09 (1358, 상위 59.121%, 위치 99.969% )\n",
      "max: 5.721389853515627e-07\n",
      "min: 2.5499675781250037e-09\n",
      "total: 2297\n",
      "songs: 2 (0.10537407797681769%)\n",
      "tags: 3 (2.3255813953488373%)\n"
     ]
    },
    {
     "data": {
      "image/png": "[encoded data removed]",
      "text/plain": [
       "<Figure size 432x288 with 1 Axes>"
      ]
     },
     "metadata": {
      "needs_background": "light"
     },
     "output_type": "display_data"
    },
    {
     "name": "stderr",
     "output_type": "stream",
     "text": [
      "100%|##########| 1/1 [00:03<00:00,  3.67s/it]\n"
     ]
    },
    {
     "name": "stdout",
     "output_type": "stream",
     "text": [
      "=== questions ===\n",
      "[{'tags': ['뉴에이지', '재즈'], 'id': 20353, 'plylst_title': '', 'songs': [129962, 239826, 18663, 409769, 184162, 122035, 47735, 10851, 303903, 368771, 45923, 279741, 489174, 87876], 'like_cnt': 10, 'updt_date': '2016-05-24 10:10:32.000'}]\n",
      "\n",
      "=== answers ===\n",
      "[{'tags': ['카페', '피아노', '봄'], 'id': 20353, 'plylst_title': '따뜻한 봄날의 달달한 피아노 뮤직', 'songs': [376537, 238465, 32116, 241758, 394738, 138251, 573337, 288942, 553099, 434503, 175027, 1238, 491855, 670743, 86289], 'like_cnt': 10, 'updt_date': '2016-05-24 10:10:32.000'}]\n",
      "\n",
      "=== results ===\n",
      "{'id': 20353, 'songs': [238465, 30280, 32116, 65864, 110888, 155805, 159856, 172461, 236627, 241758, 274736, 307148, 315100, 332438, 352318, 365476, 407558, 426944, 463193, 482497, 515963, 532325, 535765, 571818, 585075, 632959, 478926, 373832, 389563, 381403, 265032, 704882, 356614, 113358, 219082, 273499, 644497, 504360, 124428, 210956, 687595, 226587, 275925, 171429, 487760, 494259, 511209, 427437, 577874, 666121, 139805, 242948, 284408, 301615, 315863, 355178, 406477, 454292, 462059, 502349, 531508, 600901, 677104, 32904, 124497, 268265, 317698, 7891, 18684, 26436, 105334, 125676, 136837, 170736, 181252, 210963, 242382, 244672, 253775, 254739, 283734, 314006, 354842, 359739, 382115, 453142, 462178, 465496, 467719, 493710, 510295, 518999, 547077, 570395, 586327, 600797, 623889, 631601, 649709, 674360], 'tags': ['피아노', '잔잔한', '기분전환', '힐링', '클래식', '겨울', '봄', '오후', '팝', '가을']}\n",
      "\n",
      "[Warning] 제출한 정답이 부족합니다.\n",
      "=== Total score ===\n",
      "Music nDCG: 0.305231\n",
      "Tag nDCG: 0.625705\n",
      "Score: 0.353302\n",
      "=== SONG_TAG score ===\n",
      "Music nDCG: 0.305231\n",
      "Tag nDCG: 0.625705\n",
      "Score: 0.353302\n"
     ]
    }
   ],
   "source": [
    "%%log_cell\n",
    "from utils import validate_answers\n",
    "\n",
    "question_id = 15\n",
    "\n",
    "print(\"=== questions ===\")\n",
    "print(questions[question_id:question_id+1])\n",
    "print()\n",
    "\n",
    "print(\"=== answers ===\")\n",
    "print(answers[question_id:question_id+1])\n",
    "print()\n",
    "\n",
    "results = grape.predict_all(questions[question_id:question_id+1])\n",
    "validate_answers(results, questions[question_id:question_id+1])\n",
    "write_json(results, './arena_data/results/results.json')\n",
    "\n",
    "print(\"=== questions ===\")\n",
    "print(questions[question_id:question_id+1])\n",
    "print()\n",
    "\n",
    "print(\"=== answers ===\")\n",
    "print(answers[question_id:question_id+1])\n",
    "print()\n",
    "\n",
    "print(\"=== results ===\")\n",
    "print(results[0])\n",
    "print()\n",
    "\n",
    "!python evaluate.py evaluate \\\n",
    "    --gt_fname=arena_data/answers/val.json \\\n",
    "    --rec_fname=arena_data/results/results.json \\\n",
    "    --question_fname=arena_data/questions/val.json"
   ]
  },
  {
   "cell_type": "code",
   "execution_count": null,
   "metadata": {},
   "outputs": [],
   "source": [
    "%%log_cell\n",
    "from utils import validate_answers\n",
    "\n",
    "question_id = 18\n",
    "\n",
    "print(\"=== questions ===\")\n",
    "print(questions[question_id:question_id+1])\n",
    "print()\n",
    "\n",
    "print(\"=== answers ===\")\n",
    "print(answers[question_id:question_id+1])\n",
    "print()\n",
    "\n",
    "results = grape.predict_all(questions[question_id:question_id+1])\n",
    "validate_answers(results, questions[question_id:question_id+1])\n",
    "write_json(results, './arena_data/results/results.json')\n",
    "\n",
    "print(\"=== questions ===\")\n",
    "print(questions[question_id:question_id+1])\n",
    "print()\n",
    "\n",
    "print(\"=== answers ===\")\n",
    "print(answers[question_id:question_id+1])\n",
    "print()\n",
    "\n",
    "print(\"=== results ===\")\n",
    "print(results[0])\n",
    "print()\n",
    "\n",
    "!python evaluate.py evaluate \\\n",
    "    --gt_fname=arena_data/answers/val.json \\\n",
    "    --rec_fname=arena_data/results/results.json \\\n",
    "    --question_fname=arena_data/questions/val.json"
   ]
  },
  {
   "cell_type": "markdown",
   "metadata": {},
   "source": [
    "## Test"
   ]
  },
  {
   "cell_type": "code",
   "execution_count": null,
   "metadata": {},
   "outputs": [],
   "source": [
    "%%time\n",
    "import lib.graph\n",
    "%aimport -lib.graph.core\n",
    "%aimport  lib.graph.core.graph\n",
    "%aimport -lib.graph.nodes\n",
    "\n",
    "graph = lib.graph.GraphBuilder().build(song_meta[:100], genre_gn_all, [])"
   ]
  },
  {
   "cell_type": "code",
   "execution_count": null,
   "metadata": {},
   "outputs": [],
   "source": [
    "%%time\n",
    "import lib.grape\n",
    "from constants import NUM_OF_RECOMMENDED_SONGS\n",
    "from constants import NUM_OF_RECOMMENDED_TAGS\n",
    "\n",
    "grape = lib.grape.Grape(\n",
    "    graph,\n",
    "    NUM_OF_RECOMMENDED_SONGS,\n",
    "    NUM_OF_RECOMMENDED_TAGS,\n",
    ")"
   ]
  },
  {
   "cell_type": "code",
   "execution_count": null,
   "metadata": {},
   "outputs": [],
   "source": [
    "grape.fit(train)"
   ]
  },
  {
   "cell_type": "code",
   "execution_count": null,
   "metadata": {},
   "outputs": [],
   "source": [
    "questions = read_json('./arena_data/questions/val.json')"
   ]
  },
  {
   "cell_type": "code",
   "execution_count": null,
   "metadata": {},
   "outputs": [],
   "source": [
    "from utils import validate_answers\n",
    "\n",
    "n_questions = 20\n",
    "answers = grape.predict_all(questions[:n_questions])\n",
    "validate_answers(answers, questions[:n_questions])\n",
    "write_json(answers, './arena_data/results/results.json')\n",
    "\n",
    "!python evaluate.py evaluate \\\n",
    "    --gt_fname=arena_data/answers/val.json \\\n",
    "    --rec_fname=arena_data/results/results.json"
   ]
  },
  {
   "cell_type": "markdown",
   "metadata": {},
   "source": [
    "## Playground"
   ]
  },
  {
   "cell_type": "code",
   "execution_count": null,
   "metadata": {},
   "outputs": [],
   "source": []
  }
 ],
 "metadata": {
  "kernelspec": {
   "display_name": "Python [conda env:playground]",
   "language": "python",
   "name": "conda-env-playground-py"
  },
  "language_info": {
   "codemirror_mode": {
    "name": "ipython",
    "version": 3
   },
   "file_extension": ".py",
   "mimetype": "text/x-python",
   "name": "python",
   "nbconvert_exporter": "python",
   "pygments_lexer": "ipython3",
   "version": "3.7.6"
  }
 },
 "nbformat": 4,
 "nbformat_minor": 4
}
