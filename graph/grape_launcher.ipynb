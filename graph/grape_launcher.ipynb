{
 "cells": [
  {
   "cell_type": "markdown",
   "metadata": {},
   "source": [
    "# Grape Launcher"
   ]
  },
  {
   "cell_type": "code",
   "execution_count": null,
   "metadata": {},
   "outputs": [],
   "source": [
    "!pip install -r requirements.txt"
   ]
  },
  {
   "cell_type": "code",
   "execution_count": 1,
   "metadata": {},
   "outputs": [],
   "source": [
    "%load_ext autoreload\n",
    "%autoreload 2"
   ]
  },
  {
   "cell_type": "code",
   "execution_count": 2,
   "metadata": {},
   "outputs": [],
   "source": [
    "from utils.jupyter_utils import log_cell\n",
    "from utils.jupyter_utils import clear_logs"
   ]
  },
  {
   "cell_type": "code",
   "execution_count": 3,
   "metadata": {},
   "outputs": [],
   "source": [
    "clear_logs()"
   ]
  },
  {
   "cell_type": "code",
   "execution_count": 4,
   "metadata": {},
   "outputs": [
    {
     "name": "stdout",
     "output_type": "stream",
     "text": [
      "Loading song meta...\n",
      "Loading genre...\n",
      "Loading train file...\n",
      "Fitting train data...\n",
      "Parsing data: 100%|██████████████████| 856839/856839 [00:35<00:00, 23891.15it/s]\n",
      "Creating graph: 100%|███████████| 48757126/48757126 [02:10<00:00, 373307.72it/s]\n",
      "Caching graph: 100%|████████████| 35896238/35896238 [00:48<00:00, 741956.53it/s]\n",
      "Loading question file...\n",
      "Predicting...\n",
      "100%|███████████████████████████████████████| 1918/1918 [23:27<00:00,  1.36it/s]\n",
      "100%|███████████████████████████████████████| 1918/1918 [23:40<00:00,  1.35it/s]\n",
      "100%|███████████████████████████████████████| 1918/1918 [23:45<00:00,  1.35it/s]\n",
      "100%|███████████████████████████████████████| 1918/1918 [23:59<00:00,  1.33it/s]\n",
      "100%|███████████████████████████████████████| 1918/1918 [24:03<00:00,  1.33it/s]\n",
      "100%|███████████████████████████████████████| 1918/1918 [24:03<00:00,  1.33it/s]\n",
      "100%|███████████████████████████████████████| 1917/1917 [24:17<00:00,  1.32it/s]\n",
      "100%|███████████████████████████████████████| 1918/1918 [24:21<00:00,  1.31it/s]\n",
      "100%|███████████████████████████████████████| 1918/1918 [24:22<00:00,  1.31it/s]\n",
      "100%|███████████████████████████████████████| 1918/1918 [24:36<00:00,  1.30it/s]\n",
      "100%|███████████████████████████████████████| 1918/1918 [24:38<00:00,  1.30it/s]\n",
      "100%|███████████████████████████████████████| 1918/1918 [24:41<00:00,  1.29it/s]\n",
      "Writing results...\n",
      "Traceback (most recent call last):\n",
      "  File \"grape_recommender.py\", line 100, in <module>\n",
      "    fire.Fire(GrapeRecommender)\n",
      "  File \"/opt/conda/envs/playground/lib/python3.7/site-packages/fire/core.py\", line 138, in Fire\n",
      "    component_trace = _Fire(component, args, parsed_flag_args, context, name)\n",
      "  File \"/opt/conda/envs/playground/lib/python3.7/site-packages/fire/core.py\", line 468, in _Fire\n",
      "    target=component.__name__)\n",
      "  File \"/opt/conda/envs/playground/lib/python3.7/site-packages/fire/core.py\", line 672, in _CallAndUpdateTrace\n",
      "    component = fn(*varargs, **kwargs)\n",
      "  File \"grape_recommender.py\", line 20, in run\n",
      "    self.read_and_predict(question_fname, output_fname, jobs=jobs, verbose=verbose)\n",
      "  File \"grape_recommender.py\", line 61, in read_and_predict\n",
      "    validate_answers(results, questions)\n",
      "  File \"/home/jovyan/work/melon-playlist-continuation-2020/utils/validation.py\", line 32, in validate_answers\n",
      "    raise Exception(\"추천 곡 결과의 개수가 맞지 않습니다.\")\n",
      "Exception: 추천 곡 결과의 개수가 맞지 않습니다.\n"
     ]
    }
   ],
   "source": [
    "%%log_cell\n",
    "\n",
    "# 리더보드 제출용\n",
    "# !python grape_recommender.py run \\\n",
    "#     --song_meta_fname=res/song_meta.json \\\n",
    "#     --genre_fname=res/genre_gn_all.json \\\n",
    "#     --train_fname=res/train.json \\\n",
    "#     --question_fname=res/val.json \\\n",
    "#     --jobs=12\n",
    "!python grape_recommender.py run \\\n",
    "    --song_meta_fname=res/song_meta.json \\\n",
    "    --genre_fname=res/genre_gn_all.json \\\n",
    "    --train_fname=arena_data/train_val_test.json \\\n",
    "    --question_fname=res/val.json \\\n",
    "    --jobs=12"
   ]
  },
  {
   "cell_type": "code",
   "execution_count": 5,
   "metadata": {},
   "outputs": [
    {
     "name": "stdout",
     "output_type": "stream",
     "text": [
      "Loading song meta...\n",
      "Loading genre...\n",
      "Loading train file...\n",
      "Fitting train data...\n",
      "Parsing data: 100%|██████████████████| 856839/856839 [00:35<00:00, 24041.75it/s]\n",
      "Creating graph: 100%|███████████| 48757126/48757126 [02:12<00:00, 368935.41it/s]\n",
      "Caching graph: 100%|████████████| 35896238/35896238 [00:48<00:00, 733767.55it/s]\n",
      "Loading question file...\n",
      "Predicting...\n",
      "100%|█████████████████████████████████████████| 895/895 [10:49<00:00,  1.38it/s]\n",
      "100%|█████████████████████████████████████████| 895/895 [10:56<00:00,  1.36it/s]\n",
      "100%|█████████████████████████████████████████| 895/895 [10:59<00:00,  1.36it/s]\n",
      "100%|█████████████████████████████████████████| 895/895 [11:00<00:00,  1.35it/s]\n",
      "100%|█████████████████████████████████████████| 895/895 [11:00<00:00,  1.35it/s]\n",
      "100%|█████████████████████████████████████████| 895/895 [11:02<00:00,  1.35it/s]\n",
      "100%|█████████████████████████████████████████| 895/895 [11:06<00:00,  1.34it/s]\n",
      "100%|█████████████████████████████████████████| 895/895 [11:08<00:00,  1.34it/s]\n",
      "100%|█████████████████████████████████████████| 895/895 [11:12<00:00,  1.33it/s]\n",
      "100%|█████████████████████████████████████████| 895/895 [11:13<00:00,  1.33it/s]\n",
      "100%|█████████████████████████████████████████| 895/895 [11:15<00:00,  1.33it/s]\n",
      "100%|█████████████████████████████████████████| 895/895 [11:15<00:00,  1.32it/s]\n",
      "Writing results...\n",
      "Traceback (most recent call last):\n",
      "  File \"grape_recommender.py\", line 100, in <module>\n",
      "    fire.Fire(GrapeRecommender)\n",
      "  File \"/opt/conda/envs/playground/lib/python3.7/site-packages/fire/core.py\", line 138, in Fire\n",
      "    component_trace = _Fire(component, args, parsed_flag_args, context, name)\n",
      "  File \"/opt/conda/envs/playground/lib/python3.7/site-packages/fire/core.py\", line 468, in _Fire\n",
      "    target=component.__name__)\n",
      "  File \"/opt/conda/envs/playground/lib/python3.7/site-packages/fire/core.py\", line 672, in _CallAndUpdateTrace\n",
      "    component = fn(*varargs, **kwargs)\n",
      "  File \"grape_recommender.py\", line 20, in run\n",
      "    self.read_and_predict(question_fname, output_fname, jobs=jobs, verbose=verbose)\n",
      "  File \"grape_recommender.py\", line 61, in read_and_predict\n",
      "    validate_answers(results, questions)\n",
      "  File \"/home/jovyan/work/melon-playlist-continuation-2020/utils/validation.py\", line 32, in validate_answers\n",
      "    raise Exception(\"추천 곡 결과의 개수가 맞지 않습니다.\")\n",
      "Exception: 추천 곡 결과의 개수가 맞지 않습니다.\n"
     ]
    }
   ],
   "source": [
    "%%log_cell\n",
    "\n",
    "# 최종 제출용\n",
    "# !python grape_recommender.py run \\\n",
    "#     --song_meta_fname=res/song_meta.json \\\n",
    "#     --genre_fname=res/genre_gn_all.json \\\n",
    "#     --train_fname=res/train.json \\\n",
    "#     --question_fname=res/test.json \\\n",
    "#     --jobs=12\n",
    "!python grape_recommender.py run \\\n",
    "    --song_meta_fname=res/song_meta.json \\\n",
    "    --genre_fname=res/genre_gn_all.json \\\n",
    "    --train_fname=arena_data/train_val_test.json \\\n",
    "    --question_fname=res/test.json \\\n",
    "    --jobs=12"
   ]
  },
  {
   "cell_type": "code",
   "execution_count": 4,
   "metadata": {},
   "outputs": [
    {
     "name": "stdout",
     "output_type": "stream",
     "text": [
      "Loading song meta...\n",
      "Loading genre...\n",
      "Loading train file...\n",
      "Fitting train data...\n",
      "Parsing data: 100%|██████████████████| 822738/822738 [00:35<00:00, 22940.99it/s]\n",
      "Creating graph: 100%|███████████| 47119216/47119216 [02:06<00:00, 371455.29it/s]\n",
      "Caching graph: 100%|████████████| 34405782/34405782 [00:46<00:00, 741659.45it/s]\n",
      "Loading question file...\n",
      "Predicting...\n",
      "100%|███████████████████████████████████████████| 48/48 [00:18<00:00,  2.60it/s]\n",
      "100%|███████████████████████████████████████████| 48/48 [00:19<00:00,  2.48it/s]\n",
      "100%|███████████████████████████████████████████| 48/48 [00:19<00:00,  2.45it/s]\n",
      "100%|███████████████████████████████████████████| 48/48 [00:20<00:00,  2.33it/s]\n",
      "100%|███████████████████████████████████████████| 48/48 [00:20<00:00,  2.29it/s]\n",
      "100%|███████████████████████████████████████████| 48/48 [00:22<00:00,  2.18it/s]\n",
      "100%|███████████████████████████████████████████| 48/48 [00:22<00:00,  2.17it/s]\n",
      "100%|███████████████████████████████████████████| 48/48 [00:22<00:00,  2.15it/s]\n",
      "100%|███████████████████████████████████████████| 48/48 [00:22<00:00,  2.13it/s]\n",
      "100%|███████████████████████████████████████████| 48/48 [00:22<00:00,  2.12it/s]\n",
      "100%|███████████████████████████████████████████| 48/48 [00:22<00:00,  2.09it/s]\n",
      "100%|███████████████████████████████████████████| 48/48 [00:22<00:00,  2.09it/s]\n",
      "Writing results...\n",
      "\u001b[1m\u001b[31mERROR: \u001b[0mThe function received no value for the required argument: question_fname\n",
      "Usage: evaluate.py evaluate GT_FNAME REC_FNAME QUESTION_FNAME\n",
      "\n",
      "For detailed information on this command, run:\n",
      "  evaluate.py evaluate --help\n"
     ]
    }
   ],
   "source": [
    "%%log_cell\n",
    "# 자가 테스트용\n",
    "!python grape_recommender.py run \\\n",
    "    --song_meta_fname=res/song_meta.json \\\n",
    "    --genre_fname=res/genre_gn_all.json \\\n",
    "    --train_fname=arena_data/orig/train.json \\\n",
    "    --question_fname=arena_data/questions/val.json \\\n",
    "    --jobs=12\n",
    "!python evaluate.py evaluate \\\n",
    "    --gt_fname=arena_data/answers/val.json \\\n",
    "    --rec_fname=arena_data/results/results.json \\\n",
    "    --question_fname=arena_data/questions/val.json"
   ]
  },
  {
   "cell_type": "code",
   "execution_count": 5,
   "metadata": {},
   "outputs": [
    {
     "name": "stdout",
     "output_type": "stream",
     "text": [
      "=== Total score ===\n",
      "Music nDCG: 0.285405\n",
      "Tag nDCG: 0.479857\n",
      "Score: 0.314573\n",
      "=== SONG_TAG score ===\n",
      "Music nDCG: 0.329893\n",
      "Tag nDCG: 0.4607\n",
      "Score: 0.349514\n",
      "=== TAG_TITLE score ===\n",
      "Music nDCG: 0.102275\n",
      "Tag nDCG: 0.530086\n",
      "Score: 0.166447\n",
      "=== SONG_ONLY score ===\n",
      "Music nDCG: 0.337984\n",
      "Tag nDCG: 0.512095\n",
      "Score: 0.364101\n",
      "=== TITLE_ONLY score ===\n",
      "Music nDCG: 0.0755778\n",
      "Tag nDCG: 0.317903\n",
      "Score: 0.111927\n"
     ]
    }
   ],
   "source": [
    "!python evaluate.py evaluate \\\n",
    "    --gt_fname=arena_data/answers/val.json \\\n",
    "    --rec_fname=arena_data/results/results.json \\\n",
    "    --question_fname=arena_data/questions/val.json"
   ]
  },
  {
   "cell_type": "code",
   "execution_count": 6,
   "metadata": {},
   "outputs": [
    {
     "name": "stdout",
     "output_type": "stream",
     "text": [
      "Loading song meta...\n",
      "Loading genre...\n",
      "Loading train file...\n",
      "Fitting train data...\n",
      "Parsing data: 100%|██████████████████| 822738/822738 [00:35<00:00, 23085.30it/s]\n",
      "Creating graph: 100%|███████████| 47119216/47119216 [02:07<00:00, 370162.94it/s]\n",
      "Caching graph: 100%|████████████| 34405782/34405782 [00:48<00:00, 714303.18it/s]\n",
      "Loading question file...\n",
      "Predicting...\n",
      "100%|███████████████████████████████████████████| 48/48 [00:17<00:00,  2.68it/s]\n",
      "100%|███████████████████████████████████████████| 48/48 [00:19<00:00,  2.50it/s]\n",
      "100%|███████████████████████████████████████████| 48/48 [00:20<00:00,  2.38it/s]\n",
      "100%|███████████████████████████████████████████| 48/48 [00:20<00:00,  2.35it/s]\n",
      "100%|███████████████████████████████████████████| 48/48 [00:20<00:00,  2.31it/s]\n",
      "100%|███████████████████████████████████████████| 48/48 [00:21<00:00,  2.22it/s]\n",
      "100%|███████████████████████████████████████████| 48/48 [00:22<00:00,  2.18it/s]\n",
      "100%|███████████████████████████████████████████| 48/48 [00:22<00:00,  2.15it/s]\n",
      "100%|███████████████████████████████████████████| 48/48 [00:22<00:00,  2.11it/s]\n",
      "100%|███████████████████████████████████████████| 48/48 [00:22<00:00,  2.10it/s]\n",
      "100%|███████████████████████████████████████████| 48/48 [00:22<00:00,  2.10it/s]\n",
      "100%|███████████████████████████████████████████| 48/48 [00:23<00:00,  2.06it/s]\n",
      "Writing results...\n",
      "=== Total score ===\n",
      "Music nDCG: 0.285405\n",
      "Tag nDCG: 0.479857\n",
      "Score: 0.314573\n",
      "=== SONG_TAG score ===\n",
      "Music nDCG: 0.329893\n",
      "Tag nDCG: 0.4607\n",
      "Score: 0.349514\n",
      "=== TAG_TITLE score ===\n",
      "Music nDCG: 0.102275\n",
      "Tag nDCG: 0.530086\n",
      "Score: 0.166447\n",
      "=== SONG_ONLY score ===\n",
      "Music nDCG: 0.337984\n",
      "Tag nDCG: 0.512095\n",
      "Score: 0.364101\n",
      "=== TITLE_ONLY score ===\n",
      "Music nDCG: 0.0755778\n",
      "Tag nDCG: 0.317903\n",
      "Score: 0.111927\n"
     ]
    }
   ],
   "source": [
    "%%log_cell\n",
    "# 자가 테스트용\n",
    "!python grape_recommender.py run \\\n",
    "    --song_meta_fname=res/song_meta.json \\\n",
    "    --genre_fname=res/genre_gn_all.json \\\n",
    "    --train_fname=arena_data/orig/train.json \\\n",
    "    --question_fname=arena_data/questions/val.json \\\n",
    "    --jobs=12\n",
    "!python evaluate.py evaluate \\\n",
    "    --gt_fname=arena_data/answers/val.json \\\n",
    "    --rec_fname=arena_data/results/results.json \\\n",
    "    --question_fname=arena_data/questions/val.json"
   ]
  },
  {
   "cell_type": "code",
   "execution_count": 4,
   "metadata": {},
   "outputs": [],
   "source": [
    "from grape_recommender import GrapeRecommender\n",
    "from evaluate import ArenaEvaluator\n",
    "from lib.grape import MelonGraph"
   ]
  },
  {
   "cell_type": "code",
   "execution_count": 5,
   "metadata": {},
   "outputs": [],
   "source": [
    "song_meta_fname = './res/song_meta.json'\n",
    "genre_fname = './res/genre_gn_all.json'\n",
    "train_fname = './arena_data/orig/train.json'\n",
    "question_fname = './arena_data/questions/val.json'\n",
    "answer_fname = './arena_data/answers/val.json'\n",
    "result_fname = './arena_data/results/results.json'\n",
    "jobs = 8"
   ]
  },
  {
   "cell_type": "code",
   "execution_count": 6,
   "metadata": {},
   "outputs": [],
   "source": [
    "recommender = GrapeRecommender()\n",
    "evaluator = ArenaEvaluator()"
   ]
  },
  {
   "cell_type": "code",
   "execution_count": 7,
   "metadata": {},
   "outputs": [
    {
     "name": "stdout",
     "output_type": "stream",
     "text": [
      "Loading song meta...\n",
      "Loading genre...\n",
      "Loading train file...\n"
     ]
    },
    {
     "name": "stderr",
     "output_type": "stream",
     "text": [
      "Parsing data:   1%|          | 5419/822738 [00:00<00:15, 54183.98it/s]"
     ]
    },
    {
     "name": "stdout",
     "output_type": "stream",
     "text": [
      "Fitting train data...\n"
     ]
    },
    {
     "name": "stderr",
     "output_type": "stream",
     "text": [
      "Parsing data: 100%|##########| 822738/822738 [00:38<00:00, 21592.03it/s]\n",
      "Creating graph: 100%|##########| 47119216/47119216 [02:00<00:00, 391840.33it/s] \n",
      "Caching graph: 100%|##########| 34405782/34405782 [00:45<00:00, 750177.59it/s] \n"
     ]
    },
    {
     "name": "stdout",
     "output_type": "stream",
     "text": [
      "CPU times: user 3min 32s, sys: 5.52 s, total: 3min 38s\n",
      "Wall time: 3min 36s\n"
     ]
    }
   ],
   "source": [
    "%%log_cell\n",
    "%%time\n",
    "recommender.read_and_fit(\n",
    "    song_meta_fname,\n",
    "    genre_fname,\n",
    "    train_fname,\n",
    ")"
   ]
  },
  {
   "cell_type": "code",
   "execution_count": 11,
   "metadata": {},
   "outputs": [],
   "source": [
    "recommender.set_params(**{\n",
    "            'max_songs': 100,\n",
    "            'max_tags': 10,\n",
    "            'max_depth': 6,\n",
    "            'relation_weight': {\n",
    "                MelonGraph.Relation.ALBUM_TO_SONG: 0.01,\n",
    "                MelonGraph.Relation.ALBUM_TO_WORD: 0,\n",
    "                MelonGraph.Relation.ARTIST_TO_SONG: 0.01,\n",
    "                MelonGraph.Relation.ARTIST_TO_WORD: 0,\n",
    "                MelonGraph.Relation.ARTIST_GENRE_TO_SONG: 0.01,\n",
    "                MelonGraph.Relation.GENRE_TO_SONG: 0.01,\n",
    "                MelonGraph.Relation.MONTH_TO_SONG: 0,\n",
    "                MelonGraph.Relation.PLAYLIST_TO_SONG: 0.01,\n",
    "                MelonGraph.Relation.PLAYLIST_TO_TAG: 0.025,\n",
    "                MelonGraph.Relation.PLAYLIST_TO_WORD: 0.025,\n",
    "                MelonGraph.Relation.SONG_TO_ALBUM: 0.015,\n",
    "                MelonGraph.Relation.SONG_TO_ARTIST: 0.015,\n",
    "                MelonGraph.Relation.SONG_TO_ARTIST_DETAILED_GENRE: 0.0005,\n",
    "                MelonGraph.Relation.SONG_TO_ARTIST_GENRE: 0,\n",
    "                MelonGraph.Relation.SONG_TO_DETAILED_GENRE: 0,\n",
    "                MelonGraph.Relation.SONG_TO_GENRE: 0,\n",
    "                MelonGraph.Relation.SONG_TO_MONTH: 0,\n",
    "                MelonGraph.Relation.SONG_TO_PLAYLIST: 0.0075,\n",
    "                MelonGraph.Relation.SONG_TO_YEAR: 0,\n",
    "                MelonGraph.Relation.TAG_TO_PLAYLIST: 0.01,\n",
    "                MelonGraph.Relation.TAG_TO_WORD: 0.01,\n",
    "                MelonGraph.Relation.WORD_TO_ALBUM: 0,\n",
    "                MelonGraph.Relation.WORD_TO_ARTIST: 0,\n",
    "                MelonGraph.Relation.WORD_TO_PLAYLIST: 0.01,\n",
    "                MelonGraph.Relation.WORD_TO_TAG: 0.001,\n",
    "                MelonGraph.Relation.YEAR_TO_SONG: 0,\n",
    "            },\n",
    "            'song_relation_weight': None,\n",
    "            'tag_relation_weight': None,\n",
    "        })"
   ]
  },
  {
   "cell_type": "code",
   "execution_count": 10,
   "metadata": {
    "jupyter": {
     "source_hidden": true
    }
   },
   "outputs": [],
   "source": [
    "recommender.set_params(**{\n",
    "            'max_songs': 100,\n",
    "            'max_tags': 10,\n",
    "            'max_depth': 8,\n",
    "            'relation_weight': None,\n",
    "            'song_relation_weight': {\n",
    "                MelonGraph.Relation.ALBUM_TO_SONG: 0.07414642795032474,\n",
    "                MelonGraph.Relation.ALBUM_TO_WORD: 0.0061584168335407094,\n",
    "                MelonGraph.Relation.ARTIST_TO_SONG: 0.005007988938451341,\n",
    "                MelonGraph.Relation.ARTIST_TO_WORD: 0.13369050243492486,\n",
    "                MelonGraph.Relation.ARTIST_GENRE_TO_SONG: 0.039747880057376936,\n",
    "                MelonGraph.Relation.GENRE_TO_SONG: 0.04041364503484934,\n",
    "                MelonGraph.Relation.MONTH_TO_SONG: 0.10327547008450252,\n",
    "                MelonGraph.Relation.PLAYLIST_TO_SONG: 0.023834754515476037,\n",
    "                MelonGraph.Relation.PLAYLIST_TO_TAG: 0.003978224154889666,\n",
    "                MelonGraph.Relation.PLAYLIST_TO_WORD: 0.15054393789224635,\n",
    "                MelonGraph.Relation.SONG_TO_ALBUM: 0.032202483574836266,\n",
    "                MelonGraph.Relation.SONG_TO_ARTIST: 0.05170572396717645,\n",
    "                MelonGraph.Relation.SONG_TO_ARTIST_DETAILED_GENRE: 0.002382416247506785,\n",
    "                MelonGraph.Relation.SONG_TO_ARTIST_GENRE: 0.06990916834467857,\n",
    "                MelonGraph.Relation.SONG_TO_DETAILED_GENRE: 0.0,\n",
    "                MelonGraph.Relation.SONG_TO_GENRE: 0.0,\n",
    "                MelonGraph.Relation.SONG_TO_MONTH: 0.0,\n",
    "                MelonGraph.Relation.SONG_TO_PLAYLIST: 0.0391536425494617,\n",
    "                MelonGraph.Relation.SONG_TO_YEAR: 0.16006897848218085,\n",
    "                MelonGraph.Relation.TAG_TO_PLAYLIST: 0.02846355124840641,\n",
    "                MelonGraph.Relation.TAG_TO_WORD: 0.06997925941645167,\n",
    "                MelonGraph.Relation.WORD_TO_ALBUM: 0.034048230407077586,\n",
    "                MelonGraph.Relation.WORD_TO_ARTIST: 0.10831338685096968,\n",
    "                MelonGraph.Relation.WORD_TO_PLAYLIST: 0.045391029624364594,\n",
    "                MelonGraph.Relation.WORD_TO_TAG: 0.010800350699808562,\n",
    "                MelonGraph.Relation.YEAR_TO_SONG: 0.0030303652258104746,\n",
    "            },\n",
    "            'tag_relation_weight': {\n",
    "                MelonGraph.Relation.ALBUM_TO_SONG: 0.00020466860713289187,\n",
    "                MelonGraph.Relation.ALBUM_TO_WORD: 0.08434854530504439,\n",
    "                MelonGraph.Relation.ARTIST_TO_SONG: 0.003972435623688278,\n",
    "                MelonGraph.Relation.ARTIST_TO_WORD: 0.04684892666384003,\n",
    "                MelonGraph.Relation.ARTIST_GENRE_TO_SONG: 0.0015760062945061823,\n",
    "                MelonGraph.Relation.GENRE_TO_SONG: 0.0014284375224107395,\n",
    "                MelonGraph.Relation.MONTH_TO_SONG: 0.000867680601042818,\n",
    "                MelonGraph.Relation.PLAYLIST_TO_SONG: 0.004263433370580513,\n",
    "                MelonGraph.Relation.PLAYLIST_TO_TAG: 0.016805868120610315,\n",
    "                MelonGraph.Relation.PLAYLIST_TO_WORD: 0.0337555699134987,\n",
    "                MelonGraph.Relation.SONG_TO_ALBUM: 0.028811340591184224,\n",
    "                MelonGraph.Relation.SONG_TO_ARTIST: 0.011916070154272334,\n",
    "                MelonGraph.Relation.SONG_TO_ARTIST_DETAILED_GENRE: 0.01463042200734143,\n",
    "                MelonGraph.Relation.SONG_TO_ARTIST_GENRE: 0.10788626854824333,\n",
    "                MelonGraph.Relation.SONG_TO_DETAILED_GENRE: 0.0,\n",
    "                MelonGraph.Relation.SONG_TO_GENRE: 0.0,\n",
    "                MelonGraph.Relation.SONG_TO_MONTH: 0.0,\n",
    "                MelonGraph.Relation.SONG_TO_PLAYLIST: 0.06694190614146299,\n",
    "                MelonGraph.Relation.SONG_TO_YEAR: 0.018167639927004053,\n",
    "                MelonGraph.Relation.TAG_TO_PLAYLIST: 0.07910617846425558,\n",
    "                MelonGraph.Relation.TAG_TO_WORD: 0.08036327272815523,\n",
    "                MelonGraph.Relation.WORD_TO_ALBUM: 0.003802920436354447,\n",
    "                MelonGraph.Relation.WORD_TO_ARTIST: 0.006862580053298147,\n",
    "                MelonGraph.Relation.WORD_TO_PLAYLIST: 0.03620983925425599,\n",
    "                MelonGraph.Relation.WORD_TO_TAG: 0.001665218252183399,\n",
    "                MelonGraph.Relation.YEAR_TO_SONG: 0.0042068917633064215,\n",
    "            },\n",
    "        })"
   ]
  },
  {
   "cell_type": "code",
   "execution_count": 13,
   "metadata": {},
   "outputs": [
    {
     "name": "stdout",
     "output_type": "stream",
     "text": [
      "Loading question file...\n",
      "Predicting...\n"
     ]
    },
    {
     "name": "stderr",
     "output_type": "stream",
     "text": [
      "  0%|          | 0/72 [00:00<?, ?it/s]"
     ]
    },
    {
     "name": "stdout",
     "output_type": "stream",
     "text": [
      "<class 'list'>\n",
      "{63682: {'songs': [483367, 359602, 100024], 'tags': [], 'title': ''}}\n",
      "total intersect songs : 0\n",
      "total intersect tags : 0\n"
     ]
    },
    {
     "name": "stderr",
     "output_type": "stream",
     "text": [
      "  1%|1         | 1/72 [00:01<01:24,  1.19s/it]"
     ]
    },
    {
     "name": "stdout",
     "output_type": "stream",
     "text": [
      "<class 'list'>\n",
      "{135703: {'songs': [213722, 627808], 'tags': [], 'title': ''}}\n",
      "total intersect songs : 0\n",
      "total intersect tags : 0\n"
     ]
    },
    {
     "name": "stderr",
     "output_type": "stream",
     "text": [
      "  1%|1         | 1/72 [00:01<01:29,  1.25s/it]"
     ]
    },
    {
     "name": "stdout",
     "output_type": "stream",
     "text": [
      "<class 'list'>\n",
      "{93573: {'songs': [350816, 352228, 189981, 36458, 630552, 300431, 26063, 638297, 397324, 138932, 584079, 248079, 78625, 570532, 279426, 219032, 48209, 616335, 8871], 'tags': [], 'title': ''}}\n",
      "total intersect songs : 0\n",
      "total intersect tags : 0<class 'list'>\n",
      "{67530: {'songs': [585640, 507006, 212973, 679661, 376212, 23131, 118631, 180298, 455252, 146922, 440800, 586539], 'tags': ['매장음악', '인디음악', '매장'], 'title': ''}}\n",
      "\n"
     ]
    },
    {
     "name": "stderr",
     "output_type": "stream",
     "text": [
      "  1%|1         | 1/72 [00:01<01:59,  1.69s/it]"
     ]
    },
    {
     "name": "stdout",
     "output_type": "stream",
     "text": [
      "total intersect songs : 0\n",
      "total intersect tags : 0\n"
     ]
    },
    {
     "name": "stderr",
     "output_type": "stream",
     "text": [
      "  1%|1         | 1/72 [00:01<01:58,  1.68s/it]"
     ]
    },
    {
     "name": "stdout",
     "output_type": "stream",
     "text": [
      "<class 'list'>\n",
      "{142092: {'songs': [238276, 670814, 22408, 70213, 258640, 628452, 672536, 575369, 157778, 118049], 'tags': ['밤'], 'title': ''}}\n",
      "total intersect songs : 0\n",
      "total intersect tags : 0\n"
     ]
    },
    {
     "name": "stderr",
     "output_type": "stream",
     "text": [
      "  1%|1         | 1/72 [00:01<02:07,  1.80s/it]"
     ]
    },
    {
     "name": "stdout",
     "output_type": "stream",
     "text": [
      "<class 'list'>\n",
      "{115371: {'songs': [504773, 162231, 260105, 260894, 122589, 391079, 159677, 698167], 'tags': [], 'title': ''}}<class 'list'>\n",
      "\n",
      "total intersect songs : 0\n",
      "total intersect tags : 0\n",
      "{146584: {'songs': [375229, 663981, 194483, 30623, 707526, 372306, 645061, 335474, 67773, 599228, 194120, 512863, 136806, 1233, 648954, 67678, 23470, 259826, 338554, 67810, 404822, 328829, 215723, 320376, 244987, 39151, 677427, 149281, 627547, 372058, 562575, 20051, 468041, 221716, 327589, 268964, 54837, 571016, 324209, 48572, 563379, 507740, 529790, 497546, 133176, 475696, 677013, 608965, 185920, 535188, 421908, 178644, 367011, 672225], 'tags': ['cf음악', '드라이브', '여행', '신나는'], 'title': ''}}"
     ]
    },
    {
     "name": "stderr",
     "output_type": "stream",
     "text": [
      "  3%|2         | 2/72 [00:02<01:21,  1.16s/it]"
     ]
    },
    {
     "name": "stdout",
     "output_type": "stream",
     "text": [
      "\n",
      "total intersect songs : 0\n",
      "total intersect tags : 0\n"
     ]
    },
    {
     "name": "stderr",
     "output_type": "stream",
     "text": [
      "  1%|1         | 1/72 [00:02<02:41,  2.27s/it]"
     ]
    },
    {
     "name": "stdout",
     "output_type": "stream",
     "text": [
      "<class 'list'>\n",
      "{6738: {'songs': [455155, 446500], 'tags': [], 'title': ''}}\n",
      "total intersect songs : 0\n",
      "total intersect tags : 0\n"
     ]
    },
    {
     "name": "stderr",
     "output_type": "stream",
     "text": [
      "  1%|1         | 1/72 [00:02<02:49,  2.39s/it]"
     ]
    },
    {
     "name": "stdout",
     "output_type": "stream",
     "text": [
      "<class 'list'>\n",
      "{27534: {'songs': [], 'tags': ['감성', '명품드라마ost', '드라마', 'OST'], 'title': '영원히 기억될 명품 드라마 ost'}}\n",
      "total intersect songs : 0\n",
      "total intersect tags : 0\n"
     ]
    },
    {
     "name": "stderr",
     "output_type": "stream",
     "text": [
      "  3%|2         | 2/72 [00:02<01:27,  1.25s/it]"
     ]
    },
    {
     "name": "stdout",
     "output_type": "stream",
     "text": [
      "<class 'list'>\n",
      "{135133: {'songs': [], 'tags': ['잔잔한'], 'title': '잔잔히, 울렁이는'}}\n",
      "total intersect songs : 0\n",
      "total intersect tags : 0\n"
     ]
    },
    {
     "name": "stderr",
     "output_type": "stream",
     "text": [
      "  1%|1         | 1/72 [00:02<03:02,  2.58s/it]"
     ]
    },
    {
     "name": "stdout",
     "output_type": "stream",
     "text": [
      "<class 'list'>\n",
      "{128643: {'songs': [422545, 9489, 258244, 174926, 14128, 379585, 388297, 298846, 426365, 168928, 575674, 316212, 656574, 581888, 281557, 649123, 538615], 'tags': ['흑인소울', '알앤비'], 'title': ''}}\n",
      "total intersect songs : 0\n",
      "total intersect tags : 0\n"
     ]
    },
    {
     "name": "stderr",
     "output_type": "stream",
     "text": [
      "  3%|2         | 2/72 [00:02<01:43,  1.48s/it]"
     ]
    },
    {
     "name": "stdout",
     "output_type": "stream",
     "text": [
      "<class 'list'>\n",
      "{10903: {'songs': [56447, 386931, 202564, 465500, 409058, 396445, 459959, 16783, 204547, 407828, 29824, 51134, 336044, 706400, 239857, 189623, 368055, 388199, 45585, 289359, 470706, 616860, 571885, 354503, 75441, 461032, 246115, 138221, 690767, 255331, 365831, 676358, 110616, 507804, 594687, 383921, 476328, 161351, 126737], 'tags': ['여행'], 'title': ''}}\n",
      "total intersect songs : 0\n",
      "total intersect tags : 0\n"
     ]
    },
    {
     "name": "stderr",
     "output_type": "stream",
     "text": [
      "  3%|2         | 2/72 [00:02<01:45,  1.51s/it]"
     ]
    },
    {
     "name": "stdout",
     "output_type": "stream",
     "text": [
      "<class 'list'>\n",
      "{134648: {'songs': [290078, 111703, 169705, 131923, 562570, 379028, 362839, 289088, 143951], 'tags': [], 'title': ''}}\n",
      "total intersect songs : 0\n",
      "total intersect tags : 0\n",
      "<class 'list'>\n",
      "{111163: {'songs': [654511, 663246, 157840, 529538, 213345, 78502, 181494, 8749, 212631, 225297, 454876, 3103, 613616, 352997, 340720, 261084, 458465, 381241, 323326, 83852, 203729, 406498, 493762, 15124], 'tags': ['UK차트', '트렌디'], 'title': ''}}\n",
      "total intersect songs : 0\n",
      "total intersect tags : 0\n"
     ]
    },
    {
     "name": "stderr",
     "output_type": "stream",
     "text": [
      "  3%|2         | 2/72 [00:02<02:07,  1.82s/it]"
     ]
    },
    {
     "name": "stdout",
     "output_type": "stream",
     "text": [
      "<class 'list'>\n",
      "{81381: {'songs': [], 'tags': [], 'title': 'I.O.I'}}\n",
      "total intersect songs : 0\n",
      "total intersect tags : 0\n"
     ]
    },
    {
     "name": "stderr",
     "output_type": "stream",
     "text": [
      "  4%|4         | 3/72 [00:02<01:09,  1.01s/it]"
     ]
    },
    {
     "name": "stdout",
     "output_type": "stream",
     "text": [
      "<class 'list'>\n",
      "{126137: {'songs': [538453, 214498, 22751, 321656, 568426, 412929, 23693, 417931, 148287], 'tags': ['휴식', 'OST', '릴랙싱'], 'title': ''}}\n",
      "total intersect songs : 0\n",
      "total intersect tags : 0\n"
     ]
    },
    {
     "name": "stderr",
     "output_type": "stream",
     "text": [
      "  3%|2         | 2/72 [00:03<01:55,  1.65s/it]"
     ]
    },
    {
     "name": "stdout",
     "output_type": "stream",
     "text": [
      "<class 'list'>\n",
      "{74001: {'songs': [14762, 651745, 698012, 156713, 603457, 268424, 511749, 588657, 659377], 'tags': [], 'title': ''}}\n",
      "total intersect songs : 0\n",
      "total intersect tags : 0\n"
     ]
    },
    {
     "name": "stderr",
     "output_type": "stream",
     "text": [
      "  3%|2         | 2/72 [00:03<02:13,  1.90s/it]"
     ]
    },
    {
     "name": "stdout",
     "output_type": "stream",
     "text": [
      "<class 'list'>\n",
      "{788: {'songs': [252339, 343974, 2512, 375431, 678936, 154084, 102189], 'tags': ['아이돌'], 'title': ''}}\n",
      "total intersect songs : 0\n",
      "total intersect tags : 0\n"
     ]
    },
    {
     "name": "stderr",
     "output_type": "stream",
     "text": [
      "  3%|2         | 2/72 [00:03<02:25,  2.07s/it]"
     ]
    },
    {
     "name": "stdout",
     "output_type": "stream",
     "text": [
      "<class 'list'>\n",
      "{48062: {'songs': [511749, 257350, 445726, 116292, 563238, 502052, 581082, 652547, 119841, 295661, 381887, 636468, 344008, 571309, 272158], 'tags': ['드라이브'], 'title': ''}}\n",
      "total intersect songs : 0\n",
      "total intersect tags : 0\n"
     ]
    },
    {
     "name": "stderr",
     "output_type": "stream",
     "text": [
      "  4%|4         | 3/72 [00:03<01:28,  1.29s/it]"
     ]
    },
    {
     "name": "stdout",
     "output_type": "stream",
     "text": [
      "<class 'list'>\n",
      "{53508: {'songs': [], 'tags': [], 'title': '블루스 3대킹중 한 사람인 Freddie King'}}\n",
      "total intersect songs : 0\n",
      "total intersect tags : 0\n"
     ]
    },
    {
     "name": "stderr",
     "output_type": "stream",
     "text": [
      "  4%|4         | 3/72 [00:03<01:37,  1.41s/it]"
     ]
    },
    {
     "name": "stdout",
     "output_type": "stream",
     "text": [
      "<class 'list'>\n",
      "{88005: {'songs': [304532, 656851, 126679, 302646, 672105, 496072], 'tags': [], 'title': ''}}\n",
      "total intersect songs : 0<class 'list'>\n",
      "{44569: {'songs': [502864, 375040, 681042, 559041, 509777, 690404, 190102, 293378, 434044], 'tags': [], 'title': ''}}\n",
      "\n",
      "total intersect songs : 0\n",
      "total intersect tags : 0total intersect tags : 0\n",
      "\n"
     ]
    },
    {
     "name": "stderr",
     "output_type": "stream",
     "text": [
      "  4%|4         | 3/72 [00:03<01:45,  1.53s/it]"
     ]
    },
    {
     "name": "stdout",
     "output_type": "stream",
     "text": [
      "<class 'list'>\n",
      "{53940: {'songs': [336475, 302868, 301494, 207173, 368170, 106165, 395416, 439647, 165281, 605152, 137733], 'tags': [], 'title': ''}}\n",
      "total intersect songs : 0\n",
      "total intersect tags : 0\n"
     ]
    },
    {
     "name": "stderr",
     "output_type": "stream",
     "text": [
      "  4%|4         | 3/72 [00:03<01:26,  1.26s/it]"
     ]
    },
    {
     "name": "stdout",
     "output_type": "stream",
     "text": [
      "<class 'list'>\n",
      "{17001: {'songs': [], 'tags': [], 'title': '드라마 보다 더 빛나는 OST'}}\n",
      "total intersect songs : 0\n",
      "total intersect tags : 0\n"
     ]
    },
    {
     "name": "stderr",
     "output_type": "stream",
     "text": [
      "  4%|4         | 3/72 [00:03<01:34,  1.36s/it]"
     ]
    },
    {
     "name": "stdout",
     "output_type": "stream",
     "text": [
      "<class 'list'>\n",
      "{30601: {'songs': [], 'tags': [], 'title': '외로움 더해주는 애잔한 실내악'}}\n",
      "total intersect songs : 0\n",
      "total intersect tags : 0\n"
     ]
    },
    {
     "name": "stderr",
     "output_type": "stream",
     "text": [
      "  6%|5         | 4/72 [00:03<01:07,  1.01it/s]"
     ]
    },
    {
     "name": "stdout",
     "output_type": "stream",
     "text": [
      "<class 'list'>\n",
      "<class 'list'>{99738: {'songs': [], 'tags': [], 'title': '2015 서태지 전국투어'}}\n",
      "total intersect songs : 0\n",
      "total intersect tags : 0\n",
      "\n"
     ]
    },
    {
     "name": "stderr",
     "output_type": "stream",
     "text": [
      "  7%|6         | 5/72 [00:04<01:11,  1.06s/it]"
     ]
    },
    {
     "name": "stdout",
     "output_type": "stream",
     "text": [
      "{84592: {'songs': [485126, 174644, 317069, 335517, 379603, 38668, 690737, 462088, 146449, 7165, 473091, 596163, 13991, 389776, 411147, 267945, 226834, 334552, 201561, 269548, 59273, 68363, 196873, 587960, 406298, 189173, 550376, 386444, 275579, 584396, 315406, 204953, 30568, 467971, 181708, 505057, 331447, 274042, 54014, 697790, 291378, 49909, 648879, 246134, 55199, 293286, 278155, 553488, 20287, 677267, 604987, 348411, 222632, 155039, 37604, 390549, 347620, 310918, 480321, 108455, 211803, 566714, 126119, 615796, 12152, 15093, 36715, 76843, 365320, 367178, 204640, 345059, 275818, 526490, 121031, 33068, 278318, 476654, 44019, 610527, 361985, 378485, 117235, 688187], 'tags': [], 'title': ''}}\n",
      "total intersect songs : 0\n",
      "total intersect tags : 0\n"
     ]
    },
    {
     "name": "stderr",
     "output_type": "stream",
     "text": [
      "  6%|5         | 4/72 [00:04<01:18,  1.16s/it]"
     ]
    },
    {
     "name": "stdout",
     "output_type": "stream",
     "text": [
      "<class 'list'>\n",
      "{132820: {'songs': [480421, 383585, 549561, 389614, 545721, 669645, 102050, 315611, 596454, 184321, 126368, 314344, 628258, 685316, 218412, 679203, 303712, 140444, 99504, 563828, 93333, 695842, 515869, 84117, 404822, 599576, 212304, 260220, 182914, 382823, 448698, 77059, 84748, 50992, 405255, 160289, 120433, 639991, 568967, 556394, 256691, 183395, 209460, 696010, 528985, 645103, 85278, 360131, 115249, 678042, 283351, 524728, 477798, 145646, 498266, 246743, 644913, 371695, 466352, 581819, 324755, 254595, 132247, 669062, 174736, 40051, 84033, 661453, 593202, 634207, 548537, 61954], 'tags': [], 'title': ''}}\n",
      "total intersect songs : 0\n",
      "total intersect tags : 0\n"
     ]
    },
    {
     "name": "stderr",
     "output_type": "stream",
     "text": [
      "  4%|4         | 3/72 [00:04<02:02,  1.78s/it]"
     ]
    },
    {
     "name": "stdout",
     "output_type": "stream",
     "text": [
      "<class 'list'>\n",
      "{71411: {'songs': [564377, 476728, 451946, 282618, 163344, 38929], 'tags': [], 'title': ''}}\n",
      "total intersect songs : 0\n",
      "total intersect tags : 0\n"
     ]
    },
    {
     "name": "stderr",
     "output_type": "stream",
     "text": [
      "  6%|5         | 4/72 [00:04<01:23,  1.22s/it]"
     ]
    },
    {
     "name": "stdout",
     "output_type": "stream",
     "text": [
      "<class 'list'>\n",
      "{111069: {'songs': [637051, 611706, 507970, 284696, 238794, 476835, 510401, 182165, 638722, 415764, 647470, 69370, 634953, 340253, 537538, 214078, 637811, 369157, 503561, 682575, 53031, 338622, 554963, 579592, 81213, 645896, 381487, 532191, 601589, 629316, 75010, 657423, 238725, 302646, 697078, 287003, 646162, 440848, 613866, 289669, 558115, 72756, 505374, 290766, 399827], 'tags': [], 'title': ''}}\n",
      "total intersect songs : 0\n",
      "total intersect tags : 0\n",
      "<class 'list'>"
     ]
    },
    {
     "name": "stderr",
     "output_type": "stream",
     "text": [
      "  6%|5         | 4/72 [00:04<01:36,  1.41s/it]"
     ]
    },
    {
     "name": "stdout",
     "output_type": "stream",
     "text": [
      "\n",
      "{123845: {'songs': [288196, 350259, 341309, 198186, 556773, 26376, 120801, 415036, 210472, 672459, 6733, 12649, 628180, 588130], 'tags': ['비오는날', '카페', '매장', '드라이브', '슬픈'], 'title': ''}}\n",
      "total intersect songs : 0\n",
      "total intersect tags : 0\n"
     ]
    },
    {
     "name": "stderr",
     "output_type": "stream",
     "text": [
      "  7%|6         | 5/72 [00:04<01:06,  1.00it/s]"
     ]
    },
    {
     "name": "stdout",
     "output_type": "stream",
     "text": [
      "<class 'list'>\n",
      "{90998: {'songs': [297526, 475347, 192360, 309785, 633582], 'tags': ['RonnieWood', '롤링스톤즈', 'Rock', '록'], 'title': ''}}\n",
      "total intersect songs : 0\n",
      "total intersect tags : 0\n"
     ]
    },
    {
     "name": "stderr",
     "output_type": "stream",
     "text": [
      "  7%|6         | 5/72 [00:04<01:03,  1.06it/s]"
     ]
    },
    {
     "name": "stdout",
     "output_type": "stream",
     "text": [
      "<class 'list'>\n",
      "{94405: {'songs': [625661, 295827, 552725, 92175, 338972, 348499, 533572, 309714, 673049], 'tags': ['힙합'], 'title': ''}}\n",
      "total intersect songs : 0\n",
      "total intersect tags : 0\n"
     ]
    },
    {
     "name": "stderr",
     "output_type": "stream",
     "text": [
      "  8%|8         | 6/72 [00:04<00:59,  1.12it/s]"
     ]
    },
    {
     "name": "stdout",
     "output_type": "stream",
     "text": [
      "<class 'list'>\n",
      "{134771: {'songs': [445317, 35591, 494577, 704885, 310654, 418136, 557016, 490697, 707756, 629490, 430153, 53745, 33919, 599446, 446672, 274407, 33851, 14578, 462352, 40204, 348400, 532405, 575257, 576953, 548878, 237047, 284691, 200812, 57864, 292542, 268361, 207323, 180476, 361553, 314925, 218774, 163588, 668339, 221504, 68414, 606542, 319626, 292136, 572578, 75192, 336906, 502057, 218731, 108226, 570910, 448131], 'tags': [], 'title': ''}}\n",
      "total intersect songs : 0\n",
      "total intersect tags : 0\n"
     ]
    },
    {
     "name": "stderr",
     "output_type": "stream",
     "text": [
      "  7%|6         | 5/72 [00:05<01:11,  1.06s/it]"
     ]
    },
    {
     "name": "stdout",
     "output_type": "stream",
     "text": [
      "<class 'list'>\n",
      "{45655: {'songs': [561989, 50710, 11862, 212356, 76758, 143432, 291561, 379112, 408835, 164906, 371344, 625416, 575006, 592295, 49911, 93405, 250571, 77781, 360197, 572700, 214048, 704752, 363277, 563620, 376435, 150510, 661253, 112418, 81867, 57518, 517943, 420365, 255937, 381693, 334193, 87899, 116564, 56024, 321296, 473514, 618368, 701801, 368214, 34071, 480832, 505443, 66214, 266399, 430344, 405772, 428898, 40025, 140867, 161176, 461951, 563111, 146093, 291668, 211157, 76751, 25048, 79730, 571049, 305435, 562644, 322782, 590659, 547256, 512396, 267200, 495388, 593332, 198945, 486784, 497132, 41328, 577275, 484934, 510791, 557087, 538860, 210869, 366049, 138952, 560203, 496887, 547427, 94451, 290776, 175418, 638702, 346967, 624673, 252000, 390973, 383011, 47106, 301280, 267016, 257298], 'tags': ['휴식'], 'title': ''}}\n",
      "total intersect songs : 0\n",
      "total intersect tags : 0\n"
     ]
    },
    {
     "name": "stderr",
     "output_type": "stream",
     "text": [
      "  6%|5         | 4/72 [00:05<01:38,  1.45s/it]"
     ]
    },
    {
     "name": "stdout",
     "output_type": "stream",
     "text": [
      "<class 'list'>\n",
      "{122190: {'songs': [478879, 412715, 607798, 356208, 126170, 573633, 89235, 168361, 670841, 655239, 14980, 580003, 642027, 127664, 242510, 582071, 479952, 372457, 521992, 378649, 157427, 30298, 562390, 695894, 394669, 396351, 628631, 663765, 608997, 661467, 422809, 275510, 270821, 699273, 388362, 466425, 275332], 'tags': [], 'title': ''}}\n",
      "total intersect songs : 0\n",
      "total intersect tags : 0\n"
     ]
    },
    {
     "name": "stderr",
     "output_type": "stream",
     "text": [
      "  8%|8         | 6/72 [00:05<00:53,  1.24it/s]"
     ]
    },
    {
     "name": "stdout",
     "output_type": "stream",
     "text": [
      "<class 'list'>\n",
      "{130408: {'songs': [283138, 67741, 524956, 617900, 652729, 665543, 196664, 543820, 177284, 64052, 221841, 641599, 75971, 186553, 376358, 675500, 346379, 634330, 388758, 132689, 623700, 653071, 548735, 680798, 241272, 698865, 73547, 678936, 594646, 239523, 457466, 3156, 280830, 287925, 473756, 292825, 485957, 333595, 375431, 698250, 273586, 531820, 505036, 377243, 405511, 574274, 367361, 147228, 244808, 653800, 323179, 443914, 564336, 228031, 308414, 133330, 551949, 318576, 411756, 52904], 'tags': ['추억'], 'title': ''}}\n",
      "total intersect songs : 0\n",
      "total intersect tags : 0\n"
     ]
    },
    {
     "name": "stderr",
     "output_type": "stream",
     "text": [
      "  6%|5         | 4/72 [00:05<01:31,  1.34s/it]"
     ]
    },
    {
     "name": "stdout",
     "output_type": "stream",
     "text": [
      "<class 'list'>\n",
      "{118108: {'songs': [399410, 15667, 106417, 624607, 160024, 271742, 187968, 255344, 172613, 90951, 681345, 97852, 614494, 172445, 173362, 248226, 512447, 540401, 446903, 259820, 500761, 671935, 199162, 651014, 70595], 'tags': ['tv별책부록', '드라마'], 'title': ''}}\n",
      "total intersect songs : 0\n",
      "total intersect tags : 0\n"
     ]
    },
    {
     "name": "stderr",
     "output_type": "stream",
     "text": [
      "  6%|5         | 4/72 [00:05<01:45,  1.55s/it]"
     ]
    },
    {
     "name": "stdout",
     "output_type": "stream",
     "text": [
      "<class 'list'>\n",
      "{112398: {'songs': [], 'tags': ['휴식'], 'title': '그냥 듣기좋은 가요모음'}}\n",
      "total intersect songs : 0\n",
      "total intersect tags : 0\n"
     ]
    },
    {
     "name": "stderr",
     "output_type": "stream",
     "text": [
      "  7%|6         | 5/72 [00:05<01:16,  1.15s/it]"
     ]
    },
    {
     "name": "stdout",
     "output_type": "stream",
     "text": [
      "<class 'list'>\n",
      "{101012: {'songs': [393345, 670098, 319185, 499791, 448843, 148432, 538184, 57784, 696511, 291349, 96624, 32685, 150190, 214174, 328487, 109158, 245323, 331939], 'tags': ['위로가필요할때', '워십', '믿음'], 'title': ''}}\n",
      "total intersect songs : 0\n",
      "total intersect tags : 0\n"
     ]
    },
    {
     "name": "stderr",
     "output_type": "stream",
     "text": [
      "  8%|8         | 6/72 [00:05<01:06,  1.00s/it]"
     ]
    },
    {
     "name": "stdout",
     "output_type": "stream",
     "text": [
      "<class 'list'>\n",
      "{84430: {'songs': [108711, 550014, 72222, 706978, 623652, 133178, 586304, 325229], 'tags': [], 'title': ''}}\n",
      "total intersect songs : 0\n",
      "total intersect tags : 0\n"
     ]
    },
    {
     "name": "stderr",
     "output_type": "stream",
     "text": [
      "  7%|6         | 5/72 [00:05<01:25,  1.28s/it]"
     ]
    },
    {
     "name": "stdout",
     "output_type": "stream",
     "text": [
      "<class 'list'>\n",
      "{47157: {'songs': [], 'tags': ['매장음악'], 'title': '기분 좋게 녹아드는 리듬 오늘은 내가 주인공 라네'}}\n",
      "total intersect songs : 0\n",
      "total intersect tags : 0\n"
     ]
    },
    {
     "name": "stderr",
     "output_type": "stream",
     "text": [
      " 10%|9         | 7/72 [00:06<01:02,  1.04it/s]"
     ]
    },
    {
     "name": "stdout",
     "output_type": "stream",
     "text": [
      "<class 'list'>\n",
      "{3242: {'songs': [269300, 355605, 3784, 472287, 505186, 311866, 266324, 2992, 10573, 21842, 334372, 120895, 706438], 'tags': ['원곡', '비교'], 'title': ''}}\n",
      "total intersect songs : 0\n",
      "<class 'list'>total intersect tags : 0\n",
      "\n",
      "{62504: {'songs': [517893, 226670, 635902, 662282, 623033, 669096, 447675, 112399, 347715, 10445, 217311, 12851, 345728, 691012, 600574, 622775, 656851, 74551, 318487, 55791, 468494, 117323, 422176, 409911, 465958, 392893, 62574, 175507], 'tags': [], 'title': ''}}"
     ]
    },
    {
     "name": "stderr",
     "output_type": "stream",
     "text": [
      " 10%|9         | 7/72 [00:06<00:48,  1.35it/s]"
     ]
    },
    {
     "name": "stdout",
     "output_type": "stream",
     "text": [
      "\n",
      "total intersect songs : 0\n",
      "total intersect tags : 0\n"
     ]
    },
    {
     "name": "stderr",
     "output_type": "stream",
     "text": [
      "  7%|6         | 5/72 [00:06<01:19,  1.18s/it]"
     ]
    },
    {
     "name": "stdout",
     "output_type": "stream",
     "text": [
      "<class 'list'>\n",
      "{130786: {'songs': [], 'tags': [], 'title': '\"이별 후에 들으면 더 슬픈 감성 발라드 인디 노래\"'}}\n",
      "total intersect songs : 0\n",
      "total intersect tags : 0\n"
     ]
    },
    {
     "name": "stderr",
     "output_type": "stream",
     "text": [
      " 10%|9         | 7/72 [00:06<01:01,  1.05it/s]"
     ]
    },
    {
     "name": "stdout",
     "output_type": "stream",
     "text": [
      "<class 'list'>\n",
      "{145234: {'songs': [208221, 339321, 502354, 500720, 280420], 'tags': ['스트레스'], 'title': ''}}\n",
      "total intersect songs : 0\n",
      "total intersect tags : 0\n"
     ]
    },
    {
     "name": "stderr",
     "output_type": "stream",
     "text": [
      "  7%|6         | 5/72 [00:06<01:32,  1.38s/it]"
     ]
    },
    {
     "name": "stdout",
     "output_type": "stream",
     "text": [
      "<class 'list'>\n",
      "{125233: {'songs': [563649, 699860, 9050, 386412, 640508, 65540, 560163, 150522], 'tags': [], 'title': ''}}\n",
      "total intersect songs : 0\n",
      "total intersect tags : 0\n"
     ]
    },
    {
     "name": "stderr",
     "output_type": "stream",
     "text": [
      "  8%|8         | 6/72 [00:06<01:04,  1.03it/s]"
     ]
    },
    {
     "name": "stdout",
     "output_type": "stream",
     "text": [
      "<class 'list'>\n",
      "{7509: {'songs': [238618, 163073, 563428, 607753, 556668, 293236, 63809, 465471, 359834, 354249, 288777, 272786, 16770, 582384, 109431, 618052, 30712, 41795, 705759, 275870, 13542, 63117, 237407, 129545, 692702, 314499, 341910, 490279, 403481, 650494, 589242, 585469, 122948, 21995, 409563, 333408, 200718, 281362, 572917, 284211, 365831, 426243, 573750, 649946, 495846, 398093, 503960, 433872, 258393, 474257, 21758, 98202, 671974, 300305, 707750, 354989, 120276, 57612, 197207, 545585, 515135, 92933, 316445, 94659, 516143, 40442, 308189, 186186, 235900, 608975, 120226, 15182, 48902, 701606, 132247, 651668, 440911, 57805, 41567, 554106, 282007, 20507, 459666, 301967, 434621, 173846, 25012, 581540, 614109, 128511, 565977, 590012, 671376, 175095, 625812, 559758], 'tags': [], 'title': ''}}\n",
      "total intersect songs : 0\n",
      "total intersect tags : 0\n"
     ]
    },
    {
     "name": "stderr",
     "output_type": "stream",
     "text": [
      "  8%|8         | 6/72 [00:06<01:23,  1.27s/it]"
     ]
    },
    {
     "name": "stdout",
     "output_type": "stream",
     "text": [
      "<class 'list'>\n",
      "{110254: {'songs': [348200, 432305, 232579, 198510, 167172, 123465, 117470, 688345, 140867, 132994, 618052], 'tags': ['힐링', '산책'], 'title': ''}}\n",
      "total intersect songs : 0<class 'list'>\n",
      "\n",
      "total intersect tags : 0{13924: {'songs': [221119, 510051, 131128, 8020, 270646, 123669, 452494, 581672, 526169, 528643, 290778, 429331, 460237, 171131, 37083, 559552, 215983, 617733, 236965, 241321, 455403, 185976, 682337, 21749, 194986, 399114, 465711, 359429, 700428, 58488, 427940, 632024, 30363, 502204, 131261, 682314, 296719, 613257, 62970, 680732], 'tags': [], 'title': ''}}\n",
      "\n"
     ]
    },
    {
     "name": "stderr",
     "output_type": "stream",
     "text": [
      "  8%|8         | 6/72 [00:07<01:19,  1.21s/it]"
     ]
    },
    {
     "name": "stdout",
     "output_type": "stream",
     "text": [
      "total intersect songs : 0\n",
      "total intersect tags : 0\n"
     ]
    },
    {
     "name": "stderr",
     "output_type": "stream",
     "text": [
      " 10%|9         | 7/72 [00:07<00:59,  1.08it/s]"
     ]
    },
    {
     "name": "stdout",
     "output_type": "stream",
     "text": [
      "<class 'list'>\n",
      "{2010: {'songs': [407073, 108512, 628463, 296114, 429229, 453206, 372899, 301711, 689775, 609835, 12557], 'tags': ['힐링'], 'title': ''}}\n",
      "total intersect songs : 0\n",
      "total intersect tags : 0\n"
     ]
    },
    {
     "name": "stderr",
     "output_type": "stream",
     "text": [
      " 11%|#1        | 8/72 [00:07<01:03,  1.01it/s]"
     ]
    },
    {
     "name": "stdout",
     "output_type": "stream",
     "text": [
      "<class 'list'>\n",
      "{108309: {'songs': [82263, 154722, 509663, 198209, 234000, 349588, 696560, 263388, 45967, 94141, 130680, 412198, 212092, 331866], 'tags': ['피아노'], 'title': ''}}\n",
      "total intersect songs : 0\n",
      "total intersect tags : 0\n"
     ]
    },
    {
     "name": "stderr",
     "output_type": "stream",
     "text": [
      " 11%|#1        | 8/72 [00:07<00:56,  1.14it/s]"
     ]
    },
    {
     "name": "stdout",
     "output_type": "stream",
     "text": [
      "<class 'list'>\n",
      "{108911: {'songs': [394023, 357775, 107728, 387546, 472450, 169144, 58584, 125663, 226175, 327631, 180080, 432038, 676906], 'tags': ['해리포터', '가을', '여행', '영화삽입곡', '영화'], 'title': ''}}\n",
      "total intersect songs : 0\n",
      "total intersect tags : 0\n"
     ]
    },
    {
     "name": "stderr",
     "output_type": "stream",
     "text": [
      "  8%|8         | 6/72 [00:07<01:27,  1.32s/it]"
     ]
    },
    {
     "name": "stdout",
     "output_type": "stream",
     "text": [
      "<class 'list'>\n",
      "{30130: {'songs': [168528, 453419, 202149, 578086, 141008, 19384, 341760, 495814, 296448, 314302, 58773, 706031], 'tags': ['ASMR', '자장가'], 'title': ''}}\n",
      "total intersect songs : 0\n",
      "total intersect tags : 0\n"
     ]
    },
    {
     "name": "stderr",
     "output_type": "stream",
     "text": [
      " 10%|9         | 7/72 [00:07<01:05,  1.02s/it]"
     ]
    },
    {
     "name": "stdout",
     "output_type": "stream",
     "text": [
      "<class 'list'>\n",
      "{125790: {'songs': [620754, 118150, 278746, 100988, 346169, 446402, 79173, 90640, 360025, 110102, 141248, 440794, 315273, 50411, 578529], 'tags': [], 'title': ''}}\n",
      "total intersect songs : 0\n",
      "total intersect tags : 0\n"
     ]
    },
    {
     "name": "stderr",
     "output_type": "stream",
     "text": [
      "  8%|8         | 6/72 [00:07<01:27,  1.33s/it]"
     ]
    },
    {
     "name": "stdout",
     "output_type": "stream",
     "text": [
      "<class 'list'>\n",
      "{64698: {'songs': [645489, 482903, 348092, 130728, 142952, 83358, 364263, 209068, 611737], 'tags': ['아이돌탐구생활', '아이돌'], 'title': ''}}\n",
      "total intersect songs : 0\n",
      "total intersect tags : 0\n"
     ]
    },
    {
     "name": "stderr",
     "output_type": "stream",
     "text": [
      " 11%|#1        | 8/72 [00:07<01:08,  1.07s/it]"
     ]
    },
    {
     "name": "stdout",
     "output_type": "stream",
     "text": [
      "<class 'list'>\n",
      "{83103: {'songs': [335872, 923, 546551, 142758, 372891, 295322, 83733, 369621], 'tags': [], 'title': ''}}\n",
      "total intersect songs : 0\n",
      "total intersect tags : 0\n"
     ]
    },
    {
     "name": "stderr",
     "output_type": "stream",
     "text": [
      " 12%|#2        | 9/72 [00:08<01:00,  1.05it/s]"
     ]
    },
    {
     "name": "stdout",
     "output_type": "stream",
     "text": [
      "<class 'list'>\n",
      "{126433: {'songs': [554000, 318920, 576703, 318576, 623700, 52904, 183579, 279748, 575194, 114119, 262081, 696547, 680852, 542886, 515972, 480737, 249774, 77489, 626654, 166676, 323931, 707098, 509777, 618849, 455945, 537620, 120291, 100899, 123742, 32330, 13741, 704752, 166958, 322829, 699557, 603633, 378434], 'tags': ['운동'], 'title': ''}}\n",
      "total intersect songs : 0\n",
      "total intersect tags : 0\n"
     ]
    },
    {
     "name": "stderr",
     "output_type": "stream",
     "text": [
      " 10%|9         | 7/72 [00:08<01:14,  1.14s/it]"
     ]
    },
    {
     "name": "stdout",
     "output_type": "stream",
     "text": [
      "<class 'list'>\n",
      "{11818: {'songs': [407825, 209088, 297747, 390819, 122589, 484708, 372058, 555105, 204473, 672581], 'tags': ['카페', '명상', '연주', '힐링'], 'title': ''}}\n",
      "total intersect songs : 0\n",
      "total intersect tags : 0\n"
     ]
    },
    {
     "name": "stderr",
     "output_type": "stream",
     "text": [
      " 11%|#1        | 8/72 [00:08<01:06,  1.03s/it]"
     ]
    },
    {
     "name": "stdout",
     "output_type": "stream",
     "text": [
      "<class 'list'>\n",
      "{36923: {'songs': [], 'tags': ['스트레스'], 'title': '당찬 아티스트들의 Pop:)!!'}}\n",
      "total intersect songs : 0\n",
      "total intersect tags : 0\n"
     ]
    },
    {
     "name": "stderr",
     "output_type": "stream",
     "text": [
      " 11%|#1        | 8/72 [00:08<00:59,  1.07it/s]"
     ]
    },
    {
     "name": "stdout",
     "output_type": "stream",
     "text": [
      "<class 'list'>\n",
      "{23193: {'songs': [19336, 26334, 562930, 350537, 126083], 'tags': ['정서발달'], 'title': ''}}\n",
      "total intersect songs : 0\n",
      "total intersect tags : 0\n",
      "<class 'list'>\n",
      "{149363: {'songs': [300534, 13815, 71209, 507358, 169413, 391058, 380832, 85283, 492678, 646060, 435515, 200453, 316184, 356797, 339037, 39823, 576280, 618004, 273863, 497403, 627534, 292681, 653185, 512664, 1215, 280279, 97735, 322102, 140833, 587713, 438929, 365264, 370250, 313879, 381922, 494120, 525935, 487617, 88471, 269370, 349998, 72093, 335081, 551949, 523560, 583716, 587832, 154298, 533521, 699062, 357860, 201852, 692971, 246531, 589520, 140837, 107531, 200098, 608129, 548194, 154858, 392505, 57304, 654757, 269384, 80027, 211158, 316600, 614325, 687196, 669701, 624111, 152913, 246461, 668274, 271565, 197045, 380843, 90166], 'tags': ['명곡', 'OST', '삽입곡', '기분전환'], 'title': ''}}\n",
      "total intersect songs : 0\n",
      "total intersect tags : 0\n"
     ]
    },
    {
     "name": "stderr",
     "output_type": "stream",
     "text": [
      " 10%|9         | 7/72 [00:08<01:25,  1.32s/it]"
     ]
    },
    {
     "name": "stdout",
     "output_type": "stream",
     "text": [
      "<class 'list'>\n",
      "{91205: {'songs': [229039, 219025, 374994, 10701, 112832, 554524], 'tags': ['추억'], 'title': ''}}\n",
      "total intersect songs : 0\n",
      "total intersect tags : 0\n"
     ]
    },
    {
     "name": "stderr",
     "output_type": "stream",
     "text": [
      " 12%|#2        | 9/72 [00:08<01:04,  1.03s/it]"
     ]
    },
    {
     "name": "stdout",
     "output_type": "stream",
     "text": [
      "<class 'list'>\n",
      "{147551: {'songs': [173686, 69089, 608750, 487074, 316956, 370102, 371698, 140425, 242877, 258768, 233157, 567650, 152422, 108377, 53835, 625900, 132117, 621690, 140749, 609419, 548026, 213658], 'tags': ['이별', '회상'], 'title': ''}}\n",
      "total intersect songs : 0\n",
      "total intersect tags : 0\n"
     ]
    },
    {
     "name": "stderr",
     "output_type": "stream",
     "text": [
      " 12%|#2        | 9/72 [00:08<01:07,  1.08s/it]"
     ]
    },
    {
     "name": "stdout",
     "output_type": "stream",
     "text": [
      "<class 'list'>\n",
      "{125621: {'songs': [582137, 659359, 44200, 628200, 123465, 475477, 407235, 76509, 322918, 167241, 617659, 443082, 99265, 196493], 'tags': [], 'title': ''}}\n",
      "total intersect songs : 0\n",
      "total intersect tags : 0\n"
     ]
    },
    {
     "name": "stderr",
     "output_type": "stream",
     "text": [
      " 10%|9         | 7/72 [00:09<01:25,  1.31s/it]"
     ]
    },
    {
     "name": "stdout",
     "output_type": "stream",
     "text": [
      "<class 'list'>\n",
      "{13050: {'songs': [282407, 698250, 553171, 572947, 675115, 296739, 197297, 294011, 86478, 627616, 553705, 622615, 70911, 117595, 707167, 354383, 28993, 164522, 169984, 411686, 413314, 273178, 247512, 298962, 62292, 696300, 82653, 264505, 201297, 466515, 13198], 'tags': ['슬픔'], 'title': ''}}\n",
      "total intersect songs : 0\n",
      "total intersect tags : 0\n"
     ]
    },
    {
     "name": "stderr",
     "output_type": "stream",
     "text": [
      " 11%|#1        | 8/72 [00:09<01:12,  1.13s/it]"
     ]
    },
    {
     "name": "stdout",
     "output_type": "stream",
     "text": [
      "<class 'list'>\n",
      "{116211: {'songs': [25189, 514773, 666900, 257169, 648116, 624810, 61596, 311693, 221745, 546651, 219128, 211001, 590798, 515016, 697975, 237477, 700890, 520042, 274165, 292441, 259931, 214318, 324208, 118420, 420730, 549966, 212568, 663380, 689360, 166975, 99752, 621178, 63739, 468439, 293236, 407845, 606307], 'tags': [], 'title': ''}}\n",
      "total intersect songs : 0\n",
      "total intersect tags : 0\n"
     ]
    },
    {
     "name": "stderr",
     "output_type": "stream",
     "text": [
      " 12%|#2        | 9/72 [00:09<01:05,  1.04s/it]"
     ]
    },
    {
     "name": "stdout",
     "output_type": "stream",
     "text": [
      "<class 'list'>\n",
      "{131139: {'songs': [373037, 35117, 663150, 39725, 594592, 142758, 555746], 'tags': [], 'title': ''}}\n",
      "total intersect songs : 0\n",
      "total intersect tags : 0\n"
     ]
    },
    {
     "name": "stderr",
     "output_type": "stream",
     "text": [
      " 14%|#3        | 10/72 [00:09<01:04,  1.03s/it]"
     ]
    },
    {
     "name": "stdout",
     "output_type": "stream",
     "text": [
      "<class 'list'>\n",
      "{36759: {'songs': [371945, 541212, 660013, 314578, 391199, 308567, 129752, 164906, 106417, 76888, 32120, 197197, 546862, 234253, 215424, 401870], 'tags': ['기분전환'], 'title': ''}}\n",
      "total intersect songs : 0\n",
      "total intersect tags : 0\n"
     ]
    },
    {
     "name": "stderr",
     "output_type": "stream",
     "text": [
      " 14%|#3        | 10/72 [00:09<01:14,  1.21s/it]"
     ]
    },
    {
     "name": "stdout",
     "output_type": "stream",
     "text": [
      "<class 'list'>\n",
      "{113318: {'songs': [], 'tags': ['힙합', '알앤비'], 'title': '내가 들으려고 올리는 노래'}}\n",
      "total intersect songs : 0\n",
      "total intersect tags : 0\n"
     ]
    },
    {
     "name": "stderr",
     "output_type": "stream",
     "text": [
      " 11%|#1        | 8/72 [00:09<01:14,  1.16s/it]"
     ]
    },
    {
     "name": "stdout",
     "output_type": "stream",
     "text": [
      "<class 'list'>\n",
      "{141419: {'songs': [], 'tags': [], 'title': '《숑숑》추억.2006~2010년 앙꼬!\"'}}\n",
      "total intersect songs : 0\n",
      "total intersect tags : 0\n"
     ]
    },
    {
     "name": "stderr",
     "output_type": "stream",
     "text": [
      " 12%|#2        | 9/72 [00:09<01:04,  1.02s/it]"
     ]
    },
    {
     "name": "stdout",
     "output_type": "stream",
     "text": [
      "<class 'list'>\n",
      "{44978: {'songs': [560878, 463450, 677121, 515732, 447206, 298233, 99850, 411762, 117465, 269754, 367134], 'tags': [], 'title': ''}}\n",
      "total intersect songs : 0\n",
      "total intersect tags : 0\n"
     ]
    },
    {
     "name": "stderr",
     "output_type": "stream",
     "text": [
      " 15%|#5        | 11/72 [00:09<00:48,  1.25it/s]"
     ]
    },
    {
     "name": "stdout",
     "output_type": "stream",
     "text": [
      "<class 'list'>\n",
      "{73177: {'songs': [], 'tags': ['이별'], 'title': '다른 사랑을 시작한 그대에게'}}\n",
      "total intersect songs : 0\n",
      "total intersect tags : 0\n"
     ]
    },
    {
     "name": "stderr",
     "output_type": "stream",
     "text": [
      " 14%|#3        | 10/72 [00:09<00:54,  1.14it/s]"
     ]
    },
    {
     "name": "stdout",
     "output_type": "stream",
     "text": [
      "<class 'list'>\n",
      "{123503: {'songs': [517741, 591239, 2748, 653176, 372916, 302018, 258244, 566522, 165523], 'tags': [], 'title': ''}}\n",
      "total intersect songs : 0\n",
      "total intersect tags : 0\n"
     ]
    },
    {
     "name": "stderr",
     "output_type": "stream",
     "text": [
      " 14%|#3        | 10/72 [00:10<01:09,  1.11s/it]"
     ]
    },
    {
     "name": "stdout",
     "output_type": "stream",
     "text": [
      "<class 'list'>\n",
      "{106545: {'songs': [378662, 433020, 15124, 137421, 135506, 681996, 146668, 567438, 14628], 'tags': [], 'title': ''}}\n",
      "total intersect songs : 0\n",
      "total intersect tags : 0\n"
     ]
    },
    {
     "name": "stderr",
     "output_type": "stream",
     "text": [
      " 11%|#1        | 8/72 [00:10<01:31,  1.44s/it]"
     ]
    },
    {
     "name": "stdout",
     "output_type": "stream",
     "text": [
      "<class 'list'>\n",
      "{22519: {'songs': [], 'tags': ['차트', '댄스', 'EDM'], 'title': '차트 인기로 검증된, 믿고 듣는 커머셜 EDM!'}}\n",
      "total intersect songs : 0\n",
      "total intersect tags : 0\n"
     ]
    },
    {
     "name": "stderr",
     "output_type": "stream",
     "text": [
      " 14%|#3        | 10/72 [00:10<01:04,  1.03s/it]"
     ]
    },
    {
     "name": "stdout",
     "output_type": "stream",
     "text": [
      "<class 'list'>\n",
      "{80736: {'songs': [], 'tags': [], 'title': 'J-pop'}}\n",
      "total intersect songs : 0\n",
      "total intersect tags : 0\n"
     ]
    },
    {
     "name": "stderr",
     "output_type": "stream",
     "text": [
      " 12%|#2        | 9/72 [00:10<01:03,  1.01s/it]"
     ]
    },
    {
     "name": "stdout",
     "output_type": "stream",
     "text": [
      "<class 'list'>\n",
      "{54603: {'songs': [93433, 472270, 675675, 22242, 91260, 245480, 629097, 661990, 120589, 151023, 587141, 188226, 8916, 573956, 495069, 74190, 235900, 635501, 705049, 162870, 300961, 666105, 274608, 169001, 677431, 45421, 289908, 581806, 651150, 666160, 373317, 213755, 541818, 39744, 445961, 625608], 'tags': [], 'title': ''}}\n",
      "total intersect songs : 0\n",
      "total intersect tags : 0\n"
     ]
    },
    {
     "name": "stderr",
     "output_type": "stream",
     "text": [
      " 14%|#3        | 10/72 [00:10<01:01,  1.01it/s]"
     ]
    },
    {
     "name": "stdout",
     "output_type": "stream",
     "text": [
      "<class 'list'>\n",
      "{61368: {'songs': [592424, 95027, 542228, 138506, 655736, 616260, 555029, 163098, 113618, 390576, 107586, 361869], 'tags': [], 'title': ''}}\n",
      "total intersect songs : 0\n",
      "total intersect tags : 0\n"
     ]
    },
    {
     "name": "stderr",
     "output_type": "stream",
     "text": [
      " 15%|#5        | 11/72 [00:10<01:12,  1.19s/it]"
     ]
    },
    {
     "name": "stdout",
     "output_type": "stream",
     "text": [
      "<class 'list'>\n",
      "{103167: {'songs': [], 'tags': [], 'title': '오마쥬, 스페이스 파파, 더 루스터스'}}\n",
      "total intersect songs : 0\n",
      "total intersect tags : 0\n"
     ]
    },
    {
     "name": "stderr",
     "output_type": "stream",
     "text": [
      " 15%|#5        | 11/72 [00:10<00:55,  1.09it/s]"
     ]
    },
    {
     "name": "stdout",
     "output_type": "stream",
     "text": [
      "<class 'list'>\n",
      "{134313: {'songs': [], 'tags': ['첼로', '피아노', '태아', '어린이', '가야금'], 'title': '우리 아이가 좋아하는 동요 모음(태교,임산부,태아,가야금,첼로,피아노)'}}\n",
      "total intersect songs : 0\n",
      "total intersect tags : 0\n"
     ]
    },
    {
     "name": "stderr",
     "output_type": "stream",
     "text": [
      " 15%|#5        | 11/72 [00:11<01:03,  1.04s/it]"
     ]
    },
    {
     "name": "stdout",
     "output_type": "stream",
     "text": [
      "<class 'list'>\n",
      "{141957: {'songs': [581843, 78983, 103189, 575359, 96545, 620970, 157840, 149760, 65557, 38036], 'tags': ['시원하게', '여름'], 'title': ''}}\n",
      "total intersect songs : 0\n",
      "total intersect tags : 0\n"
     ]
    },
    {
     "name": "stderr",
     "output_type": "stream",
     "text": [
      " 12%|#2        | 9/72 [00:11<01:21,  1.29s/it]"
     ]
    },
    {
     "name": "stdout",
     "output_type": "stream",
     "text": [
      "<class 'list'>\n",
      "{113958: {'songs': [576186, 442770, 351342, 475842, 540200, 470535, 671898, 619194, 179250, 690940, 572389, 507836, 138533, 611297, 358462, 127089, 17179, 453616], 'tags': [], 'title': ''}}\n",
      "total intersect songs : 0\n",
      "total intersect tags : 0\n"
     ]
    },
    {
     "name": "stderr",
     "output_type": "stream",
     "text": [
      " 17%|#6        | 12/72 [00:11<00:59,  1.01it/s]"
     ]
    },
    {
     "name": "stdout",
     "output_type": "stream",
     "text": [
      "<class 'list'>\n",
      "{32419: {'songs': [63555, 705515, 263580, 673593, 231872, 635341, 529639, 643158, 326445, 516797, 183589, 211471, 276776, 37298, 272571, 531236, 562083, 570558, 238356, 13683, 418382, 480785, 389766, 218207, 632526, 5884, 474236, 661138, 707659, 122586, 488124, 314206, 654045, 193497, 311321, 52658, 498622, 355183, 398703, 678320, 612155, 280707, 339686, 292245, 639471, 516003, 271269, 604007, 678070, 543469, 97113, 182094, 488194, 83685, 37991, 696613, 327327, 70301, 666873, 650755, 210705, 448827, 473348, 397853, 411832, 551328, 482417, 435471, 111129, 140320, 341666, 99293, 318645, 19879, 265434, 393877, 696971, 615741, 479605, 264209, 509782, 674087, 701273, 651126, 124944, 426487, 604206, 22287, 599951, 435384, 551621, 519099, 379964, 2570, 684485, 17990, 672865, 63548, 529874, 261335], 'tags': [], 'title': ''}}\n",
      "total intersect songs : 0\n",
      "total intersect tags : 0\n"
     ]
    },
    {
     "name": "stderr",
     "output_type": "stream",
     "text": [
      " 15%|#5        | 11/72 [00:11<01:04,  1.05s/it]"
     ]
    },
    {
     "name": "stdout",
     "output_type": "stream",
     "text": [
      "<class 'list'>\n",
      "{128330: {'songs': [95369, 267593, 371998, 63809, 573179, 653733, 409058, 300087, 376435, 565629, 327342, 639056, 413422, 540594, 348524, 441490, 72082, 68102, 628005, 256674, 381874, 483764, 429889, 484375, 675593, 276883, 11093, 49963, 449731], 'tags': [], 'title': ''}}\n",
      "total intersect songs : 0\n",
      "total intersect tags : 0\n"
     ]
    },
    {
     "name": "stderr",
     "output_type": "stream",
     "text": [
      " 14%|#3        | 10/72 [00:11<01:04,  1.04s/it]"
     ]
    },
    {
     "name": "stdout",
     "output_type": "stream",
     "text": [
      "<class 'list'>\n",
      "{53287: {'songs': [327372, 9055, 351044, 273170, 207187], 'tags': [], 'title': ''}}\n",
      "total intersect songs : 0\n",
      "total intersect tags : 0\n"
     ]
    },
    {
     "name": "stderr",
     "output_type": "stream",
     "text": [
      " 17%|#6        | 12/72 [00:11<00:58,  1.03it/s]"
     ]
    },
    {
     "name": "stdout",
     "output_type": "stream",
     "text": [
      "<class 'list'>\n",
      "{123584: {'songs': [493762, 24553, 541457, 649400, 480973, 422091, 222305, 225297, 162269, 318762, 688285, 225461, 109102, 177154, 633618, 355829, 360062, 395389, 258957, 32120, 384227, 213435, 699874, 444246, 707573, 349015, 705098, 273100, 674087, 639289, 696317, 51823, 86468, 234869, 450038, 416875, 462965, 511493, 696684, 427727, 617614, 257119, 621643, 413928, 542896, 360569, 45330, 534989, 375769, 446716], 'tags': [], 'title': ''}}\n",
      "total intersect songs : 0\n",
      "total intersect tags : 0\n"
     ]
    },
    {
     "name": "stderr",
     "output_type": "stream",
     "text": [
      " 15%|#5        | 11/72 [00:12<01:05,  1.08s/it]"
     ]
    },
    {
     "name": "stdout",
     "output_type": "stream",
     "text": [
      "<class 'list'>\n",
      "{79769: {'songs': [92254, 698177, 339633, 192448, 268506, 598820, 543820, 105666, 671329, 591968, 290571, 581784, 224921, 367963, 7538, 508789, 612516, 459165, 616038, 535975, 611146, 660180, 246531, 46084, 586490, 320877, 552707, 615259, 279076, 281055, 265524, 503875, 318266, 250528, 127968, 54, 638498, 261659, 617427], 'tags': ['산책'], 'title': ''}}\n",
      "total intersect songs : 0\n",
      "total intersect tags : 0\n"
     ]
    },
    {
     "name": "stderr",
     "output_type": "stream",
     "text": [
      " 17%|#6        | 12/72 [00:12<01:11,  1.19s/it]"
     ]
    },
    {
     "name": "stdout",
     "output_type": "stream",
     "text": [
      "<class 'list'>\n",
      "{6856: {'songs': [181505, 414809, 679651, 514476, 77657], 'tags': [], 'title': ''}}\n",
      "total intersect songs : 0\n",
      "total intersect tags : 0\n",
      "<class 'list'>\n",
      "{19979: {'songs': [522392, 312026, 310977, 170317, 171188, 225799, 620452, 168207], 'tags': [], 'title': ''}}\n",
      "total intersect songs : 0\n",
      "total intersect tags : 0\n"
     ]
    },
    {
     "name": "stderr",
     "output_type": "stream",
     "text": [
      " 14%|#3        | 10/72 [00:12<01:16,  1.23s/it]"
     ]
    },
    {
     "name": "stdout",
     "output_type": "stream",
     "text": [
      "<class 'list'>\n",
      "{94690: {'songs': [286379, 18616, 414060, 74510, 3485, 422008, 475913, 366159, 562352, 350170, 430352, 377584, 191561, 569742, 604227, 99558, 220805, 92485, 271094, 147260, 423718, 89318, 420086, 136624, 439954, 360147, 351643, 80130, 578388, 52372, 4199, 156662, 170645, 523230, 434522, 453948, 286620, 529583, 124867, 86908, 383311, 636273, 418195, 606779, 181321, 486836, 350656, 10408, 340128, 433776, 390333, 256121], 'tags': [], 'title': ''}}\n",
      "total intersect songs : 0\n",
      "total intersect tags : 0\n",
      "<class 'list'>\n"
     ]
    },
    {
     "name": "stderr",
     "output_type": "stream",
     "text": [
      " 18%|#8        | 13/72 [00:12<00:59,  1.01s/it]"
     ]
    },
    {
     "name": "stdout",
     "output_type": "stream",
     "text": [
      "{150818: {'songs': [103264, 257532, 141288, 276522, 420540, 5618, 219225, 616270, 96572, 564568, 526792, 140466, 1174, 438815, 122693, 698062, 489432, 499968, 679333, 538226, 352997, 161768, 281459, 690594, 363415, 136617, 69629, 360031, 383011, 508043, 294624, 406736, 584624, 236782, 577892, 632337, 385438, 463577, 531881, 222602, 507825, 507744, 46284, 156776, 174821, 159081, 481642, 55288, 703193, 316318, 368015, 192412, 595978, 250411, 457916, 384786, 233434, 419930, 133000, 507522, 632933, 696158, 675211, 55127, 41596, 245271, 572997, 478580, 544974, 492714, 694061, 217365, 175247, 551411, 631368, 289265, 283632, 229121, 168900], 'tags': [], 'title': ''}}\n",
      "total intersect songs : 0\n",
      "total intersect tags : 0\n"
     ]
    },
    {
     "name": "stderr",
     "output_type": "stream",
     "text": [
      " 17%|#6        | 12/72 [00:12<01:01,  1.02s/it]"
     ]
    },
    {
     "name": "stdout",
     "output_type": "stream",
     "text": [
      "<class 'list'>\n",
      "{24876: {'songs': [63803, 104264, 643498, 310984, 163289, 561640, 158182, 680852, 498303, 450763, 277034, 200687, 580326, 628741, 43699, 675874, 52904, 361475, 601902, 144250, 60372, 275121, 381087, 67628, 220925, 103416], 'tags': ['매장음악', '스트레스', '신나는'], 'title': ''}}\n",
      "total intersect songs : 0\n",
      "total intersect tags : 0\n"
     ]
    },
    {
     "name": "stderr",
     "output_type": "stream",
     "text": [
      " 17%|#6        | 12/72 [00:12<01:05,  1.09s/it]"
     ]
    },
    {
     "name": "stdout",
     "output_type": "stream",
     "text": [
      "<class 'list'>\n",
      "{128000: {'songs': [408189, 578634, 493725, 265132, 635688], 'tags': ['힐링'], 'title': ''}}\n",
      "total intersect songs : 0\n",
      "total intersect tags : 0\n"
     ]
    },
    {
     "name": "stderr",
     "output_type": "stream",
     "text": [
      " 15%|#5        | 11/72 [00:12<01:03,  1.04s/it]"
     ]
    },
    {
     "name": "stdout",
     "output_type": "stream",
     "text": [
      "<class 'list'>\n",
      "<class 'list'>{48690: {'songs': [321564, 688785, 228031, 289392, 498878, 540916, 440024, 35262, 331395, 338712, 648414, 482300, 427265, 130424], 'tags': [], 'title': ''}}\n",
      "{5949: {'songs': [136977, 667930, 182659, 590734, 632692, 20638, 654611, 128116, 398032, 436913, 436764, 465014, 75293, 243633, 540852, 86125, 455778, 308238, 316667], 'tags': ['주간', '전지음악', '5월_3주차', '주간일렉트로니카'], 'title': ''}}\n",
      "\n",
      "total intersect songs : 0total intersect songs : 0\n",
      "\n",
      "total intersect tags : 0\n",
      "total intersect tags : 0"
     ]
    },
    {
     "name": "stderr",
     "output_type": "stream",
     "text": [
      " 15%|#5        | 11/72 [00:12<01:00,  1.00it/s]"
     ]
    },
    {
     "name": "stdout",
     "output_type": "stream",
     "text": [
      "\n"
     ]
    },
    {
     "name": "stderr",
     "output_type": "stream",
     "text": [
      " 19%|#9        | 14/72 [00:12<00:54,  1.07it/s]"
     ]
    },
    {
     "name": "stdout",
     "output_type": "stream",
     "text": [
      "<class 'list'>\n",
      "{146451: {'songs': [209074, 90356, 308340, 381403, 245534, 685375, 500530, 661132, 549687], 'tags': ['한강', '주말', '자전거', '데이트', '친구'], 'title': ''}}\n",
      "total intersect songs : 0\n",
      "total intersect tags : 0\n"
     ]
    },
    {
     "name": "stderr",
     "output_type": "stream",
     "text": [
      " 17%|#6        | 12/72 [00:12<01:01,  1.03s/it]"
     ]
    },
    {
     "name": "stdout",
     "output_type": "stream",
     "text": [
      "<class 'list'>\n",
      "{80085: {'songs': [699518, 56122, 139354, 170279, 263738, 20263, 494187], 'tags': [], 'title': ''}}\n",
      "total intersect songs : 0\n",
      "total intersect tags : 0\n"
     ]
    },
    {
     "name": "stderr",
     "output_type": "stream",
     "text": [
      " 18%|#8        | 13/72 [00:13<01:00,  1.02s/it]"
     ]
    },
    {
     "name": "stdout",
     "output_type": "stream",
     "text": [
      "<class 'list'>\n",
      "{6283: {'songs': [656169, 554913, 337740, 447225], 'tags': [], 'title': ''}}\n",
      "total intersect songs : 0\n",
      "total intersect tags : 0\n"
     ]
    },
    {
     "name": "stderr",
     "output_type": "stream",
     "text": [
      " 18%|#8        | 13/72 [00:13<00:56,  1.05it/s]"
     ]
    },
    {
     "name": "stdout",
     "output_type": "stream",
     "text": [
      "<class 'list'>\n",
      "{87849: {'songs': [656748, 234105, 20471, 585724, 93402, 499755, 666828, 364086, 128030], 'tags': ['그리움'], 'title': ''}}\n",
      "total intersect songs : 0\n",
      "total intersect tags : 0\n"
     ]
    },
    {
     "name": "stderr",
     "output_type": "stream",
     "text": [
      " 19%|#9        | 14/72 [00:13<00:58,  1.02s/it]"
     ]
    },
    {
     "name": "stdout",
     "output_type": "stream",
     "text": [
      "<class 'list'>\n",
      "{9760: {'songs': [231659, 116573, 95323, 643628, 482846, 539118, 668763, 48948, 130664, 212596, 15341, 428394, 616038, 1513, 322543, 81703, 213019, 285546, 648628, 637854, 653569, 648344, 261659, 541682, 637894, 154858, 91174, 680366, 406976, 674160, 610551, 343619, 215411, 616166, 678762, 458347, 497854, 690604, 78344, 254090, 610961, 164288, 281234, 367534, 310494, 65506, 284745, 32443], 'tags': ['발라드', '센치', '음색', '감성'], 'title': ''}}\n",
      "total intersect songs : 0\n",
      "total intersect tags : 0\n"
     ]
    },
    {
     "name": "stderr",
     "output_type": "stream",
     "text": [
      " 18%|#8        | 13/72 [00:13<01:04,  1.09s/it]"
     ]
    },
    {
     "name": "stdout",
     "output_type": "stream",
     "text": [
      "<class 'list'>\n",
      "{142589: {'songs': [117969, 107116, 618649, 285461, 449565, 641400, 526482, 314556, 487275, 342550, 235240, 123215, 485164, 472884, 153589, 293149, 123403, 409826, 97392, 684586, 693415, 669535, 323966, 515283, 289496, 452793, 690266, 635537, 651499, 380098, 70752, 655892, 477514, 100901, 165050, 292503, 44603, 496406, 615948, 273178, 409828, 75842, 399907, 28993, 247121, 169984, 251864, 443077, 455465], 'tags': ['슬픔', '밤'], 'title': ''}}\n",
      "total intersect songs : 0\n",
      "total intersect tags : 0\n"
     ]
    },
    {
     "name": "stderr",
     "output_type": "stream",
     "text": [
      " 18%|#8        | 13/72 [00:13<00:57,  1.03it/s]"
     ]
    },
    {
     "name": "stdout",
     "output_type": "stream",
     "text": [
      "<class 'list'>\n",
      "{84539: {'songs': [171695, 140347, 559675, 72839, 679776, 645259, 294214], 'tags': [], 'title': ''}}\n",
      "total intersect songs : 0\n",
      "total intersect tags : 0\n"
     ]
    },
    {
     "name": "stderr",
     "output_type": "stream",
     "text": [
      " 19%|#9        | 14/72 [00:13<00:57,  1.00it/s]"
     ]
    },
    {
     "name": "stdout",
     "output_type": "stream",
     "text": [
      "<class 'list'>\n",
      "{31430: {'songs': [368044, 15341, 239350, 205247, 598008, 415256], 'tags': ['감성자극', '겨울감성', '퇴근후'], 'title': ''}}\n",
      "total intersect songs : 0\n",
      "total intersect tags : 0\n"
     ]
    },
    {
     "name": "stderr",
     "output_type": "stream",
     "text": [
      " 17%|#6        | 12/72 [00:14<01:09,  1.15s/it]"
     ]
    },
    {
     "name": "stdout",
     "output_type": "stream",
     "text": [
      "<class 'list'>\n",
      "{55946: {'songs': [649965, 411147, 21365, 219943, 6054, 92454, 146449, 192513, 588606], 'tags': ['잠', '휴식', '재즈', '수면'], 'title': ''}}\n",
      "total intersect songs : 0\n",
      "total intersect tags : 0\n"
     ]
    },
    {
     "name": "stderr",
     "output_type": "stream",
     "text": [
      " 21%|##        | 15/72 [00:14<00:58,  1.03s/it]"
     ]
    },
    {
     "name": "stdout",
     "output_type": "stream",
     "text": [
      "<class 'list'>\n",
      "{30077: {'songs': [497646, 530266, 455605, 681266, 93987, 446676, 528480, 285914, 456474, 416865, 295083, 388487, 225426, 546793], 'tags': ['조용', '나만어두운기분'], 'title': ''}}\n",
      "total intersect songs : 0\n",
      "total intersect tags : 0\n"
     ]
    },
    {
     "name": "stderr",
     "output_type": "stream",
     "text": [
      " 17%|#6        | 12/72 [00:14<01:06,  1.12s/it]"
     ]
    },
    {
     "name": "stdout",
     "output_type": "stream",
     "text": [
      "<class 'list'>\n",
      "{54285: {'songs': [310766, 177148, 471680, 676925, 656541, 310596, 509127, 143345, 21610, 493389, 512922, 38494, 105260, 391363, 674493, 612242, 671675, 422919, 492502, 163114, 132154, 307598, 6958, 178187, 473159, 194233, 331959, 406523, 338354], 'tags': ['음악', '밤', '새벽감성'], 'title': ''}}\n",
      "total intersect songs : 0\n",
      "total intersect tags : 0\n"
     ]
    },
    {
     "name": "stderr",
     "output_type": "stream",
     "text": [
      " 19%|#9        | 14/72 [00:14<00:57,  1.02it/s]"
     ]
    },
    {
     "name": "stdout",
     "output_type": "stream",
     "text": [
      "<class 'list'>\n",
      "{88756: {'songs': [223939, 309053, 506282, 624828, 299831, 282505], 'tags': [], 'title': ''}}\n",
      "total intersect songs : 0\n",
      "total intersect tags : 0\n"
     ]
    },
    {
     "name": "stderr",
     "output_type": "stream",
     "text": [
      " 21%|##        | 15/72 [00:14<00:59,  1.04s/it]"
     ]
    },
    {
     "name": "stdout",
     "output_type": "stream",
     "text": [
      "<class 'list'>\n",
      "{10299: {'songs': [45747, 422736, 209127, 555162, 569405, 210537, 10190, 688077, 149942, 286802, 570953, 322806, 278226, 66845, 127532, 415344, 515271, 238139, 71590, 281280, 176286, 233811, 698521, 352465, 240745, 164369, 289530], 'tags': ['일본'], 'title': ''}}\n",
      "total intersect songs : 0\n",
      "total intersect tags : 0\n"
     ]
    },
    {
     "name": "stderr",
     "output_type": "stream",
     "text": [
      " 19%|#9        | 14/72 [00:14<00:53,  1.08it/s]"
     ]
    },
    {
     "name": "stdout",
     "output_type": "stream",
     "text": [
      "<class 'list'>\n",
      "{106010: {'songs': [], 'tags': [], 'title': 'saygoodbye'}}\n",
      "total intersect songs : 0\n",
      "total intersect tags : 0\n",
      "<class 'list'>\n",
      "{1721: {'songs': [655756, 645489, 202564, 687601, 424813, 651332, 117595, 196664, 461341, 603781, 454979, 663905, 598752], 'tags': [], 'title': ''}}\n",
      "total intersect songs : 0\n",
      "total intersect tags : 0\n"
     ]
    },
    {
     "name": "stderr",
     "output_type": "stream",
     "text": [
      " 19%|#9        | 14/72 [00:14<01:04,  1.12s/it]"
     ]
    },
    {
     "name": "stdout",
     "output_type": "stream",
     "text": [
      "<class 'list'>\n",
      "{123065: {'songs': [5292, 683657, 4142, 475473, 445299, 407992, 610734, 265793, 566023, 215458, 562548, 412769, 32341, 451207, 441477, 578352, 466129], 'tags': [], 'title': ''}}\n",
      "total intersect songs : 0\n",
      "total intersect tags : 0\n"
     ]
    },
    {
     "name": "stderr",
     "output_type": "stream",
     "text": [
      " 21%|##        | 15/72 [00:15<00:52,  1.09it/s]"
     ]
    },
    {
     "name": "stdout",
     "output_type": "stream",
     "text": [
      "<class 'list'>\n",
      "{16747: {'songs': [33452, 509735, 570533, 660376, 361001, 361101, 577492, 338437, 6240], 'tags': [], 'title': ''}}\n",
      "total intersect songs : 0\n",
      "total intersect tags : 0\n"
     ]
    },
    {
     "name": "stderr",
     "output_type": "stream",
     "text": [
      " 21%|##        | 15/72 [00:15<00:51,  1.11it/s]"
     ]
    },
    {
     "name": "stdout",
     "output_type": "stream",
     "text": [
      "<class 'list'>\n",
      "{42339: {'songs': [], 'tags': ['감성', '휴식', '2019', '캠핑', '레인보우뮤직2019'], 'title': '2019 레인보우 뮤직&캠핑 페스티벌 최종 라인업 공개'}}\n",
      "total intersect songs : 0\n",
      "total intersect tags : 0\n"
     ]
    },
    {
     "name": "stderr",
     "output_type": "stream",
     "text": [
      " 21%|##        | 15/72 [00:15<01:03,  1.11s/it]"
     ]
    },
    {
     "name": "stdout",
     "output_type": "stream",
     "text": [
      "<class 'list'>\n",
      "{80109: {'songs': [337740, 682213, 26083, 107220, 52364, 443914, 602448, 8763, 387567, 33389, 294411, 695494, 338070, 571047, 96572, 281820, 236142, 471691, 649432, 128184, 645525, 280830, 427395, 118788, 564336, 327342, 75971], 'tags': ['영화', '47화'], 'title': ''}}\n",
      "total intersect songs : 0\n",
      "total intersect tags : 0\n"
     ]
    },
    {
     "name": "stderr",
     "output_type": "stream",
     "text": [
      " 18%|#8        | 13/72 [00:15<01:10,  1.20s/it]"
     ]
    },
    {
     "name": "stdout",
     "output_type": "stream",
     "text": [
      "<class 'list'>\n",
      "{113775: {'songs': [123832, 516229, 14727, 473499, 465798], 'tags': [], 'title': ''}}\n",
      "total intersect songs : 0\n",
      "total intersect tags : 0\n"
     ]
    },
    {
     "name": "stderr",
     "output_type": "stream",
     "text": [
      " 22%|##2       | 16/72 [00:15<00:42,  1.31it/s]"
     ]
    },
    {
     "name": "stdout",
     "output_type": "stream",
     "text": [
      "<class 'list'>\n",
      "{12657: {'songs': [81605, 580074, 222763, 374513, 545007, 648351, 142344, 475659, 107744, 174250, 282045, 95928, 166735, 338690, 559120, 262396, 375146, 267452, 14641, 296065, 32080, 174701, 332267, 9236, 370470, 317057, 666130, 25885, 534517, 598820, 164235, 410350, 418519, 189284, 397412, 305064, 703596, 307981, 630407, 58836, 181656, 352189, 388114, 153180, 384994, 389692, 367490, 396949, 651820, 132805, 497066, 474420, 579592, 100289, 387567, 42222, 258069, 314283, 504520, 632613, 113520, 90019, 566257, 485479, 411686, 659798, 104450, 554287, 357114, 651332, 267578, 698058, 127976, 412850, 509169, 119279, 707837, 535492, 396658, 109926, 654764, 559831, 529387, 398909, 584375, 39625, 526084, 110973, 680965, 286273, 258919, 486869, 290368, 319794, 614701, 304205, 698624, 625933, 451031, 280528], 'tags': [], 'title': ''}}\n",
      "total intersect songs : 0\n",
      "total intersect tags : 0\n"
     ]
    },
    {
     "name": "stderr",
     "output_type": "stream",
     "text": [
      " 22%|##2       | 16/72 [00:15<01:04,  1.15s/it]"
     ]
    },
    {
     "name": "stdout",
     "output_type": "stream",
     "text": [
      "<class 'list'>\n",
      "{51395: {'songs': [446180, 123648, 198214, 37253, 509165, 7837, 48140, 593836, 290773, 305275, 59211, 324616, 157094, 314910, 641221, 275897, 363198, 629072, 507040, 352114, 551053, 170206, 371691, 452316, 263953, 203656, 304205, 533826, 171062, 405668, 324208, 436057, 106214, 150714, 102241, 18851, 274165, 599100, 105672, 336829, 515463, 359233, 69920, 223008, 238253, 124278, 166463, 117595, 7187, 257277, 188308, 279590, 77593, 240462, 212122, 552142, 308972, 702061, 136399, 365415, 419642, 376140, 554181, 379841, 644788, 248401, 695842, 460127, 524229, 541967], 'tags': [], 'title': ''}}\n",
      "total intersect songs : 0\n",
      "<class 'list'>total intersect tags : 0\n"
     ]
    },
    {
     "name": "stderr",
     "output_type": "stream",
     "text": [
      " 22%|##2       | 16/72 [00:15<00:58,  1.04s/it]"
     ]
    },
    {
     "name": "stdout",
     "output_type": "stream",
     "text": [
      "\n",
      "{96657: {'songs': [275210, 39594, 233798, 691566, 642228, 60977, 108254], 'tags': [], 'title': ''}}\n",
      "total intersect songs : 0\n",
      "total intersect tags : 0\n",
      "<class 'list'>"
     ]
    },
    {
     "name": "stderr",
     "output_type": "stream",
     "text": [
      " 22%|##2       | 16/72 [00:15<00:43,  1.28it/s]"
     ]
    },
    {
     "name": "stdout",
     "output_type": "stream",
     "text": [
      "\n",
      "{39195: {'songs': [62630, 82330, 653281, 312766, 700806, 478730, 277272, 466574, 164014, 539406, 77059, 657536, 571885, 520244, 462760, 692124, 396200, 12159, 331003, 84285, 639991, 483805, 495566, 55000, 85040, 12557, 522825, 666815, 420870, 94204, 265538, 306422, 442190, 150544, 231659, 9701, 106931, 207232, 310829, 375431, 506288, 345621, 464145, 508467, 281838, 608260, 197008, 283358, 609053, 535399, 267701, 408530, 490862, 71947, 349751, 108982, 145292, 152650, 685620, 155516, 158590, 644372, 287003, 41892, 397329, 356537, 464974, 625933, 651528, 457264, 84580, 391778, 413654, 132994, 647470, 247269, 53369, 246984, 268506, 286086, 539327, 237808, 333408, 699654, 616285, 334675, 326610, 295250, 656713, 232763, 348165, 542235, 523643, 6546, 50916, 529254, 96310, 564336, 140833, 195524], 'tags': [], 'title': ''}}\n",
      "total intersect songs : 0\n",
      "total intersect tags : 0\n"
     ]
    },
    {
     "name": "stderr",
     "output_type": "stream",
     "text": [
      " 18%|#8        | 13/72 [00:15<01:11,  1.22s/it]"
     ]
    },
    {
     "name": "stdout",
     "output_type": "stream",
     "text": [
      "<class 'list'>\n",
      "{81986: {'songs': [], 'tags': [], 'title': 'walk'}}\n",
      "total intersect songs : 0\n",
      "total intersect tags : 0\n"
     ]
    },
    {
     "name": "stderr",
     "output_type": "stream",
     "text": [
      " 22%|##2       | 16/72 [00:16<00:52,  1.07it/s]"
     ]
    },
    {
     "name": "stdout",
     "output_type": "stream",
     "text": [
      "<class 'list'>\n",
      "{127646: {'songs': [29017, 285398, 39999, 408413, 533979, 221968, 466932, 216567, 601896, 464368, 687867, 35128, 519160], 'tags': [], 'title': ''}}\n",
      "total intersect songs : 0\n",
      "total intersect tags : 0\n"
     ]
    },
    {
     "name": "stderr",
     "output_type": "stream",
     "text": [
      " 24%|##3       | 17/72 [00:16<00:39,  1.40it/s]"
     ]
    },
    {
     "name": "stdout",
     "output_type": "stream",
     "text": [
      "<class 'list'>\n",
      "{34851: {'songs': [279247, 379612, 121179, 581899, 414214, 149912, 431664, 436032, 201555, 706005, 285801, 364454], 'tags': ['잔잔한'], 'title': ''}}\n",
      "total intersect songs : 0\n",
      "total intersect tags : 0\n"
     ]
    },
    {
     "name": "stderr",
     "output_type": "stream",
     "text": [
      " 22%|##2       | 16/72 [00:16<01:01,  1.09s/it]"
     ]
    },
    {
     "name": "stdout",
     "output_type": "stream",
     "text": [
      "<class 'list'>\n",
      "{47108: {'songs': [192765, 623507, 32117, 256541, 26661, 216711, 506590, 256279, 224643, 93287, 677654, 573260, 675424, 302881], 'tags': [], 'title': ''}}\n",
      "total intersect songs : 0\n",
      "total intersect tags : 0\n"
     ]
    },
    {
     "name": "stderr",
     "output_type": "stream",
     "text": [
      " 19%|#9        | 14/72 [00:16<01:06,  1.15s/it]"
     ]
    },
    {
     "name": "stdout",
     "output_type": "stream",
     "text": [
      "<class 'list'>\n",
      "{19072: {'songs': [20303, 695247, 495996, 455159, 581633, 279554, 407630, 61626], 'tags': [], 'title': ''}}\n",
      "total intersect songs : 0\n",
      "total intersect tags : 0\n"
     ]
    },
    {
     "name": "stderr",
     "output_type": "stream",
     "text": [
      " 24%|##3       | 17/72 [00:16<01:01,  1.12s/it]"
     ]
    },
    {
     "name": "stdout",
     "output_type": "stream",
     "text": [
      "<class 'list'>\n",
      "{11033: {'songs': [], 'tags': ['미세먼지', '뿜뿜'], 'title': '미세먼지 다 비켜, 이 노래 들을거야'}}\n",
      "total intersect songs : 0\n",
      "total intersect tags : 0\n"
     ]
    },
    {
     "name": "stderr",
     "output_type": "stream",
     "text": [
      " 24%|##3       | 17/72 [00:16<00:45,  1.20it/s]"
     ]
    },
    {
     "name": "stdout",
     "output_type": "stream",
     "text": [
      "<class 'list'>\n",
      "{55387: {'songs': [4654, 700969, 178318, 605564, 139603, 681614], 'tags': ['식당', '음식점', '너와의', '이별'], 'title': ''}}\n",
      "total intersect songs : 0\n",
      "total intersect tags : 0\n"
     ]
    },
    {
     "name": "stderr",
     "output_type": "stream",
     "text": [
      " 24%|##3       | 17/72 [00:16<00:50,  1.09it/s]"
     ]
    },
    {
     "name": "stdout",
     "output_type": "stream",
     "text": [
      "<class 'list'>\n",
      "{142939: {'songs': [538860, 387228, 613465, 47436, 279125, 352212, 394489, 153108, 328918, 138486, 661616], 'tags': [], 'title': ''}}\n",
      "total intersect songs : 0\n",
      "total intersect tags : 0\n"
     ]
    },
    {
     "name": "stderr",
     "output_type": "stream",
     "text": [
      " 19%|#9        | 14/72 [00:16<01:07,  1.17s/it]"
     ]
    },
    {
     "name": "stdout",
     "output_type": "stream",
     "text": [
      "<class 'list'>\n",
      "{63514: {'songs': [], 'tags': [], 'title': '국힙 추천곡'}}\n",
      "total intersect songs : 0\n",
      "total intersect tags : 0\n"
     ]
    },
    {
     "name": "stderr",
     "output_type": "stream",
     "text": [
      " 25%|##5       | 18/72 [00:16<00:35,  1.54it/s]"
     ]
    },
    {
     "name": "stdout",
     "output_type": "stream",
     "text": [
      "<class 'list'>\n",
      "{127913: {'songs': [471017, 401499, 11584, 22242, 350865, 556337, 521908, 168939, 285367, 588261, 161983, 52308, 120421, 178928, 440824, 26810, 295829, 684243, 339077, 659798], 'tags': [], 'title': ''}}\n",
      "total intersect songs : 0\n",
      "total intersect tags : 0\n"
     ]
    },
    {
     "name": "stderr",
     "output_type": "stream",
     "text": [
      " 25%|##5       | 18/72 [00:17<00:52,  1.02it/s]"
     ]
    },
    {
     "name": "stdout",
     "output_type": "stream",
     "text": [
      "<class 'list'>\n",
      "{52063: {'songs': [561714, 578977, 342047, 638149, 35249, 512944, 442716, 428439, 142365, 501553, 199794, 422884, 591031, 703137, 186154, 584038], 'tags': ['힙합', '국내', '힙스터'], 'title': ''}}\n",
      "total intersect songs : 0\n",
      "total intersect tags : 0\n"
     ]
    },
    {
     "name": "stderr",
     "output_type": "stream",
     "text": [
      " 21%|##        | 15/72 [00:17<01:02,  1.10s/it]"
     ]
    },
    {
     "name": "stdout",
     "output_type": "stream",
     "text": [
      "<class 'list'>\n",
      "{115061: {'songs': [182666, 262632, 66416, 99472, 93970, 485748, 533957, 106296, 615235, 644827, 527144, 320827, 118934, 324278, 443160, 66445], 'tags': ['잔잔한', '신나는'], 'title': ''}}\n",
      "total intersect songs : 0\n",
      "total intersect tags : 0\n"
     ]
    },
    {
     "name": "stderr",
     "output_type": "stream",
     "text": [
      " 24%|##3       | 17/72 [00:17<01:09,  1.26s/it]"
     ]
    },
    {
     "name": "stdout",
     "output_type": "stream",
     "text": [
      "<class 'list'>\n",
      "{83774: {'songs': [477964, 122384, 547977, 582905, 188590, 587193, 572470, 32042, 142498, 284696, 108216, 225686, 579395, 116847, 641745, 356571, 167809, 143652, 395858, 397924], 'tags': ['힙합', '클럽'], 'title': ''}}\n",
      "total intersect songs : 0\n",
      "total intersect tags : 0\n"
     ]
    },
    {
     "name": "stderr",
     "output_type": "stream",
     "text": [
      " 25%|##5       | 18/72 [00:17<00:47,  1.14it/s]"
     ]
    },
    {
     "name": "stdout",
     "output_type": "stream",
     "text": [
      "<class 'list'>\n",
      "{16823: {'songs': [122741, 72222, 704000, 638256, 42102, 371698, 555159, 27290, 182756, 479742, 329260, 35136, 34100, 577903, 253857, 49093], 'tags': ['추억'], 'title': ''}}\n",
      "total intersect songs : 0\n",
      "total intersect tags : 0\n"
     ]
    },
    {
     "name": "stderr",
     "output_type": "stream",
     "text": [
      " 24%|##3       | 17/72 [00:17<01:02,  1.14s/it]"
     ]
    },
    {
     "name": "stdout",
     "output_type": "stream",
     "text": [
      "<class 'list'>\n",
      "{25957: {'songs': [], 'tags': ['휴식'], 'title': '50곡!'}}\n",
      "total intersect songs : 0\n",
      "total intersect tags : 0\n"
     ]
    },
    {
     "name": "stderr",
     "output_type": "stream",
     "text": [
      " 25%|##5       | 18/72 [00:17<00:51,  1.06it/s]"
     ]
    },
    {
     "name": "stdout",
     "output_type": "stream",
     "text": [
      "<class 'list'>\n",
      "{3393: {'songs': [], 'tags': ['피아노', '주말'], 'title': '행복한 주말을 장식하는 부드러운 연주곡 모음'}}\n",
      "total intersect songs : 0\n",
      "total intersect tags : 0\n"
     ]
    },
    {
     "name": "stderr",
     "output_type": "stream",
     "text": [
      " 26%|##6       | 19/72 [00:17<00:41,  1.28it/s]"
     ]
    },
    {
     "name": "stdout",
     "output_type": "stream",
     "text": [
      "<class 'list'>\n",
      "{121866: {'songs': [125640, 634750, 128870, 541701, 518890, 571185, 421990, 323201, 636284, 222939, 539584, 214881, 499033], 'tags': [], 'title': ''}}\n",
      "total intersect songs : 0\n",
      "total intersect tags : 0\n"
     ]
    },
    {
     "name": "stderr",
     "output_type": "stream",
     "text": [
      " 21%|##        | 15/72 [00:17<01:07,  1.18s/it]"
     ]
    },
    {
     "name": "stdout",
     "output_type": "stream",
     "text": [
      "<class 'list'>\n",
      "{112209: {'songs': [203812, 441393, 19899, 322561, 333479, 628929, 598437, 561733, 605710, 642652, 696494, 278824, 1867, 465218, 612087, 167725, 480040, 353891, 362747, 425780], 'tags': ['여름', '휴식', '아침', '뉴에이지', '생각'], 'title': ''}}\n",
      "total intersect songs : 0\n",
      "total intersect tags : 0\n"
     ]
    },
    {
     "name": "stderr",
     "output_type": "stream",
     "text": [
      " 26%|##6       | 19/72 [00:18<00:51,  1.03it/s]"
     ]
    },
    {
     "name": "stdout",
     "output_type": "stream",
     "text": [
      "<class 'list'>\n",
      "{76874: {'songs': [225235, 109747, 534735, 142833, 309376, 101533, 437845, 350890, 482067, 513221, 159313, 694797, 53366, 670741, 250718, 614299, 534282, 482520, 31218, 44044], 'tags': [], 'title': ''}}\n",
      "total intersect songs : 0\n",
      "total intersect tags : 0\n"
     ]
    },
    {
     "name": "stderr",
     "output_type": "stream",
     "text": [
      " 28%|##7       | 20/72 [00:18<00:39,  1.33it/s]"
     ]
    },
    {
     "name": "stdout",
     "output_type": "stream",
     "text": [
      "<class 'list'>\n",
      "{100226: {'songs': [707724, 216696, 486938, 645489, 239823, 188582, 449244, 234921, 645381, 471185], 'tags': ['힘내요'], 'title': ''}}\n",
      "total intersect songs : 0\n",
      "total intersect tags : 0\n"
     ]
    },
    {
     "name": "stderr",
     "output_type": "stream",
     "text": [
      " 22%|##2       | 16/72 [00:18<01:02,  1.11s/it]"
     ]
    },
    {
     "name": "stdout",
     "output_type": "stream",
     "text": [
      "<class 'list'>\n",
      "{3105: {'songs': [76888, 703323, 592526, 571016, 21125, 177460, 527418, 117207, 623110, 383011, 72222, 476680, 513419, 140867, 416540, 191915, 651374, 257119, 15124, 195174, 229337, 625875, 464051, 542127, 236393, 459256, 518001, 213435, 376435, 502921, 619719, 281705, 175362, 352039, 267593, 554751], 'tags': ['팝', '드라이브'], 'title': ''}}\n",
      "total intersect songs : 0\n",
      "total intersect tags : 0\n"
     ]
    },
    {
     "name": "stderr",
     "output_type": "stream",
     "text": [
      " 25%|##5       | 18/72 [00:18<01:07,  1.25s/it]"
     ]
    },
    {
     "name": "stdout",
     "output_type": "stream",
     "text": [
      "<class 'list'>\n",
      "{75437: {'songs': [434913, 169197, 195242, 552708, 103644, 646380, 219091, 231659, 297319, 664036, 608789, 115554, 238217, 477905, 386041, 99265, 323821, 421154, 164999, 468970, 210071, 457135, 339804, 56004, 454017, 377182, 455986, 596403, 152422, 626369, 61881, 72756, 273984, 354191, 245317], 'tags': ['슬픔', '추억'], 'title': ''}}\n",
      "total intersect songs : 0\n",
      "total intersect tags : 0\n"
     ]
    },
    {
     "name": "stderr",
     "output_type": "stream",
     "text": [
      " 26%|##6       | 19/72 [00:18<00:49,  1.07it/s]"
     ]
    },
    {
     "name": "stdout",
     "output_type": "stream",
     "text": [
      "<class 'list'>\n",
      "{104168: {'songs': [421719, 542232, 96564, 372090, 659416, 422775, 192726, 392789, 401250, 691917, 413065, 497379, 391503], 'tags': [], 'title': ''}}\n",
      "total intersect songs : 0\n",
      "total intersect tags : 0\n"
     ]
    },
    {
     "name": "stderr",
     "output_type": "stream",
     "text": [
      " 25%|##5       | 18/72 [00:18<01:01,  1.13s/it]"
     ]
    },
    {
     "name": "stdout",
     "output_type": "stream",
     "text": [
      "<class 'list'>\n",
      "{61956: {'songs': [], 'tags': ['트로피컬하우스', '퓨쳐하우스', 'futurehouse', 'TropicalHouse', '딥하우스'], 'title': '[장르] 딥/퓨쳐 하우스 : 라운지바에 어울리는 일렉 Vol.27'}}\n",
      "total intersect songs : 0\n",
      "total intersect tags : 0\n"
     ]
    },
    {
     "name": "stderr",
     "output_type": "stream",
     "text": [
      " 29%|##9       | 21/72 [00:18<00:34,  1.48it/s]"
     ]
    },
    {
     "name": "stdout",
     "output_type": "stream",
     "text": [
      "<class 'list'>\n",
      "{133656: {'songs': [578240, 8257, 293983, 1236, 701561, 640850], 'tags': [], 'title': ''}}\n",
      "total intersect songs : 0\n",
      "total intersect tags : 0\n"
     ]
    },
    {
     "name": "stderr",
     "output_type": "stream",
     "text": [
      " 28%|##7       | 20/72 [00:19<00:47,  1.09it/s]"
     ]
    },
    {
     "name": "stdout",
     "output_type": "stream",
     "text": [
      "<class 'list'>\n",
      "{83997: {'songs': [4096, 277966, 684932, 381087, 317460, 501038, 473639, 634082, 378557, 235680, 275870, 128239, 537620, 119279, 548303, 74638, 292417, 634684, 404090, 420396, 699557, 691622, 281889, 90821, 185307, 352039, 445170, 680852, 163520, 704707], 'tags': [], 'title': ''}}\n",
      "total intersect songs : 0\n",
      "total intersect tags : 0\n"
     ]
    },
    {
     "name": "stderr",
     "output_type": "stream",
     "text": [
      " 26%|##6       | 19/72 [00:19<00:57,  1.08s/it]"
     ]
    },
    {
     "name": "stdout",
     "output_type": "stream",
     "text": [
      "<class 'list'>\n",
      "{9825: {'songs': [438563, 631242, 114521, 101288, 38975, 171498, 359517, 120565, 658431, 586541, 143319, 95485, 407073, 264842, 419696, 183949, 163468, 540956], 'tags': ['슬픔', '이별'], 'title': ''}}\n",
      "total intersect songs : 0\n",
      "total intersect tags : 0\n"
     ]
    },
    {
     "name": "stderr",
     "output_type": "stream",
     "text": [
      " 22%|##2       | 16/72 [00:19<01:08,  1.22s/it]"
     ]
    },
    {
     "name": "stdout",
     "output_type": "stream",
     "text": [
      "<class 'list'>\n",
      "{86902: {'songs': [354687, 260924, 432889, 599063, 545134, 54090, 30275, 74477, 179238, 223441, 298384, 18887, 283473, 573039, 381672, 280010, 421868, 375133], 'tags': [], 'title': ''}}\n",
      "total intersect songs : 0\n",
      "total intersect tags : 0\n"
     ]
    },
    {
     "name": "stderr",
     "output_type": "stream",
     "text": [
      " 26%|##6       | 19/72 [00:19<00:59,  1.12s/it]"
     ]
    },
    {
     "name": "stdout",
     "output_type": "stream",
     "text": [
      "<class 'list'>\n",
      "{66138: {'songs': [387848, 339465, 619259, 366762, 137037, 588413, 666339, 161537, 446142, 567004, 10669, 195002, 673026, 644597], 'tags': ['똥땅_땅_따동_똥땅_똥'], 'title': ''}}\n",
      "total intersect songs : 0\n",
      "total intersect tags : 0\n"
     ]
    },
    {
     "name": "stderr",
     "output_type": "stream",
     "text": [
      " 24%|##3       | 17/72 [00:19<01:02,  1.14s/it]"
     ]
    },
    {
     "name": "stdout",
     "output_type": "stream",
     "text": [
      "<class 'list'>\n",
      "{85751: {'songs': [573184, 338927, 353269, 323484, 637993, 406295, 462092, 309786, 440160, 298962, 35365, 221090, 321564, 281806, 10961, 224716, 659496], 'tags': [], 'title': ''}}\n",
      "total intersect songs : 0\n",
      "total intersect tags : 0\n"
     ]
    },
    {
     "name": "stderr",
     "output_type": "stream",
     "text": [
      " 26%|##6       | 19/72 [00:19<01:01,  1.16s/it]"
     ]
    },
    {
     "name": "stdout",
     "output_type": "stream",
     "text": [
      "<class 'list'>\n",
      "{103176: {'songs': [234409, 101691, 446106, 442150, 246900, 408741, 306883, 575515, 372907, 513838, 658484, 573413, 43145, 316672, 196531, 284363, 335871, 373037, 232606, 547145, 206812, 225290, 553171, 357367, 601037, 640657, 689661, 519391, 81158, 677144, 331398, 205247, 698536, 542611, 409591, 552707, 460823, 112282, 127968, 443130, 353753, 87803], 'tags': [], 'title': ''}}\n",
      "total intersect songs : 0\n",
      "total intersect tags : 0\n"
     ]
    },
    {
     "name": "stderr",
     "output_type": "stream",
     "text": [
      " 31%|###       | 22/72 [00:19<00:39,  1.26it/s]"
     ]
    },
    {
     "name": "stdout",
     "output_type": "stream",
     "text": [
      "<class 'list'>\n",
      "{151510: {'songs': [], 'tags': ['설렘', '산책'], 'title': '친구에서 연인으로'}}\n",
      "total intersect songs : 0\n",
      "total intersect tags : 0\n"
     ]
    },
    {
     "name": "stderr",
     "output_type": "stream",
     "text": [
      " 28%|##7       | 20/72 [00:20<00:50,  1.04it/s]"
     ]
    },
    {
     "name": "stdout",
     "output_type": "stream",
     "text": [
      "<class 'list'>\n",
      "{51547: {'songs': [487387, 241190, 633133, 620240, 188415, 68399, 388675, 209460, 377494, 121029, 206245, 572226, 289599, 266934, 67910, 269728, 289908, 253755, 378745, 249632, 108672, 220139, 142023, 13198, 399917, 454218, 167576, 6446, 90557, 538673, 417779, 683053, 411090], 'tags': [], 'title': ''}}\n",
      "total intersect songs : 0\n",
      "total intersect tags : 0\n"
     ]
    },
    {
     "name": "stderr",
     "output_type": "stream",
     "text": [
      " 28%|##7       | 20/72 [00:20<00:55,  1.07s/it]"
     ]
    },
    {
     "name": "stdout",
     "output_type": "stream",
     "text": [
      "<class 'list'>\n",
      "{56781: {'songs': [676925, 309816, 209135, 345354, 154464, 606515, 621690, 201909, 616212, 70185, 613497, 45476, 203523, 591699, 389296, 53849, 55899, 99741, 106017, 581942, 367963, 534695, 186658, 323287, 116573, 691652, 253755, 88403, 167251, 698965, 27469, 342835, 643903, 420715, 372034, 328018], 'tags': [], 'title': ''}}\n",
      "total intersect songs : 0\n",
      "total intersect tags : 0\n"
     ]
    },
    {
     "name": "stderr",
     "output_type": "stream",
     "text": [
      " 24%|##3       | 17/72 [00:20<01:05,  1.19s/it]"
     ]
    },
    {
     "name": "stdout",
     "output_type": "stream",
     "text": [
      "<class 'list'>\n",
      "{106586: {'songs': [37298, 680923, 377252, 243951, 661952, 473338, 523291, 554, 584779, 309816, 25538, 202564, 11761, 208144, 51612, 559052, 156874, 598734, 293690], 'tags': ['추억', '회상'], 'title': ''}}\n",
      "total intersect songs : 0\n",
      "total intersect tags : 0\n"
     ]
    },
    {
     "name": "stderr",
     "output_type": "stream",
     "text": [
      " 25%|##5       | 18/72 [00:20<00:55,  1.03s/it]"
     ]
    },
    {
     "name": "stdout",
     "output_type": "stream",
     "text": [
      "<class 'list'>\n",
      "{15781: {'songs': [], 'tags': ['추억'], 'title': '이별후..'}}\n",
      "total intersect songs : 0\n",
      "total intersect tags : 0\n"
     ]
    },
    {
     "name": "stderr",
     "output_type": "stream",
     "text": [
      " 29%|##9       | 21/72 [00:20<00:45,  1.13it/s]"
     ]
    },
    {
     "name": "stdout",
     "output_type": "stream",
     "text": [
      "<class 'list'>\n",
      "{2364: {'songs': [310109, 648459, 574297, 361801, 15766, 124878, 269957, 677068], 'tags': ['휴식', '히든트랙', '감성', '기분전환', '스트레스'], 'title': ''}}\n",
      "total intersect songs : 0\n",
      "total intersect tags : 0\n"
     ]
    },
    {
     "name": "stderr",
     "output_type": "stream",
     "text": [
      " 28%|##7       | 20/72 [00:20<01:06,  1.27s/it]"
     ]
    },
    {
     "name": "stdout",
     "output_type": "stream",
     "text": [
      "<class 'list'>\n",
      "{126339: {'songs': [209135, 389920, 105140, 582252, 442014, 349492, 547967, 487911, 15318, 341513, 485155, 209993, 668128, 498752, 108004, 463173, 427724, 520093, 350309, 154858, 407579, 610551, 235773, 266761, 621927, 464821, 669557, 630152, 678762, 408741, 450163, 530653, 367534, 542475, 104786, 565293], 'tags': ['봄', '매장음악', '감성', '기분전환', '아침'], 'title': ''}}\n",
      "total intersect songs : 0\n",
      "total intersect tags : 0\n"
     ]
    },
    {
     "name": "stderr",
     "output_type": "stream",
     "text": [
      " 29%|##9       | 21/72 [00:20<01:00,  1.19s/it]"
     ]
    },
    {
     "name": "stdout",
     "output_type": "stream",
     "text": [
      "<class 'list'>\n",
      "{4835: {'songs': [80492, 585388, 668734, 193830, 69914, 599409, 162896, 484797, 168528, 402471], 'tags': [], 'title': ''}}\n",
      "total intersect songs : 0\n",
      "total intersect tags : 0\n"
     ]
    },
    {
     "name": "stderr",
     "output_type": "stream",
     "text": [
      " 29%|##9       | 21/72 [00:20<00:52,  1.02s/it]"
     ]
    },
    {
     "name": "stdout",
     "output_type": "stream",
     "text": [
      "<class 'list'>\n",
      "{55063: {'songs': [216909, 11924, 124011, 620526, 216005], 'tags': [], 'title': ''}}\n",
      "total intersect songs : 0\n",
      "total intersect tags : 0\n"
     ]
    },
    {
     "name": "stderr",
     "output_type": "stream",
     "text": [
      " 31%|###       | 22/72 [00:21<00:40,  1.25it/s]"
     ]
    },
    {
     "name": "stdout",
     "output_type": "stream",
     "text": [
      "<class 'list'>\n",
      "{49824: {'songs': [384123, 368237, 371998, 626296, 571095, 393888, 165199, 180860, 583610, 540020, 103125, 355136, 704381, 510512, 473171, 91773, 538921, 453225, 476097, 653612, 252841, 206578, 376821, 26083, 611555, 357829, 672319, 425049, 15868, 273749, 69805, 80103, 471938, 124779, 554963, 362883, 425489, 191041, 68206, 37110, 226477, 209799, 662086, 78549, 117437, 362707, 643990, 526890, 179384, 160046, 215044, 241117, 108592, 240134, 34435, 606673, 225686, 35452, 631126, 400048, 21565, 456528, 421683, 170043, 523261, 516750, 692752, 265305, 112410, 248074, 342791, 367438, 376001, 129290, 81184, 650965, 296065, 552867, 281977, 285208, 549212, 232030, 646978, 536404, 239266, 507753, 421406, 407133, 517372, 636672, 278505, 52223, 596490, 665939, 338478], 'tags': ['가을'], 'title': ''}}\n",
      "total intersect songs : 0\n",
      "total intersect tags : 0<class 'list'>\n",
      "\n"
     ]
    },
    {
     "name": "stderr",
     "output_type": "stream",
     "text": [
      " 26%|##6       | 19/72 [00:21<00:52,  1.00it/s]"
     ]
    },
    {
     "name": "stdout",
     "output_type": "stream",
     "text": [
      "{145287: {'songs': [602076, 683119, 247656, 87183, 533000, 257443, 474540, 593396], 'tags': ['매장음악', '카페', '커피', '뉴에이지'], 'title': ''}}\n",
      "total intersect songs : 0\n",
      "total intersect tags : 0\n"
     ]
    },
    {
     "name": "stderr",
     "output_type": "stream",
     "text": [
      " 32%|###1      | 23/72 [00:21<00:48,  1.00it/s]"
     ]
    },
    {
     "name": "stdout",
     "output_type": "stream",
     "text": [
      "<class 'list'><class 'list'>\n",
      "\n",
      "{63228: {'songs': [], 'tags': ['감성', '혼자', '주말', '센치'], 'title': '가끔 미치도록 네가 안고 싶어질 때가 있어'}}\n",
      "total intersect songs : 0\n",
      "total intersect tags : 0{58730: {'songs': [431902, 445170, 356672, 488371, 562575, 588471, 79506, 387215, 359182, 232045, 638927, 422469, 491011, 614707, 139329, 589292, 250657, 553894, 609490, 290014, 654386, 639550, 577075, 237594, 59114, 406831, 144632, 553437, 573179, 679008, 130199, 682550, 440217, 100899, 95059, 593130], 'tags': ['기분전환'], 'title': ''}}\n",
      "\n",
      "total intersect songs : 0\n",
      "total intersect tags : 0\n"
     ]
    },
    {
     "name": "stderr",
     "output_type": "stream",
     "text": [
      " 25%|##5       | 18/72 [00:21<01:02,  1.16s/it]"
     ]
    },
    {
     "name": "stdout",
     "output_type": "stream",
     "text": [
      "<class 'list'>\n",
      "{94358: {'songs': [219225, 427835, 226137, 345649, 388880, 430821, 397842, 162008, 119540, 536532, 383404, 591406, 212836, 296241, 373056], 'tags': ['그루브', '유니크'], 'title': ''}}\n",
      "total intersect songs : 0\n",
      "total intersect tags : 0\n"
     ]
    },
    {
     "name": "stderr",
     "output_type": "stream",
     "text": [
      " 29%|##9       | 21/72 [00:21<01:00,  1.19s/it]"
     ]
    },
    {
     "name": "stdout",
     "output_type": "stream",
     "text": [
      "<class 'list'>\n",
      "{119043: {'songs': [], 'tags': [], 'title': '영원한 가왕 조용필'}}\n",
      "total intersect songs : 0\n",
      "total intersect tags : 0\n"
     ]
    },
    {
     "name": "stderr",
     "output_type": "stream",
     "text": [
      " 26%|##6       | 19/72 [00:21<00:48,  1.09it/s]"
     ]
    },
    {
     "name": "stdout",
     "output_type": "stream",
     "text": [
      "<class 'list'>\n",
      "{152011: {'songs': [], 'tags': [], 'title': 'FM 102.7..빌보드 2'}}\n",
      "total intersect songs : 0\n",
      "total intersect tags : 0\n"
     ]
    },
    {
     "name": "stderr",
     "output_type": "stream",
     "text": [
      " 33%|###3      | 24/72 [00:22<00:42,  1.12it/s]"
     ]
    },
    {
     "name": "stdout",
     "output_type": "stream",
     "text": [
      "<class 'list'>\n",
      "{26017: {'songs': [205179, 120895, 511272, 197280, 588744, 658241, 365895, 209724, 130990], 'tags': ['트로트', '봄바람', '힐링', '기분전환'], 'title': ''}}\n",
      "total intersect songs : 0\n",
      "total intersect tags : 0\n"
     ]
    },
    {
     "name": "stderr",
     "output_type": "stream",
     "text": [
      " 31%|###       | 22/72 [00:22<00:59,  1.20s/it]"
     ]
    },
    {
     "name": "stdout",
     "output_type": "stream",
     "text": [
      "<class 'list'>\n",
      "{56321: {'songs': [173912, 660599, 92890, 482846, 107725, 317824, 161942, 381157, 399007, 233089, 526781, 41328, 194117, 307443, 257434, 314663, 399706, 641918, 653733, 553807, 625875, 33442, 30004, 521059, 542156, 159794, 413346, 623801, 28832, 704380, 652798, 403438, 589880, 99786], 'tags': ['까페'], 'title': ''}}\n",
      "total intersect songs : 0\n",
      "total intersect tags : 0\n"
     ]
    },
    {
     "name": "stderr",
     "output_type": "stream",
     "text": [
      " 31%|###       | 22/72 [00:22<00:55,  1.11s/it]"
     ]
    },
    {
     "name": "stdout",
     "output_type": "stream",
     "text": [
      "<class 'list'>\n",
      "{138515: {'songs': [50994, 692019, 298218, 36932, 579262], 'tags': [], 'title': ''}}\n",
      "total intersect songs : 0\n",
      "total intersect tags : 0\n"
     ]
    },
    {
     "name": "stderr",
     "output_type": "stream",
     "text": [
      " 35%|###4      | 25/72 [00:22<00:32,  1.45it/s]"
     ]
    },
    {
     "name": "stdout",
     "output_type": "stream",
     "text": [
      "<class 'list'>\n",
      "{12129: {'songs': [183051, 694767, 201533, 333595, 472314, 296241, 493506, 516906, 250271, 63554, 377584, 71884, 406044, 121565, 195604, 141894], 'tags': ['사랑'], 'title': ''}}\n",
      "total intersect songs : 0\n",
      "total intersect tags : 0\n"
     ]
    },
    {
     "name": "stderr",
     "output_type": "stream",
     "text": [
      " 29%|##9       | 21/72 [00:22<00:58,  1.15s/it]"
     ]
    },
    {
     "name": "stdout",
     "output_type": "stream",
     "text": [
      "<class 'list'>\n",
      "{102052: {'songs': [564558, 487937, 410140, 359204, 568726, 601992, 41469, 651982, 257963, 564906, 665036, 319227, 388295, 166947, 498496, 296381, 649726, 93783, 241905, 311948, 56008, 198662, 220954, 33004, 312296, 610593, 106871, 106365, 360501, 666765, 74000, 522249, 11848, 175401, 605409, 99907, 668256, 51014, 108577, 197869, 458921, 211834, 213067, 450202, 160409, 346246, 375205, 78236, 3727, 413558, 410276, 149660, 123485, 440993], 'tags': ['아이돌의숨은명곡'], 'title': ''}}\n",
      "total intersect songs : 0\n",
      "total intersect tags : 0\n"
     ]
    },
    {
     "name": "stderr",
     "output_type": "stream",
     "text": [
      " 28%|##7       | 20/72 [00:22<00:51,  1.01it/s]"
     ]
    },
    {
     "name": "stdout",
     "output_type": "stream",
     "text": [
      "<class 'list'>\n",
      "{113572: {'songs': [690771, 480081, 672663, 396062, 216259, 515865, 443832, 121687, 303745, 502750, 86231, 25063], 'tags': [], 'title': ''}}\n",
      "total intersect songs : 0\n",
      "total intersect tags : 0\n"
     ]
    },
    {
     "name": "stderr",
     "output_type": "stream",
     "text": [
      " 32%|###1      | 23/72 [00:22<00:42,  1.15it/s]"
     ]
    },
    {
     "name": "stdout",
     "output_type": "stream",
     "text": [
      "<class 'list'>\n",
      "{5640: {'songs': [227121, 205482, 681757, 23067, 36329, 75295, 245921, 42165, 418648, 461204, 3520, 697503, 349727, 140427, 528320, 683524, 517472, 444570], 'tags': ['헬스', '운동'], 'title': ''}}\n",
      "total intersect songs : 0\n",
      "total intersect tags : 0\n"
     ]
    },
    {
     "name": "stderr",
     "output_type": "stream",
     "text": [
      " 32%|###1      | 23/72 [00:22<00:48,  1.00it/s]"
     ]
    },
    {
     "name": "stdout",
     "output_type": "stream",
     "text": [
      "<class 'list'>\n",
      "{58058: {'songs': [321397, 421256, 431539, 221908, 400843, 277272, 531336, 67238, 378627, 128682, 525991, 76676, 245238, 643203, 180510, 23520, 665625, 154031, 219955, 86915, 47494, 259414, 296443, 202450, 534049, 645594, 617473, 243532, 298168, 437635, 383052, 533483, 302647, 188610, 87587, 614325, 103120], 'tags': [], 'title': ''}}\n",
      "total intersect songs : 0\n",
      "total intersect tags : 0\n"
     ]
    },
    {
     "name": "stderr",
     "output_type": "stream",
     "text": [
      " 31%|###       | 22/72 [00:22<00:46,  1.08it/s]"
     ]
    },
    {
     "name": "stdout",
     "output_type": "stream",
     "text": [
      "<class 'list'>\n",
      "{43242: {'songs': [], 'tags': [], 'title': '내취향 Jazz Hip-Hop'}}\n",
      "total intersect songs : 0\n",
      "total intersect tags : 0\n"
     ]
    },
    {
     "name": "stderr",
     "output_type": "stream",
     "text": [
      " 36%|###6      | 26/72 [00:23<00:32,  1.43it/s]"
     ]
    },
    {
     "name": "stdout",
     "output_type": "stream",
     "text": [
      "<class 'list'>\n",
      "{33404: {'songs': [169971, 517580, 287099, 653338, 606306, 100397, 173832, 163997, 618199, 234362, 61987, 231597, 300930, 262005, 637876, 273838, 471251, 394369], 'tags': [], 'title': ''}}\n",
      "total intersect songs : 0\n",
      "total intersect tags : 0\n",
      "<class 'list'>\n",
      "{115373: {'songs': [89620, 175293, 664555, 664191, 326343, 102784, 486482, 390803, 667123, 61595, 510286, 67773, 331003], 'tags': [], 'title': ''}}\n",
      "total intersect songs : 0\n",
      "total intersect tags : 0\n"
     ]
    },
    {
     "name": "stderr",
     "output_type": "stream",
     "text": [
      " 28%|##7       | 20/72 [00:23<00:54,  1.05s/it]"
     ]
    },
    {
     "name": "stdout",
     "output_type": "stream",
     "text": [
      "<class 'list'>\n",
      "{123833: {'songs': [388252, 603808, 618504, 66054, 62022, 656664, 213135, 647666, 557835, 451966, 626502, 518560, 474994, 580106], 'tags': ['분위기', '감성', '드라이브', '히든트랙', '스트레스'], 'title': ''}}\n",
      "total intersect songs : 0\n",
      "total intersect tags : 0\n"
     ]
    },
    {
     "name": "stderr",
     "output_type": "stream",
     "text": [
      " 31%|###       | 22/72 [00:23<01:03,  1.26s/it]"
     ]
    },
    {
     "name": "stdout",
     "output_type": "stream",
     "text": [
      "<class 'list'>\n",
      "{117522: {'songs': [208812, 629738, 232874, 13281, 389468, 95323, 75842, 169984, 620528, 377243, 357367, 629070, 461341, 199262, 396828, 349492, 547967, 487911, 15318, 448116, 523521, 157055, 209993, 187047, 600802, 668128, 108004, 463173, 520093, 683564, 673796, 259368, 680366, 235773, 367534], 'tags': ['카페', '센치', '위로', '감성', '기분전환'], 'title': ''}}\n",
      "total intersect songs : 0\n",
      "total intersect tags : 0\n"
     ]
    },
    {
     "name": "stderr",
     "output_type": "stream",
     "text": [
      " 32%|###1      | 23/72 [00:23<00:55,  1.13s/it]"
     ]
    },
    {
     "name": "stdout",
     "output_type": "stream",
     "text": [
      "<class 'list'>\n",
      "{65660: {'songs': [], 'tags': [], 'title': '바쁜 일상 속,마음의 위로가 필요할때.'}}\n",
      "total intersect songs : 0\n",
      "total intersect tags : 0\n"
     ]
    },
    {
     "name": "stderr",
     "output_type": "stream",
     "text": [
      " 29%|##9       | 21/72 [00:23<00:53,  1.06s/it]"
     ]
    },
    {
     "name": "stdout",
     "output_type": "stream",
     "text": [
      "<class 'list'>\n",
      "{24260: {'songs': [698780, 637123, 554069], 'tags': [], 'title': ''}}\n",
      "total intersect songs : 0\n",
      "total intersect tags : 0\n",
      "<class 'list'>\n",
      "<class 'list'>{147831: {'songs': [], 'tags': ['들썩들썩', '팝송', '신나는'], 'title': '분위기있는 신나는  팝송'}}\n",
      "\n",
      "{146276: {'songs': [227353, 267805, 427246, 661169, 63551, 537836, 624080, 351585, 93217, 197398, 529494], 'tags': [], 'title': ''}}\n",
      "total intersect songs : 0\n",
      "total intersect tags : 0\n"
     ]
    },
    {
     "name": "stderr",
     "output_type": "stream",
     "text": [
      " 39%|###8      | 28/72 [00:23<00:27,  1.62it/s]"
     ]
    },
    {
     "name": "stdout",
     "output_type": "stream",
     "text": [
      "total intersect songs : 0\n",
      "total intersect tags : 0\n"
     ]
    },
    {
     "name": "stderr",
     "output_type": "stream",
     "text": [
      " 33%|###3      | 24/72 [00:23<00:48,  1.00s/it]"
     ]
    },
    {
     "name": "stdout",
     "output_type": "stream",
     "text": [
      "<class 'list'>\n",
      "{2739: {'songs': [406198, 364853, 220508, 374658, 581581, 234763, 397853, 430855, 693110, 17880, 50354, 614124, 337127, 704616], 'tags': ['가을', '드라이브', '재즈', '가족'], 'title': ''}}\n",
      "total intersect songs : 0\n",
      "total intersect tags : 0\n"
     ]
    },
    {
     "name": "stderr",
     "output_type": "stream",
     "text": [
      " 32%|###1      | 23/72 [00:23<00:49,  1.02s/it]"
     ]
    },
    {
     "name": "stdout",
     "output_type": "stream",
     "text": [
      "<class 'list'>\n",
      "{85208: {'songs': [440708, 56646, 197237, 247137, 264095, 498051, 411090, 113084, 102206, 232287, 205789, 544099, 470292, 372034, 115765, 688472, 325127, 41680, 120531, 490611, 290941, 364807, 403801, 285104, 66453], 'tags': ['밤', '새벽'], 'title': ''}}\n",
      "total intersect songs : 0\n",
      "total intersect tags : 0\n"
     ]
    },
    {
     "name": "stderr",
     "output_type": "stream",
     "text": [
      " 33%|###3      | 24/72 [00:24<00:56,  1.17s/it]"
     ]
    },
    {
     "name": "stdout",
     "output_type": "stream",
     "text": [
      "<class 'list'>\n",
      "{118783: {'songs': [50117, 486501, 20389, 270877, 450538, 42479, 62027, 196110, 703854, 541732, 341436, 527847, 442772, 356882, 659716], 'tags': [], 'title': ''}}\n",
      "total intersect songs : 0\n",
      "total intersect tags : 0\n"
     ]
    },
    {
     "name": "stderr",
     "output_type": "stream",
     "text": [
      " 29%|##9       | 21/72 [00:24<00:53,  1.05s/it]"
     ]
    },
    {
     "name": "stdout",
     "output_type": "stream",
     "text": [
      "<class 'list'>\n",
      "{23438: {'songs': [484718, 659334, 126026, 508608, 114686, 312942, 90640, 91075, 369157, 340559], 'tags': [], 'title': ''}}\n",
      "total intersect songs : 0\n",
      "total intersect tags : 0\n"
     ]
    },
    {
     "name": "stderr",
     "output_type": "stream",
     "text": [
      " 32%|###1      | 23/72 [00:24<00:58,  1.20s/it]"
     ]
    },
    {
     "name": "stdout",
     "output_type": "stream",
     "text": [
      "<class 'list'>\n",
      "{34841: {'songs': [], 'tags': [], 'title': '♥♥♥♥♥♥♥♥♥♥♥♥♥♥♥'}}\n",
      "total intersect songs : 0\n",
      "total intersect tags : 0\n",
      "<class 'list'>\n",
      "{1120: {'songs': [101572, 274044, 108757, 526577, 22845, 540992, 561221, 104450, 413170, 222279, 157740, 245028, 508789], 'tags': [], 'title': ''}}\n",
      "total intersect songs : 0\n",
      "total intersect tags : 0\n"
     ]
    },
    {
     "name": "stderr",
     "output_type": "stream",
     "text": [
      " 33%|###3      | 24/72 [00:24<00:53,  1.12s/it]"
     ]
    },
    {
     "name": "stdout",
     "output_type": "stream",
     "text": [
      "<class 'list'>\n",
      "{129424: {'songs': [131457, 265604, 659015, 144276, 618731, 369870, 545189], 'tags': [], 'title': ''}}\n",
      "total intersect songs : 0\n",
      "total intersect tags : 0\n"
     ]
    },
    {
     "name": "stderr",
     "output_type": "stream",
     "text": [
      " 35%|###4      | 25/72 [00:24<00:41,  1.14it/s]"
     ]
    },
    {
     "name": "stdout",
     "output_type": "stream",
     "text": [
      "<class 'list'>\n",
      "{9296: {'songs': [236205, 626337, 123014, 276357, 275150, 303422, 74958, 293972, 11199, 16961], 'tags': ['제이팝'], 'title': ''}}\n",
      "total intersect songs : 0\n",
      "total intersect tags : 0\n"
     ]
    },
    {
     "name": "stderr",
     "output_type": "stream",
     "text": [
      " 35%|###4      | 25/72 [00:24<00:42,  1.11it/s]"
     ]
    },
    {
     "name": "stdout",
     "output_type": "stream",
     "text": [
      "<class 'list'>\n",
      "{15133: {'songs': [321147, 312613, 332893, 458058, 387284, 422176, 20128, 580019, 276951], 'tags': [], 'title': ''}}\n",
      "total intersect songs : 0\n",
      "total intersect tags : 0\n"
     ]
    },
    {
     "name": "stderr",
     "output_type": "stream",
     "text": [
      " 35%|###4      | 25/72 [00:24<00:48,  1.04s/it]"
     ]
    },
    {
     "name": "stdout",
     "output_type": "stream",
     "text": [
      "<class 'list'>\n",
      "{90953: {'songs': [124485, 366239, 534049, 236465, 418935, 402467, 49772, 254046, 459866, 6855, 233641, 174225, 217123, 483733, 337763, 425946, 380361, 104308, 270269, 702414], 'tags': [], 'title': ''}}\n",
      "total intersect songs : 0\n",
      "total intersect tags : 0\n"
     ]
    },
    {
     "name": "stderr",
     "output_type": "stream",
     "text": [
      " 40%|####      | 29/72 [00:24<00:32,  1.31it/s]"
     ]
    },
    {
     "name": "stdout",
     "output_type": "stream",
     "text": [
      "<class 'list'>\n",
      "{84317: {'songs': [], 'tags': [], 'title': '가나다라'}}<class 'list'>\n",
      "\n",
      "total intersect songs : 0\n",
      "total intersect tags : 0\n"
     ]
    },
    {
     "name": "stderr",
     "output_type": "stream",
     "text": [
      " 36%|###6      | 26/72 [00:25<00:39,  1.16it/s]"
     ]
    },
    {
     "name": "stdout",
     "output_type": "stream",
     "text": [
      "<class 'list'>\n",
      "{82567: {'songs': [654757, 282041, 611860, 602672, 569023, 361938, 313078, 187486, 231658, 541351, 486938, 634322, 690611, 112984, 178251, 594592, 93333, 279590, 635537, 108601, 589546, 64426, 380098, 315273, 123821, 67777, 217123, 95323, 614240, 117595, 166566, 615112, 437682, 396200, 164243, 350974, 406372, 44156, 419522, 701683], 'tags': ['회상'], 'title': ''}}{31506: {'songs': [243392, 113549, 523371, 324162, 676925, 637993, 497982, 542554, 586541, 92779, 99405, 512651, 212667, 615741, 17544, 547342, 699484, 506513, 331055, 387602, 470845, 683265, 252890, 511508, 466404, 330558], 'tags': [], 'title': ''}}\n",
      "\n",
      "total intersect songs : 0total intersect songs : 0\n",
      "\n",
      "total intersect tags : 0total intersect tags : 0\n"
     ]
    },
    {
     "name": "stderr",
     "output_type": "stream",
     "text": [
      " 32%|###1      | 23/72 [00:25<00:48,  1.00it/s]"
     ]
    },
    {
     "name": "stdout",
     "output_type": "stream",
     "text": [
      "\n"
     ]
    },
    {
     "name": "stderr",
     "output_type": "stream",
     "text": [
      " 33%|###3      | 24/72 [00:25<00:53,  1.12s/it]"
     ]
    },
    {
     "name": "stdout",
     "output_type": "stream",
     "text": [
      "<class 'list'>\n",
      "{72463: {'songs': [], 'tags': ['휴식', '밤'], 'title': 'Good Night'}}\n",
      "total intersect songs : 0\n",
      "total intersect tags : 0\n"
     ]
    },
    {
     "name": "stderr",
     "output_type": "stream",
     "text": [
      " 31%|###       | 22/72 [00:25<00:54,  1.10s/it]"
     ]
    },
    {
     "name": "stdout",
     "output_type": "stream",
     "text": [
      "<class 'list'>\n",
      "{33198: {'songs': [250656, 400781, 18494, 577619, 150547, 598381, 469799], 'tags': [], 'title': ''}}\n",
      "total intersect songs : 0\n",
      "total intersect tags : 0\n"
     ]
    },
    {
     "name": "stderr",
     "output_type": "stream",
     "text": [
      " 35%|###4      | 25/72 [00:25<00:53,  1.14s/it]"
     ]
    },
    {
     "name": "stdout",
     "output_type": "stream",
     "text": [
      "<class 'list'>\n",
      "{2205: {'songs': [], 'tags': [], 'title': '트로트1'}}\n",
      "total intersect songs : 0\n",
      "total intersect tags : 0\n"
     ]
    },
    {
     "name": "stderr",
     "output_type": "stream",
     "text": [
      " 36%|###6      | 26/72 [00:25<00:44,  1.04it/s]"
     ]
    },
    {
     "name": "stdout",
     "output_type": "stream",
     "text": [
      "<class 'list'>\n",
      "{127152: {'songs': [636579, 174997, 182422, 291668, 503210, 518410, 532490, 30318, 450120, 252483, 162313, 511215, 267067, 693110, 183220, 346676, 653323, 453469, 402199, 617528, 652557, 229801, 596275, 9818, 14378, 156236, 319, 225113, 110534, 113885, 605205], 'tags': [], 'title': ''}}\n",
      "total intersect songs : 0\n",
      "total intersect tags : 0\n"
     ]
    },
    {
     "name": "stderr",
     "output_type": "stream",
     "text": [
      " 36%|###6      | 26/72 [00:25<00:46,  1.00s/it]"
     ]
    },
    {
     "name": "stdout",
     "output_type": "stream",
     "text": [
      "<class 'list'>\n",
      "{151001: {'songs': [224257, 572283, 148421, 677833, 436139, 349602, 373861, 509010, 492726, 17989, 592102, 266829, 463451, 542512, 651499, 75797, 377290, 321040, 22004, 83974, 164235, 78865, 53522, 540623, 457297, 32676, 688539, 336347, 505636, 560519, 456843, 626048, 594116], 'tags': [], 'title': ''}}\n",
      "total intersect songs : 0\n",
      "total intersect tags : 0\n"
     ]
    },
    {
     "name": "stderr",
     "output_type": "stream",
     "text": [
      " 32%|###1      | 23/72 [00:25<00:43,  1.13it/s]"
     ]
    },
    {
     "name": "stdout",
     "output_type": "stream",
     "text": [
      "<class 'list'>\n",
      "{60928: {'songs': [], 'tags': [], 'title': '그대 사랑 할 용기 있나요?'}}\n",
      "total intersect songs : 0\n",
      "total intersect tags : 0\n"
     ]
    },
    {
     "name": "stderr",
     "output_type": "stream",
     "text": [
      " 38%|###7      | 27/72 [00:26<00:36,  1.25it/s]"
     ]
    },
    {
     "name": "stdout",
     "output_type": "stream",
     "text": [
      "<class 'list'>\n",
      "{25385: {'songs': [264176, 533013, 654266, 668801, 333474, 59156, 172892, 604853, 268140, 519095, 696909, 533576], 'tags': ['캐롤연주곡', '크리스마스'], 'title': ''}}\n",
      "total intersect songs : 0\n",
      "total intersect tags : 0<class 'list'>\n",
      "\n",
      "{131581: {'songs': [173941, 136148, 312624, 335971, 653711, 461409, 649514, 316564, 415539, 105635, 677494, 162852, 541683, 546533, 46442, 17640, 461476, 93356, 621676, 468494, 175852, 412363, 136428, 289691, 564571, 657506, 520846, 702050, 175507, 46767], 'tags': ['첫눈', '겨울'], 'title': ''}}\n"
     ]
    },
    {
     "name": "stderr",
     "output_type": "stream",
     "text": [
      " 33%|###3      | 24/72 [00:26<00:46,  1.04it/s]"
     ]
    },
    {
     "name": "stdout",
     "output_type": "stream",
     "text": [
      "total intersect songs : 0\n",
      "total intersect tags : 0\n"
     ]
    },
    {
     "name": "stderr",
     "output_type": "stream",
     "text": [
      " 36%|###6      | 26/72 [00:26<00:46,  1.00s/it]"
     ]
    },
    {
     "name": "stdout",
     "output_type": "stream",
     "text": [
      "<class 'list'>\n",
      "{107126: {'songs': [281705, 268425, 504044, 24261, 507651, 635932, 629588, 596772, 105613], 'tags': ['감성', '기분전환'], 'title': ''}}\n",
      "total intersect songs : 0\n",
      "total intersect tags : 0\n"
     ]
    },
    {
     "name": "stderr",
     "output_type": "stream",
     "text": [
      " 42%|####1     | 30/72 [00:26<00:38,  1.10it/s]"
     ]
    },
    {
     "name": "stdout",
     "output_type": "stream",
     "text": [
      "<class 'list'>\n",
      "{113665: {'songs': [], 'tags': ['밤'], 'title': 'Music in city'}}\n",
      "total intersect songs : 0\n",
      "total intersect tags : 0\n"
     ]
    },
    {
     "name": "stderr",
     "output_type": "stream",
     "text": [
      " 35%|###4      | 25/72 [00:26<00:52,  1.11s/it]"
     ]
    },
    {
     "name": "stdout",
     "output_type": "stream",
     "text": [
      "<class 'list'>\n",
      "{10043: {'songs': [181500, 515165, 629514, 20116, 696494, 513425, 52192, 309981, 45903, 226156, 456174, 291222, 571790, 26590, 91246, 145723, 351612, 465449, 197081, 158651, 121837, 399772, 6945, 13896, 130120, 699524, 189457, 85401, 509663, 230499, 131595], 'tags': [], 'title': ''}}\n",
      "total intersect songs : 0\n",
      "total intersect tags : 0\n"
     ]
    },
    {
     "name": "stderr",
     "output_type": "stream",
     "text": [
      " 39%|###8      | 28/72 [00:26<00:30,  1.44it/s]"
     ]
    },
    {
     "name": "stdout",
     "output_type": "stream",
     "text": [
      "<class 'list'>\n",
      "{117074: {'songs': [629738, 232874, 13281, 508593, 557120, 169984, 620528, 377243, 32385, 139129, 105140, 582252, 38261, 144663, 396828, 509998, 349492, 422915, 87722, 487911, 42155, 341513, 384663, 523521, 157055, 187047, 49814, 648628, 463173, 683564, 360360, 426839, 209782, 473256, 350309, 361510, 479284, 215411, 235773, 304382, 367534], 'tags': ['혼자', '분위기', '조용', '자기_전', '인디'], 'title': ''}}\n",
      "total intersect songs : 0\n",
      "total intersect tags : 0\n"
     ]
    },
    {
     "name": "stderr",
     "output_type": "stream",
     "text": [
      " 38%|###7      | 27/72 [00:26<00:43,  1.03it/s]"
     ]
    },
    {
     "name": "stdout",
     "output_type": "stream",
     "text": [
      "<class 'list'>\n",
      "{7570: {'songs': [424815, 527027, 508960, 241702, 395544, 26626, 417131, 272307, 25700, 523434, 77640, 539892, 230729, 415774, 173709], 'tags': ['신인', '하드'], 'title': ''}}\n",
      "total intersect songs : 0\n",
      "total intersect tags : 0\n"
     ]
    },
    {
     "name": "stderr",
     "output_type": "stream",
     "text": [
      " 43%|####3     | 31/72 [00:26<00:33,  1.22it/s]"
     ]
    },
    {
     "name": "stdout",
     "output_type": "stream",
     "text": [
      "<class 'list'>\n",
      "{132550: {'songs': [], 'tags': ['비오는날', '감성곡', '추억', '헤어짐', '발라드'], 'title': '가을밤 비에 젖어 듣는 발라드'}}\n",
      "total intersect songs : 0\n",
      "total intersect tags : 0\n"
     ]
    },
    {
     "name": "stderr",
     "output_type": "stream",
     "text": [
      " 38%|###7      | 27/72 [00:26<00:45,  1.02s/it]"
     ]
    },
    {
     "name": "stdout",
     "output_type": "stream",
     "text": [
      "<class 'list'>\n",
      "{99288: {'songs': [164924, 92795, 552458, 567520, 625301, 611206], 'tags': [], 'title': ''}}\n",
      "total intersect songs : 0\n",
      "total intersect tags : 0\n"
     ]
    },
    {
     "name": "stderr",
     "output_type": "stream",
     "text": [
      " 36%|###6      | 26/72 [00:26<00:42,  1.07it/s]"
     ]
    },
    {
     "name": "stdout",
     "output_type": "stream",
     "text": [
      "<class 'list'>\n",
      "{62636: {'songs': [113333, 100530, 702888, 217775, 150069, 442487, 123850, 346706, 552835, 77719, 112430, 207481, 191014, 552795, 268910, 43743, 237771, 406166, 378762, 219455, 387247, 637721, 294593, 408163], 'tags': [], 'title': ''}}\n",
      "total intersect songs : 0\n",
      "total intersect tags : 0\n"
     ]
    },
    {
     "name": "stderr",
     "output_type": "stream",
     "text": [
      " 33%|###3      | 24/72 [00:27<00:47,  1.02it/s]"
     ]
    },
    {
     "name": "stdout",
     "output_type": "stream",
     "text": [
      "<class 'list'>\n",
      "{5586: {'songs': [654757, 377811, 231362, 467941, 252584, 598532, 320804, 390774, 162784, 297002, 260176, 614494, 69155, 43326, 153839, 200453, 173136, 214407, 567654, 239751, 248759], 'tags': [], 'title': ''}}\n",
      "total intersect songs : 0\n",
      "total intersect tags : 0\n"
     ]
    },
    {
     "name": "stderr",
     "output_type": "stream",
     "text": [
      " 35%|###4      | 25/72 [00:27<00:48,  1.04s/it]"
     ]
    },
    {
     "name": "stdout",
     "output_type": "stream",
     "text": [
      "<class 'list'>\n",
      "{129429: {'songs': [141963, 224114, 594460, 707442, 698007, 222619, 222944, 267309, 203755, 451260], 'tags': [], 'title': ''}}\n",
      "total intersect songs : 0\n",
      "total intersect tags : 0\n"
     ]
    },
    {
     "name": "stderr",
     "output_type": "stream",
     "text": [
      " 38%|###7      | 27/72 [00:27<00:48,  1.09s/it]"
     ]
    },
    {
     "name": "stdout",
     "output_type": "stream",
     "text": [
      "<class 'list'>\n",
      "<class 'list'>{124075: {'songs': [308381, 486877, 352313, 379972, 540021, 416042, 869, 632613, 242623, 696592, 641599, 620995, 512375, 274165, 212304, 330547], 'tags': ['추억'], 'title': ''}}\n",
      "\n",
      "{85158: {'songs': [386585, 396774, 535148, 426895, 161756, 90282, 285144, 402560, 171736, 339618, 82499, 183908, 164100], 'tags': ['코로나'], 'title': ''}}\n",
      "total intersect songs : 0\n",
      "total intersect tags : 0\n",
      "total intersect songs : 0<class 'list'>\n",
      "\n",
      "{144253: {'songs': [421002, 495821, 117367, 229039, 287328, 278995, 651415, 413129, 384299, 632286, 657673, 11791, 139354], 'tags': [], 'title': ''}}\n",
      "total intersect songs : 0\n",
      "total intersect tags : 0total intersect tags : 0\n"
     ]
    },
    {
     "name": "stderr",
     "output_type": "stream",
     "text": [
      " 39%|###8      | 28/72 [00:27<00:40,  1.08it/s]"
     ]
    },
    {
     "name": "stdout",
     "output_type": "stream",
     "text": [
      "\n"
     ]
    },
    {
     "name": "stderr",
     "output_type": "stream",
     "text": [
      " 39%|###8      | 28/72 [00:27<00:41,  1.06it/s]"
     ]
    },
    {
     "name": "stdout",
     "output_type": "stream",
     "text": [
      "<class 'list'>\n",
      "{98115: {'songs': [182135, 92755, 331055, 438003, 465602, 293949, 34258, 93405, 107266, 304497, 62426, 179969, 58828, 490923, 108214, 111481, 401221, 339124, 48797, 286874, 582999, 415616, 337544, 324330, 187259, 705556, 236393, 553275, 361453, 407555, 15938, 129767, 661952, 264929, 137320, 284554, 704380, 548229, 182645, 186070, 116573, 273694, 634998, 212297, 325043, 526542, 259711, 15350, 419666, 663144, 636183, 159352, 168930, 345150, 185756, 544128, 461357, 35931], 'tags': [], 'title': ''}}\n",
      "total intersect songs : 0\n",
      "total intersect tags : 0\n"
     ]
    },
    {
     "name": "stderr",
     "output_type": "stream",
     "text": [
      " 40%|####      | 29/72 [00:27<00:36,  1.18it/s]"
     ]
    },
    {
     "name": "stdout",
     "output_type": "stream",
     "text": [
      "<class 'list'>\n",
      "{59329: {'songs': [384663, 504267, 485640, 516653, 372987, 553786, 536584, 116005, 26396], 'tags': ['이별'], 'title': ''}}\n",
      "total intersect songs : 0\n",
      "total intersect tags : 0\n"
     ]
    },
    {
     "name": "stderr",
     "output_type": "stream",
     "text": [
      " 38%|###7      | 27/72 [00:28<00:44,  1.02it/s]"
     ]
    },
    {
     "name": "stdout",
     "output_type": "stream",
     "text": [
      "<class 'list'>\n",
      "{15064: {'songs': [79286, 671154, 495821, 31091, 10360, 56306, 518955, 651450, 644061, 326255, 187787, 542235, 76546, 544128, 206974, 463375, 610933, 229538, 279228, 123583, 675628, 326806, 172950, 671740, 474489, 510572, 132012, 275192, 152396, 276118, 187070, 147112, 687167, 447666, 332345, 262156, 514720, 672218, 82759, 265584, 308065, 12328, 271855, 618026, 481703, 263228, 80984, 657675, 543359, 380700, 229135, 173837, 384301, 647840, 236628, 109560, 341122, 66078, 198976, 117877, 493750, 88300, 383632, 190913, 97634], 'tags': ['이별', '사랑'], 'title': ''}}\n",
      "total intersect songs : 0\n",
      "total intersect tags : 0\n"
     ]
    },
    {
     "name": "stderr",
     "output_type": "stream",
     "text": [
      " 35%|###4      | 25/72 [00:28<00:47,  1.00s/it]"
     ]
    },
    {
     "name": "stdout",
     "output_type": "stream",
     "text": [
      "<class 'list'>\n",
      "{125485: {'songs': [347564, 570221, 689403, 258292, 618557, 32217, 420487, 271195, 357692], 'tags': ['잔잔한', '피아노', '클래식'], 'title': ''}}\n",
      "total intersect songs : 0\n",
      "total intersect tags : 0\n"
     ]
    },
    {
     "name": "stderr",
     "output_type": "stream",
     "text": [
      " 44%|####4     | 32/72 [00:28<00:38,  1.05it/s]"
     ]
    },
    {
     "name": "stdout",
     "output_type": "stream",
     "text": [
      "<class 'list'>\n",
      "{59160: {'songs': [], 'tags': ['호텔델루나OST', '여진구'], 'title': '호텔 델루나 ost (최신)(순차정렬)'}}\n",
      "total intersect songs : 0\n",
      "total intersect tags : 0\n"
     ]
    },
    {
     "name": "stderr",
     "output_type": "stream",
     "text": [
      " 36%|###6      | 26/72 [00:28<00:43,  1.05it/s]"
     ]
    },
    {
     "name": "stdout",
     "output_type": "stream",
     "text": [
      "<class 'list'>\n",
      "{93673: {'songs': [553166, 482423, 346379, 475599, 458465, 443052, 226271, 52695, 323577, 385340, 145864, 689780, 151837, 628954], 'tags': ['프로듀스48', '원픽', '프로듀스48포지션평가곡', '프로듀스101'], 'title': ''}}\n",
      "total intersect songs : 0\n",
      "total intersect tags : 0\n"
     ]
    },
    {
     "name": "stderr",
     "output_type": "stream",
     "text": [
      " 40%|####      | 29/72 [00:28<00:37,  1.13it/s]"
     ]
    },
    {
     "name": "stdout",
     "output_type": "stream",
     "text": [
      "<class 'list'>\n",
      "{112058: {'songs': [601640, 294624, 541251, 190046, 244446, 542851], 'tags': ['힙합', 'BEYONCE'], 'title': ''}}\n",
      "total intersect songs : 0\n",
      "total intersect tags : 0\n"
     ]
    },
    {
     "name": "stderr",
     "output_type": "stream",
     "text": [
      " 42%|####1     | 30/72 [00:28<00:35,  1.18it/s]"
     ]
    },
    {
     "name": "stdout",
     "output_type": "stream",
     "text": [
      "<class 'list'>\n",
      "{121012: {'songs': [206864, 319227, 483764, 23443, 302621, 277441, 121309, 104911, 675567, 146150, 643177, 469833, 358033, 649317, 262081, 116195, 634793, 625200, 700552, 477515, 27075, 558771, 670047], 'tags': [], 'title': ''}}\n",
      "total intersect songs : 0\n",
      "total intersect tags : 0\n"
     ]
    },
    {
     "name": "stderr",
     "output_type": "stream",
     "text": [
      " 40%|####      | 29/72 [00:28<00:42,  1.02it/s]"
     ]
    },
    {
     "name": "stdout",
     "output_type": "stream",
     "text": [
      "<class 'list'>\n",
      "{129067: {'songs': [], 'tags': [], 'title': '♬클럽! 부모님들도 간다 트롯트클럽!!♪'}}\n",
      "total intersect songs : 0\n",
      "total intersect tags : 0\n"
     ]
    },
    {
     "name": "stderr",
     "output_type": "stream",
     "text": [
      " 38%|###7      | 27/72 [00:28<00:38,  1.18it/s]"
     ]
    },
    {
     "name": "stdout",
     "output_type": "stream",
     "text": [
      "<class 'list'>\n",
      "{58814: {'songs': [224921, 707724, 212014, 506664, 48948], 'tags': [], 'title': ''}}\n",
      "total intersect songs : 0\n",
      "total intersect tags : 0\n"
     ]
    },
    {
     "name": "stderr",
     "output_type": "stream",
     "text": [
      " 40%|####      | 29/72 [00:28<00:43,  1.02s/it]"
     ]
    },
    {
     "name": "stdout",
     "output_type": "stream",
     "text": [
      "<class 'list'>\n",
      "{70060: {'songs': [287003, 96564, 419697, 243099, 446922, 694881, 360651, 161933, 24823, 443275, 696692], 'tags': [], 'title': ''}}\n",
      "total intersect songs : 0\n",
      "total intersect tags : 0\n"
     ]
    },
    {
     "name": "stderr",
     "output_type": "stream",
     "text": [
      " 36%|###6      | 26/72 [00:29<00:45,  1.02it/s]"
     ]
    },
    {
     "name": "stdout",
     "output_type": "stream",
     "text": [
      "<class 'list'>\n",
      "{40142: {'songs': [], 'tags': [], 'title': '들어보세요 후회하지 않으 실거에요..'}}\n",
      "total intersect songs : 0\n",
      "total intersect tags : 0\n"
     ]
    },
    {
     "name": "stderr",
     "output_type": "stream",
     "text": [
      " 39%|###8      | 28/72 [00:29<00:44,  1.00s/it]"
     ]
    },
    {
     "name": "stdout",
     "output_type": "stream",
     "text": [
      "<class 'list'>\n",
      "{72675: {'songs': [], 'tags': [], 'title': '힙합패거리 전성시대 71'}}\n",
      "total intersect songs : 0\n",
      "total intersect tags : 0\n"
     ]
    },
    {
     "name": "stderr",
     "output_type": "stream",
     "text": [
      " 42%|####1     | 30/72 [00:29<00:37,  1.11it/s]"
     ]
    },
    {
     "name": "stdout",
     "output_type": "stream",
     "text": [
      "<class 'list'>\n",
      "{36057: {'songs': [540579, 12328, 400958, 184138, 534280, 50840, 358847, 351431, 263832, 503312, 655561, 600341, 529872, 548537, 83593], 'tags': [], 'title': ''}}\n",
      "total intersect songs : 0\n",
      "total intersect tags : 0\n"
     ]
    },
    {
     "name": "stderr",
     "output_type": "stream",
     "text": [
      " 46%|####5     | 33/72 [00:29<00:41,  1.06s/it]"
     ]
    },
    {
     "name": "stdout",
     "output_type": "stream",
     "text": [
      "<class 'list'>\n",
      "{134655: {'songs': [], 'tags': ['CCM'], 'title': '주님의 사랑과 함께하는 힐링 CCM'}}\n",
      "total intersect songs : 0\n",
      "total intersect tags : 0\n"
     ]
    },
    {
     "name": "stderr",
     "output_type": "stream",
     "text": [
      " 43%|####3     | 31/72 [00:29<00:29,  1.39it/s]"
     ]
    },
    {
     "name": "stdout",
     "output_type": "stream",
     "text": [
      "<class 'list'>\n",
      "{98604: {'songs': [402718, 685692, 493859, 381756, 124278, 514773, 545007, 651499, 705965, 12623], 'tags': [], 'title': ''}}\n",
      "total intersect songs : 0\n",
      "total intersect tags : 0\n"
     ]
    },
    {
     "name": "stderr",
     "output_type": "stream",
     "text": [
      " 42%|####1     | 30/72 [00:29<00:40,  1.03it/s]"
     ]
    },
    {
     "name": "stdout",
     "output_type": "stream",
     "text": [
      "<class 'list'>\n",
      "{33879: {'songs': [], 'tags': ['랩'], 'title': '좋은노래총집합'}}\n",
      "total intersect songs : 0\n",
      "total intersect tags : 0\n"
     ]
    },
    {
     "name": "stderr",
     "output_type": "stream",
     "text": [
      " 42%|####1     | 30/72 [00:29<00:41,  1.02it/s]"
     ]
    },
    {
     "name": "stdout",
     "output_type": "stream",
     "text": [
      "<class 'list'>\n",
      "{55809: {'songs': [], 'tags': ['비오는날', '밤', '잔잔한'], 'title': '밤에 듣기 좋은 몽환적인 노래'}}\n",
      "total intersect songs : 0\n",
      "total intersect tags : 0\n"
     ]
    },
    {
     "name": "stderr",
     "output_type": "stream",
     "text": [
      " 39%|###8      | 28/72 [00:29<00:38,  1.14it/s]"
     ]
    },
    {
     "name": "stdout",
     "output_type": "stream",
     "text": [
      "<class 'list'>\n",
      "{152200: {'songs': [165613, 621653, 368069, 261555, 445984, 531765, 554913, 413189, 612769, 116862, 169945, 308651, 239823, 305761, 83116, 451946, 95228], 'tags': ['힐링', '밤'], 'title': ''}}\n",
      "total intersect songs : 0\n",
      "total intersect tags : 0\n"
     ]
    },
    {
     "name": "stderr",
     "output_type": "stream",
     "text": [
      " 43%|####3     | 31/72 [00:29<00:39,  1.03it/s]"
     ]
    },
    {
     "name": "stdout",
     "output_type": "stream",
     "text": [
      "<class 'list'>\n",
      "{137580: {'songs': [], 'tags': ['1980'], 'title': '플릿우드 맥의 우먼파워! 스티비 닉스의 음악여정'}}\n",
      "total intersect songs : 0\n",
      "total intersect tags : 0\n"
     ]
    },
    {
     "name": "stderr",
     "output_type": "stream",
     "text": [
      " 47%|####7     | 34/72 [00:30<00:36,  1.04it/s]"
     ]
    },
    {
     "name": "stdout",
     "output_type": "stream",
     "text": [
      "<class 'list'>\n",
      "{119927: {'songs': [417728, 184990, 181670, 531390, 462054, 211167], 'tags': ['마이마이'], 'title': ''}}\n",
      "total intersect songs : 0\n",
      "total intersect tags : 0\n"
     ]
    },
    {
     "name": "stderr",
     "output_type": "stream",
     "text": [
      " 40%|####      | 29/72 [00:30<00:47,  1.10s/it]"
     ]
    },
    {
     "name": "stdout",
     "output_type": "stream",
     "text": [
      "<class 'list'>\n",
      "{40613: {'songs': [582800, 450067, 500795, 350054, 561961, 423944, 393124, 586454], 'tags': [], 'title': ''}}\n",
      "total intersect songs : 0\n",
      "total intersect tags : 0\n"
     ]
    },
    {
     "name": "stderr",
     "output_type": "stream",
     "text": [
      " 44%|####4     | 32/72 [00:30<00:35,  1.12it/s]"
     ]
    },
    {
     "name": "stdout",
     "output_type": "stream",
     "text": [
      "<class 'list'>\n",
      "{148047: {'songs': [588902, 335792, 1182, 633203, 140938, 672227, 535483, 291826, 402351, 399584, 693638, 437674, 203516, 363570, 500708, 260612, 91823, 701767, 457325, 167253], 'tags': [], 'title': ''}}\n",
      "total intersect songs : 0\n",
      "total intersect tags : 0\n"
     ]
    },
    {
     "name": "stderr",
     "output_type": "stream",
     "text": [
      " 38%|###7      | 27/72 [00:30<00:51,  1.14s/it]"
     ]
    },
    {
     "name": "stdout",
     "output_type": "stream",
     "text": [
      "<class 'list'>\n",
      "{37353: {'songs': [332688, 421636, 472313, 540932, 359528, 250047, 385726, 94701, 271038], 'tags': [], 'title': ''}}\n",
      "total intersect songs : 0\n",
      "total intersect tags : 0\n"
     ]
    },
    {
     "name": "stderr",
     "output_type": "stream",
     "text": [
      " 43%|####3     | 31/72 [00:30<00:39,  1.04it/s]"
     ]
    },
    {
     "name": "stdout",
     "output_type": "stream",
     "text": [
      "<class 'list'>\n",
      "{1853: {'songs': [591035, 471988, 426886, 507394, 151218, 540623, 414426, 380832, 110087, 487626, 687034, 655936, 245416, 15376, 26648, 684256, 445691, 593825, 550446, 670996, 435550, 295065, 658397, 274390, 509269, 80656, 290474, 331794, 111474, 490877, 28783, 652509, 282168, 403297, 177701, 539090, 667123, 37202, 562572, 643315, 218679, 546536, 431981, 612798, 189862, 315149, 214688, 493757, 507970, 551859, 48934, 390434, 149626, 316947, 13534, 459761, 428290, 352499, 656512, 449765, 302692, 145470, 302994, 13965, 422053, 9385, 229068, 107198, 345071, 218474, 241308, 33206, 430727, 74535, 215794, 459853, 464562], 'tags': [], 'title': ''}}\n",
      "total intersect songs : 0\n",
      "total intersect tags : 0\n"
     ]
    },
    {
     "name": "stderr",
     "output_type": "stream",
     "text": [
      " 43%|####3     | 31/72 [00:30<00:43,  1.07s/it]"
     ]
    },
    {
     "name": "stdout",
     "output_type": "stream",
     "text": [
      "<class 'list'>\n",
      "{68180: {'songs': [204400, 551268, 84117, 508212, 225799, 204818, 679075, 266399, 323123, 263882, 191915, 64052, 676160, 458179, 535399, 116114, 346619, 93143, 87972, 157134, 368094, 205179, 49413], 'tags': ['카페', '볼빨간사춘기', '여행', '동화', '레트로'], 'title': ''}}\n",
      "total intersect songs : 0\n",
      "total intersect tags : 0\n"
     ]
    },
    {
     "name": "stderr",
     "output_type": "stream",
     "text": [
      " 44%|####4     | 32/72 [00:30<00:37,  1.08it/s]"
     ]
    },
    {
     "name": "stdout",
     "output_type": "stream",
     "text": [
      "<class 'list'>\n",
      "{84380: {'songs': [603200, 354739, 78892, 302691, 231659, 12060, 120127], 'tags': [], 'title': ''}}\n",
      "total intersect songs : 0\n",
      "total intersect tags : 0\n"
     ]
    },
    {
     "name": "stderr",
     "output_type": "stream",
     "text": [
      " 49%|####8     | 35/72 [00:30<00:34,  1.09it/s]"
     ]
    },
    {
     "name": "stdout",
     "output_type": "stream",
     "text": [
      "<class 'list'>\n",
      "{19339: {'songs': [502557, 198696, 159501, 622257, 12397, 73947, 424208, 223330], 'tags': [], 'title': ''}}\n",
      "total intersect songs : 0\n",
      "total intersect tags : 0\n"
     ]
    },
    {
     "name": "stderr",
     "output_type": "stream",
     "text": [
      " 42%|####1     | 30/72 [00:31<00:40,  1.04it/s]"
     ]
    },
    {
     "name": "stdout",
     "output_type": "stream",
     "text": [
      "<class 'list'>\n",
      "{118670: {'songs': [69831, 104726, 4969, 414278, 126817, 495714, 559256, 543556, 260155, 270916, 533109, 594920, 705728, 486137], 'tags': [], 'title': ''}}\n",
      "total intersect songs : 0\n",
      "total intersect tags : 0\n"
     ]
    },
    {
     "name": "stderr",
     "output_type": "stream",
     "text": [
      " 39%|###8      | 28/72 [00:31<00:43,  1.02it/s]"
     ]
    },
    {
     "name": "stdout",
     "output_type": "stream",
     "text": [
      "<class 'list'>\n",
      "{55296: {'songs': [493762, 185174, 659496, 446812, 639289, 386480, 676431, 143843, 287141, 427868, 564963, 255333, 166267, 112439], 'tags': [], 'title': ''}}\n",
      "total intersect songs : 0\n",
      "total intersect tags : 0\n"
     ]
    },
    {
     "name": "stderr",
     "output_type": "stream",
     "text": [
      " 40%|####      | 29/72 [00:31<00:47,  1.11s/it]"
     ]
    },
    {
     "name": "stdout",
     "output_type": "stream",
     "text": [
      "<class 'list'>\n",
      "{82206: {'songs': [605868, 367459, 281418, 4059, 458740, 598359, 18768, 353496, 22175, 677950, 193428, 682116, 38765, 177931, 309208, 523315, 155881, 364781, 336440, 651956, 360219, 479931, 52791, 645849, 391172, 652128, 477689, 327044, 463488, 422273, 210477, 298646, 186358, 491476, 284814, 23570, 569548, 283720, 633203, 433447, 220781, 303336, 40869, 158554, 42009, 158442, 670555, 638064], 'tags': ['힙합', '스트레스'], 'title': ''}}\n",
      "total intersect songs : 0\n",
      "total intersect tags : 0\n"
     ]
    },
    {
     "name": "stderr",
     "output_type": "stream",
     "text": [
      " 46%|####5     | 33/72 [00:31<00:35,  1.11it/s]"
     ]
    },
    {
     "name": "stdout",
     "output_type": "stream",
     "text": [
      "<class 'list'>\n",
      "{13474: {'songs': [623597, 109926, 104677, 565826, 543371, 118049, 83846, 693224, 292825, 38261, 144663, 174749, 396828, 442014, 616038, 42155, 448116, 253721, 485155, 523521, 426402, 157055, 223071, 617125, 669693, 443159, 504236], 'tags': ['감성', '감성자극', '가을비', '외로움'], 'title': ''}}\n",
      "total intersect songs : 0\n",
      "total intersect tags : 0\n"
     ]
    },
    {
     "name": "stderr",
     "output_type": "stream",
     "text": [
      " 44%|####4     | 32/72 [00:31<00:38,  1.04it/s]"
     ]
    },
    {
     "name": "stdout",
     "output_type": "stream",
     "text": [
      "<class 'list'>\n",
      "{82835: {'songs': [138584, 400193, 142798, 535221, 674665, 511634, 215173, 622440, 300870, 26942, 300073, 626922, 676764, 639395, 262919, 169658, 303479, 113072, 450936, 99891, 629685, 294566, 104459, 563563, 128449, 451480, 346632, 58386, 556669, 484125, 592962, 330780, 443100, 207126, 557523, 196899, 647195, 616073, 537863, 681565, 474146, 125182, 288702, 494933, 691566, 80592, 47868, 391653, 701197, 547219, 486760, 186847, 81402, 350605, 440737, 416639, 504314, 35156, 377401, 682517, 122317, 556849, 380110, 382469, 158488, 583482, 368304, 11559, 504502, 163463, 660523, 335436, 137007, 26213, 498222, 569405, 4847, 303101, 43057, 550580, 51913, 655158, 284684, 126691, 260427, 652334, 553594, 633777, 615181, 553976, 169564, 707611, 258258, 33579, 478896, 32903, 394680, 631571, 168744, 591044], 'tags': ['tokyo'], 'title': ''}}\n",
      "total intersect songs : 0\n",
      "total intersect tags : 0\n"
     ]
    },
    {
     "name": "stderr",
     "output_type": "stream",
     "text": [
      " 50%|#####     | 36/72 [00:31<00:32,  1.12it/s]"
     ]
    },
    {
     "name": "stdout",
     "output_type": "stream",
     "text": [
      "<class 'list'>\n",
      "{126320: {'songs': [25012, 250, 553437, 701557, 457124, 581789, 62736, 362966, 149843, 28401, 191236, 42317, 498312, 315613, 200267, 222920, 420672, 419602, 401132], 'tags': ['봄', '봄날'], 'title': ''}}\n",
      "total intersect songs : 0\n",
      "total intersect tags : 0\n"
     ]
    },
    {
     "name": "stderr",
     "output_type": "stream",
     "text": [
      " 46%|####5     | 33/72 [00:31<00:37,  1.05it/s]"
     ]
    },
    {
     "name": "stdout",
     "output_type": "stream",
     "text": [
      "<class 'list'>\n",
      "{12208: {'songs': [232874, 613722, 75842, 169984, 357367, 629070, 139129, 461341, 402583, 582252, 38261, 509998, 442014, 422915, 42155, 448116, 341513, 485155, 384663, 523521, 209993, 187047, 600802, 49814, 578635, 108004, 648628, 463173, 520093, 261659, 426839, 235773, 678762], 'tags': ['비오는날', '분위기', '드라이브', '띵곡들', '인디'], 'title': ''}}\n",
      "total intersect songs : 0\n",
      "<class 'list'>\n",
      "{57634: {'songs': [295250, 286485, 646060, 246984, 70641, 606128, 123465, 118219, 120471, 62788, 456581, 216721, 461936, 482903, 264701, 145476, 424531, 393654, 654757, 138837, 355910, 697803, 583279, 313756, 13815, 373849, 285424, 658536, 149126, 630629, 50364], 'tags': [], 'title': ''}}\n",
      "total intersect tags : 0\n",
      "total intersect songs : 0\n",
      "total intersect tags : 0\n"
     ]
    },
    {
     "name": "stderr",
     "output_type": "stream",
     "text": [
      " 43%|####3     | 31/72 [00:32<00:41,  1.02s/it]"
     ]
    },
    {
     "name": "stdout",
     "output_type": "stream",
     "text": [
      "<class 'list'>\n",
      "{58933: {'songs': [244034, 509868, 261984, 565538, 111856, 280791, 504441, 589276, 221695, 314560, 479443, 436851, 408000, 65109, 694794, 240356, 656673, 4451, 72727, 532185, 189004, 514955, 458611, 172285, 484210, 377861, 124759, 383716, 71865, 138707, 634050, 310677, 550289, 351685, 76444, 535228, 86202, 186376, 118793, 293278, 490159, 268074, 299539, 281413, 417311, 434792, 496855, 434593, 669503, 692960, 55893, 385053, 105858, 231172, 19167, 396784, 615846, 656842, 289864, 628491, 292417, 439276, 399432, 259473, 363277, 559052, 89654, 656625, 24544, 236378, 50789, 255258, 530681, 358062, 502078, 463685, 53861, 699571, 571138, 332345, 208130, 356459, 382704, 583178, 552174], 'tags': ['힐링'], 'title': ''}}\n",
      "total intersect songs : 0\n",
      "total intersect tags : 0\n"
     ]
    },
    {
     "name": "stderr",
     "output_type": "stream",
     "text": [
      " 44%|####4     | 32/72 [00:32<00:46,  1.15s/it]"
     ]
    },
    {
     "name": "stdout",
     "output_type": "stream",
     "text": [
      "<class 'list'>\n",
      "{152490: {'songs': [227798, 35476, 102469, 41267, 649065], 'tags': ['7살'], 'title': ''}}\n",
      "total intersect songs : 0\n",
      "total intersect tags : 0\n"
     ]
    },
    {
     "name": "stderr",
     "output_type": "stream",
     "text": [
      " 46%|####5     | 33/72 [00:32<00:33,  1.16it/s]"
     ]
    },
    {
     "name": "stdout",
     "output_type": "stream",
     "text": [
      "<class 'list'>\n",
      "{90716: {'songs': [276418, 406378, 103417, 174767, 344058], 'tags': [], 'title': ''}}\n",
      "total intersect songs : 0\n",
      "total intersect tags : 0\n"
     ]
    },
    {
     "name": "stderr",
     "output_type": "stream",
     "text": [
      " 47%|####7     | 34/72 [00:32<00:36,  1.04it/s]"
     ]
    },
    {
     "name": "stdout",
     "output_type": "stream",
     "text": [
      "<class 'list'>\n",
      "{80888: {'songs': [186879, 409518, 249827, 235426, 437471, 332396, 532205, 49923, 41887, 160297, 298428], 'tags': [], 'title': ''}}\n",
      "total intersect songs : 0\n",
      "total intersect tags : 0\n"
     ]
    },
    {
     "name": "stderr",
     "output_type": "stream",
     "text": [
      " 42%|####1     | 30/72 [00:32<00:33,  1.24it/s]"
     ]
    },
    {
     "name": "stdout",
     "output_type": "stream",
     "text": [
      "<class 'list'>\n",
      "{87735: {'songs': [234756, 410759, 139193, 32237, 398482, 554145, 31278, 450180, 391300], 'tags': ['휴식'], 'title': ''}}\n",
      "total intersect songs : 0\n",
      "total intersect tags : 0\n"
     ]
    },
    {
     "name": "stderr",
     "output_type": "stream",
     "text": [
      " 46%|####5     | 33/72 [00:32<00:37,  1.03it/s]"
     ]
    },
    {
     "name": "stdout",
     "output_type": "stream",
     "text": [
      "<class 'list'>\n",
      "{23362: {'songs': [508433, 36179, 707548, 57342, 174966, 325022, 267381, 247512], 'tags': ['이별후에'], 'title': ''}}\n",
      "total intersect songs : 0\n",
      "total intersect tags : 0\n"
     ]
    },
    {
     "name": "stderr",
     "output_type": "stream",
     "text": [
      " 51%|#####1    | 37/72 [00:32<00:31,  1.13it/s]"
     ]
    },
    {
     "name": "stdout",
     "output_type": "stream",
     "text": [
      "<class 'list'>\n",
      "{138949: {'songs': [35848, 638330, 666824, 453477, 431049], 'tags': [], 'title': ''}}\n",
      "total intersect songs : 0\n",
      "total intersect tags : 0\n"
     ]
    },
    {
     "name": "stderr",
     "output_type": "stream",
     "text": [
      " 44%|####4     | 32/72 [00:32<00:34,  1.14it/s]"
     ]
    },
    {
     "name": "stdout",
     "output_type": "stream",
     "text": [
      "<class 'list'>\n",
      "{19289: {'songs': [], 'tags': [], 'title': '듣고픈 노래들^-^'}}\n",
      "total intersect songs : 0\n",
      "total intersect tags : 0\n"
     ]
    },
    {
     "name": "stderr",
     "output_type": "stream",
     "text": [
      " 47%|####7     | 34/72 [00:32<00:35,  1.08it/s]"
     ]
    },
    {
     "name": "stdout",
     "output_type": "stream",
     "text": [
      "<class 'list'>\n",
      "{58419: {'songs': [254865, 399410, 518420, 675874, 471691, 521073, 342798, 478754, 537208, 426129, 32570, 498587, 205179, 348552, 522728, 420672, 209472, 339221, 446106, 519160, 659902, 164242, 583255, 463618, 480835], 'tags': ['감성', 'TVN', '센치', '유니크', '방송'], 'title': ''}}\n",
      "total intersect songs : 0\n",
      "total intersect tags : 0\n"
     ]
    },
    {
     "name": "stderr",
     "output_type": "stream",
     "text": [
      " 42%|####1     | 30/72 [00:32<00:51,  1.22s/it]"
     ]
    },
    {
     "name": "stdout",
     "output_type": "stream",
     "text": [
      "<class 'list'>\n",
      "{150239: {'songs': [381653, 158539, 686976, 144239, 261549], 'tags': ['기분전환'], 'title': ''}}\n",
      "total intersect songs : 0\n",
      "total intersect tags : 0\n"
     ]
    },
    {
     "name": "stderr",
     "output_type": "stream",
     "text": [
      " 47%|####7     | 34/72 [00:33<00:33,  1.15it/s]"
     ]
    },
    {
     "name": "stdout",
     "output_type": "stream",
     "text": [
      "<class 'list'>\n",
      "{127600: {'songs': [], 'tags': ['흐린날', '느낌있는', '고독', 'bgm', '좌절'], 'title': '답답할 때 서정적으로 거칠게 마음을 달래주는 감성락'}}\n",
      "total intersect songs : 0\n",
      "total intersect tags : 0\n"
     ]
    },
    {
     "name": "stderr",
     "output_type": "stream",
     "text": [
      " 53%|#####2    | 38/72 [00:33<00:28,  1.20it/s]"
     ]
    },
    {
     "name": "stdout",
     "output_type": "stream",
     "text": [
      "<class 'list'>\n",
      "{108158: {'songs': [], 'tags': ['여름', '상쾌', '노래'], 'title': '월요일 여름 더위를 없애는 시원한 플레이리스트'}}\n",
      "total intersect songs : 0\n",
      "total intersect tags : 0\n"
     ]
    },
    {
     "name": "stderr",
     "output_type": "stream",
     "text": [
      " 47%|####7     | 34/72 [00:33<00:37,  1.02it/s]"
     ]
    },
    {
     "name": "stdout",
     "output_type": "stream",
     "text": [
      "<class 'list'>\n",
      "{65137: {'songs': [], 'tags': ['새벽'], 'title': '쌀쌀한 이밤이 지나가길....'}}\n",
      "total intersect songs : 0\n",
      "total intersect tags : 0\n"
     ]
    },
    {
     "name": "stderr",
     "output_type": "stream",
     "text": [
      " 49%|####8     | 35/72 [00:33<00:37,  1.01s/it]"
     ]
    },
    {
     "name": "stdout",
     "output_type": "stream",
     "text": [
      "<class 'list'>\n",
      "{57340: {'songs': [662086, 304532, 97094, 559198, 50109, 580723, 5049, 302646, 62630, 412560, 675115, 162786, 372183, 174967, 486705], 'tags': ['카페', '얼음꽃', '눈사람', '얼음'], 'title': ''}}\n",
      "total intersect songs : 0\n",
      "total intersect tags : 0\n"
     ]
    },
    {
     "name": "stderr",
     "output_type": "stream",
     "text": [
      " 43%|####3     | 31/72 [00:33<00:36,  1.12it/s]"
     ]
    },
    {
     "name": "stdout",
     "output_type": "stream",
     "text": [
      "<class 'list'>\n",
      "{5547: {'songs': [374617, 232305, 232224, 129545, 207173, 26083, 93307, 673312, 649383, 653071, 63976, 525203, 602596, 46084, 311834], 'tags': ['힙합'], 'title': ''}}\n",
      "total intersect songs : 0\n",
      "total intersect tags : 0\n"
     ]
    },
    {
     "name": "stderr",
     "output_type": "stream",
     "text": [
      " 49%|####8     | 35/72 [00:34<00:36,  1.01it/s]"
     ]
    },
    {
     "name": "stdout",
     "output_type": "stream",
     "text": [
      "<class 'list'>\n",
      "{96738: {'songs': [], 'tags': ['매장음악', '봄', '연주곡', '잔잔한', '힐링'], 'title': '기분좋아지는 힐링 연주'}}\n",
      "total intersect songs : 0\n",
      "total intersect tags : 0\n"
     ]
    },
    {
     "name": "stderr",
     "output_type": "stream",
     "text": [
      " 46%|####5     | 33/72 [00:34<00:39,  1.02s/it]"
     ]
    },
    {
     "name": "stdout",
     "output_type": "stream",
     "text": [
      "<class 'list'>\n",
      "{80050: {'songs': [577817, 469217, 685791, 132985, 454979, 120152, 440862, 657560, 604224, 481411, 621967, 104522, 244052, 35706, 517372, 706046, 549392, 48054], 'tags': [], 'title': ''}}\n",
      "total intersect songs : 0\n",
      "total intersect tags : 0\n"
     ]
    },
    {
     "name": "stderr",
     "output_type": "stream",
     "text": [
      " 43%|####3     | 31/72 [00:34<00:50,  1.24s/it]"
     ]
    },
    {
     "name": "stdout",
     "output_type": "stream",
     "text": [
      "<class 'list'>\n",
      "{150992: {'songs': [646314, 273170, 509367, 371717, 623507, 20735, 409156, 252548, 621687, 200839, 272248, 12474, 519392, 517770], 'tags': ['추억'], 'title': ''}}\n",
      "total intersect songs : 0\n",
      "total intersect tags : 0\n"
     ]
    },
    {
     "name": "stderr",
     "output_type": "stream",
     "text": [
      " 54%|#####4    | 39/72 [00:34<00:27,  1.19it/s]"
     ]
    },
    {
     "name": "stdout",
     "output_type": "stream",
     "text": [
      "<class 'list'>\n",
      "{111649: {'songs': [444588, 179266, 38929, 315108, 656179, 197430, 14292, 180332, 47897, 410762, 25267, 490065, 550239, 404365], 'tags': [], 'title': ''}}\n",
      "total intersect songs : 0\n",
      "total intersect tags : 0\n"
     ]
    },
    {
     "name": "stderr",
     "output_type": "stream",
     "text": [
      " 49%|####8     | 35/72 [00:34<00:33,  1.12it/s]"
     ]
    },
    {
     "name": "stdout",
     "output_type": "stream",
     "text": [
      "<class 'list'>\n",
      "{63623: {'songs': [684683, 639730, 24087, 186032, 418034, 162056, 489432, 576401], 'tags': [], 'title': ''}}\n",
      "total intersect songs : 0\n",
      "total intersect tags : 0\n"
     ]
    },
    {
     "name": "stderr",
     "output_type": "stream",
     "text": [
      " 49%|####8     | 35/72 [00:34<00:33,  1.10it/s]"
     ]
    },
    {
     "name": "stdout",
     "output_type": "stream",
     "text": [
      "<class 'list'>\n",
      "{8032: {'songs': [519809, 113050, 573009, 658553, 248566, 441155, 510793, 44797, 198951, 288963, 61659, 627677, 454075, 398729, 580360, 88621, 338015, 333925, 418388], 'tags': [], 'title': ''}}\n",
      "total intersect songs : 0\n",
      "total intersect tags : 0\n"
     ]
    },
    {
     "name": "stderr",
     "output_type": "stream",
     "text": [
      " 50%|#####     | 36/72 [00:34<00:36,  1.01s/it]"
     ]
    },
    {
     "name": "stdout",
     "output_type": "stream",
     "text": [
      "<class 'list'>\n",
      "{132905: {'songs': [103332, 568174, 451704, 1425, 263216], 'tags': [], 'title': ''}}\n",
      "<class 'list'>total intersect songs : 0\n",
      "total intersect tags : 0\n"
     ]
    },
    {
     "name": "stderr",
     "output_type": "stream",
     "text": [
      " 56%|#####5    | 40/72 [00:34<00:23,  1.34it/s]"
     ]
    },
    {
     "name": "stdout",
     "output_type": "stream",
     "text": [
      "\n",
      "{113233: {'songs': [98472, 232874, 351157, 440160, 360453, 33442, 637280, 672183, 339098, 585469], 'tags': [], 'title': ''}}\n",
      "total intersect songs : 0\n",
      "total intersect tags : 0\n"
     ]
    },
    {
     "name": "stderr",
     "output_type": "stream",
     "text": [
      " 44%|####4     | 32/72 [00:34<00:42,  1.05s/it]"
     ]
    },
    {
     "name": "stdout",
     "output_type": "stream",
     "text": [
      "<class 'list'>\n",
      "{118650: {'songs': [], 'tags': [], 'title': '몰라 모르겠고 이번 주에 캠핑 가서 들을 거다'}}\n",
      "total intersect songs : 0\n",
      "total intersect tags : 0\n"
     ]
    },
    {
     "name": "stderr",
     "output_type": "stream",
     "text": [
      " 50%|#####     | 36/72 [00:34<00:35,  1.02it/s]"
     ]
    },
    {
     "name": "stdout",
     "output_type": "stream",
     "text": [
      "<class 'list'>\n",
      "{109872: {'songs': [174701, 429888, 248566, 225674, 98444, 688951, 342522, 650187, 654386, 672832, 667893, 480737, 566843, 572917, 275469, 24030, 624299, 296223, 173873, 561777, 482902, 249774, 269759, 351356, 44310, 80103, 63224, 24917, 420503, 104218, 39625, 645293], 'tags': [], 'title': ''}}\n",
      "total intersect songs : 0\n",
      "total intersect tags : 0\n"
     ]
    },
    {
     "name": "stderr",
     "output_type": "stream",
     "text": [
      " 44%|####4     | 32/72 [00:34<00:40,  1.02s/it]"
     ]
    },
    {
     "name": "stdout",
     "output_type": "stream",
     "text": [
      "<class 'list'>\n",
      "{5281: {'songs': [430312, 79576, 700560, 127361, 500793, 222305, 151093, 481284, 544974, 274504, 153807, 157861, 42835, 486703, 139568], 'tags': ['트랜디', '그루브'], 'title': ''}}\n",
      "total intersect songs : 0\n",
      "total intersect tags : 0\n"
     ]
    },
    {
     "name": "stderr",
     "output_type": "stream",
     "text": [
      " 50%|#####     | 36/72 [00:35<00:33,  1.07it/s]"
     ]
    },
    {
     "name": "stdout",
     "output_type": "stream",
     "text": [
      "<class 'list'>\n",
      "{32941: {'songs': [], 'tags': ['크리스마스'], 'title': '목소리가 좋아서 분위기 있는 캐롤 모음'}}\n",
      "total intersect songs : 0\n",
      "total intersect tags : 0\n"
     ]
    },
    {
     "name": "stderr",
     "output_type": "stream",
     "text": [
      " 51%|#####1    | 37/72 [00:35<00:32,  1.07it/s]"
     ]
    },
    {
     "name": "stdout",
     "output_type": "stream",
     "text": [
      "<class 'list'>\n",
      "{15192: {'songs': [512218, 231255, 357516, 429408, 236573, 465564, 394276, 240678, 522113, 592295, 105065, 203280, 434977, 100484, 88403, 691849, 3312], 'tags': ['기분전환'], 'title': ''}}\n",
      "total intersect songs : 0\n",
      "total intersect tags : 0\n"
     ]
    },
    {
     "name": "stderr",
     "output_type": "stream",
     "text": [
      " 47%|####7     | 34/72 [00:35<00:42,  1.11s/it]"
     ]
    },
    {
     "name": "stdout",
     "output_type": "stream",
     "text": [
      "<class 'list'>\n",
      "{53014: {'songs': [650494, 701557, 457124, 455141, 629599, 441398, 225275, 501592, 267701], 'tags': [], 'title': ''}}\n",
      "total intersect songs : 0\n",
      "total intersect tags : 0\n"
     ]
    },
    {
     "name": "stderr",
     "output_type": "stream",
     "text": [
      " 50%|#####     | 36/72 [00:35<00:36,  1.01s/it]"
     ]
    },
    {
     "name": "stdout",
     "output_type": "stream",
     "text": [
      "<class 'list'>\n",
      "{14054: {'songs': [155102, 654184, 350319, 920, 466527, 705786], 'tags': ['랩'], 'title': ''}}\n",
      "total intersect songs : 0\n",
      "total intersect tags : 0\n"
     ]
    },
    {
     "name": "stderr",
     "output_type": "stream",
     "text": [
      " 46%|####5     | 33/72 [00:35<00:38,  1.01it/s]"
     ]
    },
    {
     "name": "stdout",
     "output_type": "stream",
     "text": [
      "<class 'list'>\n",
      "{38769: {'songs': [640657, 653392, 281838, 491536, 698536, 622717, 32557, 567991, 368069, 314030, 310829, 575252, 523164, 143504], 'tags': [], 'title': ''}}\n",
      "total intersect songs : 0\n",
      "total intersect tags : 0\n"
     ]
    },
    {
     "name": "stderr",
     "output_type": "stream",
     "text": [
      " 51%|#####1    | 37/72 [00:35<00:31,  1.11it/s]"
     ]
    },
    {
     "name": "stdout",
     "output_type": "stream",
     "text": [
      "<class 'list'>\n",
      "{144736: {'songs': [], 'tags': ['밤'], 'title': '깊은밤 듣기 좋은 감성노래'}}\n",
      "total intersect songs : 0\n",
      "total intersect tags : 0\n"
     ]
    },
    {
     "name": "stderr",
     "output_type": "stream",
     "text": [
      " 57%|#####6    | 41/72 [00:35<00:25,  1.22it/s]"
     ]
    },
    {
     "name": "stdout",
     "output_type": "stream",
     "text": [
      "<class 'list'>\n",
      "{75350: {'songs': [162101, 194932, 452794, 301434, 703655, 105377, 509256, 536709, 600208, 639017, 630874, 654528, 293807, 462766, 414405, 381496, 639788, 253244, 313539, 404267, 42438, 291032, 429519, 319836, 76026, 115432, 229703, 296900, 386178, 133661, 185652, 373248, 14175, 238443, 278184, 673026, 640057, 426708, 267383, 369772, 39844, 516156, 363887], 'tags': [], 'title': ''}}\n",
      "total intersect songs : 0\n",
      "total intersect tags : 0\n"
     ]
    },
    {
     "name": "stderr",
     "output_type": "stream",
     "text": [
      " 46%|####5     | 33/72 [00:36<00:40,  1.03s/it]"
     ]
    },
    {
     "name": "stdout",
     "output_type": "stream",
     "text": [
      "<class 'list'>\n",
      "{151483: {'songs': [], 'tags': ['슬픔', '이별'], 'title': '버스안, 헤어진 그대가 차창에 어리다'}}\n",
      "total intersect songs : 0\n",
      "total intersect tags : 0\n"
     ]
    },
    {
     "name": "stderr",
     "output_type": "stream",
     "text": [
      " 51%|#####1    | 37/72 [00:36<00:31,  1.12it/s]"
     ]
    },
    {
     "name": "stdout",
     "output_type": "stream",
     "text": [
      "<class 'list'>\n",
      "{53805: {'songs': [509434, 277001, 340633, 374617, 590379, 41537, 621026, 559102, 160082, 551200, 307669, 470508, 197864, 499968, 513407, 525152, 406189, 662362, 79442, 547761, 658478, 386355, 329977, 435038, 223396, 510524], 'tags': [], 'title': ''}}\n",
      "total intersect songs : 0\n",
      "total intersect tags : 0\n"
     ]
    },
    {
     "name": "stderr",
     "output_type": "stream",
     "text": [
      " 53%|#####2    | 38/72 [00:36<00:28,  1.21it/s]"
     ]
    },
    {
     "name": "stdout",
     "output_type": "stream",
     "text": [
      "<class 'list'>\n",
      "{74883: {'songs': [36745, 155379, 557277, 146999, 216350, 21689, 255696, 439762, 653150, 577364, 265779, 474462, 140357, 340602, 639507, 473062, 183092, 50228, 314112, 411200, 507545, 596414, 55544, 684550, 623253, 255182, 396482, 631936, 199008, 245809, 541729, 342529, 431606, 573692, 218820, 625240, 151734, 663912, 571175, 595717, 21659, 627221, 16717, 222428, 596571, 298394, 275332, 402652, 671027, 487049], 'tags': [], 'title': ''}}\n",
      "total intersect songs : 0\n",
      "total intersect tags : 0\n"
     ]
    },
    {
     "name": "stderr",
     "output_type": "stream",
     "text": [
      " 47%|####7     | 34/72 [00:36<00:36,  1.05it/s]"
     ]
    },
    {
     "name": "stdout",
     "output_type": "stream",
     "text": [
      "<class 'list'>\n",
      "{69965: {'songs': [90141, 627076, 152501, 618182, 10, 96780, 260612, 658739, 261423, 20012, 427227, 418437, 529840, 523176, 66695], 'tags': [], 'title': ''}}\n",
      "total intersect songs : 0\n",
      "total intersect tags : 0\n"
     ]
    },
    {
     "name": "stderr",
     "output_type": "stream",
     "text": [
      " 51%|#####1    | 37/72 [00:36<00:35,  1.00s/it]"
     ]
    },
    {
     "name": "stdout",
     "output_type": "stream",
     "text": [
      "<class 'list'>\n",
      "{7760: {'songs': [127498, 597496, 641204, 204167, 33677, 517179, 21649, 441590, 20729], 'tags': ['카페', '여유', '재즈', '나른한'], 'title': ''}}\n",
      "total intersect songs : 0\n",
      "total intersect tags : 0\n"
     ]
    },
    {
     "name": "stderr",
     "output_type": "stream",
     "text": [
      " 53%|#####2    | 38/72 [00:36<00:35,  1.03s/it]"
     ]
    },
    {
     "name": "stdout",
     "output_type": "stream",
     "text": [
      "<class 'list'>\n",
      "{10205: {'songs': [675040, 580710, 113847, 666378, 73082], 'tags': [], 'title': ''}}\n",
      "total intersect songs : 0\n",
      "total intersect tags : 0\n"
     ]
    },
    {
     "name": "stderr",
     "output_type": "stream",
     "text": [
      " 58%|#####8    | 42/72 [00:36<00:27,  1.09it/s]"
     ]
    },
    {
     "name": "stdout",
     "output_type": "stream",
     "text": [
      "<class 'list'>\n",
      "{32418: {'songs': [481098, 614192, 265447, 633614, 379797, 373082, 140130, 226455, 232125, 193147, 195718, 234999, 5093, 500205, 658806, 543458, 533410, 392541, 298103, 518873, 646858, 138031, 120626, 657964, 470316, 321982, 60118, 49911, 18643, 653693, 198952, 376572, 539090, 216072, 525618, 660224, 186577, 269341, 650494, 553437, 26797, 240267, 336504, 511710, 485019, 455737, 422936, 267735, 579307, 25006, 296762, 346766, 501203, 536554, 127976, 197128, 143195, 184658, 370796, 123325, 507217, 61881, 486501, 530279, 512002, 16162, 368237, 227630, 371998, 666130, 411515, 346913, 705975, 439232, 644919, 534517, 698132, 680798, 615893, 486220, 181290, 34366, 628901, 691781, 363709, 207232, 475673, 337267, 16100, 164185, 339833, 420870, 37343, 15182, 586524, 239506, 603361, 456597, 117437, 561791], 'tags': [], 'title': ''}}\n",
      "total intersect songs : 0\n",
      "total intersect tags : 0\n"
     ]
    },
    {
     "name": "stderr",
     "output_type": "stream",
     "text": [
      " 49%|####8     | 35/72 [00:36<00:46,  1.24s/it]"
     ]
    },
    {
     "name": "stdout",
     "output_type": "stream",
     "text": [
      "<class 'list'>\n",
      "{132824: {'songs': [633011, 375517, 419666, 232305, 13771, 286732, 611606, 82720, 109190, 231481, 261145, 198952, 129290, 529695, 328720, 428418, 585312, 220553, 374617, 689543, 530617, 157429, 153987, 273921], 'tags': ['휴식', '사랑'], 'title': ''}}\n",
      "total intersect songs : 0\n",
      "total intersect tags : 0\n"
     ]
    },
    {
     "name": "stderr",
     "output_type": "stream",
     "text": [
      " 47%|####7     | 34/72 [00:36<00:38,  1.02s/it]"
     ]
    },
    {
     "name": "stdout",
     "output_type": "stream",
     "text": [
      "<class 'list'>\n",
      "{83316: {'songs': [], 'tags': ['groove'], 'title': 'groove한 음악모음 best vol.1'}}\n",
      "total intersect songs : 0\n",
      "total intersect tags : 0\n"
     ]
    },
    {
     "name": "stderr",
     "output_type": "stream",
     "text": [
      " 53%|#####2    | 38/72 [00:37<00:30,  1.10it/s]"
     ]
    },
    {
     "name": "stdout",
     "output_type": "stream",
     "text": [
      "<class 'list'>\n",
      "{55127: {'songs': [599258, 21842, 697085, 334372, 120895, 322650, 99541, 474392, 284390, 110943], 'tags': ['송가인'], 'title': ''}}\n",
      "total intersect songs : 0\n",
      "total intersect tags : 0\n",
      "<class 'list'>\n",
      "{128868: {'songs': [129658, 8951, 75685, 43112, 122359, 28127, 241838, 241253, 87858, 575421], 'tags': ['1990', '댄스팝', '기분전환', '경쾌한', '스웨덴'], 'title': ''}}\n",
      "total intersect songs : 0\n",
      "total intersect tags : 0\n"
     ]
    },
    {
     "name": "stderr",
     "output_type": "stream",
     "text": [
      " 54%|#####4    | 39/72 [00:37<00:28,  1.16it/s]"
     ]
    },
    {
     "name": "stdout",
     "output_type": "stream",
     "text": [
      "<class 'list'>\n",
      "{49558: {'songs': [59211, 389336, 578413, 515022, 365914, 312624, 500015], 'tags': [], 'title': ''}}\n",
      "total intersect songs : 0\n",
      "total intersect tags : 0\n"
     ]
    },
    {
     "name": "stderr",
     "output_type": "stream",
     "text": [
      " 60%|#####9    | 43/72 [00:37<00:24,  1.18it/s]"
     ]
    },
    {
     "name": "stdout",
     "output_type": "stream",
     "text": [
      "<class 'list'>\n",
      "{7868: {'songs': [], 'tags': ['슬로우'], 'title': '가끔은 Slow Life 372'}}\n",
      "total intersect songs : 0\n",
      "total intersect tags : 0\n"
     ]
    },
    {
     "name": "stderr",
     "output_type": "stream",
     "text": [
      " 50%|#####     | 36/72 [00:37<00:29,  1.23it/s]"
     ]
    },
    {
     "name": "stdout",
     "output_type": "stream",
     "text": [
      "<class 'list'>\n",
      "{145109: {'songs': [], 'tags': ['남들다갔다온휴가'], 'title': '못다녀온 휴가, 이 음악으로 위로받을래.'}}\n",
      "total intersect songs : 0\n",
      "total intersect tags : 0\n"
     ]
    },
    {
     "name": "stderr",
     "output_type": "stream",
     "text": [
      " 53%|#####2    | 38/72 [00:37<00:35,  1.05s/it]"
     ]
    },
    {
     "name": "stdout",
     "output_type": "stream",
     "text": [
      "<class 'list'>\n",
      "{15627: {'songs': [18822, 440010, 243074, 681854, 517591, 282190, 288938, 227109, 116415], 'tags': ['드라이브', '랩', '띵곡', '신나는'], 'title': ''}}\n",
      "total intersect songs : 0\n",
      "total intersect tags : 0\n"
     ]
    },
    {
     "name": "stderr",
     "output_type": "stream",
     "text": [
      " 54%|#####4    | 39/72 [00:37<00:28,  1.14it/s]"
     ]
    },
    {
     "name": "stdout",
     "output_type": "stream",
     "text": [
      "<class 'list'>\n",
      "{108188: {'songs': [650532, 569042, 243220, 323648, 257041, 193005, 18584, 330558, 6054, 218860, 365212, 632330, 361653, 181731, 680523, 255937, 707635, 362537, 17880, 688422], 'tags': ['토닥토닥', '안정'], 'title': ''}}\n",
      "total intersect songs : 0\n",
      "total intersect tags : 0\n"
     ]
    },
    {
     "name": "stderr",
     "output_type": "stream",
     "text": [
      " 50%|#####     | 36/72 [00:37<00:42,  1.17s/it]"
     ]
    },
    {
     "name": "stdout",
     "output_type": "stream",
     "text": [
      "<class 'list'>\n",
      "{143137: {'songs': [626369, 366786, 413837, 209135, 504499, 389920, 199262, 509998, 442014, 349492, 547967, 15318, 448116, 523521, 209993, 68348, 498752, 111059, 648628, 463173, 681373, 520093, 115222, 612940, 154858, 166841, 323611, 222920, 476773, 674160, 501003, 521414, 266761, 621927, 669557, 690604, 367534, 32443], 'tags': ['휴식', '매장음악', '카페', '매력적인', '기분전환'], 'title': ''}}\n",
      "total intersect songs : 0\n",
      "total intersect tags : 0\n"
     ]
    },
    {
     "name": "stderr",
     "output_type": "stream",
     "text": [
      " 54%|#####4    | 39/72 [00:38<00:38,  1.16s/it]"
     ]
    },
    {
     "name": "stdout",
     "output_type": "stream",
     "text": [
      "<class 'list'>\n",
      "{74569: {'songs': [701092, 492833, 404546, 40160, 276364, 663164, 123794, 676988, 518484, 299503, 231611, 302201, 611860, 33557, 335757, 537253, 439961, 194483, 395770, 330877, 249346, 294385, 28832, 642889, 76062, 218207, 33138, 240496, 174762, 599707, 531110, 537312, 401427, 216710, 616436, 350398, 371478, 331282, 106023, 482340, 672019, 597042, 508043, 539186, 679355, 286015, 683597, 335836, 536034, 684947, 548587, 275414, 337856, 514036, 698435, 243220, 470392, 447809, 692821, 385814, 122503, 297387, 307813, 252802, 391778, 56962, 435685, 224176, 69298, 510210, 546935, 682356, 627694, 178526, 594128, 73289, 339513, 520723, 220205, 333966, 484934, 616212, 311414, 634687, 315044, 411339, 318871, 521733, 165942, 8455, 264608, 590255, 49059, 507694, 119795, 72552, 465187, 407611, 438494, 165115], 'tags': ['띵곡', '드라이브', 'Pop', '기분전환', '스트레스'], 'title': ''}}\n",
      "total intersect songs : 0\n",
      "total intersect tags : 0\n"
     ]
    },
    {
     "name": "stderr",
     "output_type": "stream",
     "text": [
      " 49%|####8     | 35/72 [00:38<00:43,  1.19s/it]"
     ]
    },
    {
     "name": "stdout",
     "output_type": "stream",
     "text": [
      "<class 'list'>\n",
      "{54894: {'songs': [], 'tags': ['랩'], 'title': '2015 god 콘서트 셋리스트'}}\n",
      "total intersect songs : 0\n",
      "total intersect tags : 0\n"
     ]
    },
    {
     "name": "stderr",
     "output_type": "stream",
     "text": [
      " 56%|#####5    | 40/72 [00:38<00:29,  1.07it/s]"
     ]
    },
    {
     "name": "stdout",
     "output_type": "stream",
     "text": [
      "<class 'list'>\n",
      "{75200: {'songs': [], 'tags': [], 'title': '비오는날 감성음악'}}\n",
      "total intersect songs : 0\n",
      "total intersect tags : 0\n"
     ]
    },
    {
     "name": "stderr",
     "output_type": "stream",
     "text": [
      " 61%|######1   | 44/72 [00:38<00:25,  1.12it/s]"
     ]
    },
    {
     "name": "stdout",
     "output_type": "stream",
     "text": [
      "<class 'list'>\n",
      "{334: {'songs': [241069, 266035, 625932, 607113, 568812, 317276, 127406, 136144, 284184, 175805, 507522, 256899, 163358, 418437, 566081, 273329, 139344, 237704, 147060, 579748, 366833, 296389, 235066, 113693, 221111, 70178, 568627, 459054, 240917, 480141, 448295, 584203, 94976, 92269, 284388, 245450, 340351, 280973, 151686, 216154, 415916, 385839, 659305, 272926, 7506, 347685, 395254, 155214, 455007, 23474, 691283, 445148, 659563, 408648, 622359, 555263, 311105, 519071, 68252, 322499, 693054, 252378, 11152, 467400, 142365, 196531, 267569, 225403, 434314, 663242, 641773, 493674, 462021, 425031, 681329, 551379, 486378, 166637], 'tags': [], 'title': ''}}\n",
      "total intersect songs : 0<class 'list'>\n",
      "\n",
      "total intersect tags : 0\n"
     ]
    },
    {
     "name": "stderr",
     "output_type": "stream",
     "text": [
      " 51%|#####1    | 37/72 [00:38<00:31,  1.12it/s]"
     ]
    },
    {
     "name": "stdout",
     "output_type": "stream",
     "text": [
      "{123298: {'songs': [552014, 147409, 308107, 44832, 449111, 142619, 326376, 545665, 201752], 'tags': [], 'title': ''}}\n",
      "total intersect songs : 0\n",
      "total intersect tags : 0\n"
     ]
    },
    {
     "name": "stderr",
     "output_type": "stream",
     "text": [
      " 56%|#####5    | 40/72 [00:38<00:32,  1.00s/it]"
     ]
    },
    {
     "name": "stdout",
     "output_type": "stream",
     "text": [
      "<class 'list'>\n",
      "{147767: {'songs': [641952, 154586, 581916, 323671, 620576, 73287, 15866, 195793, 352838, 154778, 627000, 244868, 657971, 378293, 84756, 209778, 55352, 615721, 355743, 212804, 462744], 'tags': ['스크릴렉스_레이블', 'Skrillex', 'OWSLA'], 'title': ''}}\n",
      "total intersect songs : 0\n",
      "total intersect tags : 0\n"
     ]
    },
    {
     "name": "stderr",
     "output_type": "stream",
     "text": [
      " 62%|######2   | 45/72 [00:38<00:18,  1.47it/s]"
     ]
    },
    {
     "name": "stdout",
     "output_type": "stream",
     "text": [
      "<class 'list'>\n",
      "{112873: {'songs': [373934, 583791, 266934, 59003, 620528, 653018, 544099], 'tags': ['설렘'], 'title': ''}}\n",
      "total intersect songs : 0\n",
      "total intersect tags : 0\n"
     ]
    },
    {
     "name": "stderr",
     "output_type": "stream",
     "text": [
      " 50%|#####     | 36/72 [00:38<00:36,  1.02s/it]"
     ]
    },
    {
     "name": "stdout",
     "output_type": "stream",
     "text": [
      "<class 'list'>\n",
      "{108044: {'songs': [], 'tags': ['감성힙합', '성공', '꿈', '흡연감성', '죽음'], 'title': '감성 돋는 국내힙합 명곡들'}}\n",
      "total intersect songs : 0\n",
      "total intersect tags : 0\n"
     ]
    },
    {
     "name": "stderr",
     "output_type": "stream",
     "text": [
      " 56%|#####5    | 40/72 [00:38<00:29,  1.08it/s]"
     ]
    },
    {
     "name": "stdout",
     "output_type": "stream",
     "text": [
      "<class 'list'>\n",
      "{137207: {'songs': [331504, 690129, 244742, 188431, 14546, 428289, 199008, 256120, 453925, 707295, 672432, 414296, 605701, 420486], 'tags': [], 'title': ''}}\n",
      "total intersect songs : 0\n",
      "total intersect tags : 0\n"
     ]
    },
    {
     "name": "stderr",
     "output_type": "stream",
     "text": [
      " 51%|#####1    | 37/72 [00:38<00:38,  1.10s/it]"
     ]
    },
    {
     "name": "stdout",
     "output_type": "stream",
     "text": [
      "<class 'list'>\n",
      "{47607: {'songs': [], 'tags': ['아메리카노'], 'title': '아메리카노 같은 감성비트'}}\n",
      "total intersect songs : 0\n",
      "total intersect tags : 0\n"
     ]
    },
    {
     "name": "stderr",
     "output_type": "stream",
     "text": [
      " 54%|#####4    | 39/72 [00:38<00:36,  1.10s/it]"
     ]
    },
    {
     "name": "stdout",
     "output_type": "stream",
     "text": [
      "<class 'list'>\n",
      "{29104: {'songs': [1083, 604522, 572356, 645442], 'tags': [], 'title': ''}}\n",
      "total intersect songs : 0\n",
      "total intersect tags : 0\n"
     ]
    },
    {
     "name": "stderr",
     "output_type": "stream",
     "text": [
      " 57%|#####6    | 41/72 [00:39<00:26,  1.17it/s]"
     ]
    },
    {
     "name": "stdout",
     "output_type": "stream",
     "text": [
      "<class 'list'>\n",
      "{82018: {'songs': [474502, 292045, 162611, 574461, 11436, 639041, 534196, 129204, 649743], 'tags': [], 'title': ''}}\n",
      "total intersect songs : 0\n",
      "total intersect tags : 0\n"
     ]
    },
    {
     "name": "stderr",
     "output_type": "stream",
     "text": [
      " 51%|#####1    | 37/72 [00:39<00:29,  1.17it/s]"
     ]
    },
    {
     "name": "stdout",
     "output_type": "stream",
     "text": [
      "<class 'list'>\n",
      "{78181: {'songs': [], 'tags': ['드라마닥터스'], 'title': '닥터스 히로인 박신혜의 인스타플레이스트'}}\n",
      "total intersect songs : 0\n",
      "total intersect tags : 0\n"
     ]
    },
    {
     "name": "stderr",
     "output_type": "stream",
     "text": [
      " 64%|######3   | 46/72 [00:39<00:18,  1.41it/s]"
     ]
    },
    {
     "name": "stdout",
     "output_type": "stream",
     "text": [
      "<class 'list'>\n",
      "{21753: {'songs': [207912, 26908, 651440, 474268, 533646, 218540, 30158, 95000, 283939, 646988, 157900, 283637, 447762, 623047, 650957], 'tags': [], 'title': ''}}\n",
      "total intersect songs : 0\n",
      "total intersect tags : 0\n"
     ]
    },
    {
     "name": "stderr",
     "output_type": "stream",
     "text": [
      " 53%|#####2    | 38/72 [00:39<00:33,  1.00it/s]"
     ]
    },
    {
     "name": "stdout",
     "output_type": "stream",
     "text": [
      "<class 'list'>\n",
      "{72274: {'songs': [], 'tags': [], 'title': '드라이브할때 듣기좋은 팝송'}}\n",
      "total intersect songs : 0\n",
      "total intersect tags : 0\n"
     ]
    },
    {
     "name": "stderr",
     "output_type": "stream",
     "text": [
      " 58%|#####8    | 42/72 [00:39<00:26,  1.14it/s]"
     ]
    },
    {
     "name": "stdout",
     "output_type": "stream",
     "text": [
      "<class 'list'>\n",
      "{50856: {'songs': [104065, 132994, 701557, 581789, 686628, 123562, 154929, 660252, 645755, 644474, 581068], 'tags': ['봄', '벚꽃', '새학기'], 'title': ''}}\n",
      "total intersect songs : 0\n",
      "total intersect tags : 0\n"
     ]
    },
    {
     "name": "stderr",
     "output_type": "stream",
     "text": [
      " 56%|#####5    | 40/72 [00:39<00:34,  1.07s/it]"
     ]
    },
    {
     "name": "stdout",
     "output_type": "stream",
     "text": [
      "<class 'list'>\n",
      "{74482: {'songs': [], 'tags': ['청량한'], 'title': '청량함이 필요할 때 356'}}\n",
      "total intersect songs : 0\n",
      "total intersect tags : 0\n"
     ]
    },
    {
     "name": "stderr",
     "output_type": "stream",
     "text": [
      " 57%|#####6    | 41/72 [00:40<00:34,  1.10s/it]"
     ]
    },
    {
     "name": "stdout",
     "output_type": "stream",
     "text": [
      "<class 'list'>\n",
      "{65758: {'songs': [305045, 38662, 542129, 421037, 320842, 447803], 'tags': [], 'title': ''}}\n",
      "total intersect songs : 0\n",
      "total intersect tags : 0\n"
     ]
    },
    {
     "name": "stderr",
     "output_type": "stream",
     "text": [
      " 53%|#####2    | 38/72 [00:40<00:28,  1.20it/s]"
     ]
    },
    {
     "name": "stdout",
     "output_type": "stream",
     "text": [
      "<class 'list'>\n",
      "{18208: {'songs': [], 'tags': ['슬퍼서'], 'title': '이별해서.. 그냥 너무 울고 싶을 때...'}}\n",
      "total intersect songs : 0\n",
      "total intersect tags : 0\n"
     ]
    },
    {
     "name": "stderr",
     "output_type": "stream",
     "text": [
      " 54%|#####4    | 39/72 [00:40<00:27,  1.20it/s]"
     ]
    },
    {
     "name": "stdout",
     "output_type": "stream",
     "text": [
      "<class 'list'>\n",
      "{68740: {'songs': [643628, 165281, 334095, 531084, 601037, 697688, 32630, 332377, 173661, 146120, 116066, 295250, 309245, 675393, 195552, 132247, 182922, 694838], 'tags': [], 'title': ''}}\n",
      "total intersect songs : 0\n",
      "total intersect tags : 0\n"
     ]
    },
    {
     "name": "stderr",
     "output_type": "stream",
     "text": [
      " 53%|#####2    | 38/72 [00:40<00:35,  1.06s/it]"
     ]
    },
    {
     "name": "stdout",
     "output_type": "stream",
     "text": [
      "<class 'list'>\n",
      "{4932: {'songs': [259414, 249147, 209456, 676724, 704566, 646139, 565776, 705145, 670416, 56506, 126737, 608715, 233229], 'tags': [], 'title': ''}}\n",
      "total intersect songs : 0\n",
      "total intersect tags : 0\n"
     ]
    },
    {
     "name": "stderr",
     "output_type": "stream",
     "text": [
      " 58%|#####8    | 42/72 [00:40<00:24,  1.23it/s]"
     ]
    },
    {
     "name": "stdout",
     "output_type": "stream",
     "text": [
      "<class 'list'>\n",
      "{64095: {'songs': [397549, 254192, 701557, 634314, 581799, 289625, 344327, 154372, 482209, 524738, 344850, 205397], 'tags': [], 'title': ''}}\n",
      "total intersect songs : 0<class 'list'>\n",
      "\n",
      "total intersect tags : 0{48791: {'songs': [99746, 153273, 605001, 497029, 116159, 175620, 124071, 357997, 61230, 168642, 422987, 685034, 467540, 501756, 141370, 360908, 237587, 311477, 289086], 'tags': [], 'title': ''}}\n"
     ]
    },
    {
     "name": "stderr",
     "output_type": "stream",
     "text": [
      " 57%|#####6    | 41/72 [00:40<00:32,  1.05s/it]"
     ]
    },
    {
     "name": "stdout",
     "output_type": "stream",
     "text": [
      "\n",
      "total intersect songs : 0\n",
      "total intersect tags : 0\n"
     ]
    },
    {
     "name": "stderr",
     "output_type": "stream",
     "text": [
      " 65%|######5   | 47/72 [00:40<00:17,  1.42it/s]"
     ]
    },
    {
     "name": "stdout",
     "output_type": "stream",
     "text": [
      "<class 'list'>\n",
      "{75042: {'songs': [], 'tags': ['KPOP탐구생활', '아이돌탐구생활'], 'title': '크리스마스를 앞두고, 아이돌의 겨울 노래'}}\n",
      "total intersect songs : 0\n",
      "total intersect tags : 0\n"
     ]
    },
    {
     "name": "stderr",
     "output_type": "stream",
     "text": [
      " 57%|#####6    | 41/72 [00:40<00:26,  1.16it/s]"
     ]
    },
    {
     "name": "stdout",
     "output_type": "stream",
     "text": [
      "<class 'list'>\n",
      "{39812: {'songs': [534659, 239226, 67557, 449433, 67469, 363989, 551509, 672977, 549371, 574807, 9160], 'tags': [], 'title': ''}}\n",
      "total intersect songs : 0\n",
      "total intersect tags : 0\n"
     ]
    },
    {
     "name": "stderr",
     "output_type": "stream",
     "text": [
      " 58%|#####8    | 42/72 [00:40<00:19,  1.54it/s]"
     ]
    },
    {
     "name": "stdout",
     "output_type": "stream",
     "text": [
      "<class 'list'>\n",
      "{9785: {'songs': [584873, 580220, 224044, 416490, 118497, 548475, 472390, 569603, 8638, 35194, 420541, 213113, 351767, 495884, 469189, 452002, 346508, 587610, 444693, 126583, 264910, 575395, 246518, 414142, 303725, 302406, 158000, 643012, 616981, 524690, 653414, 102226, 56016, 518916, 634471, 488875, 203189, 426847, 60394, 168489, 95811, 26731, 361033, 93415, 493026, 311026, 549769, 420945, 493250, 148459, 41169, 678559, 90191, 416433, 4449, 691156, 264902, 229781, 275347, 666331, 31569, 181336, 258414, 164901, 309503, 220473, 431942, 492481, 592049, 594268, 112078, 606851, 177964, 382298, 73096, 494879, 452628, 330768, 297887, 262442, 613940, 580036, 167594, 172135, 64359, 453083, 218124, 686003, 657170, 155635, 231943, 293635, 82110, 156776, 377024, 570243, 282781, 95762, 80009, 429876], 'tags': ['힙합'], 'title': ''}}\n",
      "total intersect songs : 0\n",
      "total intersect tags : 0\n"
     ]
    },
    {
     "name": "stderr",
     "output_type": "stream",
     "text": [
      " 56%|#####5    | 40/72 [00:40<00:24,  1.33it/s]"
     ]
    },
    {
     "name": "stdout",
     "output_type": "stream",
     "text": [
      "<class 'list'>\n",
      "{131959: {'songs': [6516, 221200, 105486, 619729, 628352, 281995, 410600, 489225, 454126, 417326, 582946, 237448, 383090], 'tags': [], 'title': ''}}\n",
      "total intersect songs : 0\n",
      "total intersect tags : 0\n"
     ]
    },
    {
     "name": "stderr",
     "output_type": "stream",
     "text": [
      " 60%|#####9    | 43/72 [00:40<00:26,  1.11it/s]"
     ]
    },
    {
     "name": "stdout",
     "output_type": "stream",
     "text": [
      "<class 'list'>\n",
      "{101468: {'songs': [221772, 132473, 379380, 606898, 481778, 61771], 'tags': [], 'title': ''}}\n",
      "total intersect songs : 0\n",
      "total intersect tags : 0\n"
     ]
    },
    {
     "name": "stderr",
     "output_type": "stream",
     "text": [
      " 58%|#####8    | 42/72 [00:41<00:30,  1.00s/it]"
     ]
    },
    {
     "name": "stdout",
     "output_type": "stream",
     "text": [
      "<class 'list'>\n",
      "{72965: {'songs': [54408, 13198, 9906, 82459, 203241, 128051, 142498, 639800, 520471, 265894, 217217, 381746], 'tags': [], 'title': ''}}\n",
      "total intersect songs : 0\n",
      "total intersect tags : 0\n"
     ]
    },
    {
     "name": "stderr",
     "output_type": "stream",
     "text": [
      " 54%|#####4    | 39/72 [00:41<00:29,  1.11it/s]"
     ]
    },
    {
     "name": "stdout",
     "output_type": "stream",
     "text": [
      "<class 'list'>\n",
      "{37358: {'songs': [598684, 99716, 570960, 26977, 612140, 484964, 508611, 39309, 616212, 477027, 396233, 120792], 'tags': ['봄'], 'title': ''}}\n",
      "total intersect songs : 0\n",
      "total intersect tags : 0\n"
     ]
    },
    {
     "name": "stderr",
     "output_type": "stream",
     "text": [
      " 54%|#####4    | 39/72 [00:41<00:34,  1.05s/it]"
     ]
    },
    {
     "name": "stdout",
     "output_type": "stream",
     "text": [
      "<class 'list'>\n",
      "{143433: {'songs': [244976, 401965, 154229, 339742, 423349, 529971, 188020, 231160, 142619, 365504], 'tags': [], 'title': ''}}\n",
      "total intersect songs : 0\n",
      "total intersect tags : 0\n"
     ]
    },
    {
     "name": "stderr",
     "output_type": "stream",
     "text": [
      " 60%|#####9    | 43/72 [00:41<00:25,  1.13it/s]"
     ]
    },
    {
     "name": "stdout",
     "output_type": "stream",
     "text": [
      "<class 'list'>\n",
      "{13086: {'songs': [82626, 671426, 29842, 455668, 290769, 219452, 23383, 277821, 497818, 106158, 324948, 104264, 557420, 124063, 638927, 582384, 675567, 662520, 148992], 'tags': [], 'title': ''}}\n",
      "total intersect songs : 0\n",
      "total intersect tags : 0\n"
     ]
    },
    {
     "name": "stderr",
     "output_type": "stream",
     "text": [
      " 60%|#####9    | 43/72 [00:41<00:21,  1.38it/s]"
     ]
    },
    {
     "name": "stdout",
     "output_type": "stream",
     "text": [
      "<class 'list'>\n",
      "{124793: {'songs': [524138, 493241, 167305, 56485, 261662, 538042, 352491], 'tags': [], 'title': ''}}\n",
      "total intersect songs : 0\n",
      "total intersect tags : 0\n"
     ]
    },
    {
     "name": "stderr",
     "output_type": "stream",
     "text": [
      " 60%|#####9    | 43/72 [00:41<00:25,  1.14it/s]"
     ]
    },
    {
     "name": "stdout",
     "output_type": "stream",
     "text": [
      "<class 'list'>\n",
      "{132585: {'songs': [], 'tags': ['카페', '발라드', '기분전환', '산책'], 'title': '커피한잔과 잔잔한 어쿠스틱~'}}\n",
      "total intersect songs : 0\n",
      "total intersect tags : 0\n"
     ]
    },
    {
     "name": "stderr",
     "output_type": "stream",
     "text": [
      " 67%|######6   | 48/72 [00:41<00:22,  1.06it/s]"
     ]
    },
    {
     "name": "stdout",
     "output_type": "stream",
     "text": [
      "<class 'list'>\n",
      "{70620: {'songs': [], 'tags': [], 'title': '눈을 감고 듣게되는 발라드'}}\n",
      "total intersect songs : 0\n",
      "total intersect tags : 0\n"
     ]
    },
    {
     "name": "stderr",
     "output_type": "stream",
     "text": [
      " 56%|#####5    | 40/72 [00:41<00:30,  1.05it/s]"
     ]
    },
    {
     "name": "stdout",
     "output_type": "stream",
     "text": [
      "<class 'list'>\n",
      "{19237: {'songs': [141248, 485507, 612193, 646888, 428854, 450838, 484797, 419278, 339840, 250528, 603370, 5844, 443130, 221111, 614238, 234409, 344931, 337148, 505886, 660040, 294738, 166841, 61092, 10746, 139494], 'tags': [], 'title': ''}}\n",
      "total intersect songs : 0\n",
      "total intersect tags : 0\n"
     ]
    },
    {
     "name": "stderr",
     "output_type": "stream",
     "text": [
      " 56%|#####5    | 40/72 [00:42<00:29,  1.07it/s]"
     ]
    },
    {
     "name": "stdout",
     "output_type": "stream",
     "text": [
      "<class 'list'>\n",
      "{118261: {'songs': [219225, 641447, 69711, 661094, 395117, 499968, 647810, 123597, 222305, 225297, 656864, 316318, 75379, 267173, 608468, 671066, 411545, 108528, 589783, 250411, 697178, 280211, 4819, 369649], 'tags': [], 'title': ''}}\n",
      "total intersect songs : 0\n",
      "total intersect tags : 0\n"
     ]
    },
    {
     "name": "stderr",
     "output_type": "stream",
     "text": [
      " 57%|#####6    | 41/72 [00:42<00:30,  1.01it/s]"
     ]
    },
    {
     "name": "stdout",
     "output_type": "stream",
     "text": [
      "<class 'list'>\n",
      "{970: {'songs': [615093, 486997, 277256, 358574, 661866, 548741, 95505, 398055, 467301, 91554, 386486, 359648, 522159, 637187], 'tags': [], 'title': ''}}\n",
      "total intersect songs : 0<class 'list'>\n",
      "\n",
      "{77243: {'songs': [204649, 443253, 285556], 'tags': ['랩'], 'title': ''}}\n",
      "total intersect tags : 0\n",
      "total intersect songs : 0\n",
      "total intersect tags : 0\n"
     ]
    },
    {
     "name": "stderr",
     "output_type": "stream",
     "text": [
      " 61%|######1   | 44/72 [00:42<00:22,  1.26it/s]"
     ]
    },
    {
     "name": "stdout",
     "output_type": "stream",
     "text": [
      "<class 'list'>\n",
      "{131038: {'songs': [570836, 209135, 389920, 396828, 509998, 442014, 422915, 557891, 612516, 547967, 487911, 422077, 42155, 448116, 341513, 187047, 498752, 108004, 463173, 427724, 520093, 200098, 154858, 651723, 19811, 674160, 501003, 610551, 215411, 235773, 266761, 621927, 264957, 630152, 458347, 233862, 273008, 446106], 'tags': ['새벽', '추억', '이별', '회상', '감미로운'], 'title': ''}}\n",
      "total intersect songs : 0\n",
      "total intersect tags : 0\n"
     ]
    },
    {
     "name": "stderr",
     "output_type": "stream",
     "text": [
      " 61%|######1   | 44/72 [00:42<00:29,  1.06s/it]"
     ]
    },
    {
     "name": "stdout",
     "output_type": "stream",
     "text": [
      "<class 'list'>\n",
      "{75230: {'songs': [112983, 60525, 211699, 657943, 635003, 564589, 656648, 440081, 364948], 'tags': ['즐거움', '취향저격DJ', '도서관'], 'title': ''}}\n",
      "total intersect songs : 0\n",
      "total intersect tags : 0\n"
     ]
    },
    {
     "name": "stderr",
     "output_type": "stream",
     "text": [
      " 57%|#####6    | 41/72 [00:42<00:25,  1.20it/s]"
     ]
    },
    {
     "name": "stdout",
     "output_type": "stream",
     "text": [
      "<class 'list'>\n",
      "{31936: {'songs': [], 'tags': ['겨울', '매장음악', '피아노', '기분전환'], 'title': '따뜻한 피아노 연주모음~'}}\n",
      "total intersect songs : 0\n",
      "total intersect tags : 0\n"
     ]
    },
    {
     "name": "stderr",
     "output_type": "stream",
     "text": [
      " 61%|######1   | 44/72 [00:42<00:23,  1.18it/s]"
     ]
    },
    {
     "name": "stdout",
     "output_type": "stream",
     "text": [
      "<class 'list'>\n",
      "{84006: {'songs': [], 'tags': [], 'title': '아이돌 댄스곡 모음!'}}\n",
      "total intersect songs : 0\n",
      "total intersect tags : 0\n"
     ]
    },
    {
     "name": "stderr",
     "output_type": "stream",
     "text": [
      " 62%|######2   | 45/72 [00:42<00:20,  1.32it/s]"
     ]
    },
    {
     "name": "stdout",
     "output_type": "stream",
     "text": [
      "<class 'list'>\n",
      "{93864: {'songs': [337267, 185575, 288472, 53277, 427256, 230591, 578223, 509688, 421822, 222364, 610933, 268129, 460842, 655561, 118851, 138084, 19364, 470636, 348200, 406989, 602887, 365634, 486085, 254192, 102004, 624478, 326034, 96310, 503202, 360944, 552804, 470747, 554000, 558892], 'tags': [], 'title': ''}}\n",
      "total intersect songs : 0\n",
      "total intersect tags : 0\n"
     ]
    },
    {
     "name": "stderr",
     "output_type": "stream",
     "text": [
      " 68%|######8   | 49/72 [00:42<00:22,  1.04it/s]"
     ]
    },
    {
     "name": "stdout",
     "output_type": "stream",
     "text": [
      "<class 'list'>\n",
      "{129065: {'songs': [393433, 223571, 33603, 436878, 275218, 155440, 620800, 434582, 152538, 113735], 'tags': ['하우스', 'EDM'], 'title': ''}}\n",
      "total intersect songs : 0\n",
      "total intersect tags : 0\n"
     ]
    },
    {
     "name": "stderr",
     "output_type": "stream",
     "text": [
      " 62%|######2   | 45/72 [00:42<00:23,  1.13it/s]"
     ]
    },
    {
     "name": "stdout",
     "output_type": "stream",
     "text": [
      "<class 'list'>\n",
      "{10368: {'songs': [385838, 185743, 688690, 505636, 610707, 287576, 963, 440047, 380705, 541116, 286067, 258796, 119795, 365553, 95181, 354592], 'tags': [], 'title': ''}}\n",
      "total intersect songs : 0\n",
      "total intersect tags : 0\n"
     ]
    },
    {
     "name": "stderr",
     "output_type": "stream",
     "text": [
      " 58%|#####8    | 42/72 [00:42<00:21,  1.37it/s]"
     ]
    },
    {
     "name": "stdout",
     "output_type": "stream",
     "text": [
      "<class 'list'>\n",
      "{82474: {'songs': [3790, 43635, 641808, 422091, 81062, 531319, 304687, 49219, 286652, 540564, 184470], 'tags': ['서울', '투어', 'Pop', '케이티페리'], 'title': ''}}\n",
      "total intersect songs : 0\n",
      "total intersect tags : 0\n"
     ]
    },
    {
     "name": "stderr",
     "output_type": "stream",
     "text": [
      " 62%|######2   | 45/72 [00:43<00:21,  1.26it/s]"
     ]
    },
    {
     "name": "stdout",
     "output_type": "stream",
     "text": [
      "<class 'list'>\n",
      "{151714: {'songs': [], 'tags': [], 'title': 'Happy New Year 2 0 1 5'}}\n",
      "total intersect songs : 0\n",
      "total intersect tags : 0\n"
     ]
    },
    {
     "name": "stderr",
     "output_type": "stream",
     "text": [
      " 69%|######9   | 50/72 [00:43<00:17,  1.23it/s]"
     ]
    },
    {
     "name": "stdout",
     "output_type": "stream",
     "text": [
      "<class 'list'>\n",
      "{16650: {'songs': [331975, 372171, 384786, 613904, 263928, 633914, 171544, 227616, 286063, 584203], 'tags': ['감성힙합', '잔잔한', '국내힙합', '감성', '국힙'], 'title': ''}}\n",
      "total intersect songs : 0\n",
      "total intersect tags : 0\n"
     ]
    },
    {
     "name": "stderr",
     "output_type": "stream",
     "text": [
      " 57%|#####6    | 41/72 [00:43<00:30,  1.02it/s]"
     ]
    },
    {
     "name": "stdout",
     "output_type": "stream",
     "text": [
      "<class 'list'>\n",
      "{71444: {'songs': [166423, 559864, 688284, 213438, 76537, 398084, 195174, 501396, 673157, 249396, 443633, 600722, 466842, 146814, 567357, 145080, 662564, 36219, 238643, 353517, 352497, 422698, 61253, 310116, 60755, 672702, 158554, 78180, 524139, 542376, 554619, 409754, 704485, 445008, 237885, 688654, 344196, 619470, 195552, 544834, 671027], 'tags': [], 'title': ''}}\n",
      "total intersect songs : 0\n",
      "total intersect tags : 0\n"
     ]
    },
    {
     "name": "stderr",
     "output_type": "stream",
     "text": [
      " 62%|######2   | 45/72 [00:43<00:24,  1.12it/s]"
     ]
    },
    {
     "name": "stdout",
     "output_type": "stream",
     "text": [
      "<class 'list'>\n",
      "{150970: {'songs': [551588, 340918, 130534, 372318, 283138, 6391, 224921, 242489, 6841, 61954, 355820, 132848, 149660, 193043, 154727, 154929, 13815, 427169, 923, 217757, 535044, 18916, 246871, 543546], 'tags': ['눈', '하늘', '바다', '별'], 'title': ''}}\n",
      "total intersect songs : 0\n",
      "total intersect tags : 0\n"
     ]
    },
    {
     "name": "stderr",
     "output_type": "stream",
     "text": [
      " 64%|######3   | 46/72 [00:43<00:18,  1.38it/s]"
     ]
    },
    {
     "name": "stdout",
     "output_type": "stream",
     "text": [
      "<class 'list'>\n",
      "{144088: {'songs': [], 'tags': ['수묵'], 'title': '수묵 재즈라운지 (저녁,새벽)'}}\n",
      "total intersect songs : 0\n",
      "total intersect tags : 0\n"
     ]
    },
    {
     "name": "stderr",
     "output_type": "stream",
     "text": [
      " 58%|#####8    | 42/72 [00:43<00:24,  1.21it/s]"
     ]
    },
    {
     "name": "stdout",
     "output_type": "stream",
     "text": [
      "<class 'list'>\n",
      "{90650: {'songs': [470210, 378842, 96825, 23570, 664030, 440860, 21865, 386198, 325527, 503468, 378853, 591925, 459981, 561157, 94724], 'tags': [], 'title': ''}}\n",
      "total intersect songs : 0\n",
      "total intersect tags : 0\n"
     ]
    },
    {
     "name": "stderr",
     "output_type": "stream",
     "text": [
      " 58%|#####8    | 42/72 [00:43<00:34,  1.17s/it]"
     ]
    },
    {
     "name": "stdout",
     "output_type": "stream",
     "text": [
      "<class 'list'>\n",
      "{148875: {'songs': [102206, 123897, 345319, 185174, 334240, 66969, 254601, 135159, 196608, 98509, 311956, 358114], 'tags': ['인디'], 'title': ''}}\n",
      "total intersect songs : 0\n",
      "<class 'list'>total intersect tags : 0\n"
     ]
    },
    {
     "name": "stderr",
     "output_type": "stream",
     "text": [
      " 71%|#######   | 51/72 [00:43<00:16,  1.31it/s]"
     ]
    },
    {
     "name": "stdout",
     "output_type": "stream",
     "text": [
      "\n",
      "{95974: {'songs': [53449, 172022, 304758, 166144, 171978, 273170, 702712, 115008, 349903, 453605, 571790, 147570, 670682, 127710, 392721], 'tags': ['태교', '새벽', '강아지', '불면증', '자장가'], 'title': ''}}\n",
      "total intersect songs : 0\n",
      "total intersect tags : 0\n"
     ]
    },
    {
     "name": "stderr",
     "output_type": "stream",
     "text": [
      " 60%|#####9    | 43/72 [00:43<00:22,  1.28it/s]"
     ]
    },
    {
     "name": "stdout",
     "output_type": "stream",
     "text": [
      "<class 'list'>\n",
      "{3941: {'songs': [196118, 527493, 482846, 294011, 645381, 564336, 610310, 525997, 19568, 188349, 316184, 9807, 95323, 273178, 517016, 580074, 98271, 651499, 438424, 675791, 633386, 675115, 610957, 699391, 643628, 170378, 625933, 38929, 191680, 368069, 6546, 484964, 597855, 637288, 645807, 281936, 71608, 305761, 375752, 286485, 465778, 317362, 367490, 396949, 153240, 183949, 253755], 'tags': ['슬픔', '밤'], 'title': ''}}\n",
      "total intersect songs : 0\n",
      "total intersect tags : 0\n"
     ]
    },
    {
     "name": "stderr",
     "output_type": "stream",
     "text": [
      " 64%|######3   | 46/72 [00:43<00:23,  1.10it/s]"
     ]
    },
    {
     "name": "stdout",
     "output_type": "stream",
     "text": [
      "<class 'list'>\n",
      "{53255: {'songs': [164566, 30810, 516396, 683836, 573837, 330773, 516208, 122401, 418830, 304146, 529953], 'tags': [], 'title': ''}}\n",
      "total intersect songs : 0\n",
      "total intersect tags : 0\n"
     ]
    },
    {
     "name": "stderr",
     "output_type": "stream",
     "text": [
      " 64%|######3   | 46/72 [00:44<00:25,  1.03it/s]"
     ]
    },
    {
     "name": "stdout",
     "output_type": "stream",
     "text": [
      "<class 'list'>\n",
      "{56776: {'songs': [657052, 336369, 693094, 355249, 319369, 366098, 470643, 676200, 261682, 223360, 135173], 'tags': [], 'title': ''}}\n",
      "total intersect songs : 0\n",
      "total intersect tags : 0\n"
     ]
    },
    {
     "name": "stderr",
     "output_type": "stream",
     "text": [
      " 65%|######5   | 47/72 [00:44<00:18,  1.34it/s]"
     ]
    },
    {
     "name": "stdout",
     "output_type": "stream",
     "text": [
      "<class 'list'>\n",
      "{126567: {'songs': [523141, 369802, 276048, 557238, 39378, 50613, 375785, 251124, 622439, 633241, 15869, 345900, 696108, 270125, 60766, 306573, 450464], 'tags': [], 'title': ''}}\n",
      "total intersect songs : 0\n",
      "total intersect tags : 0\n"
     ]
    },
    {
     "name": "stderr",
     "output_type": "stream",
     "text": [
      " 61%|######1   | 44/72 [00:44<00:19,  1.42it/s]"
     ]
    },
    {
     "name": "stdout",
     "output_type": "stream",
     "text": [
      "<class 'list'>\n",
      "{141825: {'songs': [82836, 566538, 587543, 372802, 50166, 521484, 492368, 413417, 124769, 479768, 620088, 454698, 288914, 447308, 118224, 490871, 486784, 242031, 470604, 367382, 681550, 246394], 'tags': ['기분전환'], 'title': ''}}\n",
      "total intersect songs : 0\n",
      "total intersect tags : 0\n"
     ]
    },
    {
     "name": "stderr",
     "output_type": "stream",
     "text": [
      " 60%|#####9    | 43/72 [00:44<00:29,  1.03s/it]"
     ]
    },
    {
     "name": "stdout",
     "output_type": "stream",
     "text": [
      "<class 'list'>\n",
      "{82408: {'songs': [553550, 305943, 347431, 389477, 195309, 34040, 153333, 45341, 58929, 14989, 364932, 509765, 74289, 652223, 372033, 232065, 468397, 498681, 380010, 92120, 689856, 579457, 643180, 40937, 117496, 207806, 563125, 411545, 311817], 'tags': [], 'title': ''}}\n",
      "total intersect songs : 0\n",
      "total intersect tags : 0\n"
     ]
    },
    {
     "name": "stderr",
     "output_type": "stream",
     "text": [
      " 64%|######3   | 46/72 [00:44<00:24,  1.05it/s]"
     ]
    },
    {
     "name": "stdout",
     "output_type": "stream",
     "text": [
      "<class 'list'>\n",
      "{113934: {'songs': [162229, 122483, 611641, 53849, 652039], 'tags': [], 'title': ''}}\n",
      "total intersect songs : 0\n",
      "total intersect tags : 0\n"
     ]
    },
    {
     "name": "stderr",
     "output_type": "stream",
     "text": [
      " 72%|#######2  | 52/72 [00:44<00:15,  1.28it/s]"
     ]
    },
    {
     "name": "stdout",
     "output_type": "stream",
     "text": [
      "<class 'list'>\n",
      "{222: {'songs': [69533, 253946, 10532, 6758, 64434, 636430, 253076, 442605, 632305], 'tags': ['어쿠스틱연주', '어쿠스틱', '봄'], 'title': ''}}\n",
      "total intersect songs : 0\n",
      "total intersect tags : 0\n"
     ]
    },
    {
     "name": "stderr",
     "output_type": "stream",
     "text": [
      " 60%|#####9    | 43/72 [00:44<00:26,  1.11it/s]"
     ]
    },
    {
     "name": "stdout",
     "output_type": "stream",
     "text": [
      "<class 'list'>\n",
      "{89529: {'songs': [], 'tags': ['커피와어울리는재즈', '카페재즈', '커피광고속재즈음악', '커피재즈'], 'title': '커피 광고 속 삽입되었거나 되었으면 하는 재즈음악!'}}\n",
      "total intersect songs : 0\n",
      "total intersect tags : 0\n"
     ]
    },
    {
     "name": "stderr",
     "output_type": "stream",
     "text": [
      " 62%|######2   | 45/72 [00:44<00:17,  1.56it/s]"
     ]
    },
    {
     "name": "stdout",
     "output_type": "stream",
     "text": [
      "<class 'list'><class 'list'>\n",
      "\n",
      "{81476: {'songs': [], 'tags': [], 'title': '실용음악과 입시생들이 듣는 필수 POP.'}}{8243: {'songs': [], 'tags': [], 'title': '학창시절, 남자면 노래방에서 이런 발라드 불러봤잖아?!#1'}}\n",
      "\n",
      "total intersect songs : 0total intersect songs : 0\n",
      "\n",
      "total intersect tags : 0total intersect tags : 0\n",
      "\n"
     ]
    },
    {
     "name": "stderr",
     "output_type": "stream",
     "text": [
      " 67%|######6   | 48/72 [00:44<00:17,  1.36it/s]"
     ]
    },
    {
     "name": "stdout",
     "output_type": "stream",
     "text": [
      "<class 'list'>\n",
      "{149280: {'songs': [149090, 126968, 111791, 45707, 109872, 178927, 489477, 482100, 223333, 142829, 411261, 363688, 128562], 'tags': [], 'title': ''}}\n",
      "total intersect songs : 0\n",
      "total intersect tags : 0\n"
     ]
    },
    {
     "name": "stderr",
     "output_type": "stream",
     "text": [
      " 61%|######1   | 44/72 [00:45<00:25,  1.08it/s]"
     ]
    },
    {
     "name": "stdout",
     "output_type": "stream",
     "text": [
      "<class 'list'>\n",
      "{44113: {'songs': [57508, 388741, 297352, 678937, 98129, 176580, 101956, 157847], 'tags': [], 'title': ''}}\n",
      "total intersect songs : 0\n",
      "total intersect tags : 0<class 'list'>\n"
     ]
    },
    {
     "name": "stderr",
     "output_type": "stream",
     "text": [
      " 65%|######5   | 47/72 [00:45<00:21,  1.16it/s]"
     ]
    },
    {
     "name": "stdout",
     "output_type": "stream",
     "text": [
      "\n",
      "{112672: {'songs': [184015, 184722, 143957, 61096, 70354, 611824, 65137, 584658, 134961, 57438], 'tags': ['감성', '잔잔한', '여행', '사랑', 'aomg'], 'title': ''}}\n",
      "total intersect songs : 0\n",
      "total intersect tags : 0\n"
     ]
    },
    {
     "name": "stderr",
     "output_type": "stream",
     "text": [
      " 65%|######5   | 47/72 [00:45<00:25,  1.04s/it]"
     ]
    },
    {
     "name": "stdout",
     "output_type": "stream",
     "text": [
      "<class 'list'>\n",
      "{96791: {'songs': [118788, 558685, 149025, 320842, 528414, 633203, 37748, 675500, 55540, 640657, 704840, 668928, 341513], 'tags': [], 'title': ''}}\n",
      "total intersect songs : 0\n",
      "total intersect tags : 0\n"
     ]
    },
    {
     "name": "stderr",
     "output_type": "stream",
     "text": [
      " 67%|######6   | 48/72 [00:45<00:21,  1.12it/s]"
     ]
    },
    {
     "name": "stdout",
     "output_type": "stream",
     "text": [
      "<class 'list'>\n",
      "{146567: {'songs': [257755, 23349, 38929, 417870, 561107, 366786, 539327, 242844, 295250, 650494], 'tags': [], 'title': ''}}\n",
      "total intersect songs : 0\n",
      "total intersect tags : 0\n"
     ]
    },
    {
     "name": "stderr",
     "output_type": "stream",
     "text": [
      " 68%|######8   | 49/72 [00:45<00:19,  1.20it/s]"
     ]
    },
    {
     "name": "stdout",
     "output_type": "stream",
     "text": [
      "<class 'list'>\n",
      "{141481: {'songs': [650786, 416408, 583537, 216682, 319820, 426884, 663471, 391456, 654839, 458152, 49077, 213574, 689455, 388956, 440848, 455763, 413762], 'tags': [], 'title': ''}}\n",
      "total intersect songs : 0\n",
      "total intersect tags : 0\n"
     ]
    },
    {
     "name": "stderr",
     "output_type": "stream",
     "text": [
      " 61%|######1   | 44/72 [00:46<00:27,  1.01it/s]"
     ]
    },
    {
     "name": "stdout",
     "output_type": "stream",
     "text": [
      "<class 'list'>\n",
      "{78858: {'songs': [84101, 681159, 283138, 475584, 653502, 333079, 424754, 660180, 80334, 406340, 247287, 404215, 481343, 135805, 98970], 'tags': [], 'title': ''}}\n",
      "total intersect songs : 0\n",
      "total intersect tags : 0\n"
     ]
    },
    {
     "name": "stderr",
     "output_type": "stream",
     "text": [
      " 74%|#######3  | 53/72 [00:46<00:17,  1.06it/s]"
     ]
    },
    {
     "name": "stdout",
     "output_type": "stream",
     "text": [
      "<class 'list'>\n",
      "{148692: {'songs': [597053, 469865, 521627, 291417, 280708, 302881, 331017, 587, 449277, 236755, 91228, 472747, 448271, 599789, 61230, 441218, 517913, 199389], 'tags': ['새벽'], 'title': ''}}\n",
      "total intersect songs : 0\n",
      "total intersect tags : 0\n"
     ]
    },
    {
     "name": "stderr",
     "output_type": "stream",
     "text": [
      " 67%|######6   | 48/72 [00:46<00:23,  1.01it/s]"
     ]
    },
    {
     "name": "stdout",
     "output_type": "stream",
     "text": [
      "<class 'list'>\n",
      "{109511: {'songs': [189726, 338462, 597648, 590730, 223424, 84770, 650343, 387744, 483571, 338281, 369525, 414460, 521994, 160938, 204532, 499262, 68425, 132713, 122197, 456146, 457000, 256274, 579079, 359417, 453234, 304286, 474217], 'tags': [], 'title': ''}}\n",
      "total intersect songs : 0\n",
      "total intersect tags : 0\n"
     ]
    },
    {
     "name": "stderr",
     "output_type": "stream",
     "text": [
      " 69%|######9   | 50/72 [00:46<00:14,  1.55it/s]"
     ]
    },
    {
     "name": "stdout",
     "output_type": "stream",
     "text": [
      "<class 'list'>\n",
      "{147595: {'songs': [452526, 392130, 579364, 510354, 77146, 105814, 659160, 293753, 230895, 480190, 417454, 338328, 590255, 675466, 351250, 238262, 326001], 'tags': ['여유로운', '주말', '브런치', '팝송'], 'title': ''}}\n",
      "total intersect songs : 0\n",
      "total intersect tags : 0\n"
     ]
    },
    {
     "name": "stderr",
     "output_type": "stream",
     "text": [
      " 67%|######6   | 48/72 [00:46<00:22,  1.06it/s]"
     ]
    },
    {
     "name": "stdout",
     "output_type": "stream",
     "text": [
      "<class 'list'>\n",
      "{89822: {'songs': [79737, 578240, 261626, 110313, 586987, 552506, 419993, 567078, 188215, 559120, 298103, 482846, 78949, 186284, 400397, 384848, 213019, 360876, 196405, 73450, 372893, 224731, 680366, 476773, 674160, 511719, 343619, 302864], 'tags': [], 'title': ''}}\n",
      "total intersect songs : 0\n",
      "total intersect tags : 0\n"
     ]
    },
    {
     "name": "stderr",
     "output_type": "stream",
     "text": [
      " 62%|######2   | 45/72 [00:46<00:27,  1.02s/it]"
     ]
    },
    {
     "name": "stdout",
     "output_type": "stream",
     "text": [
      "<class 'list'>\n",
      "{136265: {'songs': [], 'tags': ['감성', '트렌디', '몽환적'], 'title': '한번 들으면 헤어나올 수 없는 감각적이고 트렌디한 R&B/SOUL'}}\n",
      "total intersect songs : 0\n",
      "total intersect tags : 0\n"
     ]
    },
    {
     "name": "stderr",
     "output_type": "stream",
     "text": [
      " 64%|######3   | 46/72 [00:46<00:25,  1.01it/s]"
     ]
    },
    {
     "name": "stdout",
     "output_type": "stream",
     "text": [
      "<class 'list'>\n",
      "{34966: {'songs': [566318, 594501, 175091, 7517, 320254, 91644, 212626, 315052, 164821, 63909], 'tags': [], 'title': ''}}\n",
      "total intersect songs : 0\n",
      "total intersect tags : 0\n"
     ]
    },
    {
     "name": "stderr",
     "output_type": "stream",
     "text": [
      " 71%|#######   | 51/72 [00:46<00:12,  1.62it/s]"
     ]
    },
    {
     "name": "stdout",
     "output_type": "stream",
     "text": [
      "<class 'list'>\n",
      "{111589: {'songs': [564906, 273261, 437365, 256540, 149699, 575683, 362774, 391558, 311707, 315578], 'tags': ['스포츠', '발라드', '아이돌발라드'], 'title': ''}}\n",
      "total intersect songs : 0\n",
      "total intersect tags : 0\n"
     ]
    },
    {
     "name": "stderr",
     "output_type": "stream",
     "text": [
      " 75%|#######5  | 54/72 [00:46<00:16,  1.09it/s]"
     ]
    },
    {
     "name": "stdout",
     "output_type": "stream",
     "text": [
      "<class 'list'>\n",
      "{125893: {'songs': [427724, 322721, 200098, 154858, 479284, 651723, 560029, 511719, 521414, 627466, 533336, 610551, 215411, 266761, 464821, 264957, 112673, 570836, 209135, 105140, 582252, 38261, 199262, 509998, 442014, 349492, 422915, 487911, 422077, 448116, 341513, 157055, 668128, 498752, 669557, 630152, 678762, 690604], 'tags': ['밤', '과거', '새벽', '그리움', '쓸쓸'], 'title': ''}}\n",
      "total intersect songs : 0\n",
      "total intersect tags : 0\n"
     ]
    },
    {
     "name": "stderr",
     "output_type": "stream",
     "text": [
      " 68%|######8   | 49/72 [00:46<00:21,  1.06it/s]"
     ]
    },
    {
     "name": "stdout",
     "output_type": "stream",
     "text": [
      "<class 'list'>\n",
      "{133147: {'songs': [140867, 557549, 225510, 675336, 596787, 226230, 495992, 511848, 40051, 623033, 671547, 128901, 423386, 622775, 575369, 356211, 663428, 252966, 529328, 154648, 260220, 217311, 80171, 93015, 13722, 159225], 'tags': [], 'title': ''}}\n",
      "total intersect songs : 0\n",
      "total intersect tags : 0\n"
     ]
    },
    {
     "name": "stderr",
     "output_type": "stream",
     "text": [
      " 68%|######8   | 49/72 [00:47<00:22,  1.02it/s]"
     ]
    },
    {
     "name": "stdout",
     "output_type": "stream",
     "text": [
      "<class 'list'>\n",
      "{8266: {'songs': [551675, 16516, 211063, 501764, 705098, 585965, 246947, 195174, 463679], 'tags': ['일렉'], 'title': ''}}\n",
      "total intersect songs : 0\n",
      "total intersect tags : 0\n"
     ]
    },
    {
     "name": "stderr",
     "output_type": "stream",
     "text": [
      " 72%|#######2  | 52/72 [00:47<00:12,  1.54it/s]"
     ]
    },
    {
     "name": "stdout",
     "output_type": "stream",
     "text": [
      "<class 'list'>\n",
      "{107269: {'songs': [322158, 423598, 348198, 232972, 461680, 521739, 616261, 278490, 565787, 383632, 672552, 2188, 356211, 654538, 229, 209462, 339494, 278881, 255333, 413654, 365145, 505251, 514956, 49641, 132117, 369931, 397035, 496810, 670635, 383082, 275192, 578760, 330238, 154886, 567991, 490289, 481474, 134129, 361178, 98897, 69155, 584775, 113676, 495318, 37691, 587331, 232817, 586247, 692481, 422759, 113385, 427182, 340679, 477905, 243850, 116573, 553219, 33829, 55025, 76759, 60359], 'tags': [], 'title': ''}}\n",
      "total intersect songs : 0\n",
      "total intersect tags : 0\n"
     ]
    },
    {
     "name": "stderr",
     "output_type": "stream",
     "text": [
      " 62%|######2   | 45/72 [00:47<00:31,  1.16s/it]"
     ]
    },
    {
     "name": "stdout",
     "output_type": "stream",
     "text": [
      "<class 'list'>\n",
      "{104051: {'songs': [], 'tags': ['스트레스', '월요병', '드라이브', '퇴근길', '팝'], 'title': '드라이브에 딱! 바람을 가르며 듣는 팝 vol.2 (신스팝, 락, 일렉)'}}\n",
      "total intersect songs : 0\n",
      "total intersect tags : 0\n"
     ]
    },
    {
     "name": "stderr",
     "output_type": "stream",
     "text": [
      " 68%|######8   | 49/72 [00:47<00:24,  1.05s/it]"
     ]
    },
    {
     "name": "stdout",
     "output_type": "stream",
     "text": [
      "<class 'list'>\n",
      "{115633: {'songs': [658325, 91189, 684570, 76591, 689970, 487721, 481596, 452674, 265538, 404402, 331485, 184022], 'tags': [], 'title': ''}}\n",
      "total intersect songs : 0\n",
      "total intersect tags : 0\n"
     ]
    },
    {
     "name": "stderr",
     "output_type": "stream",
     "text": [
      " 69%|######9   | 50/72 [00:47<00:19,  1.10it/s]"
     ]
    },
    {
     "name": "stdout",
     "output_type": "stream",
     "text": [
      "<class 'list'>\n",
      "{75823: {'songs': [63803, 562024, 259414, 62171, 519163, 372710, 524455, 282007, 315678, 322172, 377807, 336044, 581540, 535340, 423647, 287003, 526577, 173681, 226384, 468797, 203613, 581896], 'tags': [], 'title': ''}}\n",
      "total intersect songs : 0\n",
      "total intersect tags : 0\n"
     ]
    },
    {
     "name": "stderr",
     "output_type": "stream",
     "text": [
      " 64%|######3   | 46/72 [00:47<00:28,  1.11s/it]"
     ]
    },
    {
     "name": "stdout",
     "output_type": "stream",
     "text": [
      "<class 'list'>\n",
      "{16035: {'songs': [516797, 415285, 223134, 572110, 367609, 26094, 508478, 641800, 526543, 86678, 634795, 511812], 'tags': ['네오소울', '여름', '새벽', '열대야'], 'title': ''}}\n",
      "total intersect songs : 0\n",
      "total intersect tags : 0\n"
     ]
    },
    {
     "name": "stderr",
     "output_type": "stream",
     "text": [
      " 65%|######5   | 47/72 [00:47<00:26,  1.05s/it]"
     ]
    },
    {
     "name": "stdout",
     "output_type": "stream",
     "text": [
      "<class 'list'>\n",
      "{16797: {'songs': [68456, 671934, 13142, 615534, 585469, 347851, 462001, 575263, 468732, 370470, 306202, 163468, 279532, 144856], 'tags': ['슬픔'], 'title': ''}}\n",
      "total intersect songs : 0\n",
      "total intersect tags : 0\n"
     ]
    },
    {
     "name": "stderr",
     "output_type": "stream",
     "text": [
      " 69%|######9   | 50/72 [00:48<00:21,  1.04it/s]"
     ]
    },
    {
     "name": "stdout",
     "output_type": "stream",
     "text": [
      "<class 'list'>\n",
      "{145221: {'songs': [239514, 97993, 206425, 19848, 318113, 655127], 'tags': [], 'title': ''}}\n",
      "total intersect songs : 0\n",
      "total intersect tags : 0\n"
     ]
    },
    {
     "name": "stderr",
     "output_type": "stream",
     "text": [
      " 71%|#######   | 51/72 [00:48<00:15,  1.33it/s]"
     ]
    },
    {
     "name": "stdout",
     "output_type": "stream",
     "text": [
      "<class 'list'>\n",
      "{1524: {'songs': [340014, 18375, 201297, 52908, 331192, 229234, 201283, 22521, 506409, 292688, 671219, 177088, 321044, 282961], 'tags': [], 'title': ''}}\n",
      "total intersect songs : 0\n",
      "total intersect tags : 0\n"
     ]
    },
    {
     "name": "stderr",
     "output_type": "stream",
     "text": [
      " 74%|#######3  | 53/72 [00:48<00:12,  1.52it/s]"
     ]
    },
    {
     "name": "stdout",
     "output_type": "stream",
     "text": [
      "<class 'list'>\n",
      "{49738: {'songs': [], 'tags': ['인디음악추천'], 'title': '[Ivory] 달콤하고 부드러운 커피같은 음악들'}}\n",
      "total intersect songs : 0\n",
      "total intersect tags : 0\n"
     ]
    },
    {
     "name": "stderr",
     "output_type": "stream",
     "text": [
      " 76%|#######6  | 55/72 [00:48<00:17,  1.03s/it]"
     ]
    },
    {
     "name": "stdout",
     "output_type": "stream",
     "text": [
      "<class 'list'>\n",
      "{56859: {'songs': [239444, 367205, 425361, 183644, 475587, 638938, 483630, 342198, 547714, 255104, 333311], 'tags': [], 'title': ''}}\n",
      "total intersect songs : 0\n",
      "total intersect tags : 0\n"
     ]
    },
    {
     "name": "stderr",
     "output_type": "stream",
     "text": [
      " 75%|#######5  | 54/72 [00:48<00:10,  1.79it/s]"
     ]
    },
    {
     "name": "stdout",
     "output_type": "stream",
     "text": [
      "<class 'list'>\n",
      "{14023: {'songs': [707573, 541906, 588029, 665860, 496238, 625899, 312848, 659272, 699111, 176777, 465739, 323326], 'tags': ['스윗마인드', '훈남', '팝', '보이그룹'], 'title': ''}}\n",
      "total intersect songs : 0\n",
      "total intersect tags : 0\n"
     ]
    },
    {
     "name": "stderr",
     "output_type": "stream",
     "text": [
      " 64%|######3   | 46/72 [00:48<00:28,  1.12s/it]"
     ]
    },
    {
     "name": "stdout",
     "output_type": "stream",
     "text": [
      "<class 'list'>\n",
      "{96225: {'songs': [390378, 352833, 464051, 236393, 49328, 493762, 375769, 570294, 94504, 220569, 161176], 'tags': [], 'title': ''}}\n",
      "total intersect songs : 0\n",
      "total intersect tags : 0\n"
     ]
    },
    {
     "name": "stderr",
     "output_type": "stream",
     "text": [
      " 67%|######6   | 48/72 [00:48<00:23,  1.00it/s]"
     ]
    },
    {
     "name": "stdout",
     "output_type": "stream",
     "text": [
      "<class 'list'>\n",
      "{90719: {'songs': [663692, 285807, 202615, 234852, 464598, 60160, 14156, 200600, 505859, 491356], 'tags': ['1990', '흥겨운', '댄스', '명곡', '작곡가'], 'title': ''}}\n",
      "total intersect songs : 0\n",
      "total intersect tags : 0\n"
     ]
    },
    {
     "name": "stderr",
     "output_type": "stream",
     "text": [
      " 72%|#######2  | 52/72 [00:48<00:14,  1.35it/s]"
     ]
    },
    {
     "name": "stdout",
     "output_type": "stream",
     "text": [
      "<class 'list'>\n",
      "{83410: {'songs': [492967, 210939, 346827, 652851, 157483, 363795, 638600, 53252, 602103, 319238, 463197, 530949, 160584, 66470], 'tags': ['흥', '드라이브', '명곡', 'OST', '신나는'], 'title': ''}}\n",
      "total intersect songs : 0\n",
      "total intersect tags : 0\n"
     ]
    },
    {
     "name": "stderr",
     "output_type": "stream",
     "text": [
      " 65%|######5   | 47/72 [00:48<00:27,  1.10s/it]"
     ]
    },
    {
     "name": "stdout",
     "output_type": "stream",
     "text": [
      "<class 'list'>\n",
      "{1014: {'songs': [], 'tags': ['발렌타인데이', '봄', '그대', '클래식', '러블리'], 'title': '사랑하는 사람을 위한 러블리 피아노곡'}}\n",
      "total intersect songs : 0\n",
      "total intersect tags : 0\n"
     ]
    },
    {
     "name": "stderr",
     "output_type": "stream",
     "text": [
      " 69%|######9   | 50/72 [00:48<00:24,  1.13s/it]"
     ]
    },
    {
     "name": "stdout",
     "output_type": "stream",
     "text": [
      "<class 'list'>\n",
      "{11728: {'songs': [], 'tags': [], 'title': 'Not Everyone Understands [House Music]'}}\n",
      "total intersect songs : 0\n",
      "total intersect tags : 0\n"
     ]
    },
    {
     "name": "stderr",
     "output_type": "stream",
     "text": [
      " 68%|######8   | 49/72 [00:49<00:20,  1.12it/s]"
     ]
    },
    {
     "name": "stdout",
     "output_type": "stream",
     "text": [
      "<class 'list'>\n",
      "{18271: {'songs': [552228, 275598, 513802, 237867, 153208, 485294, 460215], 'tags': [], 'title': ''}}\n",
      "total intersect songs : 0\n",
      "total intersect tags : 0\n"
     ]
    },
    {
     "name": "stderr",
     "output_type": "stream",
     "text": [
      " 71%|#######   | 51/72 [00:49<00:19,  1.05it/s]"
     ]
    },
    {
     "name": "stdout",
     "output_type": "stream",
     "text": [
      "<class 'list'>\n",
      "{78026: {'songs': [499320, 396868, 22452, 620714, 357497, 403702, 206116, 586064, 339822, 142982, 168165, 27176, 240162, 215233, 368554, 631346, 603814, 288406, 656838, 377828, 475946, 50269, 115843], 'tags': ['출근길', '댄스', '드라이브', 'OST', '퇴근길'], 'title': ''}}\n",
      "total intersect songs : 0\n",
      "total intersect tags : 0\n"
     ]
    },
    {
     "name": "stderr",
     "output_type": "stream",
     "text": [
      " 78%|#######7  | 56/72 [00:49<00:18,  1.16s/it]"
     ]
    },
    {
     "name": "stdout",
     "output_type": "stream",
     "text": [
      "<class 'list'>\n",
      "{66855: {'songs': [276265, 453206, 22266, 494640, 685652, 619129, 486761, 522895, 377576, 138672, 579156, 25117, 178741, 224, 693276, 207784, 207282], 'tags': [], 'title': ''}}\n",
      "total intersect songs : 0\n",
      "total intersect tags : 0\n"
     ]
    },
    {
     "name": "stderr",
     "output_type": "stream",
     "text": [
      " 74%|#######3  | 53/72 [00:49<00:14,  1.30it/s]"
     ]
    },
    {
     "name": "stdout",
     "output_type": "stream",
     "text": [
      "<class 'list'>\n",
      "{102847: {'songs': [494168, 129046, 259622, 619443, 26228, 305959, 335688, 574205, 329426, 389381, 619045, 355965, 355345, 181933, 592088, 156054, 371647], 'tags': ['따스한노래', '허브', '봄봄봄'], 'title': ''}}\n",
      "total intersect songs : 0\n",
      "total intersect tags : 0\n"
     ]
    },
    {
     "name": "stderr",
     "output_type": "stream",
     "text": [
      " 76%|#######6  | 55/72 [00:49<00:12,  1.34it/s]"
     ]
    },
    {
     "name": "stdout",
     "output_type": "stream",
     "text": [
      "<class 'list'>\n",
      "{97193: {'songs': [576709, 262628, 520301, 609513, 570529, 197634, 109821, 397988, 370298, 321096, 124756, 168550, 305610, 589429, 321702, 244490, 570823, 111495, 459023, 180922, 377991, 640863, 656995, 651470, 597690, 639137, 105878, 559360, 601352, 441621, 223480], 'tags': ['Hillsong'], 'title': ''}}\n",
      "total intersect songs : 0\n",
      "total intersect tags : 0\n"
     ]
    },
    {
     "name": "stderr",
     "output_type": "stream",
     "text": [
      " 72%|#######2  | 52/72 [00:49<00:14,  1.41it/s]"
     ]
    },
    {
     "name": "stdout",
     "output_type": "stream",
     "text": [
      "<class 'list'>\n",
      "{32197: {'songs': [], 'tags': ['매장음악', '새벽', 'YOLO', '드라이브', '스트레스'], 'title': '몽환적이고 감각적인 분위기 깡패 Music'}}\n",
      "total intersect songs : 0\n",
      "total intersect tags : 0\n"
     ]
    },
    {
     "name": "stderr",
     "output_type": "stream",
     "text": [
      " 71%|#######   | 51/72 [00:49<00:24,  1.18s/it]"
     ]
    },
    {
     "name": "stdout",
     "output_type": "stream",
     "text": [
      "<class 'list'>\n",
      "{118752: {'songs': [219863, 608260, 18960, 378824, 679661, 572281, 348396, 98868, 376358, 479843, 679678, 614363, 689654, 363889, 224757, 193062, 628295, 21725, 477354, 67110, 260449, 199605, 547376, 341968, 653739, 231163, 576923, 352718, 73238, 267419, 186053, 606701, 23680, 215194, 611266, 664537, 284556, 157901, 272793, 174606, 382190, 446522, 70851, 139325, 425609, 503242, 534846, 275100, 564960, 322701, 588178, 642860, 356797, 44310, 621661, 461627, 335293, 466914, 449794, 671903, 358033, 329418, 78574, 395416, 27254, 289121, 147879, 548996, 284992, 498219, 504175, 406862, 535932, 168614, 509021, 246992, 11223, 246779, 119016, 631585, 262895, 428212, 589003, 617673, 55792, 513583, 437027, 45023, 101467, 108798, 297055, 212568, 576898, 649225, 463248, 309573, 54526, 560928, 654757, 239728], 'tags': ['걸그룹', '혼성그룹', '그룹', '혼성듀엣'], 'title': ''}}\n",
      "total intersect songs : 0\n",
      "total intersect tags : 0\n"
     ]
    },
    {
     "name": "stderr",
     "output_type": "stream",
     "text": [
      " 69%|######9   | 50/72 [00:50<00:17,  1.25it/s]"
     ]
    },
    {
     "name": "stdout",
     "output_type": "stream",
     "text": [
      "<class 'list'>\n",
      "{74195: {'songs': [], 'tags': ['잔잔한', '휴식', '새벽'], 'title': 'In the midnight, POP'}}\n",
      "total intersect songs : 0\n",
      "total intersect tags : 0\n"
     ]
    },
    {
     "name": "stderr",
     "output_type": "stream",
     "text": [
      " 65%|######5   | 47/72 [00:50<00:30,  1.22s/it]"
     ]
    },
    {
     "name": "stdout",
     "output_type": "stream",
     "text": [
      "<class 'list'>\n",
      "{109091: {'songs': [23790, 208962, 205789, 666787, 43055, 656543, 475513, 502387, 370003, 401036, 241734, 389296, 666798, 537534, 228114, 342798, 68102, 504940], 'tags': ['인디포크', '감성', '기분전환', '인디밴드', '음악추천'], 'title': ''}}\n",
      "total intersect songs : 0\n",
      "total intersect tags : 0\n"
     ]
    },
    {
     "name": "stderr",
     "output_type": "stream",
     "text": [
      " 67%|######6   | 48/72 [00:50<00:30,  1.26s/it]"
     ]
    },
    {
     "name": "stdout",
     "output_type": "stream",
     "text": [
      "<class 'list'>\n",
      "{73204: {'songs': [607542, 532450, 27993, 207558, 63623, 385816], 'tags': [], 'title': ''}}\n",
      "total intersect songs : 0\n",
      "total intersect tags : 0\n"
     ]
    },
    {
     "name": "stderr",
     "output_type": "stream",
     "text": [
      " 72%|#######2  | 52/72 [00:50<00:22,  1.13s/it]"
     ]
    },
    {
     "name": "stdout",
     "output_type": "stream",
     "text": [
      "<class 'list'>\n",
      "{100356: {'songs': [], 'tags': ['슬픔', '이별'], 'title': '마음이 아픈가요? 잠시 쉬었다 가요...'}}\n",
      "total intersect songs : 0\n",
      "total intersect tags : 0\n"
     ]
    },
    {
     "name": "stderr",
     "output_type": "stream",
     "text": [
      " 74%|#######3  | 53/72 [00:50<00:15,  1.20it/s]"
     ]
    },
    {
     "name": "stdout",
     "output_type": "stream",
     "text": [
      "<class 'list'>\n",
      "{41772: {'songs': [457905, 47838, 19131, 372034, 253194, 2955, 264002, 317362, 516702, 174225, 456625, 699304, 292222], 'tags': ['설렘'], 'title': ''}}\n",
      "total intersect songs : 0\n",
      "total intersect tags : 0\n"
     ]
    },
    {
     "name": "stderr",
     "output_type": "stream",
     "text": [
      " 78%|#######7  | 56/72 [00:50<00:13,  1.14it/s]"
     ]
    },
    {
     "name": "stdout",
     "output_type": "stream",
     "text": [
      "<class 'list'>\n",
      "{101758: {'songs': [29717, 593130, 662653], 'tags': ['걸그룹', '댄스'], 'title': ''}}\n",
      "total intersect songs : 0\n",
      "total intersect tags : 0\n"
     ]
    },
    {
     "name": "stderr",
     "output_type": "stream",
     "text": [
      " 67%|######6   | 48/72 [00:50<00:26,  1.10s/it]"
     ]
    },
    {
     "name": "stdout",
     "output_type": "stream",
     "text": [
      "<class 'list'>\n",
      "{69036: {'songs': [40896, 25538, 624868, 414278, 692878, 668042, 356306, 135925, 658069, 118049, 339124, 561197, 254192, 470108, 164508, 300087, 313551, 481142, 609908, 198610, 368429, 510462, 332379, 18889, 422286, 606431, 28686, 446812, 251662, 519638, 512228, 577736, 162229, 337267, 429601, 516906, 505036, 541420, 196698, 114488, 46227, 157267, 289865, 342835, 476923, 36631, 75971, 229614, 702818, 359489, 160214, 253882, 413422, 401573, 63998, 30907, 705123, 390168, 585397, 588063, 61096, 413738, 471691, 667619, 61779, 670510, 659496, 488943, 622923, 25455, 571684, 463907, 35575, 34025, 38209, 387575, 11234, 102980, 664451, 703608, 334240, 142664, 250177, 248428, 620164, 489439, 228839, 77861, 250707, 322491, 670390, 403245, 577335, 106689, 497695, 662661, 306056, 450170, 420145, 129053], 'tags': ['인디음악'], 'title': ''}}\n",
      "total intersect songs : 0\n",
      "total intersect tags : 0\n"
     ]
    },
    {
     "name": "stderr",
     "output_type": "stream",
     "text": [
      " 79%|#######9  | 57/72 [00:50<00:17,  1.19s/it]"
     ]
    },
    {
     "name": "stdout",
     "output_type": "stream",
     "text": [
      "<class 'list'>\n",
      "{92634: {'songs': [76888, 338622, 166761, 7149, 415256, 700739, 431734, 6546, 577736, 624738, 84147, 159843, 270513, 374156, 174528, 209660, 151183], 'tags': ['설렘', '사랑'], 'title': ''}}\n",
      "total intersect songs : 0\n",
      "total intersect tags : 0\n"
     ]
    },
    {
     "name": "stderr",
     "output_type": "stream",
     "text": [
      " 75%|#######5  | 54/72 [00:51<00:17,  1.03it/s]"
     ]
    },
    {
     "name": "stdout",
     "output_type": "stream",
     "text": [
      "<class 'list'>\n",
      "{134687: {'songs': [600543, 27159, 31139, 688582, 255532, 269996, 88647, 625299, 549790, 427559, 588627], 'tags': [], 'title': ''}}\n",
      "total intersect songs : 0\n",
      "total intersect tags : 0\n"
     ]
    },
    {
     "name": "stderr",
     "output_type": "stream",
     "text": [
      " 74%|#######3  | 53/72 [00:51<00:17,  1.10it/s]"
     ]
    },
    {
     "name": "stdout",
     "output_type": "stream",
     "text": [
      "<class 'list'>\n",
      "{140864: {'songs': [], 'tags': ['뉴에이지'], 'title': '새벽에 듣는 피아노'}}\n",
      "total intersect songs : 0\n",
      "total intersect tags : 0\n"
     ]
    },
    {
     "name": "stderr",
     "output_type": "stream",
     "text": [
      " 68%|######8   | 49/72 [00:51<00:25,  1.10s/it]"
     ]
    },
    {
     "name": "stdout",
     "output_type": "stream",
     "text": [
      "<class 'list'>\n",
      "{99411: {'songs': [560509, 381862, 140253, 486877, 410186, 528265, 500821, 206185, 498266, 92357, 644913, 472549, 225554, 184990, 682839, 315611, 175293, 213874, 268321, 487401, 317207, 297055, 510882, 326836, 399917, 302206, 546651, 253587, 223834, 869, 660845, 71815, 231911], 'tags': ['인기곡', '1위곡'], 'title': ''}}\n",
      "total intersect songs : 0\n",
      "total intersect tags : 0\n"
     ]
    },
    {
     "name": "stderr",
     "output_type": "stream",
     "text": [
      " 71%|#######   | 51/72 [00:51<00:19,  1.07it/s]"
     ]
    },
    {
     "name": "stdout",
     "output_type": "stream",
     "text": [
      "<class 'list'>\n",
      "{74696: {'songs': [436099, 405178, 415753, 25966, 95470, 45067, 342446, 316118, 69600, 121875, 139542, 349975, 233501, 525817, 47106, 483952], 'tags': [], 'title': ''}}\n",
      "total intersect songs : 0\n",
      "total intersect tags : 0\n"
     ]
    },
    {
     "name": "stderr",
     "output_type": "stream",
     "text": [
      " 79%|#######9  | 57/72 [00:51<00:12,  1.19it/s]"
     ]
    },
    {
     "name": "stdout",
     "output_type": "stream",
     "text": [
      "<class 'list'>\n",
      "{89591: {'songs': [105543, 555078, 429152, 690665, 542673, 596978, 134683, 224924, 278184], 'tags': ['비오는날'], 'title': ''}}\n",
      "total intersect songs : 0\n",
      "total intersect tags : 0\n"
     ]
    },
    {
     "name": "stderr",
     "output_type": "stream",
     "text": [
      " 75%|#######5  | 54/72 [00:51<00:15,  1.19it/s]"
     ]
    },
    {
     "name": "stdout",
     "output_type": "stream",
     "text": [
      "<class 'list'>\n",
      "{19741: {'songs': [358579, 101888, 690528, 131609, 287963, 381403, 440470, 359905, 651370, 131460, 366989, 608049, 349903, 698356], 'tags': ['잔잔한'], 'title': ''}}\n",
      "total intersect songs : 0\n",
      "total intersect tags : 0\n"
     ]
    },
    {
     "name": "stderr",
     "output_type": "stream",
     "text": [
      " 68%|######8   | 49/72 [00:51<00:24,  1.06s/it]"
     ]
    },
    {
     "name": "stdout",
     "output_type": "stream",
     "text": [
      "<class 'list'>\n",
      "{50298: {'songs': [515696, 300677, 497733, 349726, 477309, 502892, 388635, 698320, 671426, 674753, 553522, 502602, 634224, 561777, 403533, 273310], 'tags': [], 'title': ''}}\n",
      "total intersect songs : 0\n",
      "total intersect tags : 0\n"
     ]
    },
    {
     "name": "stderr",
     "output_type": "stream",
     "text": [
      " 75%|#######5  | 54/72 [00:51<00:15,  1.14it/s]"
     ]
    },
    {
     "name": "stdout",
     "output_type": "stream",
     "text": [
      "<class 'list'>\n",
      "{74877: {'songs': [25042, 528265, 44220, 340108, 505859, 112041, 249997, 220265, 382413, 491356, 398171, 356204, 175293, 418342, 488809, 38198, 379336, 464542, 385988, 644913, 399370, 680670, 244396, 343677, 252673, 55035, 77612, 127681], 'tags': [], 'title': ''}}\n",
      "total intersect songs : 0\n",
      "total intersect tags : 0\n"
     ]
    },
    {
     "name": "stderr",
     "output_type": "stream",
     "text": [
      " 69%|######9   | 50/72 [00:52<00:22,  1.04s/it]"
     ]
    },
    {
     "name": "stdout",
     "output_type": "stream",
     "text": [
      "<class 'list'>\n",
      "{58281: {'songs': [632748, 9381, 614537, 112162, 106201, 451824, 564906, 34524, 239060, 148452, 49868, 517087, 567129, 610179], 'tags': [], 'title': ''}}\n",
      "total intersect songs : 0\n",
      "total intersect tags : 0\n"
     ]
    },
    {
     "name": "stderr",
     "output_type": "stream",
     "text": [
      " 76%|#######6  | 55/72 [00:52<00:17,  1.01s/it]"
     ]
    },
    {
     "name": "stdout",
     "output_type": "stream",
     "text": [
      "<class 'list'>\n",
      "{128163: {'songs': [387325, 507762, 153843, 327082, 651376, 661257, 652120, 503848, 7108, 529699], 'tags': [], 'title': ''}}\n",
      "total intersect songs : 0\n",
      "total intersect tags : 0\n"
     ]
    },
    {
     "name": "stderr",
     "output_type": "stream",
     "text": [
      " 71%|#######   | 51/72 [00:52<00:16,  1.27it/s]"
     ]
    },
    {
     "name": "stdout",
     "output_type": "stream",
     "text": [
      "<class 'list'>\n",
      "{31245: {'songs': [508200, 197207, 435636, 86533, 683053, 556769, 671830, 95059, 368435, 174819, 590508, 189924, 412068, 491744, 147228, 99948, 381242, 280683, 587397, 527418, 545771, 552203, 205029, 407044, 168386, 158415, 567725, 127630, 642281, 304553, 2188, 73358, 318576, 665518, 420396, 579307, 193710, 117546, 284159, 118219, 691337, 464131, 493527, 640298, 286351, 237152, 601830, 461169, 166958, 197238, 510190, 237334, 416076, 626809, 240251, 97998, 618849, 447919, 677031, 531700, 355939, 120291, 563956], 'tags': [], 'title': ''}}\n",
      "total intersect songs : 0\n",
      "total intersect tags : 0\n"
     ]
    },
    {
     "name": "stderr",
     "output_type": "stream",
     "text": [
      " 72%|#######2  | 52/72 [00:52<00:19,  1.01it/s]"
     ]
    },
    {
     "name": "stdout",
     "output_type": "stream",
     "text": [
      "<class 'list'>\n",
      "{132167: {'songs': [490533, 92592, 423649, 332806, 534093, 374182, 458514, 9383, 616722, 334167, 58257, 600149, 624374, 539525, 68456, 622833, 457500, 254109, 17880, 92925, 587738, 463828, 108377, 629659, 15884, 667394, 412869, 222451, 572801, 165203, 165164, 146863, 520471, 589062, 580786, 366786, 450560, 586541, 243850, 494437, 394661, 283903, 85269, 693447, 61159, 470520, 534818, 671549, 300087, 374156, 413154, 140508, 66897, 117969, 497193], 'tags': [], 'title': ''}}\n",
      "total intersect songs : 0\n",
      "total intersect tags : 0\n"
     ]
    },
    {
     "name": "stderr",
     "output_type": "stream",
     "text": [
      " 81%|########  | 58/72 [00:52<00:17,  1.28s/it]"
     ]
    },
    {
     "name": "stdout",
     "output_type": "stream",
     "text": [
      "<class 'list'>\n",
      "{140697: {'songs': [], 'tags': ['설렘'], 'title': '14.10.5 그룹간의 콜라보레이션 노래'}}\n",
      "total intersect songs : 0\n",
      "total intersect tags : 0\n"
     ]
    },
    {
     "name": "stderr",
     "output_type": "stream",
     "text": [
      " 81%|########  | 58/72 [00:52<00:11,  1.17it/s]"
     ]
    },
    {
     "name": "stdout",
     "output_type": "stream",
     "text": [
      "<class 'list'>\n",
      "{67351: {'songs': [301095, 86350, 507950, 354240, 31814, 86023, 282767, 100747, 175136], 'tags': [], 'title': ''}}\n",
      "total intersect songs : 0\n",
      "total intersect tags : 0\n"
     ]
    },
    {
     "name": "stderr",
     "output_type": "stream",
     "text": [
      " 78%|#######7  | 56/72 [00:52<00:12,  1.25it/s]"
     ]
    },
    {
     "name": "stdout",
     "output_type": "stream",
     "text": [
      "<class 'list'>\n",
      "{4367: {'songs': [54755, 518420, 500114, 52070, 443914, 114259, 524956, 354197, 278022, 675874, 634330, 362966, 144250, 445680, 511340], 'tags': ['케이팝'], 'title': ''}}\n",
      "total intersect songs : 0\n",
      "total intersect tags : 0\n"
     ]
    },
    {
     "name": "stderr",
     "output_type": "stream",
     "text": [
      " 69%|######9   | 50/72 [00:52<00:22,  1.01s/it]"
     ]
    },
    {
     "name": "stdout",
     "output_type": "stream",
     "text": [
      "<class 'list'>\n",
      "{62673: {'songs': [662933, 675466, 414036, 616197, 61253, 471804, 660324, 519262, 658937, 643278], 'tags': [], 'title': ''}}\n",
      "total intersect songs : 0\n",
      "total intersect tags : 0\n"
     ]
    },
    {
     "name": "stderr",
     "output_type": "stream",
     "text": [
      " 74%|#######3  | 53/72 [00:52<00:15,  1.26it/s]"
     ]
    },
    {
     "name": "stdout",
     "output_type": "stream",
     "text": [
      "<class 'list'>\n",
      "{31653: {'songs': [294952, 520677, 551526, 388334, 229019, 703806, 318116, 634194, 3951, 118240], 'tags': ['하모니', '1960', '꿀음색', '부드러운'], 'title': ''}}\n",
      "total intersect songs : 0\n",
      "total intersect tags : 0\n"
     ]
    },
    {
     "name": "stderr",
     "output_type": "stream",
     "text": [
      " 76%|#######6  | 55/72 [00:52<00:14,  1.14it/s]"
     ]
    },
    {
     "name": "stdout",
     "output_type": "stream",
     "text": [
      "<class 'list'>\n",
      "{101776: {'songs': [16293, 346967, 183078, 310973, 93333, 15182, 173798, 25012, 228501, 197580, 657006, 166735, 260597, 407235], 'tags': ['휴식', '힐링'], 'title': ''}}\n",
      "total intersect songs : 0\n",
      "total intersect tags : 0\n"
     ]
    },
    {
     "name": "stderr",
     "output_type": "stream",
     "text": [
      " 76%|#######6  | 55/72 [00:53<00:17,  1.05s/it]"
     ]
    },
    {
     "name": "stdout",
     "output_type": "stream",
     "text": [
      "<class 'list'>\n",
      "{104741: {'songs': [452171, 66372, 432661, 690491, 328222, 25716, 570115, 306418, 515901, 541736, 32517, 145614, 126583, 272429, 95554, 250003, 515868, 288635, 115394, 119600, 532670, 593935, 318795, 360031, 536138], 'tags': ['힙합'], 'title': ''}}\n",
      "total intersect songs : 0\n",
      "total intersect tags : 0\n"
     ]
    },
    {
     "name": "stderr",
     "output_type": "stream",
     "text": [
      " 75%|#######5  | 54/72 [00:53<00:13,  1.37it/s]"
     ]
    },
    {
     "name": "stdout",
     "output_type": "stream",
     "text": [
      "<class 'list'>\n",
      "{93305: {'songs': [255992, 282671, 14017, 180468, 356899, 569541, 20982, 246443, 448281], 'tags': [], 'title': ''}}\n",
      "total intersect songs : 0\n",
      "total intersect tags : 0\n"
     ]
    },
    {
     "name": "stderr",
     "output_type": "stream",
     "text": [
      " 78%|#######7  | 56/72 [00:53<00:13,  1.19it/s]"
     ]
    },
    {
     "name": "stdout",
     "output_type": "stream",
     "text": [
      "<class 'list'>\n",
      "{149683: {'songs': [202185, 646470, 258126, 475956, 45903, 75974, 101888, 690528, 422987, 130680, 592549, 488428, 599036, 91246, 637270, 669235, 364701, 52192, 24364, 11519, 399772, 287819, 652416, 219260, 258292, 564602, 525669, 104967, 151452, 604927, 463948, 87434, 412198, 182079, 304758, 645988, 581341, 660352, 654455, 251730], 'tags': [], 'title': ''}}\n",
      "total intersect songs : 0\n",
      "total intersect tags : 0\n"
     ]
    },
    {
     "name": "stderr",
     "output_type": "stream",
     "text": [
      " 76%|#######6  | 55/72 [00:53<00:10,  1.59it/s]"
     ]
    },
    {
     "name": "stdout",
     "output_type": "stream",
     "text": [
      "<class 'list'>\n",
      "{94923: {'songs': [705515, 187942, 686809, 362211, 464051, 4608, 21625, 600937, 386899, 1319, 412209, 618541, 305601, 69056, 530856, 21637, 614929, 299856, 155513, 255301, 432083, 362323, 269971, 331111, 227859, 647312, 158951, 12841, 57445], 'tags': [], 'title': ''}}\n",
      "<class 'list'>\n",
      "total intersect songs : 0{722: {'songs': [403610, 308109, 245113, 248444, 626933, 221338, 416671, 38767, 331055, 210037], 'tags': [], 'title': ''}}\n",
      "total intersect tags : 0\n"
     ]
    },
    {
     "name": "stderr",
     "output_type": "stream",
     "text": [
      " 82%|########1 | 59/72 [00:53<00:12,  1.01it/s]"
     ]
    },
    {
     "name": "stdout",
     "output_type": "stream",
     "text": [
      "\n",
      "total intersect songs : 0\n",
      "total intersect tags : 0\n"
     ]
    },
    {
     "name": "stderr",
     "output_type": "stream",
     "text": [
      " 82%|########1 | 59/72 [00:53<00:17,  1.32s/it]"
     ]
    },
    {
     "name": "stdout",
     "output_type": "stream",
     "text": [
      "<class 'list'>\n",
      "{17164: {'songs': [41702, 482903, 646450, 585216, 22845, 178251, 148992, 338622, 329113, 565826, 459145, 473560, 51612, 174225, 246984, 268506, 539327, 221851, 548896, 44603, 500248, 400843, 497066, 354985, 104450, 48195, 65069, 626654, 645489, 400404, 507317, 601830, 95928, 242958, 549178, 592526, 406831, 232763, 675115, 1236, 671830, 214521, 688116, 87007, 254595, 475635, 258919, 197810, 371691, 533739, 555781, 469295, 486938, 459071, 410571, 553171, 528130, 80291, 257587, 128983, 274141, 627363, 37748, 641599, 367459, 196664, 685312, 578240, 664949, 543460, 402779, 267578, 304205, 231290, 420005, 290899, 430005, 438821, 219025, 337091, 561135, 155986, 147228, 351342, 335756, 127251, 307896, 224921, 603633, 378434, 653502, 454218, 274924, 419993, 198635, 232874, 455668, 204888, 90850, 553705], 'tags': ['노래방', '멍곡'], 'title': ''}}\n",
      "total intersect songs : 0\n",
      "total intersect tags : 0\n"
     ]
    },
    {
     "name": "stderr",
     "output_type": "stream",
     "text": [
      " 72%|#######2  | 52/72 [00:53<00:20,  1.01s/it]"
     ]
    },
    {
     "name": "stdout",
     "output_type": "stream",
     "text": [
      "<class 'list'>\n",
      "{127943: {'songs': [175325, 185571, 665072, 161933, 333091, 494564, 229182, 409394, 369289, 422945, 508714], 'tags': [], 'title': ''}}\n",
      "total intersect songs : 0\n",
      "total intersect tags : 0\n"
     ]
    },
    {
     "name": "stderr",
     "output_type": "stream",
     "text": [
      " 78%|#######7  | 56/72 [00:54<00:15,  1.03it/s]"
     ]
    },
    {
     "name": "stdout",
     "output_type": "stream",
     "text": [
      "<class 'list'>\n",
      "{128225: {'songs': [706112, 476309, 605152, 448022, 121510, 482, 281283, 604219, 458575, 156713, 38832, 81386, 252803, 537060, 414711, 404861, 507834, 476514], 'tags': ['휴식', '매장', '그루브', '퇴근길', 'Jazz'], 'title': ''}}\n",
      "total intersect songs : 0\n",
      "total intersect tags : 0\n"
     ]
    },
    {
     "name": "stderr",
     "output_type": "stream",
     "text": [
      " 79%|#######9  | 57/72 [00:54<00:15,  1.03s/it]"
     ]
    },
    {
     "name": "stdout",
     "output_type": "stream",
     "text": [
      "<class 'list'>\n",
      "{58001: {'songs': [205939, 134071, 77228, 6833, 616434, 225079, 35093, 108034, 648507, 379085, 466271, 551904, 326392, 280085, 365236, 375725, 597036, 88953, 509815, 583894, 326638, 170655, 270186, 12107, 595626, 259478, 560369, 226292, 666411, 524661, 693765], 'tags': ['노동요', '아침', '오후', 'Lofi', '퇴근길'], 'title': ''}}\n",
      "total intersect songs : 0\n",
      "total intersect tags : 0\n"
     ]
    },
    {
     "name": "stderr",
     "output_type": "stream",
     "text": [
      " 83%|########3 | 60/72 [00:54<00:10,  1.17it/s]"
     ]
    },
    {
     "name": "stdout",
     "output_type": "stream",
     "text": [
      "<class 'list'>\n",
      "{147419: {'songs': [9371, 244183, 294801, 159843, 520588, 257472, 668042, 122559, 449244, 679668, 394811, 421289, 629659, 173912, 697364], 'tags': [], 'title': ''}}\n",
      "total intersect songs : 0\n",
      "total intersect tags : 0\n"
     ]
    },
    {
     "name": "stderr",
     "output_type": "stream",
     "text": [
      " 71%|#######   | 51/72 [00:54<00:25,  1.21s/it]"
     ]
    },
    {
     "name": "stdout",
     "output_type": "stream",
     "text": [
      "<class 'list'>\n",
      "{144913: {'songs': [548554, 272611, 168214, 644347, 483407, 472995, 646948, 560966, 484789, 408454, 626142, 703737, 161294, 398662, 504109, 242987, 150311, 24816, 610503, 39935, 199144, 58949, 89062, 503719, 158673, 250824, 465695, 6204, 398702, 579248, 460344, 668477, 377445, 493543, 408361, 286504, 281073, 36899, 144266, 470341], 'tags': [], 'title': ''}}\n",
      "total intersect songs : 0\n",
      "total intersect tags : 0\n",
      "<class 'list'>\n",
      "{35823: {'songs': [689169, 469527, 102110, 91154, 109085, 190443, 290761, 471381, 519486, 429150, 12918, 94460, 376432, 365424, 328489, 470088, 705505, 110068, 75973, 112032, 535741, 302401], 'tags': ['휴식'], 'title': ''}}\n",
      "total intersect songs : 0\n",
      "total intersect tags : 0\n"
     ]
    },
    {
     "name": "stderr",
     "output_type": "stream",
     "text": [
      " 79%|#######9  | 57/72 [00:54<00:12,  1.17it/s]"
     ]
    },
    {
     "name": "stdout",
     "output_type": "stream",
     "text": [
      "<class 'list'>\n",
      "{19897: {'songs': [650494, 705185, 449047, 77951, 340511, 513270, 152659, 602633, 312103, 352289, 56251, 13815, 356475, 154130, 165386, 80946, 506921, 15155, 127358, 599139, 290838, 333263, 349078, 288875, 502706, 204722, 137056, 198120, 108928, 228248, 109574, 259730, 649861, 445780, 319175, 692704, 313715, 565721, 423070, 378559, 45351, 467832, 552919, 390930, 528745, 636705, 237640, 370796, 501363, 190032, 258069, 234928, 627532, 117470, 109621, 582913, 585004, 268138, 100197, 259668, 432420, 159357, 126732, 354581, 337740, 447225, 554913, 522497, 232355, 388134, 496098, 658266, 124437, 583447, 336377, 166746, 682213, 320172, 505324, 70863, 201425, 52313, 266399, 594033, 105350, 392239, 179585, 271286, 268934, 338708, 376126, 138837, 194736, 375117, 701872, 120924, 116856, 80996, 482031, 697706], 'tags': [], 'title': ''}}\n",
      "total intersect songs : 0\n",
      "total intersect tags : 0\n"
     ]
    },
    {
     "name": "stderr",
     "output_type": "stream",
     "text": [
      " 79%|#######9  | 57/72 [00:54<00:13,  1.08it/s]"
     ]
    },
    {
     "name": "stdout",
     "output_type": "stream",
     "text": [
      "<class 'list'>\n",
      "{111929: {'songs': [181812, 683543, 267224, 89214, 138217, 669667, 153796, 288798, 429164, 72014, 120683, 635432], 'tags': ['슬픔', '회상'], 'title': ''}}\n",
      "total intersect songs : 0\n",
      "total intersect tags : 0\n"
     ]
    },
    {
     "name": "stderr",
     "output_type": "stream",
     "text": [
      " 78%|#######7  | 56/72 [00:54<00:12,  1.30it/s]"
     ]
    },
    {
     "name": "stdout",
     "output_type": "stream",
     "text": [
      "<class 'list'>\n",
      "{112364: {'songs': [], 'tags': [], 'title': '좋아하는노래두둑히part.3'}}\n",
      "total intersect songs : 0\n",
      "total intersect tags : 0\n",
      "<class 'list'>\n",
      "{40782: {'songs': [435893, 59856, 340972, 417212, 611981, 2531, 388082, 86176, 68250, 66109, 253486, 625581, 46016, 339453, 6035], 'tags': ['햇살', '록', '기분전환', '락', '인디'], 'title': ''}}\n",
      "total intersect songs : 0\n",
      "total intersect tags : 0\n"
     ]
    },
    {
     "name": "stderr",
     "output_type": "stream",
     "text": [
      " 74%|#######3  | 53/72 [00:54<00:19,  1.01s/it]"
     ]
    },
    {
     "name": "stdout",
     "output_type": "stream",
     "text": [
      "<class 'list'>\n",
      "{46164: {'songs': [263857, 167641, 23520, 38832, 604432, 535262, 517722, 643315, 239296, 569023, 161229, 224713], 'tags': ['드라이브'], 'title': ''}}\n",
      "total intersect songs : 0\n",
      "total intersect tags : 0\n"
     ]
    },
    {
     "name": "stderr",
     "output_type": "stream",
     "text": [
      " 83%|########3 | 60/72 [00:54<00:15,  1.25s/it]"
     ]
    },
    {
     "name": "stdout",
     "output_type": "stream",
     "text": [
      "<class 'list'>\n",
      "{12371: {'songs': [], 'tags': [], 'title': '네가 좋아좋아좋아♥좋아'}}\n",
      "total intersect songs : 0\n",
      "total intersect tags : 0\n"
     ]
    },
    {
     "name": "stderr",
     "output_type": "stream",
     "text": [
      " 81%|########  | 58/72 [00:55<00:14,  1.00s/it]"
     ]
    },
    {
     "name": "stdout",
     "output_type": "stream",
     "text": [
      "<class 'list'>\n",
      "{149590: {'songs': [313587, 1309, 314788, 493315, 627286, 390686, 501966, 554019, 244759, 263220], 'tags': [], 'title': ''}}\n",
      "total intersect songs : 0\n",
      "total intersect tags : 0\n"
     ]
    },
    {
     "name": "stderr",
     "output_type": "stream",
     "text": [
      " 75%|#######5  | 54/72 [00:55<00:13,  1.29it/s]"
     ]
    },
    {
     "name": "stdout",
     "output_type": "stream",
     "text": [
      "<class 'list'>\n",
      "{147496: {'songs': [125065, 118422, 280901, 21711, 178916, 262603, 83024], 'tags': [], 'title': ''}}\n",
      "total intersect songs : 0\n",
      "total intersect tags : 0\n"
     ]
    },
    {
     "name": "stderr",
     "output_type": "stream",
     "text": [
      " 85%|########4 | 61/72 [00:55<00:09,  1.15it/s]"
     ]
    },
    {
     "name": "stdout",
     "output_type": "stream",
     "text": [
      "<class 'list'>\n",
      "{22907: {'songs': [664088, 435277, 505924, 74638, 227104, 245922, 195416, 475599, 704707], 'tags': ['운동', '근육', '살빼자', '살', '즐거운'], 'title': ''}}\n",
      "total intersect songs : 0\n",
      "total intersect tags : 0\n"
     ]
    },
    {
     "name": "stderr",
     "output_type": "stream",
     "text": [
      " 81%|########  | 58/72 [00:55<00:11,  1.24it/s]"
     ]
    },
    {
     "name": "stdout",
     "output_type": "stream",
     "text": [
      "<class 'list'>\n",
      "{139154: {'songs': [], 'tags': ['봄밤', '4월'], 'title': '4월 밤에 어울리는 노래'}}\n",
      "total intersect songs : 0\n",
      "total intersect tags : 0\n"
     ]
    },
    {
     "name": "stderr",
     "output_type": "stream",
     "text": [
      " 74%|#######3  | 53/72 [00:55<00:18,  1.01it/s]"
     ]
    },
    {
     "name": "stdout",
     "output_type": "stream",
     "text": [
      "<class 'list'>\n",
      "{121704: {'songs': [210008, 135898, 384168, 293916, 475911, 682793, 707856, 449448, 270835, 176688], 'tags': [], 'title': ''}}\n",
      "total intersect songs : 0\n",
      "total intersect tags : 0\n"
     ]
    },
    {
     "name": "stderr",
     "output_type": "stream",
     "text": [
      " 85%|########4 | 61/72 [00:55<00:11,  1.05s/it]"
     ]
    },
    {
     "name": "stdout",
     "output_type": "stream",
     "text": [
      "<class 'list'>\n",
      "{40191: {'songs': [371720, 360099, 57806, 381056, 699773, 283801, 184278, 669918, 559870, 336705, 177046, 394937, 53849, 96310, 60502, 108829, 392128], 'tags': ['감성', '매장음악', '드라이브', '여행', '국내알앤비'], 'title': ''}}\n",
      "total intersect songs : 0\n",
      "total intersect tags : 0\n"
     ]
    },
    {
     "name": "stderr",
     "output_type": "stream",
     "text": [
      " 81%|########  | 58/72 [00:55<00:13,  1.02it/s]"
     ]
    },
    {
     "name": "stdout",
     "output_type": "stream",
     "text": [
      "<class 'list'>\n",
      "{137910: {'songs': [232606, 521739, 486705, 26254, 133484, 423594, 689661, 334539, 606635, 677144, 13519, 612516, 459165, 594335, 620434, 292577, 197064, 341969, 65622, 240724, 443927, 423795, 139494, 526345, 540030, 24913, 462792, 126444, 450480, 372893, 329124, 85023, 494641, 222920, 458205, 593990, 407579, 25253, 692202, 248228, 521414, 627466], 'tags': [], 'title': ''}}\n",
      "total intersect songs : 0\n",
      "total intersect tags : 0\n"
     ]
    },
    {
     "name": "stderr",
     "output_type": "stream",
     "text": [
      " 81%|########  | 58/72 [00:55<00:09,  1.44it/s]"
     ]
    },
    {
     "name": "stdout",
     "output_type": "stream",
     "text": [
      "<class 'list'>\n",
      "{110399: {'songs': [92727, 599927, 196716, 469636, 548179, 111423, 218051, 461420, 407626, 464458, 571660, 488735, 216282, 306517, 653733, 317191, 229766, 523886, 149500, 370877, 347113, 689258, 649356, 468534, 625230, 126552], 'tags': [], 'title': ''}}\n",
      "total intersect songs : 0\n",
      "total intersect tags : 0\n"
     ]
    },
    {
     "name": "stderr",
     "output_type": "stream",
     "text": [
      " 82%|########1 | 59/72 [00:56<00:13,  1.00s/it]"
     ]
    },
    {
     "name": "stdout",
     "output_type": "stream",
     "text": [
      "<class 'list'>\n",
      "{19029: {'songs': [35165, 481846, 74794, 142574, 575990, 207390, 585073, 419697, 565189, 689170, 124779, 490993, 636579, 541064, 517980, 75842, 26083, 468477, 586464, 297193, 407828, 151183, 183115, 465602], 'tags': [], 'title': ''}}\n",
      "total intersect songs : 0\n",
      "total intersect tags : 0\n"
     ]
    },
    {
     "name": "stderr",
     "output_type": "stream",
     "text": [
      " 76%|#######6  | 55/72 [00:56<00:14,  1.21it/s]"
     ]
    },
    {
     "name": "stdout",
     "output_type": "stream",
     "text": [
      "<class 'list'>\n",
      "{12724: {'songs': [494946, 242891, 299057, 432330, 42752, 388344, 571583, 244580, 456272, 450401, 76285, 334669, 454945, 421600], 'tags': ['웨하스구름', '무드', '분위기', '알앤비', '슬로우잼'], 'title': ''}}\n",
      "total intersect songs : 0\n",
      "total intersect tags : 0\n"
     ]
    },
    {
     "name": "stderr",
     "output_type": "stream",
     "text": [
      " 82%|########1 | 59/72 [00:56<00:10,  1.24it/s]"
     ]
    },
    {
     "name": "stdout",
     "output_type": "stream",
     "text": [
      "<class 'list'>\n",
      "{45775: {'songs': [658814, 22487, 153119, 92592, 625914, 243346, 593084, 339124, 542349, 102004, 603688, 199390, 380859, 235609, 213831, 263430, 643990, 448472, 654967, 396463, 697598, 672319, 84145, 271532, 85830, 554524, 461341, 673707, 79264, 482086, 474621, 3865, 462446, 625336, 543270, 414278, 126817, 692878, 707235, 599887], 'tags': ['힙합'], 'title': ''}}\n",
      "total intersect songs : 0\n",
      "total intersect tags : 0\n"
     ]
    },
    {
     "name": "stderr",
     "output_type": "stream",
     "text": [
      " 75%|#######5  | 54/72 [00:56<00:17,  1.03it/s]"
     ]
    },
    {
     "name": "stdout",
     "output_type": "stream",
     "text": [
      "<class 'list'>\n",
      "{92528: {'songs': [544099, 316600, 645489, 482903, 556394, 448372, 2149, 295250, 28157, 125291, 254236, 624607, 271742, 88471, 230503, 707724, 178044, 37748, 375450, 228031, 543561, 576296, 286934, 331158, 581879], 'tags': [], 'title': ''}}\n",
      "total intersect songs : 0\n",
      "total intersect tags : 0\n"
     ]
    },
    {
     "name": "stderr",
     "output_type": "stream",
     "text": [
      " 86%|########6 | 62/72 [00:56<00:09,  1.02it/s]"
     ]
    },
    {
     "name": "stdout",
     "output_type": "stream",
     "text": [
      "<class 'list'>\n",
      "{31703: {'songs': [142619, 29112, 529664, 682881, 691198, 265866, 240322, 32133], 'tags': [], 'title': ''}}\n",
      "total intersect songs : 0\n",
      "total intersect tags : 0\n"
     ]
    },
    {
     "name": "stderr",
     "output_type": "stream",
     "text": [
      " 86%|########6 | 62/72 [00:56<00:10,  1.06s/it]"
     ]
    },
    {
     "name": "stdout",
     "output_type": "stream",
     "text": [
      "<class 'list'>\n",
      "{125713: {'songs': [654103, 230418, 290692, 184088, 290576, 383454, 267476, 127394, 273001, 640451, 636488, 177914, 162723, 51306, 499463, 365684, 656945, 596410, 540533, 632432, 507568, 620347, 198899, 78623, 532212, 514725, 683932, 85262, 505659, 565449, 670381, 214912, 225941, 153985, 442707, 266907, 164000, 689388, 479601, 475282, 157672, 617282, 252761], 'tags': [], 'title': ''}}\n",
      "total intersect songs : 0\n",
      "total intersect tags : 0<class 'list'>\n",
      "{115415: {'songs': [206254, 76888, 558278, 584541, 236393, 362576, 383155, 539908, 529819, 385814, 236116, 204209, 218356, 623110, 2431, 238120, 84372, 166761], 'tags': ['스트레스'], 'title': ''}}\n",
      "\n",
      "total intersect songs : 0"
     ]
    },
    {
     "name": "stderr",
     "output_type": "stream",
     "text": [
      " 82%|########1 | 59/72 [00:56<00:09,  1.32it/s]"
     ]
    },
    {
     "name": "stdout",
     "output_type": "stream",
     "text": [
      "\n",
      "total intersect tags : 0\n"
     ]
    },
    {
     "name": "stderr",
     "output_type": "stream",
     "text": [
      " 78%|#######7  | 56/72 [00:56<00:12,  1.26it/s]"
     ]
    },
    {
     "name": "stdout",
     "output_type": "stream",
     "text": [
      "<class 'list'>\n",
      "{140413: {'songs': [631399, 567990, 326219, 695032, 318487, 669637, 358186, 679582, 663141, 531087, 387647, 61771, 259163, 310170, 679338, 431549, 95603, 646449, 152126, 29680, 112399, 107938, 169872, 493820, 21467, 638130, 455638, 12851, 326204, 351161, 130045], 'tags': [], 'title': ''}}\n",
      "total intersect songs : 0\n",
      "total intersect tags : 0\n"
     ]
    },
    {
     "name": "stderr",
     "output_type": "stream",
     "text": [
      " 82%|########1 | 59/72 [00:56<00:13,  1.00s/it]"
     ]
    },
    {
     "name": "stdout",
     "output_type": "stream",
     "text": [
      "<class 'list'>\n",
      "{78200: {'songs': [309215, 618513, 150870, 301293, 352682, 635519, 460232, 549642], 'tags': [], 'title': ''}}\n",
      "total intersect songs : 0\n",
      "total intersect tags : 0\n"
     ]
    },
    {
     "name": "stderr",
     "output_type": "stream",
     "text": [
      " 88%|########7 | 63/72 [00:56<00:07,  1.18it/s]"
     ]
    },
    {
     "name": "stdout",
     "output_type": "stream",
     "text": [
      "<class 'list'>\n",
      "{149585: {'songs': [236055, 552922, 561029, 138605, 248549, 200649, 7489, 198063, 328030, 212148, 399253, 588193, 510055, 76861, 128739, 619040], 'tags': ['가을', '카페', '재즈', '여행'], 'title': ''}}\n",
      "total intersect songs : 0\n",
      "total intersect tags : 0\n"
     ]
    },
    {
     "name": "stderr",
     "output_type": "stream",
     "text": [
      " 83%|########3 | 60/72 [00:57<00:10,  1.17it/s]"
     ]
    },
    {
     "name": "stdout",
     "output_type": "stream",
     "text": [
      "<class 'list'>\n",
      "{150890: {'songs': [], 'tags': [], 'title': '괜찮아 사랑이야'}}\n",
      "total intersect songs : 0\n",
      "total intersect tags : 0\n"
     ]
    },
    {
     "name": "stderr",
     "output_type": "stream",
     "text": [
      " 83%|########3 | 60/72 [00:57<00:12,  1.02s/it]"
     ]
    },
    {
     "name": "stdout",
     "output_type": "stream",
     "text": [
      "<class 'list'>\n",
      "{117792: {'songs': [651749, 15182, 12851, 326204, 172214, 431902, 193193, 126412, 394247, 334095, 603694, 460502, 410284, 422176, 188996, 207232, 392893, 642884, 31669, 523016, 95603, 226670, 112399], 'tags': ['겨울', '눈', '크리스마스'], 'title': ''}}\n",
      "total intersect songs : 0\n",
      "total intersect tags : 0\n"
     ]
    },
    {
     "name": "stderr",
     "output_type": "stream",
     "text": [
      " 88%|########7 | 63/72 [00:57<00:08,  1.11it/s]"
     ]
    },
    {
     "name": "stdout",
     "output_type": "stream",
     "text": [
      "<class 'list'>\n",
      "{42398: {'songs': [214125, 620950, 653393, 235147, 26432, 183236, 234120, 137471, 675744], 'tags': ['사랑'], 'title': ''}}\n",
      "total intersect songs : 0\n",
      "total intersect tags : 0\n"
     ]
    },
    {
     "name": "stderr",
     "output_type": "stream",
     "text": [
      " 79%|#######9  | 57/72 [00:57<00:10,  1.43it/s]"
     ]
    },
    {
     "name": "stdout",
     "output_type": "stream",
     "text": [
      "<class 'list'>\n",
      "{64835: {'songs': [295065, 310687, 695032, 514792, 210245, 503797], 'tags': ['스트레스'], 'title': ''}}\n",
      "total intersect songs : 0\n",
      "total intersect tags : 0\n"
     ]
    },
    {
     "name": "stderr",
     "output_type": "stream",
     "text": [
      " 76%|#######6  | 55/72 [00:57<00:17,  1.02s/it]"
     ]
    },
    {
     "name": "stdout",
     "output_type": "stream",
     "text": [
      "<class 'list'>\n",
      "{65341: {'songs': [454101, 113494, 214693, 705431, 72965, 212797], 'tags': ['명상곡', '클래식'], 'title': ''}}\n",
      "total intersect songs : 0\n",
      "total intersect tags : 0\n"
     ]
    },
    {
     "name": "stderr",
     "output_type": "stream",
     "text": [
      " 81%|########  | 58/72 [00:57<00:08,  1.59it/s]"
     ]
    },
    {
     "name": "stdout",
     "output_type": "stream",
     "text": [
      "<class 'list'>\n",
      "{147933: {'songs': [], 'tags': ['유희열', 'tv별책부록', '윤도현'], 'title': \"아낌없이 주는 귀호강 패키지, JTBC '비긴어게인'\"}}\n",
      "total intersect songs : 0\n",
      "total intersect tags : 0\n"
     ]
    },
    {
     "name": "stderr",
     "output_type": "stream",
     "text": [
      " 89%|########8 | 64/72 [00:57<00:06,  1.22it/s]"
     ]
    },
    {
     "name": "stdout",
     "output_type": "stream",
     "text": [
      "<class 'list'>\n",
      "{75291: {'songs': [], 'tags': ['사랑'], 'title': '봄의색깔처럼 달콤쌉쌀한 발라드'}}\n",
      "total intersect songs : 0\n",
      "total intersect tags : 0\n"
     ]
    },
    {
     "name": "stderr",
     "output_type": "stream",
     "text": [
      " 85%|########4 | 61/72 [00:57<00:09,  1.20it/s]"
     ]
    },
    {
     "name": "stdout",
     "output_type": "stream",
     "text": [
      "<class 'list'>\n",
      "{41736: {'songs': [146409, 350729, 98009, 287471, 245209, 166388, 120957, 673943, 222851, 482672, 509282, 635759, 293024, 625609, 645781, 558508, 199390, 46284, 201145, 34548, 411756, 588063, 608743, 62857, 497534], 'tags': ['비', '카페', '감각적인', '기분전환', '알엔비'], 'title': ''}}\n",
      "total intersect songs : 0\n",
      "total intersect tags : 0\n"
     ]
    },
    {
     "name": "stderr",
     "output_type": "stream",
     "text": [
      " 83%|########3 | 60/72 [00:57<00:10,  1.10it/s]"
     ]
    },
    {
     "name": "stdout",
     "output_type": "stream",
     "text": [
      "<class 'list'>\n",
      "{15749: {'songs': [], 'tags': [], 'title': '봄에 떠나는 여행'}}\n",
      "total intersect songs : 0\n",
      "total intersect tags : 0\n"
     ]
    },
    {
     "name": "stderr",
     "output_type": "stream",
     "text": [
      " 82%|########1 | 59/72 [00:58<00:07,  1.76it/s]"
     ]
    },
    {
     "name": "stdout",
     "output_type": "stream",
     "text": [
      "<class 'list'>\n",
      "{6429: {'songs': [], 'tags': [], 'title': '라뗴처럼 감미로운 목소리들'}}\n",
      "total intersect songs : 0\n",
      "total intersect tags : 0\n"
     ]
    },
    {
     "name": "stderr",
     "output_type": "stream",
     "text": [
      " 85%|########4 | 61/72 [00:58<00:11,  1.06s/it]"
     ]
    },
    {
     "name": "stdout",
     "output_type": "stream",
     "text": [
      "<class 'list'>\n",
      "{27765: {'songs': [], 'tags': ['흥겨운', '어쿠스틱', '칸초네', '부드러운'], 'title': '이탈리아 카페에서 나올듯한 음악'}}\n",
      "total intersect songs : 0\n",
      "total intersect tags : 0\n"
     ]
    },
    {
     "name": "stderr",
     "output_type": "stream",
     "text": [
      " 86%|########6 | 62/72 [00:58<00:07,  1.36it/s]"
     ]
    },
    {
     "name": "stdout",
     "output_type": "stream",
     "text": [
      "<class 'list'>\n",
      "{73748: {'songs': [174749, 396828, 349492, 42155, 448116, 223071, 672022, 315273, 450302, 694838, 300944, 67655, 173362, 193232, 543371, 449244, 670635], 'tags': ['밤', '카페', '발라드', '여름밤', '이별'], 'title': ''}}\n",
      "total intersect songs : 0\n",
      "total intersect tags : 0\n"
     ]
    },
    {
     "name": "stderr",
     "output_type": "stream",
     "text": [
      " 89%|########8 | 64/72 [00:58<00:08,  1.03s/it]"
     ]
    },
    {
     "name": "stdout",
     "output_type": "stream",
     "text": [
      "<class 'list'>\n",
      "{62861: {'songs': [53522, 478240, 670271, 586304, 583672, 638638, 142983, 24831, 135363, 471481, 289228, 416428, 395606, 349602, 321835, 373861, 118774, 624031, 424497, 215051, 509010, 691138, 473639, 158593, 147427, 96981, 542378, 73175, 394134, 524953, 457297, 391737, 105918, 290014, 231065, 341301, 166761, 655888, 362347], 'tags': [], 'title': ''}}\n",
      "total intersect songs : 0\n",
      "total intersect tags : 0\n"
     ]
    },
    {
     "name": "stderr",
     "output_type": "stream",
     "text": [
      " 90%|######### | 65/72 [00:58<00:05,  1.31it/s]"
     ]
    },
    {
     "name": "stdout",
     "output_type": "stream",
     "text": [
      "<class 'list'>\n",
      "{11094: {'songs': [311790, 562949, 336107, 195416, 219225, 195174, 461204, 166761, 679165], 'tags': [], 'title': ''}}\n",
      "total intersect songs : 0\n",
      "total intersect tags : 0\n"
     ]
    },
    {
     "name": "stderr",
     "output_type": "stream",
     "text": [
      " 83%|########3 | 60/72 [00:58<00:14,  1.19s/it]"
     ]
    },
    {
     "name": "stdout",
     "output_type": "stream",
     "text": [
      "<class 'list'>\n",
      "{100722: {'songs': [], 'tags': ['여행'], 'title': '혼자만의 여행길에 딱 좋은 배경음악들'}}\n",
      "total intersect songs : 0\n",
      "total intersect tags : 0\n"
     ]
    },
    {
     "name": "stderr",
     "output_type": "stream",
     "text": [
      " 78%|#######7  | 56/72 [00:58<00:17,  1.10s/it]"
     ]
    },
    {
     "name": "stdout",
     "output_type": "stream",
     "text": [
      "<class 'list'>\n",
      "{44269: {'songs': [], 'tags': ['가족'], 'title': \"눈물 쏙 빠지는 '가족'을 주제로한 감성힙합♪\"}}\n",
      "total intersect songs : 0\n",
      "total intersect tags : 0\n"
     ]
    },
    {
     "name": "stderr",
     "output_type": "stream",
     "text": [
      " 86%|########6 | 62/72 [00:58<00:09,  1.10it/s]"
     ]
    },
    {
     "name": "stdout",
     "output_type": "stream",
     "text": [
      "<class 'list'>\n",
      "{64434: {'songs': [557402, 404566, 61056, 201529, 564595, 282946, 672421, 572997, 658335, 478580, 513110, 377475, 536954, 48725, 562158, 95046, 533198, 16362, 276522, 396605, 699417, 420540, 301634, 445006, 525400, 685077, 273073, 526161, 245806, 17909, 534976, 562619, 403380, 328222, 78275, 657170, 363054, 435729, 143238, 121634, 617563, 549082, 593480, 4107, 8587, 542292, 500542, 407003, 348283, 487174, 14410, 204508, 524806, 126972, 47214, 223752, 393779, 554146, 260717, 430312, 528392, 65945, 103530, 183453, 517691, 367995, 202092, 578916, 499478, 513722, 63786, 480242, 429876, 384618, 686917, 541145, 406736, 581449, 533690, 103950, 584873, 592049, 524340, 2830, 370078, 502093, 97339, 430806, 82014, 524993, 598654, 280727, 524690, 67450, 643664, 589943, 419336, 594114, 694061, 536886], 'tags': [], 'title': ''}}\n",
      "total intersect songs : 0\n",
      "total intersect tags : 0\n"
     ]
    },
    {
     "name": "stderr",
     "output_type": "stream",
     "text": [
      " 88%|########7 | 63/72 [00:59<00:06,  1.40it/s]"
     ]
    },
    {
     "name": "stdout",
     "output_type": "stream",
     "text": [
      "<class 'list'>\n",
      "{33547: {'songs': [], 'tags': ['감성', '매장음악', '시작', '드라이브'], 'title': '새해 첫날, 카페에서 들리는 포근한 음색과 따뜻한 멜로디.'}}\n",
      "total intersect songs : 0\n",
      "total intersect tags : 0\n"
     ]
    },
    {
     "name": "stderr",
     "output_type": "stream",
     "text": [
      " 85%|########4 | 61/72 [00:59<00:11,  1.01s/it]"
     ]
    },
    {
     "name": "stdout",
     "output_type": "stream",
     "text": [
      "<class 'list'>\n",
      "{121126: {'songs': [101494, 28552, 62151, 323176, 294771, 392651, 12957], 'tags': [], 'title': ''}}\n",
      "total intersect songs : 0\n",
      "total intersect tags : 0\n"
     ]
    },
    {
     "name": "stderr",
     "output_type": "stream",
     "text": [
      " 79%|#######9  | 57/72 [00:59<00:14,  1.04it/s]"
     ]
    },
    {
     "name": "stdout",
     "output_type": "stream",
     "text": [
      "<class 'list'>\n",
      "{19153: {'songs': [273468, 106004, 618277, 54783, 255267, 668234, 342021, 132965, 633021, 386268, 397055], 'tags': [], 'title': ''}}\n",
      "total intersect songs : 0\n",
      "total intersect tags : 0\n"
     ]
    },
    {
     "name": "stderr",
     "output_type": "stream",
     "text": [
      " 88%|########7 | 63/72 [00:59<00:07,  1.19it/s]"
     ]
    },
    {
     "name": "stdout",
     "output_type": "stream",
     "text": [
      "<class 'list'>\n",
      "{22427: {'songs': [95310, 478065, 649290, 618322, 161094, 457943, 321020, 503877, 350434, 365950, 437966, 440164, 555194, 361601], 'tags': [], 'title': ''}}\n",
      "total intersect songs : 0\n",
      "total intersect tags : 0\n"
     ]
    },
    {
     "name": "stderr",
     "output_type": "stream",
     "text": [
      " 92%|#########1| 66/72 [00:59<00:05,  1.12it/s]"
     ]
    },
    {
     "name": "stdout",
     "output_type": "stream",
     "text": [
      "<class 'list'>\n",
      "{125042: {'songs': [286788, 237789, 663256, 688951, 185513, 694868, 338891, 689258, 678476], 'tags': [], 'title': ''}}\n",
      "total intersect songs : 0\n",
      "total intersect tags : 0\n"
     ]
    },
    {
     "name": "stderr",
     "output_type": "stream",
     "text": [
      " 83%|########3 | 60/72 [00:59<00:10,  1.16it/s]"
     ]
    },
    {
     "name": "stdout",
     "output_type": "stream",
     "text": [
      "<class 'list'>\n",
      "{70096: {'songs': [1236, 356481, 141735, 473046, 681991, 695553, 520283, 9027, 270269, 585216, 86654, 412880, 640729, 107293, 64813, 603599, 592079, 292716, 249997, 270593, 551968, 477379, 245491, 491346, 659573, 622642, 637352, 574523, 48734, 314211, 583569, 29842, 156743, 300780, 691017, 110028, 387621, 159441, 436430, 700130], 'tags': [], 'title': ''}}\n",
      "total intersect songs : 0\n",
      "total intersect tags : 0\n"
     ]
    },
    {
     "name": "stderr",
     "output_type": "stream",
     "text": [
      " 85%|########4 | 61/72 [00:59<00:13,  1.21s/it]"
     ]
    },
    {
     "name": "stdout",
     "output_type": "stream",
     "text": [
      "<class 'list'>\n",
      "{54088: {'songs': [347528, 500905, 236239, 427839, 441001, 668784, 160477], 'tags': ['감성', '인디'], 'title': ''}}\n",
      "total intersect songs : 0\n",
      "total intersect tags : 0\n"
     ]
    },
    {
     "name": "stderr",
     "output_type": "stream",
     "text": [
      " 90%|######### | 65/72 [00:59<00:08,  1.17s/it]"
     ]
    },
    {
     "name": "stdout",
     "output_type": "stream",
     "text": [
      "<class 'list'>\n",
      "{6969: {'songs': [351295, 543, 514580, 442129, 286935, 514305, 594114, 631368, 582326, 152794, 698062, 251011, 110138, 150821, 321232, 137133, 225050, 70423, 432335, 273034, 320659, 393947, 634777, 168104, 338092, 16803, 621947, 702405, 106293, 692029, 422073, 671787, 183683, 184607, 339481, 236906, 651679, 535223, 124553, 390812, 383705, 643692, 426840, 353957, 149979, 58116, 208766, 314173, 72100, 449043, 643905, 356071, 455883, 447737, 98010, 404852, 200897, 558474, 227570], 'tags': [], 'title': ''}}\n",
      "total intersect songs : 0\n",
      "total intersect tags : 0\n"
     ]
    },
    {
     "name": "stderr",
     "output_type": "stream",
     "text": [
      " 86%|########6 | 62/72 [00:59<00:09,  1.11it/s]"
     ]
    },
    {
     "name": "stdout",
     "output_type": "stream",
     "text": [
      "<class 'list'>\n",
      "{62979: {'songs': [190868, 622548, 416671, 221252, 449836, 419174, 549218, 566622, 303017, 97266, 661425, 641629, 470845, 15493, 214115, 374636, 183381, 496667, 563102, 53290, 502062, 464029, 25171, 695660], 'tags': ['Coldplay', 'Pop'], 'title': ''}}\n",
      "total intersect songs : 0\n",
      "total intersect tags : 0\n"
     ]
    },
    {
     "name": "stderr",
     "output_type": "stream",
     "text": [
      " 89%|########8 | 64/72 [01:00<00:06,  1.26it/s]"
     ]
    },
    {
     "name": "stdout",
     "output_type": "stream",
     "text": [
      "<class 'list'>\n",
      "{24388: {'songs': [166561, 101118, 621362, 526786, 126721, 53844, 415727, 88950, 512499], 'tags': [], 'title': ''}}\n",
      "total intersect songs : 0\n",
      "total intersect tags : 0\n"
     ]
    },
    {
     "name": "stderr",
     "output_type": "stream",
     "text": [
      " 86%|########6 | 62/72 [01:00<00:10,  1.03s/it]"
     ]
    },
    {
     "name": "stdout",
     "output_type": "stream",
     "text": [
      "<class 'list'>\n",
      "{31045: {'songs': [], 'tags': [], 'title': '음악으로 떠나는 여행 (북유럽 편)'}}\n",
      "total intersect songs : 0\n",
      "total intersect tags : 0\n"
     ]
    },
    {
     "name": "stderr",
     "output_type": "stream",
     "text": [
      " 92%|#########1| 66/72 [01:00<00:05,  1.04it/s]"
     ]
    },
    {
     "name": "stdout",
     "output_type": "stream",
     "text": [
      "<class 'list'>\n",
      "{55782: {'songs': [], 'tags': ['계절'], 'title': '달달한 계절, 고백을 부르는 사랑노래!'}}\n",
      "total intersect songs : 0\n",
      "total intersect tags : 0\n"
     ]
    },
    {
     "name": "stderr",
     "output_type": "stream",
     "text": [
      " 89%|########8 | 64/72 [01:00<00:07,  1.11it/s]"
     ]
    },
    {
     "name": "stdout",
     "output_type": "stream",
     "text": [
      "<class 'list'>\n",
      "{62059: {'songs': [146070, 365534, 654880, 321724, 313987, 143092, 188016, 226935, 294830, 446450], 'tags': [], 'title': ''}}\n",
      "total intersect songs : 0\n",
      "total intersect tags : 0\n"
     ]
    },
    {
     "name": "stderr",
     "output_type": "stream",
     "text": [
      " 93%|#########3| 67/72 [01:00<00:04,  1.06it/s]"
     ]
    },
    {
     "name": "stdout",
     "output_type": "stream",
     "text": [
      "<class 'list'>\n",
      "{98960: {'songs': [258806, 51373, 267518, 654391, 1839, 668891, 330218, 496304, 159784, 304687, 368592, 162269, 60372, 309444, 227859], 'tags': ['매력', '트렌드', '섹시', '음색깡패'], 'title': ''}}\n",
      "total intersect songs : 0\n",
      "total intersect tags : 0\n"
     ]
    },
    {
     "name": "stderr",
     "output_type": "stream",
     "text": [
      " 85%|########4 | 61/72 [01:00<00:10,  1.07it/s]"
     ]
    },
    {
     "name": "stdout",
     "output_type": "stream",
     "text": [
      "<class 'list'>\n",
      "{25770: {'songs': [94749, 455986, 671154, 132117, 94504, 246735, 542441, 94946, 158798, 182920, 610402, 663643, 43874, 581548, 61720, 547773], 'tags': [], 'title': ''}}\n",
      "total intersect songs : 0\n",
      "total intersect tags : 0\n"
     ]
    },
    {
     "name": "stderr",
     "output_type": "stream",
     "text": [
      " 81%|########  | 58/72 [01:00<00:15,  1.13s/it]"
     ]
    },
    {
     "name": "stdout",
     "output_type": "stream",
     "text": [
      "<class 'list'>\n",
      "{65397: {'songs': [], 'tags': [], 'title': '2015 SJF 서울 재즈 페스티벌 셋리스트 - 해외 공연팀'}}\n",
      "total intersect songs : 0\n",
      "total intersect tags : 0\n"
     ]
    },
    {
     "name": "stderr",
     "output_type": "stream",
     "text": [
      " 88%|########7 | 63/72 [01:00<00:08,  1.08it/s]"
     ]
    },
    {
     "name": "stdout",
     "output_type": "stream",
     "text": [
      "<class 'list'>\n",
      "{110702: {'songs': [528542, 191051, 631368, 336642, 543027, 349112, 700542, 186872, 415319], 'tags': [], 'title': ''}}\n",
      "total intersect songs : 0\n",
      "total intersect tags : 0\n"
     ]
    },
    {
     "name": "stderr",
     "output_type": "stream",
     "text": [
      " 94%|#########4| 68/72 [01:01<00:03,  1.22it/s]"
     ]
    },
    {
     "name": "stdout",
     "output_type": "stream",
     "text": [
      "<class 'list'>\n",
      "{124999: {'songs': [422091, 634998, 352039, 149500, 682356, 554414, 470129, 445416, 55144, 274313, 300534, 656654, 575002, 616590, 285600, 103189], 'tags': ['기분전환'], 'title': ''}}\n",
      "total intersect songs : 0\n",
      "total intersect tags : 0\n"
     ]
    },
    {
     "name": "stderr",
     "output_type": "stream",
     "text": [
      " 90%|######### | 65/72 [01:01<00:06,  1.04it/s]"
     ]
    },
    {
     "name": "stdout",
     "output_type": "stream",
     "text": [
      "<class 'list'>\n",
      "{128234: {'songs': [138185, 690586, 572824, 58773, 457812, 278530, 494552, 157900, 320447, 500005, 362728], 'tags': ['시상식', '해외', '추억', '영화OST', 'OST'], 'title': ''}}\n",
      "total intersect songs : 0\n",
      "total intersect tags : 0\n",
      "<class 'list'>\n",
      "{96726: {'songs': [79907, 277869, 90465, 243532, 319944, 160552, 61757, 370044, 180411, 615157, 87636, 169627, 326955, 265707, 316600, 58836, 251472, 417326, 491356, 106756, 421451, 166143, 584779, 72222, 571016, 342178], 'tags': ['그노래뭐였지'], 'title': ''}}\n",
      "total intersect songs : 0"
     ]
    },
    {
     "name": "stderr",
     "output_type": "stream",
     "text": [
      " 82%|########1 | 59/72 [01:01<00:12,  1.04it/s]"
     ]
    },
    {
     "name": "stdout",
     "output_type": "stream",
     "text": [
      "\n",
      "total intersect tags : 0\n"
     ]
    },
    {
     "name": "stderr",
     "output_type": "stream",
     "text": [
      " 93%|#########3| 67/72 [01:01<00:04,  1.01it/s]"
     ]
    },
    {
     "name": "stdout",
     "output_type": "stream",
     "text": [
      "<class 'list'>\n",
      "{79292: {'songs': [], 'tags': [], 'title': '회복의 찬양(스튜디오 녹음)'}}\n",
      "total intersect songs : 0\n",
      "total intersect tags : 0\n"
     ]
    },
    {
     "name": "stderr",
     "output_type": "stream",
     "text": [
      " 89%|########8 | 64/72 [01:01<00:06,  1.15it/s]"
     ]
    },
    {
     "name": "stdout",
     "output_type": "stream",
     "text": [
      "<class 'list'>\n",
      "{140930: {'songs': [663905, 197810, 608081, 107220, 69920, 252700, 645489, 236094, 482903, 321933, 143195, 689455, 1236, 654764, 587728, 83719, 10624, 269873, 173943, 869, 126412, 218039, 104260, 53080], 'tags': [], 'title': ''}}\n",
      "total intersect songs : 0\n",
      "total intersect tags : 0\n"
     ]
    },
    {
     "name": "stderr",
     "output_type": "stream",
     "text": [
      " 90%|######### | 65/72 [01:01<00:06,  1.01it/s]"
     ]
    },
    {
     "name": "stdout",
     "output_type": "stream",
     "text": [
      "<class 'list'>\n",
      "{34410: {'songs': [32120, 333595, 705098, 502921, 274504, 653338, 334193, 615507, 623549, 49718, 505443, 332646, 41596, 679436, 246947, 561262, 69648, 195174, 482423, 49348, 418694, 115808, 222305, 449285, 157861, 581799, 231320, 43627, 696684, 673079, 8749, 261084, 515742, 173928, 566926, 550695, 28832, 215815, 284554, 555344, 660937, 349043, 476680, 140867, 159626, 53061, 84643, 213435, 620332, 321296, 400938, 465739, 554414], 'tags': [], 'title': ''}}\n",
      "<class 'list'>total intersect songs : 0\n",
      "{151596: {'songs': [231659, 649432, 375254, 617926, 600498, 43701, 246531, 703096, 296127, 322491, 637854, 215317, 465616, 196256], 'tags': ['매장음악'], 'title': ''}}\n",
      "total intersect tags : 0\n",
      "total intersect songs : 0\n",
      "\n"
     ]
    },
    {
     "name": "stderr",
     "output_type": "stream",
     "text": [
      " 88%|########7 | 63/72 [01:01<00:10,  1.21s/it]"
     ]
    },
    {
     "name": "stdout",
     "output_type": "stream",
     "text": [
      "total intersect tags : 0\n"
     ]
    },
    {
     "name": "stderr",
     "output_type": "stream",
     "text": [
      " 86%|########6 | 62/72 [01:01<00:10,  1.01s/it]"
     ]
    },
    {
     "name": "stdout",
     "output_type": "stream",
     "text": [
      "<class 'list'>\n",
      "{139941: {'songs': [97852, 253754, 529977, 129516, 196834], 'tags': [], 'title': ''}}\n",
      "total intersect songs : 0\n",
      "total intersect tags : 0\n"
     ]
    },
    {
     "name": "stderr",
     "output_type": "stream",
     "text": [
      " 92%|#########1| 66/72 [01:02<00:05,  1.06it/s]"
     ]
    },
    {
     "name": "stdout",
     "output_type": "stream",
     "text": [
      "<class 'list'>\n",
      "{140252: {'songs': [323830, 270204, 8187, 597526, 5146, 46389, 331236, 555436, 234318, 322869, 216707, 577075, 213516, 395573, 116250, 280142, 542349, 413666, 611367, 232305, 679405, 185513, 302752, 180452, 369142, 373769, 143076, 57607, 523487, 145670, 478813, 554902, 44395, 352823, 392735, 544742, 132111, 225411, 670753, 237640, 155211, 602629, 596566, 474998, 363154, 293024, 207768, 521233, 688983, 42948, 372123, 24659, 333147, 305064, 289586, 632745, 453961, 419243, 454218, 231492, 98496, 523063, 285208, 159743, 666092, 431205, 322189, 187654, 241069, 329634, 631465, 374617, 299494, 590379, 688951, 526890, 637280, 617846, 693571, 264424, 685936, 669091, 128242, 258179, 698914], 'tags': ['프로듀서', 'RnB', '명곡', '프라이머리'], 'title': ''}}\n",
      "total intersect songs : 0\n",
      "total intersect tags : 0\n"
     ]
    },
    {
     "name": "stderr",
     "output_type": "stream",
     "text": [
      " 94%|#########4| 68/72 [01:02<00:03,  1.02it/s]"
     ]
    },
    {
     "name": "stdout",
     "output_type": "stream",
     "text": [
      "<class 'list'>\n",
      "{135460: {'songs': [8158, 664555, 564916, 59211, 410272, 486768, 7837, 463451, 400079, 632124, 588471, 286351, 375914, 34363, 447424, 355939, 502706, 95059, 593130, 704752, 580326, 443914, 347585, 578474, 345940, 518420, 346379, 378434, 537208, 542358, 159623, 93821, 378241], 'tags': ['걸그룹', '걸그룹히트곡'], 'title': ''}}\n",
      "total intersect songs : 0\n",
      "total intersect tags : 0\n"
     ]
    },
    {
     "name": "stderr",
     "output_type": "stream",
     "text": [
      " 90%|######### | 65/72 [01:02<00:05,  1.19it/s]"
     ]
    },
    {
     "name": "stdout",
     "output_type": "stream",
     "text": [
      "<class 'list'>\n",
      "{73174: {'songs': [406498, 139978, 648178, 518916, 425245, 485144, 481642, 175247, 704354, 66206, 552595, 176533, 203414, 36809, 90136, 616371, 21079, 395117], 'tags': [], 'title': ''}}\n",
      "total intersect songs : 0\n",
      "total intersect tags : 0\n"
     ]
    },
    {
     "name": "stderr",
     "output_type": "stream",
     "text": [
      " 92%|#########1| 66/72 [01:02<00:05,  1.07it/s]"
     ]
    },
    {
     "name": "stdout",
     "output_type": "stream",
     "text": [
      "<class 'list'>\n",
      "{48258: {'songs': [70143, 245937, 308829, 314195, 706657, 381645, 298103, 542554, 634908], 'tags': [], 'title': ''}}\n",
      "total intersect songs : 0\n",
      "total intersect tags : 0\n"
     ]
    },
    {
     "name": "stderr",
     "output_type": "stream",
     "text": [
      " 83%|########3 | 60/72 [01:02<00:12,  1.02s/it]"
     ]
    },
    {
     "name": "stdout",
     "output_type": "stream",
     "text": [
      "<class 'list'>\n",
      "{151485: {'songs': [270268, 250746, 493436, 200229, 688284, 8208, 192592, 620123, 32474, 323326, 25816, 228291, 214611, 538834, 12667, 121266, 626210, 21529, 555624, 250180, 692029, 159089, 640511, 576133, 129878, 140443, 693088, 314529, 48926, 213646, 174724, 427553, 193194, 585049], 'tags': ['Pop', '내적댄스', '더위', '신나는'], 'title': ''}}\n",
      "total intersect songs : 0\n",
      "total intersect tags : 0\n"
     ]
    },
    {
     "name": "stderr",
     "output_type": "stream",
     "text": [
      " 96%|#########5| 69/72 [01:02<00:02,  1.02it/s]"
     ]
    },
    {
     "name": "stdout",
     "output_type": "stream",
     "text": [
      "<class 'list'>\n",
      "{141475: {'songs': [], 'tags': [], 'title': \"'멜로너 PICK!' 스테디 TRENDY POP (매주 업데이트)\"}}\n",
      "total intersect songs : 0\n",
      "total intersect tags : 0\n"
     ]
    },
    {
     "name": "stderr",
     "output_type": "stream",
     "text": [
      " 88%|########7 | 63/72 [01:02<00:08,  1.02it/s]"
     ]
    },
    {
     "name": "stdout",
     "output_type": "stream",
     "text": [
      "<class 'list'>\n",
      "{69905: {'songs': [614124, 310045, 79882, 368753, 685119, 21527, 486862, 81935, 617416, 295050, 11924, 573694, 140748, 244931, 634718, 423189, 484321, 217391, 668675, 103530, 46284, 577736, 294201], 'tags': [], 'title': ''}}\n",
      "total intersect songs : 0\n",
      "total intersect tags : 0\n"
     ]
    },
    {
     "name": "stderr",
     "output_type": "stream",
     "text": [
      " 89%|########8 | 64/72 [01:03<00:09,  1.19s/it]"
     ]
    },
    {
     "name": "stdout",
     "output_type": "stream",
     "text": [
      "<class 'list'>\n",
      "{35830: {'songs': [391015, 558695, 500003, 630066, 608384], 'tags': ['그리워', '눈물', '이별해서', '케이팝'], 'title': ''}}\n",
      "total intersect songs : 0\n",
      "total intersect tags : 0\n"
     ]
    },
    {
     "name": "stderr",
     "output_type": "stream",
     "text": [
      " 92%|#########1| 66/72 [01:03<00:04,  1.20it/s]"
     ]
    },
    {
     "name": "stdout",
     "output_type": "stream",
     "text": [
      "<class 'list'>\n",
      "{90633: {'songs': [515256, 66340, 569568, 379643, 94344, 295395, 225462, 410429, 260019, 460967, 586891, 674562, 29991, 322455, 160470, 308228], 'tags': [], 'title': ''}}\n",
      "total intersect songs : 0\n",
      "total intersect tags : 0\n"
     ]
    },
    {
     "name": "stderr",
     "output_type": "stream",
     "text": [
      " 90%|######### | 65/72 [01:03<00:06,  1.13it/s]"
     ]
    },
    {
     "name": "stdout",
     "output_type": "stream",
     "text": [
      "<class 'list'>\n",
      "{10978: {'songs': [445726, 506615, 451302, 298357, 279162, 151928, 289676, 529902, 664984, 502094], 'tags': [], 'title': ''}}\n",
      "total intersect songs : 0\n",
      "total intersect tags : 0\n"
     ]
    },
    {
     "name": "stderr",
     "output_type": "stream",
     "text": [
      " 93%|#########3| 67/72 [01:03<00:04,  1.02it/s]"
     ]
    },
    {
     "name": "stdout",
     "output_type": "stream",
     "text": [
      "<class 'list'>\n",
      "{8438: {'songs': [], 'tags': ['시아야시아야머리를내어라', '시아', '팝'], 'title': '[Pop] Written by Sia'}}\n",
      "total intersect songs : 0\n",
      "total intersect tags : 0\n"
     ]
    },
    {
     "name": "stderr",
     "output_type": "stream",
     "text": [
      " 93%|#########3| 67/72 [01:03<00:04,  1.03it/s]"
     ]
    },
    {
     "name": "stdout",
     "output_type": "stream",
     "text": [
      "<class 'list'>\n",
      "{34578: {'songs': [607372, 614187, 501339, 555543, 260877, 530730, 548389, 657575, 307337, 89322], 'tags': ['기분좋은', '국내', '가사', '가요'], 'title': ''}}\n",
      "total intersect songs : 0\n",
      "total intersect tags : 0\n",
      "<class 'list'>"
     ]
    },
    {
     "name": "stderr",
     "output_type": "stream",
     "text": [
      " 96%|#########5| 69/72 [01:03<00:03,  1.05s/it]"
     ]
    },
    {
     "name": "stdout",
     "output_type": "stream",
     "text": [
      "\n",
      "{133625: {'songs': [26847, 88118, 676344, 549531, 160246, 395070, 145521], 'tags': [], 'title': ''}}\n",
      "total intersect songs : 0\n",
      "total intersect tags : 0\n"
     ]
    },
    {
     "name": "stderr",
     "output_type": "stream",
     "text": [
      " 89%|########8 | 64/72 [01:03<00:07,  1.11it/s]"
     ]
    },
    {
     "name": "stdout",
     "output_type": "stream",
     "text": [
      "<class 'list'>\n",
      "{19573: {'songs': [205220, 237189, 292945, 608854, 279577, 612432, 419410, 569861, 615906], 'tags': ['Pop'], 'title': ''}}\n",
      "total intersect songs : 0\n",
      "total intersect tags : 0\n"
     ]
    },
    {
     "name": "stderr",
     "output_type": "stream",
     "text": [
      " 85%|########4 | 61/72 [01:03<00:11,  1.02s/it]"
     ]
    },
    {
     "name": "stdout",
     "output_type": "stream",
     "text": [
      "<class 'list'>\n",
      "{119854: {'songs': [647, 390213, 408427, 589050, 179106, 705518, 471640, 413684, 521890, 702341], 'tags': [], 'title': ''}}\n",
      "total intersect songs : 0\n",
      "total intersect tags : 0\n"
     ]
    },
    {
     "name": "stderr",
     "output_type": "stream",
     "text": [
      " 94%|#########4| 68/72 [01:03<00:03,  1.20it/s]"
     ]
    },
    {
     "name": "stdout",
     "output_type": "stream",
     "text": [
      "<class 'list'>\n",
      "{73930: {'songs': [8256, 42081, 649290, 502748, 203639, 585388, 207558, 675054, 95849, 616826, 531057, 64785, 427810], 'tags': [], 'title': ''}}\n",
      "total intersect songs : 0\n",
      "total intersect tags : 0\n"
     ]
    },
    {
     "name": "stderr",
     "output_type": "stream",
     "text": [
      " 86%|########6 | 62/72 [01:04<00:08,  1.19it/s]"
     ]
    },
    {
     "name": "stdout",
     "output_type": "stream",
     "text": [
      "<class 'list'>\n",
      "{22442: {'songs': [99716, 301980, 459065, 17382, 574776, 590995, 135950, 325871], 'tags': ['잔잔', '그루비'], 'title': ''}}\n",
      "total intersect songs : 0\n",
      "total intersect tags : 0\n"
     ]
    },
    {
     "name": "stderr",
     "output_type": "stream",
     "text": [
      " 97%|#########7| 70/72 [01:04<00:02,  1.15s/it]"
     ]
    },
    {
     "name": "stdout",
     "output_type": "stream",
     "text": [
      "<class 'list'>\n",
      "{81149: {'songs': [373461, 447809, 632971, 238188, 40000, 662758, 332904, 391798], 'tags': [], 'title': ''}}\n",
      "total intersect songs : 0\n",
      "total intersect tags : 0\n"
     ]
    },
    {
     "name": "stderr",
     "output_type": "stream",
     "text": [
      " 92%|#########1| 66/72 [01:04<00:05,  1.08it/s]"
     ]
    },
    {
     "name": "stdout",
     "output_type": "stream",
     "text": [
      "<class 'list'>\n",
      "{106812: {'songs': [], 'tags': ['설렘'], 'title': '고백을 위한 잔잔한 분위기 연출 음악'}}\n",
      "total intersect songs : 0\n",
      "total intersect tags : 0\n"
     ]
    },
    {
     "name": "stderr",
     "output_type": "stream",
     "text": [
      " 97%|#########7| 70/72 [01:04<00:01,  1.01it/s]"
     ]
    },
    {
     "name": "stdout",
     "output_type": "stream",
     "text": [
      "<class 'list'>\n",
      "{61645: {'songs': [78686, 210129, 357273, 26008, 328829, 371249, 247776, 175393, 639242, 462507, 55614, 177207], 'tags': [], 'title': ''}}\n",
      "total intersect songs : 0\n",
      "total intersect tags : 0\n"
     ]
    },
    {
     "name": "stderr",
     "output_type": "stream",
     "text": [
      " 93%|#########3| 67/72 [01:04<00:04,  1.04it/s]"
     ]
    },
    {
     "name": "stdout",
     "output_type": "stream",
     "text": [
      "<class 'list'>\n",
      "{14141: {'songs': [], 'tags': ['힙합'], 'title': '이센스의 발자취를 따라서~♡'}}<class 'list'>\n",
      "\n",
      "{124093: {'songs': [387859, 564380, 360660, 201175, 293554, 608472, 433056, 291972, 121607, 142969, 655559, 12397, 634718, 413259, 569561, 175750, 504354, 140867, 300412, 648852, 404700, 554751, 41328, 311790, 526161, 309504, 395080, 385215, 660013, 406501, 60692, 68505, 326015, 405855, 356604, 376114, 459624, 551926, 201419, 543632, 419832, 620970, 292486, 321561, 627526, 311817, 149760, 558576, 602667, 553430, 185321, 430508, 527631, 314416, 552464, 614929, 100107, 642806, 23458, 470449, 90697, 415210, 13156, 37680, 433841, 579465, 184737, 321030, 596002, 386888, 239673, 108707, 299468, 221430, 454445, 204800], 'tags': [], 'title': ''}}\n",
      "total intersect songs : 0\n",
      "total intersect songs : 0\n",
      "total intersect tags : 0total intersect tags : 0\n"
     ]
    },
    {
     "name": "stderr",
     "output_type": "stream",
     "text": [
      " 96%|#########5| 69/72 [01:04<00:02,  1.15it/s]"
     ]
    },
    {
     "name": "stdout",
     "output_type": "stream",
     "text": [
      "\n"
     ]
    },
    {
     "name": "stderr",
     "output_type": "stream",
     "text": [
      " 90%|######### | 65/72 [01:04<00:06,  1.02it/s]"
     ]
    },
    {
     "name": "stdout",
     "output_type": "stream",
     "text": [
      "<class 'list'>\n",
      "{10877: {'songs': [538777, 25012, 417368, 701557, 565629, 207232, 610179, 154929, 535399, 644474], 'tags': ['봄', '행복', '기분전환', '외출'], 'title': ''}}\n",
      "total intersect songs : 0\n",
      "total intersect tags : 0\n"
     ]
    },
    {
     "name": "stderr",
     "output_type": "stream",
     "text": [
      " 94%|#########4| 68/72 [01:05<00:04,  1.11s/it]"
     ]
    },
    {
     "name": "stdout",
     "output_type": "stream",
     "text": [
      "<class 'list'>\n",
      "{78154: {'songs': [535980, 166724, 639765, 90691, 301990, 288684, 61221, 489192, 292887, 168047, 55899, 166158, 308978, 531381, 342781, 47986, 196488, 211653, 646402, 704368, 160333, 629081, 466271, 599985, 206269, 125777, 90914, 625728, 369637, 22284, 597770], 'tags': ['밤'], 'title': ''}}\n",
      "total intersect songs : 0\n",
      "total intersect tags : 0\n"
     ]
    },
    {
     "name": "stderr",
     "output_type": "stream",
     "text": [
      " 88%|########7 | 63/72 [01:05<00:08,  1.07it/s]"
     ]
    },
    {
     "name": "stdout",
     "output_type": "stream",
     "text": [
      "<class 'list'>\n",
      "{81100: {'songs': [613465, 191915, 361475, 419730, 683388, 642925, 246534, 666865, 458179, 389521, 132417, 653276, 661129, 181431, 70073, 637268, 129401, 476458], 'tags': [], 'title': ''}}\n",
      "total intersect songs : 0\n",
      "total intersect tags : 0\n"
     ]
    },
    {
     "name": "stderr",
     "output_type": "stream",
     "text": [
      " 99%|#########8| 71/72 [01:05<00:00,  1.04it/s]"
     ]
    },
    {
     "name": "stdout",
     "output_type": "stream",
     "text": [
      "<class 'list'>\n",
      "{33056: {'songs': [316961, 695615, 694290, 136358, 464909, 444194, 37969, 433799, 357318, 416922, 470114], 'tags': [], 'title': ''}}\n",
      "total intersect songs : 0\n",
      "total intersect tags : 0\n"
     ]
    },
    {
     "name": "stderr",
     "output_type": "stream",
     "text": [
      " 94%|#########4| 68/72 [01:05<00:03,  1.07it/s]"
     ]
    },
    {
     "name": "stdout",
     "output_type": "stream",
     "text": [
      "<class 'list'>\n",
      "{14110: {'songs': [675500, 641928, 339118, 100473, 15753, 485471, 174966, 501148, 665316, 245317, 397409, 670915, 681256, 70216, 221449], 'tags': [], 'title': ''}}\n",
      "<class 'list'>\n",
      "{77785: {'songs': [283780, 657070], 'tags': ['오열', '공허'], 'title': ''}}\n",
      "total intersect songs : 0\n",
      "total intersect tags : 0\n"
     ]
    },
    {
     "name": "stderr",
     "output_type": "stream",
     "text": [
      " 99%|#########8| 71/72 [01:05<00:01,  1.17s/it]"
     ]
    },
    {
     "name": "stdout",
     "output_type": "stream",
     "text": [
      "total intersect songs : 0\n",
      "total intersect tags : 0\n"
     ]
    },
    {
     "name": "stderr",
     "output_type": "stream",
     "text": [
      " 93%|#########3| 67/72 [01:05<00:04,  1.03it/s]"
     ]
    },
    {
     "name": "stdout",
     "output_type": "stream",
     "text": [
      "<class 'list'>\n",
      "{8295: {'songs': [393566, 414022, 580359, 697149, 702714, 425541, 518653, 433738, 69602, 127215, 156610], 'tags': [], 'title': ''}}\n",
      "total intersect songs : 0\n",
      "total intersect tags : 0\n",
      "<class 'list'>\n",
      "{10130: {'songs': [200113, 579977, 195237, 556736, 518635, 155748, 105345, 386363, 707768, 89031, 408838, 509770, 406501, 587237, 686674, 638702, 200190, 37114, 288814, 21119, 519995, 446791, 679788, 505069, 536235, 553693, 564595, 168916, 21602, 540926, 705098, 29280, 645301, 10249, 73822, 434582, 566598, 356845, 40064, 202345, 237885, 639730, 559607, 24087, 280879, 369649, 238359, 465739, 375767, 277840, 232385, 191915, 157861, 556889, 587976, 581799, 223457, 43627, 583742, 162056, 201784, 286757, 651374, 257707, 139079, 619921, 497546, 239410, 154859, 489432, 418694, 96545, 409329, 587979, 461204, 21195, 269477, 360397, 89042, 555684, 410298, 328348, 83192, 380357, 426003, 652860, 294093, 380872, 542896, 648973, 697221, 465707, 478590, 335256, 342581, 569904, 30150], 'tags': [], 'title': ''}}\n",
      "total intersect songs : 0\n",
      "total intersect tags : 0\n"
     ]
    },
    {
     "name": "stderr",
     "output_type": "stream",
     "text": [
      " 92%|#########1| 66/72 [01:05<00:05,  1.07it/s]"
     ]
    },
    {
     "name": "stdout",
     "output_type": "stream",
     "text": [
      "<class 'list'>\n",
      "{5762: {'songs': [24422, 627432, 635579, 533597, 300054, 513413, 612403, 480581, 230103, 157113], 'tags': [], 'title': ''}}\n",
      "total intersect songs : 0\n",
      "total intersect tags : 0\n"
     ]
    },
    {
     "name": "stderr",
     "output_type": "stream",
     "text": [
      "100%|##########| 72/72 [01:06<00:00,  1.09it/s]\n"
     ]
    },
    {
     "name": "stdout",
     "output_type": "stream",
     "text": [
      "<class 'list'>\n",
      "<class 'list'>{9771: {'songs': [190803, 594176, 642526, 100076, 1133, 527001, 114333, 78220, 598557, 342079, 305264, 214083, 109444, 179273, 577658], 'tags': ['매장', '매장음악'], 'title': ''}}\n",
      "\n",
      "{102631: {'songs': [], 'tags': [], 'title': '이런 친구 사이'}}total intersect songs : 0\n",
      "total intersect tags : 0\n"
     ]
    },
    {
     "name": "stderr",
     "output_type": "stream",
     "text": [
      "100%|##########| 72/72 [01:06<00:00,  1.09it/s]\n"
     ]
    },
    {
     "name": "stdout",
     "output_type": "stream",
     "text": [
      "\n",
      "total intersect songs : 0\n",
      "total intersect tags : 0\n"
     ]
    },
    {
     "name": "stderr",
     "output_type": "stream",
     "text": [
      " 97%|#########7| 70/72 [01:06<00:02,  1.03s/it]"
     ]
    },
    {
     "name": "stdout",
     "output_type": "stream",
     "text": [
      "<class 'list'>\n",
      "{73655: {'songs': [432029, 684748, 340586, 150690, 380885, 350319, 609831, 207380, 308876, 666244, 216738, 278289, 465555, 545020, 109846, 490883, 574631, 480973, 652353, 473506, 452171, 5342, 333366, 241349, 338511], 'tags': [], 'title': ''}}\n",
      "total intersect songs : 0\n",
      "total intersect tags : 0\n"
     ]
    },
    {
     "name": "stderr",
     "output_type": "stream",
     "text": [
      " 93%|#########3| 67/72 [01:06<00:04,  1.19it/s]"
     ]
    },
    {
     "name": "stdout",
     "output_type": "stream",
     "text": [
      "<class 'list'>\n",
      "{79747: {'songs': [443785, 108216, 274165, 24255, 563620, 383921, 117982, 129512], 'tags': ['기분전환'], 'title': ''}}\n",
      "total intersect songs : 0\n",
      "total intersect tags : 0\n"
     ]
    },
    {
     "name": "stderr",
     "output_type": "stream",
     "text": [
      " 96%|#########5| 69/72 [01:06<00:03,  1.15s/it]"
     ]
    },
    {
     "name": "stdout",
     "output_type": "stream",
     "text": [
      "<class 'list'>\n",
      "{110430: {'songs': [], 'tags': ['쓸쓸', '가을'], 'title': '추천 ♬ 쓸쓸한 계절에 눈물 도우미'}}\n",
      "total intersect songs : 0\n",
      "total intersect tags : 0\n"
     ]
    },
    {
     "name": "stderr",
     "output_type": "stream",
     "text": [
      " 89%|########8 | 64/72 [01:06<00:07,  1.01it/s]"
     ]
    },
    {
     "name": "stdout",
     "output_type": "stream",
     "text": [
      "<class 'list'>\n",
      "{53980: {'songs': [682862, 174846, 519958, 227353, 402865, 322063, 155939, 307546, 480764, 361580], 'tags': ['밤감성', '인디', '쌀쌀한'], 'title': ''}}\n",
      "total intersect songs : 0\n",
      "total intersect tags : 0\n"
     ]
    },
    {
     "name": "stderr",
     "output_type": "stream",
     "text": [
      " 96%|#########5| 69/72 [01:06<00:02,  1.20it/s]"
     ]
    },
    {
     "name": "stdout",
     "output_type": "stream",
     "text": [
      "<class 'list'>\n",
      "{135401: {'songs': [], 'tags': ['클럽', '알앤비', '랩', '운동', '기분전환'], 'title': '월요병은 너굴맨이 책임질테니 안심하라구!! Vol.2'}}\n",
      "total intersect songs : 0\n",
      "total intersect tags : 0\n"
     ]
    },
    {
     "name": "stderr",
     "output_type": "stream",
     "text": [
      " 96%|#########5| 69/72 [01:06<00:03,  1.02s/it]"
     ]
    },
    {
     "name": "stdout",
     "output_type": "stream",
     "text": [
      "<class 'list'>\n",
      "{94252: {'songs': [468494, 345616, 224195, 622627, 381083, 642935, 587738, 328924, 454062, 267232, 185534, 177706, 3012, 316080, 628021, 10792], 'tags': [], 'title': ''}}\n",
      "total intersect songs : 0\n",
      "total intersect tags : 0\n"
     ]
    },
    {
     "name": "stderr",
     "output_type": "stream",
     "text": [
      " 94%|#########4| 68/72 [01:06<00:02,  1.37it/s]"
     ]
    },
    {
     "name": "stdout",
     "output_type": "stream",
     "text": [
      "<class 'list'>\n",
      "{35635: {'songs': [], 'tags': ['힐링', '산촌편', 'TVN', '삽입곡', '캠핑'], 'title': '삼시세끼 산촌편 배경음악 모음 (매주 업뎃)'}}\n",
      "total intersect songs : 0\n",
      "total intersect tags : 0\n"
     ]
    },
    {
     "name": "stderr",
     "output_type": "stream",
     "text": [
      " 99%|#########8| 71/72 [01:06<00:00,  1.11it/s]"
     ]
    },
    {
     "name": "stdout",
     "output_type": "stream",
     "text": [
      "<class 'list'>\n",
      "{49218: {'songs': [], 'tags': [], 'title': '길거리에서 혼자 걸으면서 듣는 노래'}}\n",
      "total intersect songs : 0\n",
      "total intersect tags : 0\n"
     ]
    },
    {
     "name": "stderr",
     "output_type": "stream",
     "text": [
      " 97%|#########7| 70/72 [01:06<00:01,  1.31it/s]"
     ]
    },
    {
     "name": "stdout",
     "output_type": "stream",
     "text": [
      "<class 'list'>\n",
      "{70084: {'songs': [196720, 536516, 234480, 299256, 605531, 527713, 364494, 646126, 157486, 376524], 'tags': [], 'title': ''}}\n",
      "total intersect songs : 0\n",
      "total intersect tags : 0\n"
     ]
    },
    {
     "name": "stderr",
     "output_type": "stream",
     "text": [
      " 99%|#########8| 71/72 [01:07<00:00,  1.72it/s]"
     ]
    },
    {
     "name": "stdout",
     "output_type": "stream",
     "text": [
      "<class 'list'>\n",
      "{30827: {'songs': [15376, 316497, 371893, 359805, 486938, 459071, 82330, 34074, 324208, 150714, 701561, 529965, 318512, 250477, 25703, 406372, 270593, 22980, 369686, 86875, 191929, 322348, 282995, 275179, 518484, 398909, 238621, 660224, 181309, 504565, 407082, 477228, 389546, 210910, 611695, 112403, 325455, 502122, 61757, 138418, 94798, 220444, 39543, 262381, 456581, 139815, 441049, 164371, 223439, 267578, 639607, 703596, 551409, 307981, 620754, 171188, 22845, 325042, 248361, 457500, 330547, 509638, 528414, 86654, 166589, 80924, 488619, 359233, 131909, 170317, 124278, 353960, 664036, 670445, 410100, 117595, 112399, 330975, 293250, 267452, 561221, 422945, 689087, 219955, 655756, 313419, 41567, 59480, 701323, 264162, 13198, 243099, 67044, 203613, 153362, 465997, 81213, 419993, 63003, 432467], 'tags': ['여행', '기분전환', '8090세대', '학창시절', '혼자만의시간'], 'title': ''}}\n",
      "total intersect songs : 0\n",
      "total intersect tags : 0\n"
     ]
    },
    {
     "name": "stderr",
     "output_type": "stream",
     "text": [
      " 97%|#########7| 70/72 [01:07<00:02,  1.08s/it]"
     ]
    },
    {
     "name": "stdout",
     "output_type": "stream",
     "text": [
      "<class 'list'>\n",
      "{68782: {'songs': [666600, 517306, 145787, 75974, 311937, 45967, 188272, 517304, 56929, 643978, 94141, 675824, 384265, 201215, 526500, 669138, 130680, 360466, 592549, 595652, 137348, 256304, 700501, 467540, 362399, 43173, 308892, 575116, 544390, 240866, 570534, 607321, 388718, 441393, 267686, 696494, 349903, 528133, 667039, 157564], 'tags': ['감성', '여름밤', '연인', '힐링', '뉴에이지'], 'title': ''}}\n",
      "total intersect songs : 0\n",
      "total intersect tags : 0\n"
     ]
    },
    {
     "name": "stderr",
     "output_type": "stream",
     "text": [
      " 97%|#########7| 70/72 [01:07<00:02,  1.00s/it]"
     ]
    },
    {
     "name": "stdout",
     "output_type": "stream",
     "text": [
      "<class 'list'>\n",
      "{142718: {'songs': [], 'tags': [], 'title': '내가 들으려고 올리는 드라마/영화 OST'}}\n",
      "total intersect songs : 0\n",
      "total intersect tags : 0\n"
     ]
    },
    {
     "name": "stderr",
     "output_type": "stream",
     "text": [
      " 96%|#########5| 69/72 [01:07<00:02,  1.29it/s]"
     ]
    },
    {
     "name": "stdout",
     "output_type": "stream",
     "text": [
      "<class 'list'>\n",
      "{21573: {'songs': [469744, 45953, 87576, 564698, 323592, 515669], 'tags': [], 'title': ''}}\n",
      "total intersect songs : 0\n",
      "total intersect tags : 0\n"
     ]
    },
    {
     "name": "stderr",
     "output_type": "stream",
     "text": [
      " 90%|######### | 65/72 [01:07<00:07,  1.10s/it]"
     ]
    },
    {
     "name": "stdout",
     "output_type": "stream",
     "text": [
      "<class 'list'>\n",
      "{83259: {'songs': [333461, 371478, 586304, 85402, 209640, 242494, 532670, 117600, 449914, 432296, 65480, 153655, 514885, 373206, 142969, 617090, 522175, 8587, 150690, 320162, 473342, 457943, 585052, 550374, 84650, 542292, 361124, 146019, 57392], 'tags': ['클럽'], 'title': ''}}\n",
      "total intersect songs : 0\n",
      "total intersect tags : 0\n"
     ]
    },
    {
     "name": "stderr",
     "output_type": "stream",
     "text": [
      "100%|##########| 72/72 [01:07<00:00,  1.06it/s]\n"
     ]
    },
    {
     "name": "stdout",
     "output_type": "stream",
     "text": [
      "<class 'list'>\n",
      "{146972: {'songs': [90947, 112997, 50428, 365524, 509109, 172439, 517171, 664559, 354156, 503557, 654757, 549347, 450302], 'tags': ['힐링', '아름다운'], 'title': ''}}\n",
      "total intersect songs : 0\n",
      "total intersect tags : 0\n"
     ]
    },
    {
     "name": "stderr",
     "output_type": "stream",
     "text": [
      " 99%|#########8| 71/72 [01:07<00:00,  1.03it/s]"
     ]
    },
    {
     "name": "stdout",
     "output_type": "stream",
     "text": [
      "<class 'list'>\n",
      "{126786: {'songs': [610973, 386144, 166499, 100184, 358028, 352965, 150350, 512318, 374062], 'tags': [], 'title': ''}}\n",
      "total intersect songs : 0\n",
      "total intersect tags : 0\n"
     ]
    },
    {
     "name": "stderr",
     "output_type": "stream",
     "text": [
      " 99%|#########8| 71/72 [01:08<00:00,  1.12it/s]"
     ]
    },
    {
     "name": "stdout",
     "output_type": "stream",
     "text": [
      "<class 'list'>\n",
      "{66457: {'songs': [539090, 495901, 342791, 571885, 267739, 183078, 468658, 689543, 464562, 229035, 441810, 311834, 261145, 643990, 374617, 454768, 688951, 310687, 447548, 80103, 433365, 127976, 237407, 692878, 376821, 109509, 46284, 504052, 132689, 278145, 482086, 564812, 257390, 52862, 109523, 224847, 163477, 305286, 657248, 382779, 306115, 445036, 250528, 636187, 51681, 190876, 548768], 'tags': ['힙합', '감성'], 'title': ''}}\n",
      "total intersect songs : 0\n",
      "total intersect tags : 0\n"
     ]
    },
    {
     "name": "stderr",
     "output_type": "stream",
     "text": [
      "100%|##########| 72/72 [01:08<00:00,  1.05it/s]\n"
     ]
    },
    {
     "name": "stdout",
     "output_type": "stream",
     "text": [
      "<class 'list'>\n",
      "{29239: {'songs': [609442, 62127, 359980, 481859, 463509, 105344, 592376, 608497, 671065, 398003, 568190, 221174, 472466, 531225, 684407, 498881, 468256, 361485, 322730, 459743, 515658, 1164], 'tags': ['카페음악', '감성', '영화드라마ost'], 'title': ''}}\n",
      "total intersect songs : 0\n",
      "total intersect tags : 0\n"
     ]
    },
    {
     "name": "stderr",
     "output_type": "stream",
     "text": [
      " 92%|#########1| 66/72 [01:08<00:06,  1.01s/it]"
     ]
    },
    {
     "name": "stdout",
     "output_type": "stream",
     "text": [
      "<class 'list'>\n",
      "{34362: {'songs': [666577, 313551, 363709, 173798, 552804, 13723, 132994, 489270, 610179, 62263, 362966, 144663, 457124, 516906, 455141, 283138], 'tags': ['휴식', '봄'], 'title': ''}}\n",
      "total intersect songs : 0\n",
      "total intersect tags : 0\n"
     ]
    },
    {
     "name": "stderr",
     "output_type": "stream",
     "text": [
      " 97%|#########7| 70/72 [01:08<00:01,  1.18it/s]"
     ]
    },
    {
     "name": "stdout",
     "output_type": "stream",
     "text": [
      "<class 'list'>\n",
      "{11245: {'songs': [484926, 190537, 547967, 300506, 443289, 132689, 601037, 219020, 278145, 485155, 259163, 668128, 381056, 551064, 246531, 604859, 311995, 300553, 70549, 443130, 628232, 234409, 649662, 372893, 674160, 420672, 454890, 154649, 621550, 11152, 671563, 98509], 'tags': ['멜랑콜리', '어두운', '생각', '퇴근길', '편안한'], 'title': ''}}\n",
      "total intersect songs : 0\n",
      "total intersect tags : 0\n"
     ]
    },
    {
     "name": "stderr",
     "output_type": "stream",
     "text": [
      "100%|##########| 72/72 [01:08<00:00,  1.05it/s]\n"
     ]
    },
    {
     "name": "stdout",
     "output_type": "stream",
     "text": [
      "<class 'list'>\n",
      "{85813: {'songs': [305625, 681490, 220567, 413837, 23890, 603835, 134997], 'tags': ['밤', '새벽'], 'title': ''}}\n",
      "total intersect songs : 0\n",
      "total intersect tags : 0\n"
     ]
    },
    {
     "name": "stderr",
     "output_type": "stream",
     "text": [
      "100%|##########| 72/72 [01:09<00:00,  1.04it/s]\n"
     ]
    },
    {
     "name": "stdout",
     "output_type": "stream",
     "text": [
      "<class 'list'>\n",
      "{42275: {'songs': [636116, 70354, 161768, 690500, 107035, 367080, 209687, 547302, 353528, 22175, 616900, 261108, 232499, 296087, 499792, 237407, 695494, 527887, 599290, 253905, 238974, 426013, 380859, 551030, 381157, 549547, 323207, 645130, 525203, 415686, 67868, 40057, 551960, 428500, 385602, 96859, 658739, 447349, 481744, 523696, 163477, 642394, 611831, 602065, 598541, 233642, 489439, 576274, 75762, 610548, 151385, 197016, 402521, 349893, 272446, 221566, 493790, 297841, 4346, 159446, 565037, 478495, 457199, 17429, 265066, 82655, 324911, 255065, 437564, 423915, 532388, 653392, 464739, 618541, 237273, 371459, 416797, 63883, 197600, 574181, 104998, 298091, 700704, 651055], 'tags': [], 'title': ''}}\n",
      "total intersect songs : 0\n",
      "total intersect tags : 0\n"
     ]
    },
    {
     "name": "stderr",
     "output_type": "stream",
     "text": [
      " 93%|#########3| 67/72 [01:09<00:04,  1.02it/s]"
     ]
    },
    {
     "name": "stdout",
     "output_type": "stream",
     "text": [
      "<class 'list'>\n",
      "{137918: {'songs': [351116, 227076, 248226, 500761, 257154, 204737, 548896, 117546, 265258], 'tags': ['복수', '쿨한'], 'title': ''}}\n",
      "total intersect songs : 0\n",
      "total intersect tags : 0\n"
     ]
    },
    {
     "name": "stderr",
     "output_type": "stream",
     "text": [
      " 99%|#########8| 71/72 [01:09<00:00,  1.10it/s]"
     ]
    },
    {
     "name": "stdout",
     "output_type": "stream",
     "text": [
      "<class 'list'>\n",
      "{105148: {'songs': [212084, 333562, 258231, 343677, 317092, 614109, 156534, 672208, 158153, 234852, 198054, 198174, 566439, 695656, 679096, 107452, 212852, 323916, 464542, 89620, 488535, 434069, 679429, 497987, 164403, 610304, 635882, 611663], 'tags': [], 'title': ''}}\n",
      "total intersect songs : 0\n",
      "total intersect tags : 0\n"
     ]
    },
    {
     "name": "stderr",
     "output_type": "stream",
     "text": [
      "100%|##########| 72/72 [01:10<00:00,  1.03it/s]\n"
     ]
    },
    {
     "name": "stdout",
     "output_type": "stream",
     "text": [
      "<class 'list'>\n",
      "{60086: {'songs': [451196, 615201, 80924, 659798], 'tags': [], 'title': ''}}\n",
      "total intersect songs : 0\n",
      "total intersect tags : 0\n"
     ]
    },
    {
     "name": "stderr",
     "output_type": "stream",
     "text": [
      " 94%|#########4| 68/72 [01:10<00:03,  1.04it/s]"
     ]
    },
    {
     "name": "stdout",
     "output_type": "stream",
     "text": [
      "<class 'list'>\n",
      "{67287: {'songs': [548260, 454250, 48263, 399723, 298183, 348376, 517825, 469776, 203516, 214947, 3354, 584617, 568269, 319146, 198157, 336363, 282708, 397846, 106608, 590403], 'tags': ['감성'], 'title': ''}}\n",
      "total intersect songs : 0\n",
      "total intersect tags : 0\n"
     ]
    },
    {
     "name": "stderr",
     "output_type": "stream",
     "text": [
      " 96%|#########5| 69/72 [01:10<00:02,  1.18it/s]"
     ]
    },
    {
     "name": "stdout",
     "output_type": "stream",
     "text": [
      "<class 'list'>\n",
      "{93078: {'songs': [447544, 562290, 670292, 42421, 207893, 636934, 96777], 'tags': [], 'title': ''}}\n",
      "total intersect songs : 0\n",
      "total intersect tags : 0\n"
     ]
    },
    {
     "name": "stderr",
     "output_type": "stream",
     "text": [
      " 97%|#########7| 70/72 [01:11<00:01,  1.51it/s]"
     ]
    },
    {
     "name": "stdout",
     "output_type": "stream",
     "text": [
      "<class 'list'>\n",
      "{83886: {'songs': [512156, 423968, 395895, 311240, 601612, 282168, 22608, 482611], 'tags': ['국내', '텐션'], 'title': ''}}\n",
      "total intersect songs : 0\n",
      "total intersect tags : 0\n"
     ]
    },
    {
     "name": "stderr",
     "output_type": "stream",
     "text": [
      " 99%|#########8| 71/72 [01:11<00:00,  1.52it/s]"
     ]
    },
    {
     "name": "stdout",
     "output_type": "stream",
     "text": [
      "<class 'list'>\n",
      "{137307: {'songs': [], 'tags': [], 'title': '탄산음료 같은 전자음악'}}\n",
      "total intersect songs : 0\n",
      "total intersect tags : 0\n"
     ]
    },
    {
     "name": "stderr",
     "output_type": "stream",
     "text": [
      "100%|##########| 72/72 [01:12<00:00,  1.01s/it]\n"
     ]
    },
    {
     "name": "stdout",
     "output_type": "stream",
     "text": [
      "Writing results...\n"
     ]
    },
    {
     "ename": "TypeError",
     "evalue": "list indices must be integers or slices, not str",
     "output_type": "error",
     "traceback": [
      "\u001b[0;31m---------------------------------------------------------------------------\u001b[0m",
      "\u001b[0;31mTypeError\u001b[0m                                 Traceback (most recent call last)",
      "\u001b[0;32m<timed exec>\u001b[0m in \u001b[0;36m<module>\u001b[0;34m\u001b[0m\n",
      "\u001b[0;32m~/work/melon-playlist-continuation-2020/grape_recommender.py\u001b[0m in \u001b[0;36mread_and_predict\u001b[0;34m(self, question_fname, output_fname, jobs, verbose)\u001b[0m\n\u001b[1;32m     59\u001b[0m             \u001b[0mwrite_json\u001b[0m\u001b[0;34m(\u001b[0m\u001b[0mresults\u001b[0m\u001b[0;34m,\u001b[0m \u001b[0moutput_fname\u001b[0m\u001b[0;34m)\u001b[0m\u001b[0;34m\u001b[0m\u001b[0;34m\u001b[0m\u001b[0m\n\u001b[1;32m     60\u001b[0m \u001b[0;34m\u001b[0m\u001b[0m\n\u001b[0;32m---> 61\u001b[0;31m         \u001b[0mvalidate_answers\u001b[0m\u001b[0;34m(\u001b[0m\u001b[0mresults\u001b[0m\u001b[0;34m,\u001b[0m \u001b[0mquestions\u001b[0m\u001b[0;34m)\u001b[0m\u001b[0;34m\u001b[0m\u001b[0;34m\u001b[0m\u001b[0m\n\u001b[0m\u001b[1;32m     62\u001b[0m \u001b[0;34m\u001b[0m\u001b[0m\n\u001b[1;32m     63\u001b[0m     \u001b[0;32mdef\u001b[0m \u001b[0mpredict\u001b[0m\u001b[0;34m(\u001b[0m\u001b[0mself\u001b[0m\u001b[0;34m,\u001b[0m \u001b[0mquestions\u001b[0m\u001b[0;34m,\u001b[0m \u001b[0mjobs\u001b[0m\u001b[0;34m=\u001b[0m\u001b[0;36m1\u001b[0m\u001b[0;34m,\u001b[0m \u001b[0mverbose\u001b[0m\u001b[0;34m=\u001b[0m\u001b[0;32mTrue\u001b[0m\u001b[0;34m)\u001b[0m\u001b[0;34m:\u001b[0m\u001b[0;34m\u001b[0m\u001b[0;34m\u001b[0m\u001b[0m\n",
      "\u001b[0;32m~/work/melon-playlist-continuation-2020/utils/validation.py\u001b[0m in \u001b[0;36mvalidate_answers\u001b[0;34m(answers, questions)\u001b[0m\n\u001b[1;32m     21\u001b[0m \u001b[0;32mdef\u001b[0m \u001b[0mvalidate_answers\u001b[0m\u001b[0;34m(\u001b[0m\u001b[0manswers\u001b[0m\u001b[0;34m,\u001b[0m \u001b[0mquestions\u001b[0m\u001b[0;34m)\u001b[0m\u001b[0;34m:\u001b[0m\u001b[0;34m\u001b[0m\u001b[0;34m\u001b[0m\u001b[0m\n\u001b[1;32m     22\u001b[0m     \u001b[0mgt_ids\u001b[0m \u001b[0;34m=\u001b[0m \u001b[0mset\u001b[0m\u001b[0;34m(\u001b[0m\u001b[0;34m[\u001b[0m\u001b[0mg\u001b[0m\u001b[0;34m[\u001b[0m\u001b[0;34m'id'\u001b[0m\u001b[0;34m]\u001b[0m \u001b[0;32mfor\u001b[0m \u001b[0mg\u001b[0m \u001b[0;32min\u001b[0m \u001b[0mquestions\u001b[0m\u001b[0;34m]\u001b[0m\u001b[0;34m)\u001b[0m\u001b[0;34m\u001b[0m\u001b[0;34m\u001b[0m\u001b[0m\n\u001b[0;32m---> 23\u001b[0;31m     \u001b[0mrec_ids\u001b[0m \u001b[0;34m=\u001b[0m \u001b[0mset\u001b[0m\u001b[0;34m(\u001b[0m\u001b[0;34m[\u001b[0m\u001b[0mr\u001b[0m\u001b[0;34m[\u001b[0m\u001b[0;34m'id'\u001b[0m\u001b[0;34m]\u001b[0m \u001b[0;32mfor\u001b[0m \u001b[0mr\u001b[0m \u001b[0;32min\u001b[0m \u001b[0manswers\u001b[0m\u001b[0;34m]\u001b[0m\u001b[0;34m)\u001b[0m\u001b[0;34m\u001b[0m\u001b[0;34m\u001b[0m\u001b[0m\n\u001b[0m\u001b[1;32m     24\u001b[0m \u001b[0;34m\u001b[0m\u001b[0m\n\u001b[1;32m     25\u001b[0m     \u001b[0;32mif\u001b[0m \u001b[0mgt_ids\u001b[0m \u001b[0;34m!=\u001b[0m \u001b[0mrec_ids\u001b[0m\u001b[0;34m:\u001b[0m\u001b[0;34m\u001b[0m\u001b[0;34m\u001b[0m\u001b[0m\n",
      "\u001b[0;32m~/work/melon-playlist-continuation-2020/utils/validation.py\u001b[0m in \u001b[0;36m<listcomp>\u001b[0;34m(.0)\u001b[0m\n\u001b[1;32m     21\u001b[0m \u001b[0;32mdef\u001b[0m \u001b[0mvalidate_answers\u001b[0m\u001b[0;34m(\u001b[0m\u001b[0manswers\u001b[0m\u001b[0;34m,\u001b[0m \u001b[0mquestions\u001b[0m\u001b[0;34m)\u001b[0m\u001b[0;34m:\u001b[0m\u001b[0;34m\u001b[0m\u001b[0;34m\u001b[0m\u001b[0m\n\u001b[1;32m     22\u001b[0m     \u001b[0mgt_ids\u001b[0m \u001b[0;34m=\u001b[0m \u001b[0mset\u001b[0m\u001b[0;34m(\u001b[0m\u001b[0;34m[\u001b[0m\u001b[0mg\u001b[0m\u001b[0;34m[\u001b[0m\u001b[0;34m'id'\u001b[0m\u001b[0;34m]\u001b[0m \u001b[0;32mfor\u001b[0m \u001b[0mg\u001b[0m \u001b[0;32min\u001b[0m \u001b[0mquestions\u001b[0m\u001b[0;34m]\u001b[0m\u001b[0;34m)\u001b[0m\u001b[0;34m\u001b[0m\u001b[0;34m\u001b[0m\u001b[0m\n\u001b[0;32m---> 23\u001b[0;31m     \u001b[0mrec_ids\u001b[0m \u001b[0;34m=\u001b[0m \u001b[0mset\u001b[0m\u001b[0;34m(\u001b[0m\u001b[0;34m[\u001b[0m\u001b[0mr\u001b[0m\u001b[0;34m[\u001b[0m\u001b[0;34m'id'\u001b[0m\u001b[0;34m]\u001b[0m \u001b[0;32mfor\u001b[0m \u001b[0mr\u001b[0m \u001b[0;32min\u001b[0m \u001b[0manswers\u001b[0m\u001b[0;34m]\u001b[0m\u001b[0;34m)\u001b[0m\u001b[0;34m\u001b[0m\u001b[0;34m\u001b[0m\u001b[0m\n\u001b[0m\u001b[1;32m     24\u001b[0m \u001b[0;34m\u001b[0m\u001b[0m\n\u001b[1;32m     25\u001b[0m     \u001b[0;32mif\u001b[0m \u001b[0mgt_ids\u001b[0m \u001b[0;34m!=\u001b[0m \u001b[0mrec_ids\u001b[0m\u001b[0;34m:\u001b[0m\u001b[0;34m\u001b[0m\u001b[0;34m\u001b[0m\u001b[0m\n",
      "\u001b[0;31mTypeError\u001b[0m: list indices must be integers or slices, not str"
     ]
    }
   ],
   "source": [
    "%%log_cell\n",
    "%%time\n",
    "recommender.read_and_predict(\n",
    "    question_fname,\n",
    "    result_fname,\n",
    "    jobs,\n",
    ")\n",
    "evaluator.evaluate(answer_fname, result_fname, question_fname)"
   ]
  },
  {
   "cell_type": "markdown",
   "metadata": {},
   "source": [
    "## Debug"
   ]
  },
  {
   "cell_type": "code",
   "execution_count": 8,
   "metadata": {},
   "outputs": [],
   "source": [
    "from utils import read_json\n",
    "from utils import write_json\n",
    "from evaluate import print_scores"
   ]
  },
  {
   "cell_type": "code",
   "execution_count": 13,
   "metadata": {},
   "outputs": [],
   "source": [
    "questions = read_json(question_fname)\n",
    "questions = questions\n",
    "answers = read_json(answer_fname)"
   ]
  },
  {
   "cell_type": "code",
   "execution_count": 12,
   "metadata": {},
   "outputs": [],
   "source": [
    "questions = read_json(question_fname)\n",
    "questions = questions[1::3]\n",
    "answers = read_json(answer_fname)"
   ]
  },
  {
   "cell_type": "code",
   "execution_count": 10,
   "metadata": {},
   "outputs": [],
   "source": [
    "from lib.grape import MelonGraph\n",
    "\n",
    "\n",
    "def convert_params(\n",
    "        max_depth,\n",
    "        c,\n",
    "        ALBUM,\n",
    "        ARTIST,\n",
    "        ARTIST_GENRE,\n",
    "        ARTIST_DETAILED_GENRE,\n",
    "        DETAILED_GENRE,\n",
    "        GENRE,\n",
    "        MONTH,\n",
    "        PLAYLIST,\n",
    "        SONG,\n",
    "        TAG,\n",
    "        WORD,\n",
    "        YEAR,\n",
    "        ALBUM_TO_SONG,\n",
    "        ALBUM_TO_WORD,\n",
    "        ARTIST_TO_SONG,\n",
    "        ARTIST_TO_WORD,\n",
    "        ARTIST_GENRE_TO_SONG,\n",
    "        GENRE_TO_SONG,\n",
    "        MONTH_TO_SONG,\n",
    "        PLAYLIST_TO_SONG,\n",
    "        PLAYLIST_TO_TAG,\n",
    "        PLAYLIST_TO_WORD,\n",
    "        SONG_TO_ALBUM,\n",
    "        SONG_TO_ARTIST,\n",
    "        SONG_TO_ARTIST_DETAILED_GENRE,\n",
    "        SONG_TO_ARTIST_GENRE,\n",
    "        SONG_TO_DETAILED_GENRE,\n",
    "        SONG_TO_GENRE,\n",
    "        SONG_TO_MONTH,\n",
    "        SONG_TO_PLAYLIST,\n",
    "        SONG_TO_YEAR,\n",
    "        TAG_TO_PLAYLIST,\n",
    "        TAG_TO_WORD,\n",
    "        WORD_TO_ALBUM,\n",
    "        WORD_TO_ARTIST,\n",
    "        WORD_TO_PLAYLIST,\n",
    "        WORD_TO_TAG,\n",
    "        YEAR_TO_SONG,\n",
    "    ):\n",
    "    params = {\n",
    "        'max_songs': 100,\n",
    "        'max_tags': 10,\n",
    "        'max_depth': int(max_depth),\n",
    "        'relation_weight': {\n",
    "            MelonGraph.Relation.ALBUM_TO_SONG: ALBUM_TO_SONG * c * SONG,\n",
    "            MelonGraph.Relation.ALBUM_TO_WORD: ALBUM_TO_WORD * c * WORD,\n",
    "            MelonGraph.Relation.ARTIST_TO_SONG: ARTIST_TO_SONG * c * SONG,\n",
    "            MelonGraph.Relation.ARTIST_TO_WORD: ARTIST_TO_WORD * c * WORD,\n",
    "            MelonGraph.Relation.ARTIST_GENRE_TO_SONG: ARTIST_GENRE_TO_SONG * c * SONG,\n",
    "            MelonGraph.Relation.GENRE_TO_SONG: GENRE_TO_SONG * c * SONG,\n",
    "            MelonGraph.Relation.MONTH_TO_SONG: MONTH_TO_SONG * c * SONG,\n",
    "            MelonGraph.Relation.PLAYLIST_TO_SONG: PLAYLIST_TO_SONG * c * SONG,\n",
    "            MelonGraph.Relation.PLAYLIST_TO_TAG: PLAYLIST_TO_TAG * c * TAG,\n",
    "            MelonGraph.Relation.PLAYLIST_TO_WORD: PLAYLIST_TO_WORD * c * WORD,\n",
    "            MelonGraph.Relation.SONG_TO_ALBUM: SONG_TO_ALBUM * c * ALBUM,\n",
    "            MelonGraph.Relation.SONG_TO_ARTIST: SONG_TO_ARTIST * c * ARTIST,\n",
    "            MelonGraph.Relation.SONG_TO_ARTIST_DETAILED_GENRE: SONG_TO_ARTIST_DETAILED_GENRE * c * ARTIST_DETAILED_GENRE,\n",
    "            MelonGraph.Relation.SONG_TO_ARTIST_GENRE: SONG_TO_ARTIST_GENRE * c * ARTIST_GENRE,\n",
    "            MelonGraph.Relation.SONG_TO_DETAILED_GENRE: SONG_TO_DETAILED_GENRE * c * DETAILED_GENRE,\n",
    "            MelonGraph.Relation.SONG_TO_GENRE: SONG_TO_GENRE * c * GENRE,\n",
    "            MelonGraph.Relation.SONG_TO_MONTH: SONG_TO_MONTH * c * MONTH,\n",
    "            MelonGraph.Relation.SONG_TO_PLAYLIST: SONG_TO_PLAYLIST * c * PLAYLIST,\n",
    "            MelonGraph.Relation.SONG_TO_YEAR: SONG_TO_YEAR * c * YEAR,\n",
    "            MelonGraph.Relation.TAG_TO_PLAYLIST: TAG_TO_PLAYLIST * c * PLAYLIST,\n",
    "            MelonGraph.Relation.TAG_TO_WORD: TAG_TO_WORD * c * WORD,\n",
    "            MelonGraph.Relation.WORD_TO_ALBUM: WORD_TO_ALBUM * c * ALBUM,\n",
    "            MelonGraph.Relation.WORD_TO_ARTIST: WORD_TO_ARTIST * c * ARTIST,\n",
    "            MelonGraph.Relation.WORD_TO_PLAYLIST: WORD_TO_PLAYLIST * c * PLAYLIST,\n",
    "            MelonGraph.Relation.WORD_TO_TAG: WORD_TO_TAG * c * TAG,\n",
    "            MelonGraph.Relation.YEAR_TO_SONG: YEAR_TO_SONG * c * SONG,\n",
    "        },\n",
    "        'song_relation_weight': None,\n",
    "        'tag_relation_weight': None,\n",
    "    }\n",
    "    return params"
   ]
  },
  {
   "cell_type": "code",
   "execution_count": 11,
   "metadata": {},
   "outputs": [],
   "source": [
    "params = {\n",
    "    'max_depth': 4.0,\n",
    "    'c': 0.2,\n",
    "    'ALBUM': 0.2,\n",
    "    'ARTIST': 0.5,\n",
    "    'ARTIST_GENRE': 0.5,\n",
    "    'ARTIST_DETAILED_GENRE': 0.1,\n",
    "    'DETAILED_GENRE': 0.2,\n",
    "    'GENRE': 0.3,\n",
    "    'MONTH': 0.0,\n",
    "    'PLAYLIST': 0.3,\n",
    "    'SONG': 0.5,\n",
    "    'TAG': 0.2,\n",
    "    'WORD': 0.8,\n",
    "    'YEAR': 0.9,\n",
    "    'ALBUM_TO_SONG': 0.7,\n",
    "    'ALBUM_TO_WORD': 0.03,\n",
    "    'ARTIST_TO_SONG': 0.04,\n",
    "    'ARTIST_TO_WORD': 0.7,\n",
    "    'ARTIST_GENRE_TO_SONG': 0.35,\n",
    "    'GENRE_TO_SONG': 0.35,\n",
    "    'MONTH_TO_SONG': 0,\n",
    "    'PLAYLIST_TO_SONG': 0.2,\n",
    "    'PLAYLIST_TO_TAG': 0.1,\n",
    "    'PLAYLIST_TO_WORD': 0.8,\n",
    "    'SONG_TO_ALBUM': 0.7,\n",
    "    'SONG_TO_ARTIST': 0.45,\n",
    "    'SONG_TO_ARTIST_DETAILED_GENRE': 0.08,\n",
    "    'SONG_TO_ARTIST_GENRE': 0.55,\n",
    "    'SONG_TO_DETAILED_GENRE': 0,\n",
    "    'SONG_TO_GENRE': 0,\n",
    "    'SONG_TO_MONTH': 0.65,\n",
    "    'SONG_TO_PLAYLIST': 0.6,\n",
    "    'SONG_TO_YEAR': 0.8,\n",
    "    'TAG_TO_PLAYLIST': 0.4,\n",
    "    'TAG_TO_WORD': 0.35,\n",
    "    'WORD_TO_ALBUM': 0.7,\n",
    "    'WORD_TO_ARTIST': 0.9,\n",
    "    'WORD_TO_PLAYLIST': 0.6,\n",
    "    'WORD_TO_TAG': 0.3,\n",
    "    'YEAR_TO_SONG': 0.03,\n",
    "}\n",
    "\n",
    "recommender.set_params(**convert_params(**params))"
   ]
  },
  {
   "cell_type": "code",
   "execution_count": 14,
   "metadata": {},
   "outputs": [],
   "source": [
    "recommender.set_params(**{\n",
    "            'max_songs': 100,\n",
    "            'max_tags': 10,\n",
    "            'max_depth': 8,\n",
    "            'relation_weight': {\n",
    "                MelonGraph.Relation.ALBUM_TO_SONG: 0.01,\n",
    "                MelonGraph.Relation.ALBUM_TO_WORD: 0,\n",
    "                MelonGraph.Relation.ARTIST_TO_SONG: 0.002,\n",
    "                MelonGraph.Relation.ARTIST_TO_WORD: 0,\n",
    "                MelonGraph.Relation.ARTIST_GENRE_TO_SONG: 0.01,\n",
    "                MelonGraph.Relation.GENRE_TO_SONG: 0.01,\n",
    "                MelonGraph.Relation.MONTH_TO_SONG: 0,\n",
    "                MelonGraph.Relation.PLAYLIST_TO_SONG: 0.01,\n",
    "                MelonGraph.Relation.PLAYLIST_TO_TAG: 0.025,\n",
    "                MelonGraph.Relation.PLAYLIST_TO_WORD: 0.025,\n",
    "                MelonGraph.Relation.SONG_TO_ALBUM: 0.015,\n",
    "                MelonGraph.Relation.SONG_TO_ARTIST: 0.02,\n",
    "                MelonGraph.Relation.SONG_TO_ARTIST_DETAILED_GENRE: 0.0005,\n",
    "                MelonGraph.Relation.SONG_TO_ARTIST_GENRE: 0,\n",
    "                MelonGraph.Relation.SONG_TO_DETAILED_GENRE: 0,\n",
    "                MelonGraph.Relation.SONG_TO_GENRE: 0,\n",
    "                MelonGraph.Relation.SONG_TO_MONTH: 0,\n",
    "                MelonGraph.Relation.SONG_TO_PLAYLIST: 0.0075,\n",
    "                MelonGraph.Relation.SONG_TO_YEAR: 0,\n",
    "                MelonGraph.Relation.TAG_TO_PLAYLIST: 0.01,\n",
    "                MelonGraph.Relation.TAG_TO_WORD: 0.01,\n",
    "                MelonGraph.Relation.WORD_TO_ALBUM: 0,\n",
    "                MelonGraph.Relation.WORD_TO_ARTIST: 0,\n",
    "                MelonGraph.Relation.WORD_TO_PLAYLIST: 0.01,\n",
    "                MelonGraph.Relation.WORD_TO_TAG: 0.001,\n",
    "                MelonGraph.Relation.YEAR_TO_SONG: 0,\n",
    "            },\n",
    "            'song_relation_weight': None,\n",
    "            'tag_relation_weight': None,\n",
    "        })\n"
   ]
  },
  {
   "cell_type": "code",
   "execution_count": 15,
   "metadata": {},
   "outputs": [
    {
     "name": "stderr",
     "output_type": "stream",
     "text": [
      "100%|##########| 48/48 [00:27<00:00,  1.75it/s]\n",
      "100%|##########| 48/48 [00:29<00:00,  1.62it/s]\n",
      "100%|##########| 48/48 [00:30<00:00,  1.58it/s]\n",
      "100%|##########| 48/48 [00:31<00:00,  1.52it/s]\n",
      "100%|##########| 48/48 [00:37<00:00,  1.27it/s]\n",
      "100%|##########| 48/48 [00:37<00:00,  1.26it/s]\n",
      "100%|##########| 48/48 [00:38<00:00,  1.25it/s]\n",
      "100%|##########| 48/48 [00:39<00:00,  1.23it/s]\n",
      "100%|##########| 48/48 [00:39<00:00,  1.21it/s]\n",
      "100%|##########| 48/48 [00:40<00:00,  1.20it/s]\n",
      "100%|##########| 48/48 [00:40<00:00,  1.19it/s]\n",
      "100%|##########| 48/48 [00:40<00:00,  1.19it/s]\n"
     ]
    },
    {
     "name": "stdout",
     "output_type": "stream",
     "text": [
      "=== Total score ===\n",
      "Music nDCG: 0.285405\n",
      "Tag nDCG: 0.479857\n",
      "Score: 0.314573\n",
      "=== SONG_TAG score ===\n",
      "Music nDCG: 0.329893\n",
      "Tag nDCG: 0.4607\n",
      "Score: 0.349514\n",
      "=== TAG_TITLE score ===\n",
      "Music nDCG: 0.102275\n",
      "Tag nDCG: 0.530086\n",
      "Score: 0.166447\n",
      "=== SONG_ONLY score ===\n",
      "Music nDCG: 0.337984\n",
      "Tag nDCG: 0.512095\n",
      "Score: 0.364101\n",
      "=== TITLE_ONLY score ===\n",
      "Music nDCG: 0.0755778\n",
      "Tag nDCG: 0.317903\n",
      "Score: 0.111927\n",
      "CPU times: user 476 ms, sys: 840 ms, total: 1.32 s\n",
      "Wall time: 41.9 s\n"
     ]
    }
   ],
   "source": [
    "%%log_cell\n",
    "%%time\n",
    "results = recommender.predict(questions, jobs=12)\n",
    "\n",
    "(total_music_ndcgs, total_tag_ndcgs, total_scores,\n",
    "                case_music_ndcgs, case_tag_ndcgs, case_scores) = evaluator._eval(results, questions, answers)\n",
    "\n",
    "print_scores(\n",
    "    total_music_ndcgs, total_tag_ndcgs, total_scores,\n",
    "    case_music_ndcgs, case_tag_ndcgs, case_scores,\n",
    ")"
   ]
  },
  {
   "cell_type": "code",
   "execution_count": 125,
   "metadata": {
    "collapsed": true,
    "jupyter": {
     "outputs_hidden": true,
     "source_hidden": true
    }
   },
   "outputs": [
    {
     "name": "stdout",
     "output_type": "stream",
     "text": [
      "2015 65314\n",
      "2017 63008\n",
      "2018 59489\n",
      "2016 58016\n",
      "2014 54305\n",
      "2019 52119\n",
      "2013 43404\n",
      "2012 33315\n",
      "2011 28744\n",
      "2010 25514\n",
      "2009 23436\n",
      "2008 23280\n",
      "2007 21019\n",
      "2006 18171\n",
      "2005 16040\n",
      "2004 13564\n",
      "2003 13304\n",
      "2020 12426\n",
      "2002 10655\n",
      "2001 9576\n",
      "2000 7887\n",
      "1999 6719\n",
      "1998 5404\n",
      "1997 5335\n",
      "1996 4105\n",
      "1995 3594\n",
      "1994 3191\n",
      "1993 2532\n",
      "1992 2496\n",
      "1991 1941\n",
      "1990 1836\n",
      "1989 1587\n",
      "1988 1441\n",
      "1987 1193\n",
      "1986 804\n",
      "1985 670\n",
      "1984 660\n",
      "1983 556\n",
      "1978 528\n",
      "1979 486\n",
      "1973 479\n",
      "1982 476\n",
      "1980 466\n",
      "1981 453\n",
      "1976 444\n",
      "1972 444\n",
      "1977 428\n",
      "1974 404\n",
      "1970 382\n",
      "1971 336\n"
     ]
    }
   ],
   "source": [
    "nodes = list(recommender.grape._graph.get_all_nodes(MelonGraph.NodeType.YEAR))\n",
    "nodes = sorted(nodes, key=lambda x: x.data['indegree'], reverse=True)\n",
    "for n in nodes[:50]:\n",
    "    print(n.id, n.data['indegree'])\n",
    "#     print(n.id, n.data['name'], n.data['indegree'])"
   ]
  },
  {
   "cell_type": "code",
   "execution_count": 91,
   "metadata": {
    "collapsed": true,
    "jupyter": {
     "outputs_hidden": true,
     "source_hidden": true
    }
   },
   "outputs": [
    {
     "name": "stdout",
     "output_type": "stream",
     "text": [
      "{'skip': 1, 'offset': 0, 'error': 0.0}\n",
      "{'skip': 2, 'offset': 1, 'error': 0.3101298821676581}\n",
      "{'skip': 2, 'offset': 0, 'error': 0.31012988216765824}\n",
      "{'skip': 3, 'offset': 1, 'error': 0.3269414083787091}\n",
      "{'skip': 4, 'offset': 1, 'error': 0.36726286616567283}\n",
      "{'skip': 4, 'offset': 2, 'error': 0.3856912951138309}\n",
      "{'skip': 3, 'offset': 2, 'error': 0.4312515931270432}\n",
      "{'skip': 3, 'offset': 0, 'error': 0.45703186777387794}\n",
      "{'skip': 12, 'offset': 3, 'error': 0.4579794290553558}\n",
      "{'skip': 4, 'offset': 3, 'error': 0.46487362968569634}\n",
      "{'skip': 6, 'offset': 0, 'error': 0.49701107512450987}\n",
      "{'skip': 7, 'offset': 2, 'error': 0.5043860873979316}\n",
      "{'skip': 8, 'offset': 2, 'error': 0.5102255862425455}\n",
      "{'skip': 6, 'offset': 2, 'error': 0.5115587459869972}\n",
      "{'skip': 5, 'offset': 4, 'error': 0.5437370865258001}\n",
      "{'skip': 8, 'offset': 5, 'error': 0.5507290780237842}\n",
      "{'skip': 5, 'offset': 3, 'error': 0.551258481508675}\n",
      "{'skip': 7, 'offset': 4, 'error': 0.565307559797619}\n",
      "{'skip': 7, 'offset': 5, 'error': 0.5793833100317752}\n",
      "{'skip': 8, 'offset': 7, 'error': 0.5872212459802001}\n",
      "{'skip': 9, 'offset': 5, 'error': 0.5907895214949219}\n",
      "{'skip': 11, 'offset': 4, 'error': 0.6168324514372883}\n",
      "{'skip': 11, 'offset': 7, 'error': 0.6199000494171418}\n",
      "{'skip': 5, 'offset': 2, 'error': 0.6249874329690779}\n",
      "{'skip': 15, 'offset': 12, 'error': 0.6387754186905555}\n",
      "{'skip': 7, 'offset': 0, 'error': 0.6483613470175917}\n",
      "{'skip': 7, 'offset': 6, 'error': 0.655349234314296}\n",
      "{'skip': 10, 'offset': 9, 'error': 0.6631672035278844}\n",
      "{'skip': 9, 'offset': 0, 'error': 0.6653560497992254}\n",
      "{'skip': 12, 'offset': 6, 'error': 0.6779854536466116}\n",
      "{'skip': 6, 'offset': 3, 'error': 0.6814040928135481}\n",
      "{'skip': 9, 'offset': 1, 'error': 0.683728924444889}\n",
      "{'skip': 11, 'offset': 0, 'error': 0.6854797088936659}\n",
      "{'skip': 13, 'offset': 5, 'error': 0.691041204201039}\n",
      "{'skip': 14, 'offset': 9, 'error': 0.6952567406902681}\n",
      "{'skip': 8, 'offset': 3, 'error': 0.6982677155119619}\n",
      "{'skip': 6, 'offset': 1, 'error': 0.7059473509240318}\n",
      "{'skip': 11, 'offset': 8, 'error': 0.7118949833773223}\n",
      "{'skip': 9, 'offset': 6, 'error': 0.737603262787201}\n",
      "{'skip': 12, 'offset': 1, 'error': 0.7481729002902331}\n",
      "{'skip': 4, 'offset': 0, 'error': 0.752498336512707}\n",
      "{'skip': 9, 'offset': 3, 'error': 0.7568563087449435}\n",
      "{'skip': 7, 'offset': 1, 'error': 0.7685848377771562}\n",
      "{'skip': 15, 'offset': 0, 'error': 0.7759377997056178}\n",
      "{'skip': 8, 'offset': 1, 'error': 0.7879443707641401}\n",
      "{'skip': 6, 'offset': 4, 'error': 0.7956006878512825}\n",
      "{'skip': 6, 'offset': 5, 'error': 0.8012961250006614}\n",
      "{'skip': 8, 'offset': 0, 'error': 0.8042922051729395}\n",
      "{'skip': 10, 'offset': 0, 'error': 0.805162132835641}\n",
      "{'skip': 13, 'offset': 1, 'error': 0.8161210054646232}\n",
      "{'skip': 14, 'offset': 7, 'error': 0.8185482498830762}\n",
      "{'skip': 5, 'offset': 0, 'error': 0.8256160341889437}\n",
      "{'skip': 13, 'offset': 4, 'error': 0.8266981560067799}\n",
      "{'skip': 12, 'offset': 5, 'error': 0.8441696318836399}\n",
      "{'skip': 11, 'offset': 1, 'error': 0.8446758188228384}\n",
      "{'skip': 11, 'offset': 2, 'error': 0.8531186623300947}\n",
      "{'skip': 10, 'offset': 8, 'error': 0.8582305266271809}\n",
      "{'skip': 10, 'offset': 2, 'error': 0.8760935033974513}\n",
      "{'skip': 14, 'offset': 8, 'error': 0.877463070858775}\n",
      "{'skip': 7, 'offset': 3, 'error': 0.8843926680939784}\n",
      "{'skip': 5, 'offset': 1, 'error': 0.8911488410423922}\n",
      "{'skip': 10, 'offset': 4, 'error': 0.8941093261876434}\n",
      "{'skip': 10, 'offset': 1, 'error': 0.9036132216330315}\n",
      "{'skip': 12, 'offset': 0, 'error': 0.9055959904635912}\n",
      "{'skip': 13, 'offset': 3, 'error': 0.909160540143988}\n",
      "{'skip': 13, 'offset': 8, 'error': 0.9134772289926791}\n",
      "{'skip': 15, 'offset': 9, 'error': 0.9184670626349208}\n",
      "{'skip': 15, 'offset': 14, 'error': 0.9239564905376219}\n",
      "{'skip': 8, 'offset': 4, 'error': 0.9264173994932514}\n",
      "{'skip': 11, 'offset': 6, 'error': 0.9304675459797183}\n",
      "{'skip': 11, 'offset': 3, 'error': 0.942404139458443}\n",
      "{'skip': 14, 'offset': 0, 'error': 0.9440017754837026}\n",
      "{'skip': 14, 'offset': 5, 'error': 0.9470877906787198}\n",
      "{'skip': 9, 'offset': 4, 'error': 0.9506291063032639}\n",
      "{'skip': 13, 'offset': 7, 'error': 0.9552846301623991}\n",
      "{'skip': 8, 'offset': 6, 'error': 0.9615705739244063}\n",
      "{'skip': 9, 'offset': 8, 'error': 0.9863789138685328}\n",
      "{'skip': 13, 'offset': 2, 'error': 0.9947909107842772}\n",
      "{'skip': 13, 'offset': 10, 'error': 1.0017533590166614}\n",
      "{'skip': 15, 'offset': 5, 'error': 1.0140281167036196}\n",
      "{'skip': 14, 'offset': 2, 'error': 1.0164798367667565}\n",
      "{'skip': 13, 'offset': 6, 'error': 1.0277393330076632}\n",
      "{'skip': 14, 'offset': 1, 'error': 1.0373045475306137}\n",
      "{'skip': 13, 'offset': 9, 'error': 1.040130872244898}\n",
      "{'skip': 9, 'offset': 2, 'error': 1.064900713022249}\n",
      "{'skip': 11, 'offset': 9, 'error': 1.0679205319593803}\n",
      "{'skip': 12, 'offset': 4, 'error': 1.0824215808827078}\n",
      "{'skip': 14, 'offset': 4, 'error': 1.0863839226502823}\n",
      "{'skip': 12, 'offset': 7, 'error': 1.0915187333967413}\n",
      "{'skip': 9, 'offset': 7, 'error': 1.0937557365807262}\n",
      "{'skip': 14, 'offset': 12, 'error': 1.0943206090925526}\n",
      "{'skip': 10, 'offset': 6, 'error': 1.0961797239198587}\n",
      "{'skip': 12, 'offset': 11, 'error': 1.1128055579124334}\n",
      "{'skip': 11, 'offset': 5, 'error': 1.1205541400072458}\n",
      "{'skip': 15, 'offset': 2, 'error': 1.1434024510129723}\n",
      "{'skip': 14, 'offset': 11, 'error': 1.144177744973599}\n",
      "{'skip': 14, 'offset': 13, 'error': 1.144180777362186}\n",
      "{'skip': 13, 'offset': 11, 'error': 1.1504916884509786}\n",
      "{'skip': 15, 'offset': 6, 'error': 1.1614139296385413}\n",
      "{'skip': 14, 'offset': 6, 'error': 1.1626052522051784}\n",
      "{'skip': 12, 'offset': 2, 'error': 1.1669352263897563}\n",
      "{'skip': 11, 'offset': 10, 'error': 1.2148704685099643}\n",
      "{'skip': 15, 'offset': 8, 'error': 1.2181833416236818}\n",
      "{'skip': 12, 'offset': 9, 'error': 1.2258859222774798}\n",
      "{'skip': 14, 'offset': 3, 'error': 1.2322575215585974}\n",
      "{'skip': 12, 'offset': 8, 'error': 1.267969478977007}\n",
      "{'skip': 10, 'offset': 7, 'error': 1.2785866624984012}\n",
      "{'skip': 15, 'offset': 3, 'error': 1.302222906060765}\n",
      "{'skip': 13, 'offset': 0, 'error': 1.3061499842891653}\n",
      "{'skip': 10, 'offset': 5, 'error': 1.307442743492955}\n",
      "{'skip': 15, 'offset': 1, 'error': 1.3170417357927362}\n",
      "{'skip': 12, 'offset': 10, 'error': 1.3687393501467953}\n",
      "{'skip': 14, 'offset': 10, 'error': 1.4025057419418256}\n",
      "{'skip': 13, 'offset': 12, 'error': 1.4128607339368582}\n",
      "{'skip': 15, 'offset': 11, 'error': 1.4170412028465609}\n",
      "{'skip': 15, 'offset': 10, 'error': 1.4527631046003824}\n",
      "{'skip': 10, 'offset': 3, 'error': 1.464987558340564}\n",
      "{'skip': 15, 'offset': 4, 'error': 1.497093138620278}\n",
      "{'skip': 15, 'offset': 13, 'error': 1.5032545668186348}\n",
      "{'skip': 15, 'offset': 7, 'error': 1.6951889731208587}\n"
     ]
    }
   ],
   "source": [
    "from evaluate import get_scores\n",
    "\n",
    "def get_error(s1, s2):\n",
    "    error = 0\n",
    "    for k in s1:\n",
    "        for k2 in s1[k]:\n",
    "            error += (s1[k][k2] - s2[k][k2]) ** 2\n",
    "    return error\n",
    "\n",
    "s1 = get_scores(total_music_ndcgs, total_tag_ndcgs, total_scores, case_music_ndcgs, case_tag_ndcgs, case_scores)\n",
    "\n",
    "skip = 6\n",
    "\n",
    "errors = []\n",
    "for skip in range(1, 16):\n",
    "    for offset in range(skip):\n",
    "        sub_total_music_ndcgs = total_music_ndcgs[offset::skip]\n",
    "        sub_total_tag_ndcgs = total_tag_ndcgs[offset::skip]\n",
    "        sub_total_scores = total_scores[offset::skip]\n",
    "        sub_case_music_ndcgs = {k: v[offset::skip] for k, v in case_music_ndcgs.items()}\n",
    "        sub_case_tag_ndcgs = {k: v[offset::skip] for k, v in case_tag_ndcgs.items()}\n",
    "        sub_case_scores = {k: v[offset::skip] for k, v in case_scores.items()}\n",
    "\n",
    "        s2 = get_scores(sub_total_music_ndcgs, sub_total_tag_ndcgs, sub_total_scores, sub_case_music_ndcgs, sub_case_tag_ndcgs, sub_case_scores)\n",
    "        errors.append(\n",
    "            {\n",
    "                'skip': skip,\n",
    "                'offset': offset,\n",
    "                'error': get_error(s1, s2)\n",
    "            }\n",
    "        )\n",
    "\n",
    "errors = sorted(errors, key=lambda x: x['error'])\n",
    "for error in errors:\n",
    "    print(error)"
   ]
  },
  {
   "cell_type": "code",
   "execution_count": 82,
   "metadata": {
    "collapsed": true,
    "jupyter": {
     "outputs_hidden": true,
     "source_hidden": true
    }
   },
   "outputs": [
    {
     "name": "stdout",
     "output_type": "stream",
     "text": [
      "=== Total score ===\n",
      "Music nDCG: 0.287772\n",
      "Tag nDCG: 0.441057\n",
      "Score: 0.310765\n",
      "=== SONG_TAG score ===\n",
      "Music nDCG: 0.338858\n",
      "Tag nDCG: 0.435439\n",
      "Score: 0.353345\n",
      "=== TAG_TITLE score ===\n",
      "Music nDCG: 0.10012\n",
      "Tag nDCG: 0.358257\n",
      "Score: 0.13884\n",
      "=== SONG_ONLY score ===\n",
      "Music nDCG: 0.328356\n",
      "Tag nDCG: 0.501433\n",
      "Score: 0.354318\n",
      "=== TITLE_ONLY score ===\n",
      "Music nDCG: 0.119093\n",
      "Tag nDCG: 0.267445\n",
      "Score: 0.141346\n"
     ]
    }
   ],
   "source": [
    "print_scores(total_music_ndcgs, total_tag_ndcgs, total_scores, case_music_ndcgs, case_tag_ndcgs, case_scores)"
   ]
  },
  {
   "cell_type": "code",
   "execution_count": 93,
   "metadata": {
    "collapsed": true,
    "jupyter": {
     "outputs_hidden": true,
     "source_hidden": true
    }
   },
   "outputs": [
    {
     "name": "stdout",
     "output_type": "stream",
     "text": [
      "=== Total score ===\n",
      "Music nDCG: 0.284386\n",
      "Tag nDCG: 0.447137\n",
      "Score: 0.308799\n",
      "=== SONG_TAG score ===\n",
      "Music nDCG: 0.289699\n",
      "Tag nDCG: 0.426068\n",
      "Score: 0.310154\n",
      "=== TAG_TITLE score ===\n",
      "Music nDCG: 0.0718048\n",
      "Tag nDCG: 0.360906\n",
      "Score: 0.11517\n",
      "=== SONG_ONLY score ===\n",
      "Music nDCG: 0.369304\n",
      "Tag nDCG: 0.518822\n",
      "Score: 0.391732\n",
      "=== TITLE_ONLY score ===\n",
      "Music nDCG: 0.137737\n",
      "Tag nDCG: 0.292585\n",
      "Score: 0.160964\n"
     ]
    }
   ],
   "source": [
    "skip = 3\n",
    "offset = 1\n",
    "\n",
    "sub_total_music_ndcgs = total_music_ndcgs[offset::skip]\n",
    "sub_total_tag_ndcgs = total_tag_ndcgs[offset::skip]\n",
    "sub_total_scores = total_scores[offset::skip]\n",
    "sub_case_music_ndcgs = {k: v[offset::skip] for k, v in case_music_ndcgs.items()}\n",
    "sub_case_tag_ndcgs = {k: v[offset::skip] for k, v in case_tag_ndcgs.items()}\n",
    "sub_case_scores = {k: v[offset::skip] for k, v in case_scores.items()}\n",
    "\n",
    "print_scores(sub_total_music_ndcgs, sub_total_tag_ndcgs, sub_total_scores, sub_case_music_ndcgs, sub_case_tag_ndcgs, sub_case_scores)"
   ]
  },
  {
   "cell_type": "markdown",
   "metadata": {},
   "source": [
    "## Tuning"
   ]
  },
  {
   "cell_type": "code",
   "execution_count": 9,
   "metadata": {},
   "outputs": [],
   "source": [
    "questions = read_json(question_fname)\n",
    "answers = read_json(answer_fname)"
   ]
  },
  {
   "cell_type": "code",
   "execution_count": 10,
   "metadata": {},
   "outputs": [],
   "source": [
    "import numpy as np\n",
    "from functools import partial\n",
    "from random_search_optimizer import RandomSearchOptimizer\n",
    "from statistics import mean\n",
    "from evaluate import get_scores\n",
    "\n",
    "\n",
    "def opt_func(\n",
    "        questions, answers,\n",
    "        max_depth,\n",
    "        c,\n",
    "        ALBUM,\n",
    "        ARTIST,\n",
    "        ARTIST_GENRE,\n",
    "        ARTIST_DETAILED_GENRE,\n",
    "        DETAILED_GENRE,\n",
    "        GENRE,\n",
    "        MONTH,\n",
    "        PLAYLIST,\n",
    "        SONG,\n",
    "        TAG,\n",
    "        WORD,\n",
    "        YEAR,\n",
    "        ALBUM_TO_SONG,\n",
    "        ALBUM_TO_WORD,\n",
    "        ARTIST_TO_SONG,\n",
    "        ARTIST_TO_WORD,\n",
    "        ARTIST_GENRE_TO_SONG,\n",
    "        GENRE_TO_SONG,\n",
    "        MONTH_TO_SONG,\n",
    "        PLAYLIST_TO_SONG,\n",
    "        PLAYLIST_TO_TAG,\n",
    "        PLAYLIST_TO_WORD,\n",
    "        SONG_TO_ALBUM,\n",
    "        SONG_TO_ARTIST,\n",
    "        SONG_TO_ARTIST_DETAILED_GENRE,\n",
    "        SONG_TO_ARTIST_GENRE,\n",
    "        SONG_TO_DETAILED_GENRE,\n",
    "        SONG_TO_GENRE,\n",
    "        SONG_TO_MONTH,\n",
    "        SONG_TO_PLAYLIST,\n",
    "        SONG_TO_YEAR,\n",
    "        TAG_TO_PLAYLIST,\n",
    "        TAG_TO_WORD,\n",
    "        WORD_TO_ALBUM,\n",
    "        WORD_TO_ARTIST,\n",
    "        WORD_TO_PLAYLIST,\n",
    "        WORD_TO_TAG,\n",
    "        YEAR_TO_SONG,\n",
    "        score='total',\n",
    "        jobs=1,\n",
    "    ):\n",
    "    params = {\n",
    "        'max_songs': 100,\n",
    "        'max_tags': 10,\n",
    "        'max_depth': int(max_depth),\n",
    "        'relation_weight': {\n",
    "            MelonGraph.Relation.ALBUM_TO_SONG: ALBUM_TO_SONG * c * SONG,\n",
    "            MelonGraph.Relation.ALBUM_TO_WORD: ALBUM_TO_WORD * c * WORD,\n",
    "            MelonGraph.Relation.ARTIST_TO_SONG: ARTIST_TO_SONG * c * SONG,\n",
    "            MelonGraph.Relation.ARTIST_TO_WORD: ARTIST_TO_WORD * c * WORD,\n",
    "            MelonGraph.Relation.ARTIST_GENRE_TO_SONG: ARTIST_GENRE_TO_SONG * c * SONG,\n",
    "            MelonGraph.Relation.GENRE_TO_SONG: GENRE_TO_SONG * c * SONG,\n",
    "            MelonGraph.Relation.MONTH_TO_SONG: MONTH_TO_SONG * c * SONG,\n",
    "            MelonGraph.Relation.PLAYLIST_TO_SONG: PLAYLIST_TO_SONG * c * SONG,\n",
    "            MelonGraph.Relation.PLAYLIST_TO_TAG: PLAYLIST_TO_TAG * c * TAG,\n",
    "            MelonGraph.Relation.PLAYLIST_TO_WORD: PLAYLIST_TO_WORD * c * WORD,\n",
    "            MelonGraph.Relation.SONG_TO_ALBUM: SONG_TO_ALBUM * c * ALBUM,\n",
    "            MelonGraph.Relation.SONG_TO_ARTIST: SONG_TO_ARTIST * c * ARTIST,\n",
    "            MelonGraph.Relation.SONG_TO_ARTIST_DETAILED_GENRE: SONG_TO_ARTIST_DETAILED_GENRE * c * ARTIST_DETAILED_GENRE,\n",
    "            MelonGraph.Relation.SONG_TO_ARTIST_GENRE: SONG_TO_ARTIST_GENRE * c * ARTIST_GENRE,\n",
    "            MelonGraph.Relation.SONG_TO_DETAILED_GENRE: SONG_TO_DETAILED_GENRE * c * DETAILED_GENRE,\n",
    "            MelonGraph.Relation.SONG_TO_GENRE: SONG_TO_GENRE * c * GENRE,\n",
    "            MelonGraph.Relation.SONG_TO_MONTH: SONG_TO_MONTH * c * MONTH,\n",
    "            MelonGraph.Relation.SONG_TO_PLAYLIST: SONG_TO_PLAYLIST * c * PLAYLIST,\n",
    "            MelonGraph.Relation.SONG_TO_YEAR: SONG_TO_YEAR * c * YEAR,\n",
    "            MelonGraph.Relation.TAG_TO_PLAYLIST: TAG_TO_PLAYLIST * c * PLAYLIST,\n",
    "            MelonGraph.Relation.TAG_TO_WORD: TAG_TO_WORD * c * WORD,\n",
    "            MelonGraph.Relation.WORD_TO_ALBUM: WORD_TO_ALBUM * c * ALBUM,\n",
    "            MelonGraph.Relation.WORD_TO_ARTIST: WORD_TO_ARTIST * c * ARTIST,\n",
    "            MelonGraph.Relation.WORD_TO_PLAYLIST: WORD_TO_PLAYLIST * c * PLAYLIST,\n",
    "            MelonGraph.Relation.WORD_TO_TAG: WORD_TO_TAG * c * TAG,\n",
    "            MelonGraph.Relation.YEAR_TO_SONG: YEAR_TO_SONG * c * SONG,\n",
    "        },\n",
    "        'song_relation_weight': None,\n",
    "        'tag_relation_weight': None,\n",
    "    }\n",
    "\n",
    "    recommender.set_params(**params)\n",
    "    results = recommender.predict(questions, jobs, verbose=False)\n",
    "\n",
    "    (total_music_ndcgs, total_tag_ndcgs, total_scores,\n",
    "     case_music_ndcgs, case_tag_ndcgs, case_scores) = evaluator._eval(results, questions, answers)\n",
    "\n",
    "#     if score == 'songs':\n",
    "#         return mean(total_music_ndcgs)\n",
    "#     elif score == 'tags':\n",
    "#         return mean(total_tag_ndcgs)\n",
    "#     elif score == 'total':\n",
    "#         return mean(total_scores)\n",
    "#     else:\n",
    "#         raise Exception(f\"Wrong parameter - score: {score}\")\n",
    "    s = get_scores(total_music_ndcgs, total_tag_ndcgs, total_scores, case_music_ndcgs, case_tag_ndcgs, case_scores)\n",
    "    scores = {\n",
    "        'al_songs': s['total']['music_ndcg'],\n",
    "        'al_tags':  s['total']['tag_ndcg'],\n",
    "        'al_score': s['total']['score'],\n",
    "        'st_songs': s['SONG_TAG']['music_ndcg'],\n",
    "        'st_tags':  s['SONG_TAG']['tag_ndcg'],\n",
    "        'st_score': s['SONG_TAG']['score'],\n",
    "        'tt_songs': s['TAG_TITLE']['music_ndcg'],\n",
    "        'tt_tags':  s['TAG_TITLE']['tag_ndcg'],\n",
    "        'tt_score': s['TAG_TITLE']['score'],\n",
    "        'so_songs': s['SONG_ONLY']['music_ndcg'],\n",
    "        'so_tags':  s['SONG_ONLY']['tag_ndcg'],\n",
    "        'so_score': s['SONG_ONLY']['score'],\n",
    "        'to_songs': s['TITLE_ONLY']['music_ndcg'],\n",
    "        'to_tags':  s['TITLE_ONLY']['tag_ndcg'],\n",
    "        'to_score': s['TITLE_ONLY']['score'],\n",
    "    }\n",
    "    return scores\n",
    "\n",
    "\n",
    "def generate_optimizer(questions, answers, score='total', jobs=1):\n",
    "    func_fixed = partial(opt_func, questions=questions, answers=answers, score=score, jobs=jobs)\n",
    "\n",
    "    opt = RandomSearchOptimizer(\n",
    "        func_fixed, \n",
    "        {\n",
    "            'max_depth': (4, 4),\n",
    "            'c': (0, 1),\n",
    "            'ALBUM': (0, 1),\n",
    "            'ARTIST': (0, 1),\n",
    "            'ARTIST_GENRE': (0, 1),\n",
    "            'ARTIST_DETAILED_GENRE': (0, 1),\n",
    "            'DETAILED_GENRE': (0, 1),\n",
    "            'GENRE': (0, 1),\n",
    "            'MONTH': (0, 0),\n",
    "            'PLAYLIST': (0, 1),\n",
    "            'SONG': (0, 1),\n",
    "            'TAG': (0, 1),\n",
    "            'WORD': (0, 1),\n",
    "            'YEAR': (0, 1),\n",
    "            'ALBUM_TO_SONG': (0, 1),\n",
    "            'ALBUM_TO_WORD': (0, 1),\n",
    "            'ARTIST_TO_SONG': (0, 1),\n",
    "            'ARTIST_TO_WORD': (0, 1),\n",
    "            'ARTIST_GENRE_TO_SONG': (0, 1),\n",
    "            'GENRE_TO_SONG': (0, 1),\n",
    "            'MONTH_TO_SONG': (0, 1),\n",
    "            'PLAYLIST_TO_SONG': (0, 1),\n",
    "            'PLAYLIST_TO_TAG': (0, 1),\n",
    "            'PLAYLIST_TO_WORD': (0, 1),\n",
    "            'SONG_TO_ALBUM': (0, 1),\n",
    "            'SONG_TO_ARTIST': (0, 1),\n",
    "            'SONG_TO_ARTIST_DETAILED_GENRE': (0, 1),\n",
    "            'SONG_TO_ARTIST_GENRE': (0, 1),\n",
    "            'SONG_TO_DETAILED_GENRE': (0, 0),\n",
    "            'SONG_TO_GENRE': (0, 0),\n",
    "            'SONG_TO_MONTH': (0, 1),\n",
    "            'SONG_TO_PLAYLIST': (0, 1),\n",
    "            'SONG_TO_YEAR': (0, 1),\n",
    "            'TAG_TO_PLAYLIST': (0, 1),\n",
    "            'TAG_TO_WORD': (0, 1),\n",
    "            'WORD_TO_ALBUM': (0, 1),\n",
    "            'WORD_TO_ARTIST': (0, 1),\n",
    "            'WORD_TO_PLAYLIST': (0, 1),\n",
    "            'WORD_TO_TAG': (0, 1),\n",
    "            'YEAR_TO_SONG': (0, 1),\n",
    "        }, \n",
    "        seed=1211\n",
    "    )\n",
    "\n",
    "    return opt"
   ]
  },
  {
   "cell_type": "code",
   "execution_count": 12,
   "metadata": {},
   "outputs": [],
   "source": [
    "opt = generate_optimizer(questions, answers, score='songs', jobs=8)"
   ]
  },
  {
   "cell_type": "code",
   "execution_count": null,
   "metadata": {},
   "outputs": [
    {
     "name": "stdout",
     "output_type": "stream",
     "text": [
      "|index     |al_songs  |al_tags   |al_score  |st_songs  |st_tags   |st_score  |tt_songs  |tt_tags   |tt_score  |so_songs  |so_tags   |so_score  |to_songs  |to_tags   |to_score  |max_depth |c         |ALBUM     |ARTIST    |ARTIST_G..|ARTIST_D..|DETAILED..|GENRE     |MONTH     |PLAYLIST  |SONG      |TAG       |WORD      |YEAR      |ALBUM_TO..|ALBUM_TO..|ARTIST_T..|ARTIST_T..|ARTIST_G..|GENRE_TO..|MONTH_TO..|PLAYLIST..|PLAYLIST..|PLAYLIST..|SONG_TO_..|SONG_TO_..|SONG_TO_..|SONG_TO_..|SONG_TO_..|SONG_TO_..|SONG_TO_..|SONG_TO_..|SONG_TO_..|TAG_TO_P..|TAG_TO_W..|WORD_TO_..|WORD_TO_..|WORD_TO_..|WORD_TO_..|YEAR_TO_..|\n",
      "===============================================================================================================================================================================================================================================================================================================================================================================================================================================================================\n",
      "|index     |al_songs  |al_tags   |al_score  |st_songs  |st_tags   |st_score  |tt_songs  |tt_tags   |tt_score  |so_songs  |so_tags   |so_score  |to_songs  |to_tags   |to_score  |max_depth |c         |ALBUM     |ARTIST    |ARTIST_G..|ARTIST_D..|DETAILED..|GENRE     |MONTH     |PLAYLIST  |SONG      |TAG       |WORD      |YEAR      |ALBUM_TO..|ALBUM_TO..|ARTIST_T..|ARTIST_T..|ARTIST_G..|GENRE_TO..|MONTH_TO..|PLAYLIST..|PLAYLIST..|PLAYLIST..|SONG_TO_..|SONG_TO_..|SONG_TO_..|SONG_TO_..|SONG_TO_..|SONG_TO_..|SONG_TO_..|SONG_TO_..|SONG_TO_..|TAG_TO_P..|TAG_TO_W..|WORD_TO_..|WORD_TO_..|WORD_TO_..|WORD_TO_..|YEAR_TO_..|\n",
      "===============================================================================================================================================================================================================================================================================================================================================================================================================================================================================\n",
      "|         0|0.2721758080194915|0.41989949321106634|0.2943343607982277|0.30895712120554975|0.4330878586131842|0.32757673181669494|0.10581278295732066|0.5211072049121162|0.16810694625053998|0.3246445701416884|0.4057459437592529|0.33680977618432306|0.07294798959781257|0.28141268842252853|0.10421769442151996|    4.0000|    0.1400|    0.9285|    0.9973|    0.6848|    0.6720|    0.8126|    0.7685|    0.0000|    0.8673|    0.1994|    0.7074|    0.8496|    0.5592|    0.8935|    0.2256|    0.3540|    0.6941|    0.7641|    0.6556|    0.4350|    0.8593|    0.2184|    0.5899|    0.3697|    0.9877|    0.7664|    0.3964|    0.0000|    0.0000|    0.9725|    0.2243|    0.2995|    0.5206|    0.3489|    0.3803|    0.2635|    0.3116|    0.1755|    0.6945|\n",
      "|         1|0.23333391655489535|0.4519483914850817|0.2661260877944233|0.2701061683295425|0.4258046184616096|0.29346093584935257|0.09267053819444558|0.46373065224421467|0.14832955530191094|0.27083413578435817|0.503320046971458|0.30570702246242315|0.07573967177444989|0.27754732772889573|0.10601082016761676|    4.0000|    0.4678|    0.4927|    0.2083|    0.5757|    0.8449|    0.1822|    0.7081|    0.0000|    0.4641|    0.1009|    0.8128|    0.7186|    0.5476|    0.2444|    0.4092|    0.0384|    0.6960|    0.4819|    0.2761|    0.5129|    0.2172|    0.6122|    0.8717|    0.8511|    0.4619|    0.3751|    0.4694|    0.0000|    0.0000|    0.5451|    0.9314|    0.9703|    0.8723|    0.2192|    0.8346|    0.3403|    0.8904|    0.0202|    0.7620|\n",
      "|         2|0.1975269502342311|0.4340578757484167|0.23300658906135893|0.19745545177801807|0.414550705902143|0.2300197398966368|0.08506568152645633|0.41605745369536523|0.13471444735179267|0.2524122630494002|0.48368992478064465|0.28710391230908683|0.07308975249726295|0.2837709494686577|0.10469193204297217|    4.0000|    0.9053|    0.2688|    0.2116|    0.9949|    0.9094|    0.5632|    0.5817|    0.0000|    0.8295|    0.5363|    0.0381|    0.9187|    0.6168|    0.1367|    0.2793|    0.1917|    0.6113|    0.4142|    0.6157|    0.6333|    0.7524|    0.8454|    0.9082|    0.3429|    0.5366|    0.4484|    0.3464|    0.0000|    0.0000|    0.9463|    0.0951|    0.2455|    0.9279|    0.4201|    0.5947|    0.9580|    0.9868|    0.3531|    0.7502|\n",
      "|         3|0.0998531096796619|0.31214280544294615|0.13169656404415453|0.1107853314807621|0.34133310828111657|0.14536749800081528|0.053013780257295716|0.33101322212182055|0.09471369653697444|0.11193432809184618|0.3011497453205192|0.14031664067614713|0.055613541669024776|0.20816466503313152|0.07849621017364079|    4.0000|    0.8023|    0.5255|    0.2561|    0.9319|    0.8341|    0.4347|    0.6338|    0.0000|    0.2298|    0.5352|    0.4694|    0.6241|    0.9221|    0.6883|    0.7331|    0.7064|    0.0737|    0.1553|    0.3144|    0.2267|    0.9255|    0.5983|    0.6485|    0.6633|    0.5955|    0.8991|    0.4475|    0.0000|    0.0000|    0.5539|    0.0235|    0.5707|    0.4399|    0.0958|    0.4169|    0.1509|    0.1654|    0.5031|    0.9877|\n",
      "|         4|0.16798628551013153|0.3434808630855802|0.19431047214644884|0.19748511823356743|0.28512604525028934|0.2106312572860757|0.027318407955001997|0.2425862671265697|0.05960858683073715|0.2005291660047426|0.44572518066971656|0.23730856820448867|0.07064638396289497|0.2147254791148533|0.09225824823568872|    4.0000|    0.6038|    0.4711|    0.8807|    0.6076|    0.6426|    0.4133|    0.4515|    0.0000|    0.1597|    0.4471|    0.0831|    0.9623|    0.7861|    0.4599|    0.9501|    0.8156|    0.0741|    0.9192|    0.9745|    0.9292|    0.4058|    0.2874|    0.1271|    0.6138|    0.1085|    0.3628|    0.3049|    0.0000|    0.0000|    0.2513|    0.5505|    0.4410|    0.2533|    0.8196|    0.9738|    0.9297|    0.5312|    0.1739|    0.6596|\n",
      "|         5|0.24198150158669363|0.45168486351207626|0.273437005875501|0.27424905241728775|0.43002627092321405|0.2976156351931767|0.10420580814593582|0.4616457956935038|0.15782180627807102|0.28228068852197435|0.48941469982199187|0.313350790216977|0.0856636625609864|0.3329317541920719|0.12275387630564921|    4.0000|    0.4978|    0.9820|    0.3408|    0.0042|    0.6292|    0.7701|    0.9720|    0.0000|    0.8187|    0.4823|    0.0548|    0.6258|    0.8231|    0.9993|    0.7107|    0.1308|    0.1233|    0.6075|    0.0215|    0.5046|    0.6629|    0.8712|    0.1653|    0.2697|    0.8564|    0.0613|    0.4176|    0.0000|    0.0000|    0.5960|    0.3055|    0.4998|    0.4462|    0.3202|    0.3127|    0.6805|    0.7279|    0.2386|    0.7142|\n"
     ]
    }
   ],
   "source": [
    "%%log_cell\n",
    "opt.print_records()\n",
    "opt.run(200)"
   ]
  },
  {
   "cell_type": "code",
   "execution_count": 77,
   "metadata": {},
   "outputs": [],
   "source": [
    "import numpy as np\n",
    "from functools import partial\n",
    "from random_search_optimizer import RandomSearchOptimizer\n",
    "from statistics import mean\n",
    "\n",
    "\n",
    "def opt_func(\n",
    "        questions, answers,\n",
    "        max_depth,\n",
    "        c,\n",
    "        ALBUM,\n",
    "        ARTIST,\n",
    "        ARTIST_GENRE,\n",
    "        ARTIST_DETAILED_GENRE,\n",
    "        DETAILED_GENRE,\n",
    "        GENRE,\n",
    "        MONTH,\n",
    "        PLAYLIST,\n",
    "        SONG,\n",
    "        TAG,\n",
    "        WORD,\n",
    "        YEAR,\n",
    "        ALBUM_TO_SONG,\n",
    "        ALBUM_TO_WORD,\n",
    "        ARTIST_TO_SONG,\n",
    "        ARTIST_TO_WORD,\n",
    "        ARTIST_GENRE_TO_SONG,\n",
    "        GENRE_TO_SONG,\n",
    "        MONTH_TO_SONG,\n",
    "        PLAYLIST_TO_SONG,\n",
    "        PLAYLIST_TO_TAG,\n",
    "        PLAYLIST_TO_WORD,\n",
    "        SONG_TO_ALBUM,\n",
    "        SONG_TO_ARTIST,\n",
    "        SONG_TO_ARTIST_DETAILED_GENRE,\n",
    "        SONG_TO_ARTIST_GENRE,\n",
    "        SONG_TO_DETAILED_GENRE,\n",
    "        SONG_TO_GENRE,\n",
    "        SONG_TO_MONTH,\n",
    "        SONG_TO_PLAYLIST,\n",
    "        SONG_TO_YEAR,\n",
    "        TAG_TO_PLAYLIST,\n",
    "        TAG_TO_WORD,\n",
    "        WORD_TO_ALBUM,\n",
    "        WORD_TO_ARTIST,\n",
    "        WORD_TO_PLAYLIST,\n",
    "        WORD_TO_TAG,\n",
    "        YEAR_TO_SONG,\n",
    "        score='total',\n",
    "        jobs=1,\n",
    "    ):\n",
    "    params = {\n",
    "        'max_songs': 100,\n",
    "        'max_tags': 10,\n",
    "        'max_depth': int(max_depth),\n",
    "        'relation_weight': {\n",
    "            MelonGraph.Relation.ALBUM_TO_SONG: ALBUM_TO_SONG * c * SONG,\n",
    "            MelonGraph.Relation.ALBUM_TO_WORD: ALBUM_TO_WORD * c * WORD,\n",
    "            MelonGraph.Relation.ARTIST_TO_SONG: ARTIST_TO_SONG * c * SONG,\n",
    "            MelonGraph.Relation.ARTIST_TO_WORD: ARTIST_TO_WORD * c * WORD,\n",
    "            MelonGraph.Relation.ARTIST_GENRE_TO_SONG: ARTIST_GENRE_TO_SONG * c * SONG,\n",
    "            MelonGraph.Relation.GENRE_TO_SONG: GENRE_TO_SONG * c * SONG,\n",
    "            MelonGraph.Relation.MONTH_TO_SONG: MONTH_TO_SONG * c * SONG,\n",
    "            MelonGraph.Relation.PLAYLIST_TO_SONG: PLAYLIST_TO_SONG * c * SONG,\n",
    "            MelonGraph.Relation.PLAYLIST_TO_TAG: PLAYLIST_TO_TAG * c * TAG,\n",
    "            MelonGraph.Relation.PLAYLIST_TO_WORD: PLAYLIST_TO_WORD * c * WORD,\n",
    "            MelonGraph.Relation.SONG_TO_ALBUM: SONG_TO_ALBUM * c * ALBUM,\n",
    "            MelonGraph.Relation.SONG_TO_ARTIST: SONG_TO_ARTIST * c * ARTIST,\n",
    "            MelonGraph.Relation.SONG_TO_ARTIST_DETAILED_GENRE: SONG_TO_ARTIST_DETAILED_GENRE * c * ARTIST_DETAILED_GENRE,\n",
    "            MelonGraph.Relation.SONG_TO_ARTIST_GENRE: SONG_TO_ARTIST_GENRE * c * ARTIST_GENRE,\n",
    "            MelonGraph.Relation.SONG_TO_DETAILED_GENRE: SONG_TO_DETAILED_GENRE * c * DETAILED_GENRE,\n",
    "            MelonGraph.Relation.SONG_TO_GENRE: SONG_TO_GENRE * c * GENRE,\n",
    "            MelonGraph.Relation.SONG_TO_MONTH: SONG_TO_MONTH * c * MONTH,\n",
    "            MelonGraph.Relation.SONG_TO_PLAYLIST: SONG_TO_PLAYLIST * c * PLAYLIST,\n",
    "            MelonGraph.Relation.SONG_TO_YEAR: SONG_TO_YEAR * c * YEAR,\n",
    "            MelonGraph.Relation.TAG_TO_PLAYLIST: TAG_TO_PLAYLIST * c * PLAYLIST,\n",
    "            MelonGraph.Relation.TAG_TO_WORD: TAG_TO_WORD * c * WORD,\n",
    "            MelonGraph.Relation.WORD_TO_ALBUM: WORD_TO_ALBUM * c * ALBUM,\n",
    "            MelonGraph.Relation.WORD_TO_ARTIST: WORD_TO_ARTIST * c * ARTIST,\n",
    "            MelonGraph.Relation.WORD_TO_PLAYLIST: WORD_TO_PLAYLIST * c * PLAYLIST,\n",
    "            MelonGraph.Relation.WORD_TO_TAG: WORD_TO_TAG * c * TAG,\n",
    "            MelonGraph.Relation.YEAR_TO_SONG: YEAR_TO_SONG * c * SONG,\n",
    "        },\n",
    "        'song_relation_weight': None,\n",
    "        'tag_relation_weight': None,\n",
    "    }\n",
    "\n",
    "    recommender.set_params(**params)\n",
    "    results = recommender.predict(questions, jobs, verbose=False)\n",
    "\n",
    "    (total_music_ndcgs, total_tag_ndcgs, total_scores,\n",
    "     case_music_ndcgs, case_tag_ndcgs, case_scores) = evaluator._eval(results, questions, answers)\n",
    "\n",
    "    if score == 'songs':\n",
    "        return mean(total_music_ndcgs)\n",
    "    elif score == 'tags':\n",
    "        return mean(total_tag_ndcgs)\n",
    "    elif score == 'total':\n",
    "        return mean(total_scores)\n",
    "    else:\n",
    "        raise Exception(f\"Wrong parameter - score: {score}\")\n",
    "\n",
    "\n",
    "def generate_optimizer(questions, answers, score='total', jobs=1):\n",
    "    func_fixed = partial(opt_func, questions=questions, answers=answers, score=score, jobs=jobs)\n",
    "\n",
    "    opt = RandomSearchOptimizer(\n",
    "        func_fixed, \n",
    "        {\n",
    "            'max_depth': (4, 4),\n",
    "            'c': (0.2, 0.2),\n",
    "            'ALBUM': 0.2,\n",
    "            'ARTIST': 0.5,\n",
    "            'ARTIST_GENRE': 0.1,\n",
    "            'ARTIST_DETAILED_GENRE': 0,\n",
    "            'DETAILED_GENRE': 0.2,\n",
    "            'GENRE': 0.3,\n",
    "            'MONTH': 0,\n",
    "            'PLAYLIST': 0.3,\n",
    "            'SONG': 0.45,\n",
    "            'TAG': 0.16,\n",
    "            'WORD': 0.8,\n",
    "            'YEAR': 0.9,\n",
    "            'ALBUM_TO_SONG': (0, 1),\n",
    "            'ALBUM_TO_WORD': (0, 1),\n",
    "            'ARTIST_TO_SONG': (0, 1),\n",
    "            'ARTIST_TO_WORD': (0, 1),\n",
    "            'ARTIST_GENRE_TO_SONG': (0, 1),\n",
    "            'GENRE_TO_SONG': (0, 1),\n",
    "            'MONTH_TO_SONG': (0, 1),\n",
    "            'PLAYLIST_TO_SONG': (0, 1),\n",
    "            'PLAYLIST_TO_TAG': (0, 1),\n",
    "            'PLAYLIST_TO_WORD': (0, 1),\n",
    "            'SONG_TO_ALBUM': (0, 1),\n",
    "            'SONG_TO_ARTIST': (0, 1),\n",
    "            'SONG_TO_ARTIST_DETAILED_GENRE': (0, 1),\n",
    "            'SONG_TO_ARTIST_GENRE': (0, 1),\n",
    "            'SONG_TO_DETAILED_GENRE': 0,\n",
    "            'SONG_TO_GENRE': 0,\n",
    "            'SONG_TO_MONTH': 1,\n",
    "            'SONG_TO_PLAYLIST': (0, 1),\n",
    "            'SONG_TO_YEAR': 1,\n",
    "            'TAG_TO_PLAYLIST': (0, 1),\n",
    "            'TAG_TO_WORD': (0, 1),\n",
    "            'WORD_TO_ALBUM': (0, 1),\n",
    "            'WORD_TO_ARTIST': (0, 1),\n",
    "            'WORD_TO_PLAYLIST': (0, 1),\n",
    "            'WORD_TO_TAG': (0, 1),\n",
    "            'YEAR_TO_SONG': (0, 1),\n",
    "        }, \n",
    "        seed=1211\n",
    "    )\n",
    "\n",
    "    return opt"
   ]
  },
  {
   "cell_type": "code",
   "execution_count": 88,
   "metadata": {},
   "outputs": [],
   "source": [
    "import numpy as np\n",
    "from functools import partial\n",
    "from random_search_optimizer import RandomSearchOptimizer\n",
    "from statistics import mean\n",
    "\n",
    "\n",
    "def opt_func(\n",
    "        questions, answers,\n",
    "        max_depth,\n",
    "        c,\n",
    "        ALBUM,\n",
    "        ARTIST,\n",
    "        ARTIST_GENRE,\n",
    "        ARTIST_DETAILED_GENRE,\n",
    "        DETAILED_GENRE,\n",
    "        GENRE,\n",
    "        MONTH,\n",
    "        PLAYLIST,\n",
    "        SONG,\n",
    "        TAG,\n",
    "        WORD,\n",
    "        YEAR,\n",
    "        ALBUM_TO_SONG,\n",
    "        ALBUM_TO_WORD,\n",
    "        ARTIST_TO_SONG,\n",
    "        ARTIST_TO_WORD,\n",
    "        ARTIST_GENRE_TO_SONG,\n",
    "        GENRE_TO_SONG,\n",
    "        MONTH_TO_SONG,\n",
    "        PLAYLIST_TO_SONG,\n",
    "        PLAYLIST_TO_TAG,\n",
    "        PLAYLIST_TO_WORD,\n",
    "        SONG_TO_ALBUM,\n",
    "        SONG_TO_ARTIST,\n",
    "        SONG_TO_ARTIST_DETAILED_GENRE,\n",
    "        SONG_TO_ARTIST_GENRE,\n",
    "        SONG_TO_DETAILED_GENRE,\n",
    "        SONG_TO_GENRE,\n",
    "        SONG_TO_MONTH,\n",
    "        SONG_TO_PLAYLIST,\n",
    "        SONG_TO_YEAR,\n",
    "        TAG_TO_PLAYLIST,\n",
    "        TAG_TO_WORD,\n",
    "        WORD_TO_ALBUM,\n",
    "        WORD_TO_ARTIST,\n",
    "        WORD_TO_PLAYLIST,\n",
    "        WORD_TO_TAG,\n",
    "        YEAR_TO_SONG,\n",
    "        score='total',\n",
    "        jobs=1,\n",
    "    ):\n",
    "    params = {\n",
    "        'max_songs': 100,\n",
    "        'max_tags': 10,\n",
    "        'max_depth': int(max_depth),\n",
    "        'relation_weight': {\n",
    "            MelonGraph.Relation.ALBUM_TO_SONG: ALBUM_TO_SONG * c * SONG,\n",
    "            MelonGraph.Relation.ALBUM_TO_WORD: ALBUM_TO_WORD * c * WORD,\n",
    "            MelonGraph.Relation.ARTIST_TO_SONG: ARTIST_TO_SONG * c * SONG,\n",
    "            MelonGraph.Relation.ARTIST_TO_WORD: ARTIST_TO_WORD * c * WORD,\n",
    "            MelonGraph.Relation.ARTIST_GENRE_TO_SONG: ARTIST_GENRE_TO_SONG * c * SONG,\n",
    "            MelonGraph.Relation.GENRE_TO_SONG: GENRE_TO_SONG * c * SONG,\n",
    "            MelonGraph.Relation.MONTH_TO_SONG: MONTH_TO_SONG * c * SONG,\n",
    "            MelonGraph.Relation.PLAYLIST_TO_SONG: PLAYLIST_TO_SONG * c * SONG,\n",
    "            MelonGraph.Relation.PLAYLIST_TO_TAG: PLAYLIST_TO_TAG * c * TAG,\n",
    "            MelonGraph.Relation.PLAYLIST_TO_WORD: PLAYLIST_TO_WORD * c * WORD,\n",
    "            MelonGraph.Relation.SONG_TO_ALBUM: SONG_TO_ALBUM * c * ALBUM,\n",
    "            MelonGraph.Relation.SONG_TO_ARTIST: SONG_TO_ARTIST * c * ARTIST,\n",
    "            MelonGraph.Relation.SONG_TO_ARTIST_DETAILED_GENRE: SONG_TO_ARTIST_DETAILED_GENRE * c * ARTIST_DETAILED_GENRE,\n",
    "            MelonGraph.Relation.SONG_TO_ARTIST_GENRE: SONG_TO_ARTIST_GENRE * c * ARTIST_GENRE,\n",
    "            MelonGraph.Relation.SONG_TO_DETAILED_GENRE: SONG_TO_DETAILED_GENRE * c * DETAILED_GENRE,\n",
    "            MelonGraph.Relation.SONG_TO_GENRE: SONG_TO_GENRE * c * GENRE,\n",
    "            MelonGraph.Relation.SONG_TO_MONTH: SONG_TO_MONTH * c * MONTH,\n",
    "            MelonGraph.Relation.SONG_TO_PLAYLIST: SONG_TO_PLAYLIST * c * PLAYLIST,\n",
    "            MelonGraph.Relation.SONG_TO_YEAR: SONG_TO_YEAR * c * YEAR,\n",
    "            MelonGraph.Relation.TAG_TO_PLAYLIST: TAG_TO_PLAYLIST * c * PLAYLIST,\n",
    "            MelonGraph.Relation.TAG_TO_WORD: TAG_TO_WORD * c * WORD,\n",
    "            MelonGraph.Relation.WORD_TO_ALBUM: WORD_TO_ALBUM * c * ALBUM,\n",
    "            MelonGraph.Relation.WORD_TO_ARTIST: WORD_TO_ARTIST * c * ARTIST,\n",
    "            MelonGraph.Relation.WORD_TO_PLAYLIST: WORD_TO_PLAYLIST * c * PLAYLIST,\n",
    "            MelonGraph.Relation.WORD_TO_TAG: WORD_TO_TAG * c * TAG,\n",
    "            MelonGraph.Relation.YEAR_TO_SONG: YEAR_TO_SONG * c * SONG,\n",
    "        },\n",
    "        'song_relation_weight': None,\n",
    "        'tag_relation_weight': None,\n",
    "    }\n",
    "\n",
    "    recommender.set_params(**params)\n",
    "    results = recommender.predict(questions, jobs, verbose=False)\n",
    "\n",
    "    (total_music_ndcgs, total_tag_ndcgs, total_scores,\n",
    "     case_music_ndcgs, case_tag_ndcgs, case_scores) = evaluator._eval(results, questions, answers)\n",
    "\n",
    "    if score == 'songs':\n",
    "        return mean(total_music_ndcgs)\n",
    "    elif score == 'tags':\n",
    "        return mean(total_tag_ndcgs)\n",
    "    elif score == 'total':\n",
    "        return mean(total_scores)\n",
    "    else:\n",
    "        raise Exception(f\"Wrong parameter - score: {score}\")\n",
    "\n",
    "\n",
    "def generate_optimizer(questions, answers, score='total', jobs=1):\n",
    "    func_fixed = partial(opt_func, questions=questions, answers=answers, score=score, jobs=jobs)\n",
    "\n",
    "    opt = RandomSearchOptimizer(\n",
    "        func_fixed, \n",
    "        {\n",
    "            'max_depth': (4, 4),\n",
    "            'c': 1,\n",
    "            'ALBUM': 1,\n",
    "            'ARTIST': 1,\n",
    "            'ARTIST_GENRE': 1,\n",
    "            'ARTIST_DETAILED_GENRE': 1,\n",
    "            'DETAILED_GENRE': 1,\n",
    "            'GENRE': 1,\n",
    "            'MONTH': 1,\n",
    "            'PLAYLIST': 1,\n",
    "            'SONG': 1,\n",
    "            'TAG': 1,\n",
    "            'WORD': 1,\n",
    "            'YEAR': 1,\n",
    "            'ALBUM_TO_SONG': (0.01, 0.01),\n",
    "            'ALBUM_TO_WORD': (0, 0),\n",
    "            'ARTIST_TO_SONG': (0.009, 0.009),\n",
    "            'ARTIST_TO_WORD': (0.01, 0.01),\n",
    "            'ARTIST_GENRE_TO_SONG': (0.01, 0.01),\n",
    "            'GENRE_TO_SONG': (0.01, 0.01),\n",
    "            'MONTH_TO_SONG': (0, 0),\n",
    "            'PLAYLIST_TO_SONG': (0.01, 0.01),\n",
    "            'PLAYLIST_TO_TAG': (0.025, 0.025),\n",
    "            'PLAYLIST_TO_WORD': (0.025, 0.025),\n",
    "            'SONG_TO_ALBUM': (0.015, 0.015),\n",
    "            'SONG_TO_ARTIST': (0.02, 0.02),\n",
    "            'SONG_TO_ARTIST_DETAILED_GENRE': (0.0005, 0.0005),\n",
    "            'SONG_TO_ARTIST_GENRE': (0, 0),\n",
    "            'SONG_TO_DETAILED_GENRE': (0, 0),\n",
    "            'SONG_TO_GENRE': (0, 0),\n",
    "            'SONG_TO_MONTH': (0, 0),\n",
    "            'SONG_TO_PLAYLIST': (0.0075, 0.0075),\n",
    "            'SONG_TO_YEAR': (0, 0),\n",
    "            'TAG_TO_PLAYLIST': (0.01, 0.01),\n",
    "            'TAG_TO_WORD': (0.01, 0.01),\n",
    "            'WORD_TO_ALBUM': (0, 0),\n",
    "            'WORD_TO_ARTIST': (0.01, 0.01),\n",
    "            'WORD_TO_PLAYLIST': (0.01, 0.01),\n",
    "            'WORD_TO_TAG': (0.001, 0.001),\n",
    "            'YEAR_TO_SONG': (0, 0),\n",
    "        }, \n",
    "        seed=1211\n",
    "    )\n",
    "\n",
    "    return opt"
   ]
  },
  {
   "cell_type": "code",
   "execution_count": 89,
   "metadata": {},
   "outputs": [],
   "source": [
    "opt = generate_optimizer(questions, answers, score='songs', jobs=8)"
   ]
  },
  {
   "cell_type": "code",
   "execution_count": 90,
   "metadata": {},
   "outputs": [
    {
     "name": "stdout",
     "output_type": "stream",
     "text": [
      "|index     |target    |max_depth |c         |ALBUM     |ARTIST    |ARTIST_G..|ARTIST_D..|DETAILED..|GENRE     |MONTH     |PLAYLIST  |SONG      |TAG       |WORD      |YEAR      |ALBUM_TO..|ALBUM_TO..|ARTIST_T..|ARTIST_T..|ARTIST_G..|GENRE_TO..|MONTH_TO..|PLAYLIST..|PLAYLIST..|PLAYLIST..|SONG_TO_..|SONG_TO_..|SONG_TO_..|SONG_TO_..|SONG_TO_..|SONG_TO_..|SONG_TO_..|SONG_TO_..|SONG_TO_..|TAG_TO_P..|TAG_TO_W..|WORD_TO_..|WORD_TO_..|WORD_TO_..|WORD_TO_..|YEAR_TO_..|\n",
      "===============================================================================================================================================================================================================================================================================================================================================================================================================================================================================\n",
      "|         0|0.28382593818505314|    4.0000|    1.0000|    1.0000|    1.0000|    1.0000|    1.0000|    1.0000|    1.0000|    1.0000|    1.0000|    1.0000|    1.0000|    1.0000|    1.0000|    0.0100|    0.0000|    0.0090|    0.0100|    0.0100|    0.0100|    0.0000|    0.0100|    0.0250|    0.0250|    0.0150|    0.0200|    0.0005|    0.0000|    0.0000|    0.0000|    0.0000|    0.0075|    0.0000|    0.0100|    0.0100|    0.0000|    0.0100|    0.0100|    0.0010|    0.0000|\n"
     ]
    }
   ],
   "source": [
    "%%log_cell\n",
    "opt.run(1)"
   ]
  },
  {
   "cell_type": "code",
   "execution_count": null,
   "metadata": {},
   "outputs": [],
   "source": []
  }
 ],
 "metadata": {
  "kernelspec": {
   "display_name": "Python [conda env:playground]",
   "language": "python",
   "name": "conda-env-playground-py"
  },
  "language_info": {
   "codemirror_mode": {
    "name": "ipython",
    "version": 3
   },
   "file_extension": ".py",
   "mimetype": "text/x-python",
   "name": "python",
   "nbconvert_exporter": "python",
   "pygments_lexer": "ipython3",
   "version": "3.7.6"
  }
 },
 "nbformat": 4,
 "nbformat_minor": 4
}
