{
 "cells": [
  {
   "cell_type": "markdown",
   "metadata": {},
   "source": [
    "# Development Environment"
   ]
  },
  {
   "cell_type": "markdown",
   "metadata": {},
   "source": [
    "## Execution"
   ]
  },
  {
   "cell_type": "code",
   "execution_count": 1,
   "metadata": {
    "tags": []
   },
   "outputs": [
    {
     "output_type": "stream",
     "name": "stdout",
     "text": "Reading data...\n\nTotal playlists: 115071\nSplitting data...\nGenerating questions...\nALL: 0, SONG_TAG: 8687, SONG_TITLE: 0, TAG_TITLE: 2762, SONG_ONLY: 9954, TAG_ONLY: 0, TITLE_ONLY: 1611, NOTHING: 0\n"
    }
   ],
   "source": [
    "!python split_data.py run res/train.json --ratio=0.2 --suffix=\"02\""
   ]
  },
  {
   "cell_type": "code",
   "execution_count": 2,
   "metadata": {
    "tags": []
   },
   "outputs": [
    {
     "output_type": "stream",
     "name": "stdout",
     "text": "Reading data...\n\nTotal playlists: 115071\nSplitting data...\nGenerating questions...\nALL: 0, SONG_TAG: 87, SONG_TITLE: 0, TAG_TITLE: 27, SONG_ONLY: 99, TAG_ONLY: 0, TITLE_ONLY: 17, NOTHING: 0\n"
    }
   ],
   "source": [
    "!python split_data.py run res/train.json --ratio=0.002 --suffix=\"0002\""
   ]
  },
  {
   "cell_type": "code",
   "execution_count": 3,
   "metadata": {
    "tags": []
   },
   "outputs": [
    {
     "output_type": "stream",
     "name": "stdout",
     "text": "Reading data...\n\nTotal playlists: 115071\nSplitting data...\nGenerating questions...\nALL: 0, SONG_TAG: 43, SONG_TITLE: 0, TAG_TITLE: 13, SONG_ONLY: 50, TAG_ONLY: 0, TITLE_ONLY: 9, NOTHING: 0\n"
    }
   ],
   "source": [
    "!python split_data.py run res/train.json --ratio=0.001 --suffix=\"0001\""
   ]
  },
  {
   "cell_type": "code",
   "execution_count": null,
   "metadata": {},
   "outputs": [],
   "source": [
    "# 자가 테스트용\n",
    "!python grape_recommender.py run \\\n",
    "    --song_meta_fname=res/song_meta.json \\\n",
    "    --genre_fname=res/genre_gn_all.json \\\n",
    "    --train_fname=arena_data/orig/train.json \\\n",
    "    --question_fname=arena_data/questions/val.json"
   ]
  },
  {
   "cell_type": "code",
   "execution_count": null,
   "metadata": {},
   "outputs": [],
   "source": [
    "# 자가 테스트용 채점\n",
    "!python evaluate.py evaluate \\\n",
    "    --gt_fname=arena_data/answers/val.json \\\n",
    "    --rec_fname=arena_data/results/results.json"
   ]
  },
  {
   "cell_type": "code",
   "execution_count": null,
   "metadata": {},
   "outputs": [],
   "source": [
    "# 리더보드 제출용\n",
    "!python grape_recommender.py run \\\n",
    "    --song_meta_fname=res/song_meta.json \\\n",
    "    --genre_fname=res/genre_gn_all.json \\\n",
    "    --train_fname=res/train.json \\\n",
    "    --question_fname=res/val.json"
   ]
  },
  {
   "cell_type": "code",
   "execution_count": null,
   "metadata": {},
   "outputs": [],
   "source": [
    "# 최종 제출용\n",
    "!python grape_recommender.py run \\\n",
    "    --song_meta_fname=res/song_meta.json \\\n",
    "    --genre_fname=res/genre_gn_all.json \\\n",
    "    --train_fname=res/train.json \\\n",
    "    --question_fname=res/test.json"
   ]
  },
  {
   "cell_type": "markdown",
   "metadata": {},
   "source": [
    "## Development"
   ]
  },
  {
   "cell_type": "code",
   "execution_count": 4,
   "metadata": {},
   "outputs": [],
   "source": [
    "%load_ext autoreload\n",
    "%autoreload 2"
   ]
  },
  {
   "cell_type": "code",
   "execution_count": 5,
   "metadata": {},
   "outputs": [],
   "source": [
    "def prepare_data(suffix=''):\n",
    "    if not suffix:\n",
    "        return\n",
    "    import shutil\n",
    "    shutil.copyfile(f\"./arena_data/orig/train{suffix}.json\", \"./arena_data/orig/train.json\")\n",
    "    shutil.copyfile(f\"./arena_data/orig/val{suffix}.json\", \"./arena_data/orig/val.json\")\n",
    "    shutil.copyfile(f\"./arena_data/questions/val{suffix}.json\", \"./arena_data/questions/val.json\")\n",
    "    shutil.copyfile(f\"./arena_data/answers/val{suffix}.json\", \"./arena_data/answers/val.json\")"
   ]
  },
  {
   "cell_type": "code",
   "execution_count": 6,
   "metadata": {},
   "outputs": [],
   "source": [
    "# prepare_data(\"02\")\n",
    "prepare_data(\"0002\")\n",
    "# prepare_data(\"0001\")"
   ]
  },
  {
   "cell_type": "code",
   "execution_count": 7,
   "metadata": {},
   "outputs": [],
   "source": [
    "from utils import read_json\n",
    "from utils import write_json"
   ]
  },
  {
   "cell_type": "code",
   "execution_count": 8,
   "metadata": {},
   "outputs": [],
   "source": [
    "train = read_json('./arena_data/orig/train.json')\n",
    "genre_gn_all = read_json('./res/genre_gn_all.json')\n",
    "song_meta = read_json('./res/song_meta.json')"
   ]
  },
  {
   "cell_type": "code",
   "execution_count": 9,
   "metadata": {
    "tags": []
   },
   "outputs": [
    {
     "output_type": "stream",
     "name": "stderr",
     "text": "Building nodes: 100%|█████████▉| 822830/823084 [00:07<00:00, 114260.55it/s]\nBuilding edges: 100%|██████████| 823084/823084 [00:49<00:00, 16486.97it/s]\nCPU times: user 59.7 s, sys: 1.51 s, total: 1min 1s\nWall time: 1min\n"
    }
   ],
   "source": [
    "%%time\n",
    "import lib.graph\n",
    "%aimport -lib.graph.core\n",
    "%aimport -lib.graph.nodes\n",
    "\n",
    "graph = lib.graph.GraphBuilder().build(song_meta, genre_gn_all, train)"
   ]
  },
  {
   "cell_type": "code",
   "execution_count": 10,
   "metadata": {
    "tags": []
   },
   "outputs": [
    {
     "output_type": "stream",
     "name": "stderr",
     "text": "Caching nodes: 100%|██████████| 1254916/1254916 [00:21<00:00, 57957.74it/s]\nCaching edges: 100%|██████████| 19106852/19106852 [01:24<00:00, 226939.01it/s]\nCaching union nodes: 3822911it [00:54, 69738.03it/s]\nCPU times: user 2min 38s, sys: 3.05 s, total: 2min 41s\nWall time: 2min 40s\n"
    }
   ],
   "source": [
    "%%time\n",
    "import lib.grape\n",
    "from constants import NUM_OF_RECOMMENDED_SONGS\n",
    "from constants import NUM_OF_RECOMMENDED_TAGS\n",
    "\n",
    "grape = lib.grape.Grape(\n",
    "    graph,\n",
    "    NUM_OF_RECOMMENDED_SONGS,\n",
    "    NUM_OF_RECOMMENDED_TAGS,\n",
    ")"
   ]
  },
  {
   "cell_type": "code",
   "execution_count": 11,
   "metadata": {
    "tags": []
   },
   "outputs": [
    {
     "output_type": "stream",
     "name": "stderr",
     "text": "Fitting MostPopular model: 100%|██████████| 114841/114841 [00:10<00:00, 10518.98it/s]\nCPU times: user 11.8 s, sys: 70.6 ms, total: 11.9 s\nWall time: 11.8 s\n"
    },
    {
     "output_type": "execute_result",
     "data": {
      "text/plain": "<lib.grape.grape.Grape at 0x7f4277eabc70>"
     },
     "metadata": {},
     "execution_count": 11
    }
   ],
   "source": [
    "%%time\n",
    "grape.fit(train)"
   ]
  },
  {
   "cell_type": "code",
   "execution_count": 12,
   "metadata": {},
   "outputs": [],
   "source": [
    "questions = read_json('./arena_data/questions/val.json')"
   ]
  },
  {
   "cell_type": "code",
   "execution_count": 13,
   "metadata": {
    "tags": []
   },
   "outputs": [
    {
     "output_type": "stream",
     "name": "stderr",
     "text": "100%|██████████| 230/230 [01:24<00:00,  2.73it/s]\nMusic nDCG: 0.23854\nTag nDCG: 0.40505\nScore: 0.263517\n"
    }
   ],
   "source": [
    "from utils import validate_answers\n",
    "\n",
    "n_questions = 2000\n",
    "# n_questions = 200\n",
    "# n_questions = 100\n",
    "answers = grape.predict_all(questions[:n_questions])\n",
    "validate_answers(answers, questions[:n_questions])\n",
    "write_json(answers, './arena_data/results/results.json')\n",
    "\n",
    "!python evaluate.py evaluate \\\n",
    "    --gt_fname=arena_data/answers/val.json \\\n",
    "    --rec_fname=arena_data/results/results.json"
   ]
  },
  {
   "cell_type": "markdown",
   "metadata": {},
   "source": [
    "## Test"
   ]
  },
  {
   "cell_type": "code",
   "execution_count": null,
   "metadata": {},
   "outputs": [],
   "source": [
    "%%time\n",
    "import lib.graph\n",
    "%aimport -lib.graph.core\n",
    "%aimport  lib.graph.core.graph\n",
    "%aimport -lib.graph.nodes\n",
    "\n",
    "graph = lib.graph.GraphBuilder().build(song_meta[:100], genre_gn_all, [])"
   ]
  },
  {
   "cell_type": "code",
   "execution_count": null,
   "metadata": {},
   "outputs": [],
   "source": [
    "%%time\n",
    "import lib.grape\n",
    "from constants import NUM_OF_RECOMMENDED_SONGS\n",
    "from constants import NUM_OF_RECOMMENDED_TAGS\n",
    "\n",
    "grape = lib.grape.Grape(\n",
    "    graph,\n",
    "    NUM_OF_RECOMMENDED_SONGS,\n",
    "    NUM_OF_RECOMMENDED_TAGS,\n",
    ")"
   ]
  },
  {
   "cell_type": "code",
   "execution_count": null,
   "metadata": {},
   "outputs": [],
   "source": [
    "grape.fit(train)"
   ]
  },
  {
   "cell_type": "code",
   "execution_count": null,
   "metadata": {},
   "outputs": [],
   "source": [
    "questions = read_json('./arena_data/questions/val.json')"
   ]
  },
  {
   "cell_type": "code",
   "execution_count": null,
   "metadata": {},
   "outputs": [],
   "source": [
    "from utils import validate_answers\n",
    "\n",
    "n_questions = 20\n",
    "answers = grape.predict_all(questions[:n_questions])\n",
    "validate_answers(answers, questions[:n_questions])\n",
    "write_json(answers, './arena_data/results/results.json')\n",
    "\n",
    "!python evaluate.py evaluate \\\n",
    "    --gt_fname=arena_data/answers/val.json \\\n",
    "    --rec_fname=arena_data/results/results.json"
   ]
  },
  {
   "cell_type": "markdown",
   "metadata": {},
   "source": [
    "## Playground"
   ]
  },
  {
   "cell_type": "code",
   "execution_count": null,
   "metadata": {},
   "outputs": [],
   "source": []
  }
 ],
 "metadata": {
  "language_info": {
   "codemirror_mode": {
    "name": "ipython",
    "version": 3
   },
   "file_extension": ".py",
   "mimetype": "text/x-python",
   "name": "python",
   "nbconvert_exporter": "python",
   "pygments_lexer": "ipython3",
   "version": 3
  },
  "orig_nbformat": 2,
  "kernelspec": {
   "name": "python_defaultSpec_1594380332073",
   "display_name": "Python 3.8.3 64-bit"
  }
 },
 "nbformat": 4,
 "nbformat_minor": 2
}