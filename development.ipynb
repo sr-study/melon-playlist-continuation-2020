{
 "cells": [
  {
   "cell_type": "markdown",
   "metadata": {},
   "source": [
    "# Development Environment"
   ]
  },
  {
   "cell_type": "code",
   "execution_count": null,
   "metadata": {},
   "outputs": [],
   "source": [
    "from utils.jupyter_utils import log_cell\n",
    "from utils.jupyter_utils import clear_logs"
   ]
  },
  {
   "cell_type": "code",
   "execution_count": null,
   "metadata": {},
   "outputs": [],
   "source": [
    "clear_logs()"
   ]
  },
  {
   "cell_type": "markdown",
   "metadata": {},
   "source": [
    "## Execution"
   ]
  },
  {
   "cell_type": "code",
   "execution_count": null,
   "metadata": {
    "tags": []
   },
   "outputs": [],
   "source": [
    "!python split_data.py run res/train.json --ratio=0.2 --suffix=\"02\""
   ]
  },
  {
   "cell_type": "code",
   "execution_count": null,
   "metadata": {
    "tags": []
   },
   "outputs": [],
   "source": [
    "!python split_data.py run res/train.json --ratio=0.002 --suffix=\"0002\""
   ]
  },
  {
   "cell_type": "code",
   "execution_count": null,
   "metadata": {
    "tags": []
   },
   "outputs": [],
   "source": [
    "!python split_data.py run res/train.json --ratio=0.001 --suffix=\"0001\""
   ]
  },
  {
   "cell_type": "code",
   "execution_count": null,
   "metadata": {},
   "outputs": [],
   "source": [
    "%%log_cell\n",
    "\n",
    "# 자가 테스트용\n",
    "!python grape_recommender.py run \\\n",
    "    --song_meta_fname=res/song_meta.json \\\n",
    "    --genre_fname=res/genre_gn_all.json \\\n",
    "    --train_fname=arena_data/orig/train.json \\\n",
    "    --question_fname=arena_data/questions/val.json"
   ]
  },
  {
   "cell_type": "code",
   "execution_count": null,
   "metadata": {},
   "outputs": [],
   "source": [
    "%%log_cell\n",
    "\n",
    "# 자가 테스트용 채점\n",
    "!python evaluate.py evaluate \\\n",
    "    --gt_fname=arena_data/answers/val.json \\\n",
    "    --rec_fname=arena_data/results/results.json"
   ]
  },
  {
   "cell_type": "code",
   "execution_count": null,
   "metadata": {},
   "outputs": [],
   "source": [
    "%%log_cell\n",
    "\n",
    "# 리더보드 제출용\n",
    "!python grape_recommender.py run \\\n",
    "    --song_meta_fname=res/song_meta.json \\\n",
    "    --genre_fname=res/genre_gn_all.json \\\n",
    "    --train_fname=res/train.json \\\n",
    "    --question_fname=res/val.json"
   ]
  },
  {
   "cell_type": "code",
   "execution_count": null,
   "metadata": {},
   "outputs": [],
   "source": [
    "%%log_cell\n",
    "\n",
    "# 최종 제출용\n",
    "!python grape_recommender.py run \\\n",
    "    --song_meta_fname=res/song_meta.json \\\n",
    "    --genre_fname=res/genre_gn_all.json \\\n",
    "    --train_fname=res/train.json \\\n",
    "    --question_fname=res/test.json"
   ]
  },
  {
   "cell_type": "markdown",
   "metadata": {},
   "source": [
    "## Development"
   ]
  },
  {
   "cell_type": "code",
   "execution_count": null,
   "metadata": {},
   "outputs": [],
   "source": [
    "%load_ext autoreload\n",
    "%autoreload 2"
   ]
  },
  {
   "cell_type": "code",
   "execution_count": null,
   "metadata": {},
   "outputs": [],
   "source": [
    "def prepare_data(suffix=''):\n",
    "    if not suffix:\n",
    "        return\n",
    "    import shutil\n",
    "    shutil.copyfile(f\"./arena_data/orig/train{suffix}.json\", \"./arena_data/orig/train.json\")\n",
    "    shutil.copyfile(f\"./arena_data/orig/val{suffix}.json\", \"./arena_data/orig/val.json\")\n",
    "    shutil.copyfile(f\"./arena_data/questions/val{suffix}.json\", \"./arena_data/questions/val.json\")\n",
    "    shutil.copyfile(f\"./arena_data/answers/val{suffix}.json\", \"./arena_data/answers/val.json\")"
   ]
  },
  {
   "cell_type": "code",
   "execution_count": null,
   "metadata": {},
   "outputs": [],
   "source": [
    "# prepare_data(\"02\")\n",
    "prepare_data(\"0002\")\n",
    "# prepare_data(\"0001\")"
   ]
  },
  {
   "cell_type": "code",
   "execution_count": null,
   "metadata": {},
   "outputs": [],
   "source": [
    "from utils import read_json\n",
    "from utils import write_json"
   ]
  },
  {
   "cell_type": "code",
   "execution_count": null,
   "metadata": {},
   "outputs": [],
   "source": [
    "train = read_json('./arena_data/orig/train.json')\n",
    "genre_gn_all = read_json('./res/genre_gn_all.json')\n",
    "song_meta = read_json('./res/song_meta.json')"
   ]
  },
  {
   "cell_type": "code",
   "execution_count": null,
   "metadata": {},
   "outputs": [],
   "source": [
    "# 제출용\n",
    "train = read_json('./res/train.json')\n",
    "genre_gn_all = read_json('./res/genre_gn_all.json')\n",
    "song_meta = read_json('./res/song_meta.json')"
   ]
  },
  {
   "cell_type": "code",
   "execution_count": null,
   "metadata": {
    "tags": []
   },
   "outputs": [],
   "source": [
    "%%log_cell\n",
    "%%time\n",
    "import lib.graph\n",
    "%aimport -lib.graph.core\n",
    "%aimport -lib.graph.nodes\n",
    "\n",
    "graph = lib.graph.GraphBuilder().build(song_meta, genre_gn_all, train)"
   ]
  },
  {
   "cell_type": "code",
   "execution_count": null,
   "metadata": {
    "tags": []
   },
   "outputs": [],
   "source": [
    "%%log_cell\n",
    "%%time\n",
    "import lib.grape\n",
    "from constants import NUM_OF_RECOMMENDED_SONGS\n",
    "from constants import NUM_OF_RECOMMENDED_TAGS\n",
    "\n",
    "grape = lib.grape.Grape(\n",
    "    graph,\n",
    "    NUM_OF_RECOMMENDED_SONGS,\n",
    "    NUM_OF_RECOMMENDED_TAGS,\n",
    ")"
   ]
  },
  {
   "cell_type": "code",
   "execution_count": null,
   "metadata": {
    "tags": []
   },
   "outputs": [],
   "source": [
    "%%log_cell\n",
    "%%time\n",
    "grape.fit(train)"
   ]
  },
  {
   "cell_type": "code",
   "execution_count": null,
   "metadata": {},
   "outputs": [],
   "source": [
    "questions = read_json('./arena_data/questions/val.json')"
   ]
  },
  {
   "cell_type": "code",
   "execution_count": null,
   "metadata": {},
   "outputs": [],
   "source": [
    "# 제출용\n",
    "questions = read_json('./res/val.json')"
   ]
  },
  {
   "cell_type": "code",
   "execution_count": null,
   "metadata": {
    "tags": []
   },
   "outputs": [],
   "source": [
    "%%log_cell\n",
    "from utils import validate_answers\n",
    "\n",
    "n_questions = 2000\n",
    "# n_questions = 200\n",
    "# n_questions = 100\n",
    "answers = grape.predict_all(questions[:n_questions])\n",
    "validate_answers(answers, questions[:n_questions])\n",
    "write_json(answers, './arena_data/results/results.json')\n",
    "\n",
    "!python evaluate.py evaluate \\\n",
    "    --gt_fname=arena_data/answers/val.json \\\n",
    "    --rec_fname=arena_data/results/results.json \\\n",
    "    --question_fname=arena_data/questions/val.json"
   ]
  },
  {
   "cell_type": "code",
   "execution_count": null,
   "metadata": {},
   "outputs": [],
   "source": [
    "%%log_cell\n",
    "def predict_multi(questions):\n",
    "    import multiprocessing as mp\n",
    "    import numpy as np\n",
    "    import itertools\n",
    "\n",
    "    jobs = mp.cpu_count()\n",
    "    jobs = 2\n",
    "    chunks = list(np.array_split(questions, jobs))\n",
    "\n",
    "    with mp.Pool() as pool:\n",
    "        answers = pool.map(predict_job, chunks)\n",
    "        return list(itertools.chain(*answers))\n",
    "\n",
    "\n",
    "def predict_job(q):\n",
    "    return grape.predict_all(q)"
   ]
  },
  {
   "cell_type": "code",
   "execution_count": null,
   "metadata": {},
   "outputs": [],
   "source": [
    "%%log_cell\n",
    "from utils import validate_answers\n",
    "\n",
    "n_questions = 2000000000\n",
    "# n_questions = 200\n",
    "# n_questions = 100\n",
    "# answers = grape.predict_all(questions[:n_questions])\n",
    "answers = predict_multi(questions[:n_questions])\n",
    "validate_answers(answers, questions[:n_questions])\n",
    "write_json(answers, './arena_data/results/results.json')\n",
    "\n",
    "# !python evaluate.py evaluate \\\n",
    "#     --gt_fname=arena_data/answers/val.json \\\n",
    "#     --rec_fname=arena_data/results/results.json \\\n",
    "#     --question_fname=arena_data/questions/val.json"
   ]
  },
  {
   "cell_type": "markdown",
   "metadata": {},
   "source": [
    "## Test"
   ]
  },
  {
   "cell_type": "code",
   "execution_count": null,
   "metadata": {},
   "outputs": [],
   "source": [
    "%%time\n",
    "import lib.graph\n",
    "%aimport -lib.graph.core\n",
    "%aimport  lib.graph.core.graph\n",
    "%aimport -lib.graph.nodes\n",
    "\n",
    "graph = lib.graph.GraphBuilder().build(song_meta[:100], genre_gn_all, [])"
   ]
  },
  {
   "cell_type": "code",
   "execution_count": null,
   "metadata": {},
   "outputs": [],
   "source": [
    "%%time\n",
    "import lib.grape\n",
    "from constants import NUM_OF_RECOMMENDED_SONGS\n",
    "from constants import NUM_OF_RECOMMENDED_TAGS\n",
    "\n",
    "grape = lib.grape.Grape(\n",
    "    graph,\n",
    "    NUM_OF_RECOMMENDED_SONGS,\n",
    "    NUM_OF_RECOMMENDED_TAGS,\n",
    ")"
   ]
  },
  {
   "cell_type": "code",
   "execution_count": null,
   "metadata": {},
   "outputs": [],
   "source": [
    "grape.fit(train)"
   ]
  },
  {
   "cell_type": "code",
   "execution_count": null,
   "metadata": {},
   "outputs": [],
   "source": [
    "questions = read_json('./arena_data/questions/val.json')"
   ]
  },
  {
   "cell_type": "code",
   "execution_count": null,
   "metadata": {},
   "outputs": [],
   "source": [
    "from utils import validate_answers\n",
    "\n",
    "n_questions = 20\n",
    "answers = grape.predict_all(questions[:n_questions])\n",
    "validate_answers(answers, questions[:n_questions])\n",
    "write_json(answers, './arena_data/results/results.json')\n",
    "\n",
    "!python evaluate.py evaluate \\\n",
    "    --gt_fname=arena_data/answers/val.json \\\n",
    "    --rec_fname=arena_data/results/results.json"
   ]
  },
  {
   "cell_type": "markdown",
   "metadata": {},
   "source": [
    "## Playground"
   ]
  },
  {
   "cell_type": "code",
   "execution_count": null,
   "metadata": {},
   "outputs": [],
   "source": []
  }
 ],
 "metadata": {
  "kernelspec": {
   "display_name": "Python [conda env:playground]",
   "language": "python",
   "name": "conda-env-playground-py"
  },
  "language_info": {
   "codemirror_mode": {
    "name": "ipython",
    "version": 3
   },
   "file_extension": ".py",
   "mimetype": "text/x-python",
   "name": "python",
   "nbconvert_exporter": "python",
   "pygments_lexer": "ipython3",
   "version": "3.7.6"
  }
 },
 "nbformat": 4,
 "nbformat_minor": 4
}
